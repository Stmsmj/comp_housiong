{
 "cells": [
  {
   "cell_type": "markdown",
   "id": "b3105259",
   "metadata": {},
   "source": [
    "### changing env variable so i can use my GPU and adding my codes so i can import them as a library"
   ]
  },
  {
   "cell_type": "code",
   "execution_count": 1,
   "id": "5269dc96",
   "metadata": {},
   "outputs": [],
   "source": [
    "import os\n",
    "os.environ['HSA_OVERRIDE_GFX_VERSION']=\"10.3.0\"\n",
    "\n",
    "import sys\n",
    "sys.path.append('/home/jimmy/Desktop/projects/notebooks/backup_beloved_code/python/')"
   ]
  },
  {
   "cell_type": "markdown",
   "id": "f806c85a",
   "metadata": {},
   "source": [
    "## importation\n",
    "***"
   ]
  },
  {
   "cell_type": "code",
   "execution_count": 2,
   "id": "d20d4729",
   "metadata": {},
   "outputs": [],
   "source": [
    "import torch\n",
    "import torch.nn as nn\n",
    "from torch.optim import Adam\n",
    "from torch.utils.data import DataLoader , Dataset\n",
    "import torcheval.metrics as metric\n",
    "from useful_funcs import str_to_num\n",
    "import pandas as pd\n",
    "import numpy as np\n",
    "from sklearn.impute import SimpleImputer\n",
    "import pingouin as pg\n",
    "import seaborn as sns\n",
    "import matplotlib.pylab as plt\n",
    "from tqdm import tqdm\n",
    "from missing_value_check import MSV_check\n",
    "import statsmodels.api as sm\n",
    "from sklearn.model_selection import train_test_split\n",
    "from IPython.display import clear_output"
   ]
  },
  {
   "cell_type": "markdown",
   "id": "1ba4553f",
   "metadata": {},
   "source": [
    "## just checking for GPU\n",
    "***"
   ]
  },
  {
   "cell_type": "code",
   "execution_count": 3,
   "id": "d81f4aa0",
   "metadata": {},
   "outputs": [
    {
     "data": {
      "text/plain": [
       "True"
      ]
     },
     "execution_count": 3,
     "metadata": {},
     "output_type": "execute_result"
    }
   ],
   "source": [
    "torch.cuda.is_available()"
   ]
  },
  {
   "cell_type": "markdown",
   "id": "bf987bd7",
   "metadata": {},
   "source": [
    "# Functions\n",
    "***"
   ]
  },
  {
   "cell_type": "markdown",
   "id": "fa3383ba",
   "metadata": {},
   "source": [
    "docstrings says well enough about how it works but doesnt talk about its logic or why these tests. all these tests are for when we have categorical predictor and a continuous target and we want to know if they have dependence relationship with each other so we can decide for feature selection. its important to note that they check univariate relationships not multivariate.\n",
    "we go for each test and their assumptions.\n",
    "\n",
    "1. ANOVA:<br>\n",
    "this is a parametric test. its for when our categorical predictor consist of 3 groups (like all our data are or `A` or `B` or `C`) and each group has normal distribution and they have equal variance (homoscedasticity). what i mean for each group is all the continuous target values that their categorical predictor has `A` will be put in one group and same of `B` and same for `C`. now continuous values of these 3 groups that actually are our target values must have equal variance and they should be normal.\n",
    "    * Null Hypothesis (H0): All group means are equal.\n",
    "    * Alternative Hypothesis (H1): At least one group mean is different from the others.<br><br>\n",
    "\n",
    "2. welch ANOVA:<br>\n",
    "this is same as ANOVA but its for when our groups doesn't have the equal variance.\n",
    "    * Null Hypothesis (H0): All group means are equal (similar to ANOVA).\n",
    "    * Alternative Hypothesis (H1): At least one group mean is different from the others.<br><br>\n",
    "\n",
    "3. Kruskal-Wallis:<br>\n",
    "this is non-parametric test which means we dont need that our data have the normality and homoscedasticity assumptions. and it test what ANOVA tests.\n",
    "    * Null Hypothesis (H0): All group distributions are equal.\n",
    "    * Alternative Hypothesis (H1): At least one group distribution is different.<br><br>\n",
    "\n",
    "4. t-test:<br>\n",
    "this is like ANOVA but when we have 2 groups. remember, ANOVA require at least 3 groups in our categorical predictors. and this is parametric test so we need the assumptions of normality and homoscedasticity be met\n",
    "    * Null Hypothesis (H0): The means of the two groups are equal.\n",
    "    * Alternative Hypothesis (H1): The means of the two groups are not equal.<br><br>\n",
    "\n",
    "\n",
    "5. mann-whitney U:<br>\n",
    "this is non-parametric equal of t-test. so we dont require our data be normal and has homoscedasticity.\n",
    "    * Null Hypothesis (H0): The distributions of the two groups are equal.\n",
    "    * Alternative Hypothesis (H1): The distributions of the two groups are not equal.\n"
   ]
  },
  {
   "cell_type": "code",
   "execution_count": 4,
   "id": "a7beb542",
   "metadata": {},
   "outputs": [],
   "source": [
    "def categorical_stest(data: pd.DataFrame, y: str, alpha: float = 0.05):\n",
    "\n",
    "\n",
    "    \"\"\"\n",
    "    Perform statistical tests to determine if categorical variables in the data are correlated with the target variable y.\n",
    "\n",
    "    This function provides a comprehensive approach to identifying correlations between categorical variables and a continuous \n",
    "    target variable. It iterates over each categorical variable in the input data, performs a series of statistical tests to \n",
    "    determine if the variable is correlated with the target variable y, and returns a DataFrame containing the test used, \n",
    "    p-value, and whether the variable is correlated with y.\n",
    "\n",
    "    The type of statistical test used depends on the number of unique values in the categorical variable and the \n",
    "    normality and homoscedasticity of the data. For categorical variables with 3 or more unique values, the function \n",
    "    performs:\n",
    "\n",
    "    - ANOVA (Analysis of Variance) if the data is normal and homoscedastic.\n",
    "    - Welch ANOVA if the data is normal but not homoscedastic.\n",
    "    - Kruskal-Wallis test if the data is not normal.\n",
    "\n",
    "    For categorical variables with only 2 unique values, the function performs:\n",
    "\n",
    "    - t-test if the data is normal and homoscedastic.\n",
    "    - Mann-Whitney U test if the data is not normal or not homoscedastic.\n",
    "\n",
    "    Parameters:\n",
    "    - data (pd.DataFrame): The input data.\n",
    "    - y (str): The name of the target variable.\n",
    "    - alpha (float, optional): The significance level. Defaults to 0.05.\n",
    "\n",
    "    Returns:\n",
    "    - res (pd.DataFrame): A DataFrame containing the test used, p-value, and whether the variable is correlated with y.\n",
    "\n",
    "    Notes:\n",
    "    The function assumes that the input data is a pandas DataFrame and that the target variable y is a column in the DataFrame.\n",
    "    \"\"\"\n",
    "\n",
    "\n",
    "\n",
    "    \n",
    "    # Initialize an empty DataFrame to store the results\n",
    "    res = pd.DataFrame(columns=['test', 'p-value', 'is_correlated'])\n",
    "\n",
    "    # Get the list of columns in the data\n",
    "    columns = list(data.columns)\n",
    "    \n",
    "    # Remove the target variable from the list of columns because we'll have issues when doing a test on itself like y with y test\n",
    "    columns.remove(y)\n",
    "\n",
    "    # Iterate over each column in the data\n",
    "    for col in columns:\n",
    "        # Get the unique values in the current column\n",
    "        groups = data[col].value_counts().index\n",
    "        group_count = len(groups)\n",
    "\n",
    "        # If there are 3 or more unique values in the column\n",
    "        if group_count >= 3:\n",
    "            # Perform a normality test for each group\n",
    "            normal = pg.normality(data = data, dv = y, group = col, alpha = 0.05)['normal']\n",
    "            are_normal = normal.all()  # Check if all groups are normal\n",
    "\n",
    "            # Perform a homoscedasticity test\n",
    "            equal_var = pg.homoscedasticity(data = data , dv = y , group = col , alpha = 0.05)['equal_var']\n",
    "\n",
    "            # If the data is normal and homoscedastic, use ANOVA\n",
    "            if are_normal and equal_var:\n",
    "                # Perform ANOVA and get the p-value\n",
    "                anova_pvalue = pg.anova(data = data , dv= y , between = col)['p-unc'].iloc[0]\n",
    "                test = 'ANOVA'\n",
    "                p_value = anova_pvalue\n",
    "                is_correlated = (p_value < alpha)\n",
    "\n",
    "            # If the data is normal but not homoscedastic, use Welch ANOVA\n",
    "            elif are_normal:\n",
    "                # Perform Welch ANOVA and get the p-value\n",
    "                wanova_pvalue = pg.welch_anova(data = data , dv = y , between = col)['p-unc'].iloc[0]\n",
    "                test = 'Welch ANOVA'\n",
    "                p_value = wanova_pvalue\n",
    "                is_correlated = (p_value < alpha)\n",
    "\n",
    "            # If the data is not normal, use Kruskal-Wallis test\n",
    "            else:\n",
    "                # Perform Kruskal-Wallis test and get the p-value\n",
    "                kruskal_pvalue = pg.kruskal(data = data , dv = y , between = col)['p-unc'].iloc[0]\n",
    "                test = 'Kruskal-Wallis'\n",
    "                p_value = kruskal_pvalue\n",
    "                is_correlated = (p_value < alpha)\n",
    "\n",
    "            # Store the results in the DataFrame\n",
    "            res.loc[col] = [test , round(p_value , 4) , is_correlated]\n",
    "\n",
    "        # If there are only 2 unique values in the column\n",
    "        else:\n",
    "            # Perform a normality test for each group\n",
    "            normal = pg.normality(data = data, dv = y, group=col, alpha = 0.05)['normal']\n",
    "            are_normal = normal.all()\n",
    "\n",
    "            # Perform a homoscedasticity test\n",
    "            equal_var = pg.homoscedasticity(data = data , dv = y , group = col , alpha = 0.05)['equal_var']\n",
    "            group_one_num, group_two_num = groups[0], groups[1]\n",
    "\n",
    "            # Split the data into two groups\n",
    "            group_one = data[data[col] == group_one_num][y]\n",
    "            group_two = data[data[col] == group_two_num][y]\n",
    "\n",
    "            # If the data is normal and homoscedastic, use t-test\n",
    "            if are_normal and equal_var:\n",
    "                # Perform t-test and get the p-value\n",
    "                ttest_pvalue = pg.ttest(x = group_one, y = group_two)['p-val'].iloc[0]\n",
    "                test = 't-test'\n",
    "                p_value = ttest_pvalue\n",
    "                is_correlated = (p_value < alpha)\n",
    "\n",
    "            # If the data is not normal or not homoscedastic, use Mann-Whitney U test\n",
    "            else:\n",
    "                # Perform Mann-Whitney U test and get the p-value\n",
    "                mwu_pvalue = pg.mwu(x = group_one , y = group_two)['p-val'].iloc[0]\n",
    "                test = 'Mann-Whitney U'\n",
    "                p_value = mwu_pvalue\n",
    "                is_correlated = (p_value < alpha)\n",
    "\n",
    "            # Store the results in the DataFrame\n",
    "            res.loc[col] = [test , round(p_value , 4) , is_correlated]\n",
    "\n",
    "    # Return the results\n",
    "    return res\n"
   ]
  },
  {
   "cell_type": "markdown",
   "id": "0b253965",
   "metadata": {},
   "source": [
    "# Outlier Handling Function\n",
    "\n",
    "This function handles outliers in a given pandas DataFrame.\n",
    "\n",
    "## Functionality\n",
    "\n",
    "The function identifies numerical columns, detects outliers using either the Z-score or IQR (Interquartile Range) method, and replaces them with a specified value.\n",
    "\n",
    "### Detection Methods\n",
    "\n",
    "*   **Z-score Method**: detects outliers as values that are more than 3 standard deviations away from the mean. \n",
    "    *   If Z-score upper or lower bound is more extreme than IQR bound, use Z-score bound; otherwise, use IQR bound.\n",
    "*   **IQR Method**: detects outliers as values that are more than 1.5*IQR away from Q1 or Q3.\n",
    "\n",
    "## Outlier Handling Strategy\n",
    "\n",
    "*   **Z-score Method**: \n",
    "    *   If both upper and lower bounds used (i.e., `lower + upper != 0`), use median as strategy. This is because even if IQR is more extreme than Z-score, there might still be some outliers, and median is a more robust measure of central tendency in such cases.\n",
    "    *   If only one bound used (i.e., `lower + upper == 0`), use mean as strategy.\n",
    "*   **IQR Method**: always use mean as strategy.\n",
    "\n",
    "## Return Values\n",
    "\n",
    "*   **df**: The modified DataFrame with outliers handled. The function replaces outliers with the specified value based on the chosen strategy.\n",
    "*   **res**: A DataFrame containing the outlier handling strategy used for each numerical column. The `strategy` column in `res` indicates the imputation strategy that is suitable for each column. For example, if the strategy is 'median', it means that the column has outliers and using the median is a good imputation strategy.\n",
    "\n",
    "## Notes\n",
    "\n",
    "*   The `lower` and `upper` variables are used to check if there are technically any outliers or not. If both `lower` and `upper` are 1, it means that there are outliers on both ends, and the median is used as the imputation strategy. If only one of them is 1, it means that there is an outlier on one end, and the median is still used. If neither is 1, it means that there are no outliers, and the mean can be used as the imputation strategy."
   ]
  },
  {
   "cell_type": "code",
   "execution_count": 5,
   "id": "4931c593",
   "metadata": {},
   "outputs": [],
   "source": [
    "# this function assume that input dataframe has some numerical and non-numerical attributes.\n",
    "# it detects numerical ones and deal with them. there should be no encoded categorical attributes\n",
    "def deal_with_outliers(dataframe: pd.DataFrame , detection: str = 'z-score' , delete: bool = False):\n",
    "\n",
    "    \"\"\"\n",
    "    This function handles outliers in a given pandas DataFrame. It identifies numerical columns, \n",
    "    detects outliers using either the Z-score or IQR (Interquartile Range) method, and replaces \n",
    "    them with a specified value.\n",
    "\n",
    "    The function takes a DataFrame, a detection method, and a deletion flag as input. It returns \n",
    "    the modified DataFrame and a DataFrame containing the outlier handling strategy used for \n",
    "    each numerical column.\n",
    "\n",
    "    The Z-score method detects outliers as values that are more than 3 standard deviations away \n",
    "    from the mean. If the Z-score upper or lower bound is more extreme than the corresponding \n",
    "    IQR bound, it uses the Z-score bound; otherwise, it uses the IQR bound. The outlier handling \n",
    "    strategy is chosen based on the bounds used: if both upper and lower bounds were used, \n",
    "    the median is used; otherwise, the mean is used.\n",
    "\n",
    "    The IQR method detects outliers as values that are more than 1.5*IQR away from the first \n",
    "    quartile (Q1) or third quartile (Q3). The outlier handling strategy is always the mean.\n",
    "\n",
    "    At the end, categorical columns will be added to res DataFrame so working with res table will be easier.\n",
    "\n",
    "    Parameters\n",
    "    ----------\n",
    "    dataframe : pandas DataFrame\n",
    "        The input DataFrame.\n",
    "    detection : str, optional\n",
    "        The outlier detection method to use. Can be 'z-score' or 'IQR'. Default is 'z-score'.\n",
    "    delete : bool, optional\n",
    "        A flag indicating whether to delete outliers or replace them. Default is False.\n",
    "\n",
    "    Returns\n",
    "    -------\n",
    "    df : pandas DataFrame\n",
    "        The modified DataFrame with outliers handled.\n",
    "    res : pandas DataFrame\n",
    "        A DataFrame containing the outlier handling strategy used for each numerical column.\n",
    "    \"\"\"\n",
    "\n",
    "\n",
    "\n",
    "\n",
    "    \n",
    "    res = pd.DataFrame(columns = ['strategy'])\n",
    "    numerical_list = list(dataframe.select_dtypes(include = 'number').columns)\n",
    "    categorical_columns = list(dataframe.select_dtypes(exclude = 'number').columns)\n",
    "\n",
    "    df = dataframe.copy()\n",
    "    dataframe = None\n",
    "\n",
    "\n",
    "    for col in numerical_list:\n",
    "        # calculating z-score\n",
    "        df_mean = df[col].mean()\n",
    "        df_std = df[col].std()\n",
    "        df_zscore_upper = df_mean + (3 * df_std) # we use 3 so we have alpha = 99%\n",
    "        df_zscore_lower = df_mean - (3 * df_std)\n",
    "\n",
    "        # calculating IQR\n",
    "        Q1 = df[col].quantile(0.25)\n",
    "        Q3 = df[col].quantile(0.75)\n",
    "        IQR = Q3 - Q1\n",
    "        IQR_lowerbound = Q1 - (1.5 * IQR)\n",
    "        IQR_upperbound = Q3 + (1.5 * IQR)\n",
    "\n",
    "\n",
    "        if detection == 'z-score':\n",
    "\n",
    "            # Determine upper bound for outlier detection using Z-score and IQR methods\n",
    "            if df_zscore_upper > IQR_upperbound:\n",
    "                # If Z-score upper bound is more extreme, use it to detect outliers\n",
    "                is_outlier = (df[col] > df_zscore_upper)  # Identify values above Z-score upper bound\n",
    "                outlier_index = df[col][is_outlier].index  # Get indices of outlier values\n",
    "\n",
    "                if delete:\n",
    "                    df.drop(outlier_index, inplace=True)\n",
    "                else:\n",
    "                    df.loc[outlier_index, col] = np.float32(df_zscore_upper)  # Replace outliers with Z-score upper bound\n",
    "\n",
    "                upper = 1  # Flag indicating Z-score upper bound was used\n",
    "\n",
    "\n",
    "            elif df_zscore_upper < IQR_upperbound:\n",
    "                # If IQR upper bound is more extreme, use it to detect outliers\n",
    "                is_outlier = (df[col] > IQR_upperbound)  # Identify values above IQR upper bound\n",
    "                outlier_index = df[col][is_outlier].index  # Get indices of outlier values\n",
    "\n",
    "                if delete:\n",
    "                    df.drop(outlier_index, inplace=True)\n",
    "                else:\n",
    "                    df.loc[outlier_index, col] = np.float32(IQR_upperbound)  # Replace outliers with IQR upper bound\n",
    "\n",
    "                upper = 0  # Flag indicating IQR upper bound was used\n",
    "\n",
    "\n",
    "            if df_zscore_lower < IQR_lowerbound:\n",
    "                # If z-score lower bound is more extreme, use it to detect outliers\n",
    "                is_outlier = (df[col] < IQR_lowerbound)  # Identify values lower than Z-score lower bound\n",
    "                outlier_index = df[col][is_outlier].index  # Get indices of outlier values\n",
    "\n",
    "                if delete:\n",
    "                    df.drop(outlier_index, inplace=True)\n",
    "                else:\n",
    "                    df.loc[outlier_index, col] = np.float32(df_zscore_lower)  # Replace outliers with Z-score lower bound\n",
    "\n",
    "                lower = 1  # Flag indicating Z-score lower bound was used\n",
    "\n",
    "\n",
    "            elif df_zscore_lower > IQR_lowerbound:\n",
    "                # If IQR lower bound is more extreme, use it to detect outliers\n",
    "                is_outlier = (df[col] < IQR_lowerbound)  # Identify values below IQR lower bound\n",
    "                outlier_index = df[col][is_outlier].index  # Get indices of outlier values\n",
    "\n",
    "                if delete:\n",
    "                    df.drop(outlier_index, inplace=True)\n",
    "                else:\n",
    "                    df.loc[outlier_index, col] = np.float32(IQR_lowerbound)  # Replace outliers with IQR lower bound\n",
    "                    \n",
    "                lower = 0  # Flag indicating IQR lower bound was used\n",
    "\n",
    "\n",
    "\n",
    "            # Choose outlier handling strategy based on bounds used\n",
    "            if lower + upper != 0:\n",
    "                # If both upper and lower bounds were used, use median as strategy\n",
    "                strategy = 'median'\n",
    "            else:\n",
    "                # If only one bound was used, use mean as strategy\n",
    "                strategy = 'mean'\n",
    "\n",
    "            # Store strategy in result dataframe\n",
    "            res.loc[col] = [strategy]\n",
    "\n",
    "        elif detection == 'IQR':\n",
    "            # Detect and handle outliers using IQR method\n",
    "            is_outlier = (df[col] > IQR_upperbound)  # Identify values above IQR upper bound\n",
    "            outlier_index = df[col][is_outlier].index  # Get indices of outlier values\n",
    "            \n",
    "            if delete:\n",
    "                df.drop(outlier_index, inplace=True)\n",
    "            else:\n",
    "                df.loc[outlier_index, col] = IQR_upperbound \n",
    "\n",
    "            is_outlier = (df[col] < IQR_lowerbound)  # Identify values below IQR lower bound\n",
    "            outlier_index = df[col][is_outlier].index  # Get indices of outlier values\n",
    "            if delete:\n",
    "                df.drop(outlier_index, inplace=True)\n",
    "            else:\n",
    "                df.loc[outlier_index, col] = IQR_lowerbound \n",
    "\n",
    "            # Outlier handling strategy: mean\n",
    "            strategy = 'mean'\n",
    "\n",
    "            # Store strategy in result dataframe\n",
    "            res.loc[col] = [strategy]\n",
    "\n",
    "\n",
    "    for col in categorical_columns: # adding categorical cols to res cuz it be easier to filter df using name of columns\n",
    "        res.loc[col] = ['categorical']\n",
    "\n",
    "\n",
    "    return df , res\n"
   ]
  },
  {
   "cell_type": "markdown",
   "id": "05d6e604",
   "metadata": {},
   "source": [
    "# Loading Train Data\n",
    "***"
   ]
  },
  {
   "cell_type": "code",
   "execution_count": 6,
   "id": "ed857926",
   "metadata": {},
   "outputs": [],
   "source": [
    "train = pd.read_csv('/run/media/jimmy/datasets/housing/house-prices-advanced-regression-techniques/train.csv')"
   ]
  },
  {
   "cell_type": "code",
   "execution_count": 7,
   "id": "fa1ba46c",
   "metadata": {},
   "outputs": [
    {
     "data": {
      "text/html": [
       "<div>\n",
       "<style scoped>\n",
       "    .dataframe tbody tr th:only-of-type {\n",
       "        vertical-align: middle;\n",
       "    }\n",
       "\n",
       "    .dataframe tbody tr th {\n",
       "        vertical-align: top;\n",
       "    }\n",
       "\n",
       "    .dataframe thead th {\n",
       "        text-align: right;\n",
       "    }\n",
       "</style>\n",
       "<table border=\"1\" class=\"dataframe\">\n",
       "  <thead>\n",
       "    <tr style=\"text-align: right;\">\n",
       "      <th></th>\n",
       "      <th>Id</th>\n",
       "      <th>MSSubClass</th>\n",
       "      <th>MSZoning</th>\n",
       "      <th>LotFrontage</th>\n",
       "      <th>LotArea</th>\n",
       "      <th>Street</th>\n",
       "      <th>Alley</th>\n",
       "      <th>LotShape</th>\n",
       "      <th>LandContour</th>\n",
       "      <th>Utilities</th>\n",
       "      <th>...</th>\n",
       "      <th>PoolArea</th>\n",
       "      <th>PoolQC</th>\n",
       "      <th>Fence</th>\n",
       "      <th>MiscFeature</th>\n",
       "      <th>MiscVal</th>\n",
       "      <th>MoSold</th>\n",
       "      <th>YrSold</th>\n",
       "      <th>SaleType</th>\n",
       "      <th>SaleCondition</th>\n",
       "      <th>SalePrice</th>\n",
       "    </tr>\n",
       "  </thead>\n",
       "  <tbody>\n",
       "    <tr>\n",
       "      <th>0</th>\n",
       "      <td>1</td>\n",
       "      <td>60</td>\n",
       "      <td>RL</td>\n",
       "      <td>65.0</td>\n",
       "      <td>8450</td>\n",
       "      <td>Pave</td>\n",
       "      <td>NaN</td>\n",
       "      <td>Reg</td>\n",
       "      <td>Lvl</td>\n",
       "      <td>AllPub</td>\n",
       "      <td>...</td>\n",
       "      <td>0</td>\n",
       "      <td>NaN</td>\n",
       "      <td>NaN</td>\n",
       "      <td>NaN</td>\n",
       "      <td>0</td>\n",
       "      <td>2</td>\n",
       "      <td>2008</td>\n",
       "      <td>WD</td>\n",
       "      <td>Normal</td>\n",
       "      <td>208500</td>\n",
       "    </tr>\n",
       "    <tr>\n",
       "      <th>1</th>\n",
       "      <td>2</td>\n",
       "      <td>20</td>\n",
       "      <td>RL</td>\n",
       "      <td>80.0</td>\n",
       "      <td>9600</td>\n",
       "      <td>Pave</td>\n",
       "      <td>NaN</td>\n",
       "      <td>Reg</td>\n",
       "      <td>Lvl</td>\n",
       "      <td>AllPub</td>\n",
       "      <td>...</td>\n",
       "      <td>0</td>\n",
       "      <td>NaN</td>\n",
       "      <td>NaN</td>\n",
       "      <td>NaN</td>\n",
       "      <td>0</td>\n",
       "      <td>5</td>\n",
       "      <td>2007</td>\n",
       "      <td>WD</td>\n",
       "      <td>Normal</td>\n",
       "      <td>181500</td>\n",
       "    </tr>\n",
       "    <tr>\n",
       "      <th>2</th>\n",
       "      <td>3</td>\n",
       "      <td>60</td>\n",
       "      <td>RL</td>\n",
       "      <td>68.0</td>\n",
       "      <td>11250</td>\n",
       "      <td>Pave</td>\n",
       "      <td>NaN</td>\n",
       "      <td>IR1</td>\n",
       "      <td>Lvl</td>\n",
       "      <td>AllPub</td>\n",
       "      <td>...</td>\n",
       "      <td>0</td>\n",
       "      <td>NaN</td>\n",
       "      <td>NaN</td>\n",
       "      <td>NaN</td>\n",
       "      <td>0</td>\n",
       "      <td>9</td>\n",
       "      <td>2008</td>\n",
       "      <td>WD</td>\n",
       "      <td>Normal</td>\n",
       "      <td>223500</td>\n",
       "    </tr>\n",
       "    <tr>\n",
       "      <th>3</th>\n",
       "      <td>4</td>\n",
       "      <td>70</td>\n",
       "      <td>RL</td>\n",
       "      <td>60.0</td>\n",
       "      <td>9550</td>\n",
       "      <td>Pave</td>\n",
       "      <td>NaN</td>\n",
       "      <td>IR1</td>\n",
       "      <td>Lvl</td>\n",
       "      <td>AllPub</td>\n",
       "      <td>...</td>\n",
       "      <td>0</td>\n",
       "      <td>NaN</td>\n",
       "      <td>NaN</td>\n",
       "      <td>NaN</td>\n",
       "      <td>0</td>\n",
       "      <td>2</td>\n",
       "      <td>2006</td>\n",
       "      <td>WD</td>\n",
       "      <td>Abnorml</td>\n",
       "      <td>140000</td>\n",
       "    </tr>\n",
       "    <tr>\n",
       "      <th>4</th>\n",
       "      <td>5</td>\n",
       "      <td>60</td>\n",
       "      <td>RL</td>\n",
       "      <td>84.0</td>\n",
       "      <td>14260</td>\n",
       "      <td>Pave</td>\n",
       "      <td>NaN</td>\n",
       "      <td>IR1</td>\n",
       "      <td>Lvl</td>\n",
       "      <td>AllPub</td>\n",
       "      <td>...</td>\n",
       "      <td>0</td>\n",
       "      <td>NaN</td>\n",
       "      <td>NaN</td>\n",
       "      <td>NaN</td>\n",
       "      <td>0</td>\n",
       "      <td>12</td>\n",
       "      <td>2008</td>\n",
       "      <td>WD</td>\n",
       "      <td>Normal</td>\n",
       "      <td>250000</td>\n",
       "    </tr>\n",
       "  </tbody>\n",
       "</table>\n",
       "<p>5 rows × 81 columns</p>\n",
       "</div>"
      ],
      "text/plain": [
       "   Id  MSSubClass MSZoning  LotFrontage  LotArea Street Alley LotShape  \\\n",
       "0   1          60       RL         65.0     8450   Pave   NaN      Reg   \n",
       "1   2          20       RL         80.0     9600   Pave   NaN      Reg   \n",
       "2   3          60       RL         68.0    11250   Pave   NaN      IR1   \n",
       "3   4          70       RL         60.0     9550   Pave   NaN      IR1   \n",
       "4   5          60       RL         84.0    14260   Pave   NaN      IR1   \n",
       "\n",
       "  LandContour Utilities  ... PoolArea PoolQC Fence MiscFeature MiscVal MoSold  \\\n",
       "0         Lvl    AllPub  ...        0    NaN   NaN         NaN       0      2   \n",
       "1         Lvl    AllPub  ...        0    NaN   NaN         NaN       0      5   \n",
       "2         Lvl    AllPub  ...        0    NaN   NaN         NaN       0      9   \n",
       "3         Lvl    AllPub  ...        0    NaN   NaN         NaN       0      2   \n",
       "4         Lvl    AllPub  ...        0    NaN   NaN         NaN       0     12   \n",
       "\n",
       "  YrSold  SaleType  SaleCondition  SalePrice  \n",
       "0   2008        WD         Normal     208500  \n",
       "1   2007        WD         Normal     181500  \n",
       "2   2008        WD         Normal     223500  \n",
       "3   2006        WD        Abnorml     140000  \n",
       "4   2008        WD         Normal     250000  \n",
       "\n",
       "[5 rows x 81 columns]"
      ]
     },
     "execution_count": 7,
     "metadata": {},
     "output_type": "execute_result"
    }
   ],
   "source": [
    "train.head()"
   ]
  },
  {
   "cell_type": "code",
   "execution_count": 8,
   "id": "dd969d76",
   "metadata": {},
   "outputs": [],
   "source": [
    "Z = MSV_check(dataset = train , alpha = 0.05)\n",
    "res_table , which_affect_which = Z.check_it()\n",
    "clear_output()"
   ]
  },
  {
   "cell_type": "markdown",
   "id": "baa7f962",
   "metadata": {},
   "source": [
    "### we dont want any column with more than 25% Nan values. this code shows all columns with more than 25% Nan values to drop. but this column `LotFrontage` has 17.74% Nan values and i want to drop that too. other columns than this have no Nan values and are fine"
   ]
  },
  {
   "cell_type": "code",
   "execution_count": 9,
   "id": "574921e7",
   "metadata": {},
   "outputs": [
    {
     "name": "stdout",
     "output_type": "stream",
     "text": [
      "columns to drop:\n"
     ]
    },
    {
     "data": {
      "text/html": [
       "<div>\n",
       "<style scoped>\n",
       "    .dataframe tbody tr th:only-of-type {\n",
       "        vertical-align: middle;\n",
       "    }\n",
       "\n",
       "    .dataframe tbody tr th {\n",
       "        vertical-align: top;\n",
       "    }\n",
       "\n",
       "    .dataframe thead th {\n",
       "        text-align: right;\n",
       "    }\n",
       "</style>\n",
       "<table border=\"1\" class=\"dataframe\">\n",
       "  <thead>\n",
       "    <tr style=\"text-align: right;\">\n",
       "      <th></th>\n",
       "      <th>not_missing</th>\n",
       "      <th>missing</th>\n",
       "      <th>missing_percentage(%)</th>\n",
       "      <th>missing_value_type</th>\n",
       "    </tr>\n",
       "  </thead>\n",
       "  <tbody>\n",
       "    <tr>\n",
       "      <th>Alley</th>\n",
       "      <td>91.0</td>\n",
       "      <td>1369.0</td>\n",
       "      <td>93.77</td>\n",
       "      <td>MNAR or MAR</td>\n",
       "    </tr>\n",
       "    <tr>\n",
       "      <th>MasVnrType</th>\n",
       "      <td>588.0</td>\n",
       "      <td>872.0</td>\n",
       "      <td>59.73</td>\n",
       "      <td>MNAR or MAR</td>\n",
       "    </tr>\n",
       "    <tr>\n",
       "      <th>FireplaceQu</th>\n",
       "      <td>770.0</td>\n",
       "      <td>690.0</td>\n",
       "      <td>47.26</td>\n",
       "      <td>MNAR or MAR</td>\n",
       "    </tr>\n",
       "    <tr>\n",
       "      <th>PoolQC</th>\n",
       "      <td>7.0</td>\n",
       "      <td>1453.0</td>\n",
       "      <td>99.52</td>\n",
       "      <td>MNAR or MAR</td>\n",
       "    </tr>\n",
       "    <tr>\n",
       "      <th>Fence</th>\n",
       "      <td>281.0</td>\n",
       "      <td>1179.0</td>\n",
       "      <td>80.75</td>\n",
       "      <td>MNAR or MAR</td>\n",
       "    </tr>\n",
       "    <tr>\n",
       "      <th>MiscFeature</th>\n",
       "      <td>54.0</td>\n",
       "      <td>1406.0</td>\n",
       "      <td>96.30</td>\n",
       "      <td>MNAR or MAR</td>\n",
       "    </tr>\n",
       "  </tbody>\n",
       "</table>\n",
       "</div>"
      ],
      "text/plain": [
       "             not_missing  missing  missing_percentage(%) missing_value_type\n",
       "Alley               91.0   1369.0                  93.77        MNAR or MAR\n",
       "MasVnrType         588.0    872.0                  59.73        MNAR or MAR\n",
       "FireplaceQu        770.0    690.0                  47.26        MNAR or MAR\n",
       "PoolQC               7.0   1453.0                  99.52        MNAR or MAR\n",
       "Fence              281.0   1179.0                  80.75        MNAR or MAR\n",
       "MiscFeature         54.0   1406.0                  96.30        MNAR or MAR"
      ]
     },
     "metadata": {},
     "output_type": "display_data"
    },
    {
     "name": "stdout",
     "output_type": "stream",
     "text": [
      "columns to fill:\n"
     ]
    },
    {
     "data": {
      "text/html": [
       "<div>\n",
       "<style scoped>\n",
       "    .dataframe tbody tr th:only-of-type {\n",
       "        vertical-align: middle;\n",
       "    }\n",
       "\n",
       "    .dataframe tbody tr th {\n",
       "        vertical-align: top;\n",
       "    }\n",
       "\n",
       "    .dataframe thead th {\n",
       "        text-align: right;\n",
       "    }\n",
       "</style>\n",
       "<table border=\"1\" class=\"dataframe\">\n",
       "  <thead>\n",
       "    <tr style=\"text-align: right;\">\n",
       "      <th></th>\n",
       "      <th>not_missing</th>\n",
       "      <th>missing</th>\n",
       "      <th>missing_percentage(%)</th>\n",
       "      <th>missing_value_type</th>\n",
       "    </tr>\n",
       "  </thead>\n",
       "  <tbody>\n",
       "    <tr>\n",
       "      <th>LotFrontage</th>\n",
       "      <td>1201.0</td>\n",
       "      <td>259.0</td>\n",
       "      <td>17.74</td>\n",
       "      <td>MNAR or MAR</td>\n",
       "    </tr>\n",
       "    <tr>\n",
       "      <th>MasVnrArea</th>\n",
       "      <td>1452.0</td>\n",
       "      <td>8.0</td>\n",
       "      <td>0.55</td>\n",
       "      <td>MNAR or MAR</td>\n",
       "    </tr>\n",
       "    <tr>\n",
       "      <th>BsmtQual</th>\n",
       "      <td>1423.0</td>\n",
       "      <td>37.0</td>\n",
       "      <td>2.53</td>\n",
       "      <td>MNAR or MAR</td>\n",
       "    </tr>\n",
       "    <tr>\n",
       "      <th>BsmtCond</th>\n",
       "      <td>1423.0</td>\n",
       "      <td>37.0</td>\n",
       "      <td>2.53</td>\n",
       "      <td>MNAR or MAR</td>\n",
       "    </tr>\n",
       "    <tr>\n",
       "      <th>BsmtExposure</th>\n",
       "      <td>1422.0</td>\n",
       "      <td>38.0</td>\n",
       "      <td>2.60</td>\n",
       "      <td>MNAR or MAR</td>\n",
       "    </tr>\n",
       "    <tr>\n",
       "      <th>BsmtFinType1</th>\n",
       "      <td>1423.0</td>\n",
       "      <td>37.0</td>\n",
       "      <td>2.53</td>\n",
       "      <td>MNAR or MAR</td>\n",
       "    </tr>\n",
       "    <tr>\n",
       "      <th>BsmtFinType2</th>\n",
       "      <td>1422.0</td>\n",
       "      <td>38.0</td>\n",
       "      <td>2.60</td>\n",
       "      <td>MNAR or MAR</td>\n",
       "    </tr>\n",
       "    <tr>\n",
       "      <th>Electrical</th>\n",
       "      <td>1459.0</td>\n",
       "      <td>1.0</td>\n",
       "      <td>0.07</td>\n",
       "      <td>MNAR or MAR</td>\n",
       "    </tr>\n",
       "    <tr>\n",
       "      <th>GarageType</th>\n",
       "      <td>1379.0</td>\n",
       "      <td>81.0</td>\n",
       "      <td>5.55</td>\n",
       "      <td>MNAR or MAR</td>\n",
       "    </tr>\n",
       "    <tr>\n",
       "      <th>GarageYrBlt</th>\n",
       "      <td>1379.0</td>\n",
       "      <td>81.0</td>\n",
       "      <td>5.55</td>\n",
       "      <td>MNAR or MAR</td>\n",
       "    </tr>\n",
       "    <tr>\n",
       "      <th>GarageFinish</th>\n",
       "      <td>1379.0</td>\n",
       "      <td>81.0</td>\n",
       "      <td>5.55</td>\n",
       "      <td>MNAR or MAR</td>\n",
       "    </tr>\n",
       "    <tr>\n",
       "      <th>GarageQual</th>\n",
       "      <td>1379.0</td>\n",
       "      <td>81.0</td>\n",
       "      <td>5.55</td>\n",
       "      <td>MNAR or MAR</td>\n",
       "    </tr>\n",
       "    <tr>\n",
       "      <th>GarageCond</th>\n",
       "      <td>1379.0</td>\n",
       "      <td>81.0</td>\n",
       "      <td>5.55</td>\n",
       "      <td>MNAR or MAR</td>\n",
       "    </tr>\n",
       "  </tbody>\n",
       "</table>\n",
       "</div>"
      ],
      "text/plain": [
       "              not_missing  missing  missing_percentage(%) missing_value_type\n",
       "LotFrontage        1201.0    259.0                  17.74        MNAR or MAR\n",
       "MasVnrArea         1452.0      8.0                   0.55        MNAR or MAR\n",
       "BsmtQual           1423.0     37.0                   2.53        MNAR or MAR\n",
       "BsmtCond           1423.0     37.0                   2.53        MNAR or MAR\n",
       "BsmtExposure       1422.0     38.0                   2.60        MNAR or MAR\n",
       "BsmtFinType1       1423.0     37.0                   2.53        MNAR or MAR\n",
       "BsmtFinType2       1422.0     38.0                   2.60        MNAR or MAR\n",
       "Electrical         1459.0      1.0                   0.07        MNAR or MAR\n",
       "GarageType         1379.0     81.0                   5.55        MNAR or MAR\n",
       "GarageYrBlt        1379.0     81.0                   5.55        MNAR or MAR\n",
       "GarageFinish       1379.0     81.0                   5.55        MNAR or MAR\n",
       "GarageQual         1379.0     81.0                   5.55        MNAR or MAR\n",
       "GarageCond         1379.0     81.0                   5.55        MNAR or MAR"
      ]
     },
     "metadata": {},
     "output_type": "display_data"
    }
   ],
   "source": [
    "pd.set_option('display.max_rows', None)\n",
    "\n",
    "which_to_drop = (res_table['missing_percentage(%)'] > 25) # bool mask for all columns with more than 25% missing values\n",
    "which_to_fill = (0 < res_table['missing_percentage(%)']) & (res_table['missing_percentage(%)'] < 25) # bool mask for all columns with more than 0% and less than 25% missing values\n",
    "\n",
    "drop_table = res_table[which_to_drop]\n",
    "fill_table = res_table[which_to_fill]\n",
    "\n",
    "print(\"columns to drop:\")\n",
    "display(drop_table)\n",
    "\n",
    "print(\"columns to fill:\")\n",
    "display(fill_table)\n",
    "\n",
    "# getting a list of names of columns to drop or fill\n",
    "drop_list = list(drop_table.index) + ['LotFrontage'] # adding LotFrontage as i said in markdown\n",
    "fill_list = list(fill_table.index)\n",
    "fill_list.remove('LotFrontage') # and removing LotFrontage cuz it doesnt belong there \n",
    "\n",
    "pd.set_option('display.max_rows', 10)"
   ]
  },
  {
   "cell_type": "code",
   "execution_count": 10,
   "id": "909c78e3",
   "metadata": {},
   "outputs": [],
   "source": [
    "dropped_train = train.drop(labels = drop_list , axis = 1) # drop all attributes that must be dropped"
   ]
  },
  {
   "cell_type": "markdown",
   "id": "805abf02",
   "metadata": {},
   "source": [
    "## now we check and do the same with test set\n",
    "***"
   ]
  },
  {
   "cell_type": "code",
   "execution_count": 11,
   "id": "260e0ac4",
   "metadata": {},
   "outputs": [],
   "source": [
    "test = pd.read_csv('/run/media/jimmy/datasets/housing/house-prices-advanced-regression-techniques/test.csv') # this test dont have y because i gotta use this for answer in competition"
   ]
  },
  {
   "cell_type": "code",
   "execution_count": 12,
   "id": "6f4d10a2",
   "metadata": {},
   "outputs": [
    {
     "data": {
      "text/html": [
       "<div>\n",
       "<style scoped>\n",
       "    .dataframe tbody tr th:only-of-type {\n",
       "        vertical-align: middle;\n",
       "    }\n",
       "\n",
       "    .dataframe tbody tr th {\n",
       "        vertical-align: top;\n",
       "    }\n",
       "\n",
       "    .dataframe thead th {\n",
       "        text-align: right;\n",
       "    }\n",
       "</style>\n",
       "<table border=\"1\" class=\"dataframe\">\n",
       "  <thead>\n",
       "    <tr style=\"text-align: right;\">\n",
       "      <th></th>\n",
       "      <th>Id</th>\n",
       "      <th>MSSubClass</th>\n",
       "      <th>MSZoning</th>\n",
       "      <th>LotFrontage</th>\n",
       "      <th>LotArea</th>\n",
       "      <th>Street</th>\n",
       "      <th>Alley</th>\n",
       "      <th>LotShape</th>\n",
       "      <th>LandContour</th>\n",
       "      <th>Utilities</th>\n",
       "      <th>...</th>\n",
       "      <th>ScreenPorch</th>\n",
       "      <th>PoolArea</th>\n",
       "      <th>PoolQC</th>\n",
       "      <th>Fence</th>\n",
       "      <th>MiscFeature</th>\n",
       "      <th>MiscVal</th>\n",
       "      <th>MoSold</th>\n",
       "      <th>YrSold</th>\n",
       "      <th>SaleType</th>\n",
       "      <th>SaleCondition</th>\n",
       "    </tr>\n",
       "  </thead>\n",
       "  <tbody>\n",
       "    <tr>\n",
       "      <th>0</th>\n",
       "      <td>1461</td>\n",
       "      <td>20</td>\n",
       "      <td>RH</td>\n",
       "      <td>80.0</td>\n",
       "      <td>11622</td>\n",
       "      <td>Pave</td>\n",
       "      <td>NaN</td>\n",
       "      <td>Reg</td>\n",
       "      <td>Lvl</td>\n",
       "      <td>AllPub</td>\n",
       "      <td>...</td>\n",
       "      <td>120</td>\n",
       "      <td>0</td>\n",
       "      <td>NaN</td>\n",
       "      <td>MnPrv</td>\n",
       "      <td>NaN</td>\n",
       "      <td>0</td>\n",
       "      <td>6</td>\n",
       "      <td>2010</td>\n",
       "      <td>WD</td>\n",
       "      <td>Normal</td>\n",
       "    </tr>\n",
       "    <tr>\n",
       "      <th>1</th>\n",
       "      <td>1462</td>\n",
       "      <td>20</td>\n",
       "      <td>RL</td>\n",
       "      <td>81.0</td>\n",
       "      <td>14267</td>\n",
       "      <td>Pave</td>\n",
       "      <td>NaN</td>\n",
       "      <td>IR1</td>\n",
       "      <td>Lvl</td>\n",
       "      <td>AllPub</td>\n",
       "      <td>...</td>\n",
       "      <td>0</td>\n",
       "      <td>0</td>\n",
       "      <td>NaN</td>\n",
       "      <td>NaN</td>\n",
       "      <td>Gar2</td>\n",
       "      <td>12500</td>\n",
       "      <td>6</td>\n",
       "      <td>2010</td>\n",
       "      <td>WD</td>\n",
       "      <td>Normal</td>\n",
       "    </tr>\n",
       "    <tr>\n",
       "      <th>2</th>\n",
       "      <td>1463</td>\n",
       "      <td>60</td>\n",
       "      <td>RL</td>\n",
       "      <td>74.0</td>\n",
       "      <td>13830</td>\n",
       "      <td>Pave</td>\n",
       "      <td>NaN</td>\n",
       "      <td>IR1</td>\n",
       "      <td>Lvl</td>\n",
       "      <td>AllPub</td>\n",
       "      <td>...</td>\n",
       "      <td>0</td>\n",
       "      <td>0</td>\n",
       "      <td>NaN</td>\n",
       "      <td>MnPrv</td>\n",
       "      <td>NaN</td>\n",
       "      <td>0</td>\n",
       "      <td>3</td>\n",
       "      <td>2010</td>\n",
       "      <td>WD</td>\n",
       "      <td>Normal</td>\n",
       "    </tr>\n",
       "    <tr>\n",
       "      <th>3</th>\n",
       "      <td>1464</td>\n",
       "      <td>60</td>\n",
       "      <td>RL</td>\n",
       "      <td>78.0</td>\n",
       "      <td>9978</td>\n",
       "      <td>Pave</td>\n",
       "      <td>NaN</td>\n",
       "      <td>IR1</td>\n",
       "      <td>Lvl</td>\n",
       "      <td>AllPub</td>\n",
       "      <td>...</td>\n",
       "      <td>0</td>\n",
       "      <td>0</td>\n",
       "      <td>NaN</td>\n",
       "      <td>NaN</td>\n",
       "      <td>NaN</td>\n",
       "      <td>0</td>\n",
       "      <td>6</td>\n",
       "      <td>2010</td>\n",
       "      <td>WD</td>\n",
       "      <td>Normal</td>\n",
       "    </tr>\n",
       "    <tr>\n",
       "      <th>4</th>\n",
       "      <td>1465</td>\n",
       "      <td>120</td>\n",
       "      <td>RL</td>\n",
       "      <td>43.0</td>\n",
       "      <td>5005</td>\n",
       "      <td>Pave</td>\n",
       "      <td>NaN</td>\n",
       "      <td>IR1</td>\n",
       "      <td>HLS</td>\n",
       "      <td>AllPub</td>\n",
       "      <td>...</td>\n",
       "      <td>144</td>\n",
       "      <td>0</td>\n",
       "      <td>NaN</td>\n",
       "      <td>NaN</td>\n",
       "      <td>NaN</td>\n",
       "      <td>0</td>\n",
       "      <td>1</td>\n",
       "      <td>2010</td>\n",
       "      <td>WD</td>\n",
       "      <td>Normal</td>\n",
       "    </tr>\n",
       "  </tbody>\n",
       "</table>\n",
       "<p>5 rows × 80 columns</p>\n",
       "</div>"
      ],
      "text/plain": [
       "     Id  MSSubClass MSZoning  LotFrontage  LotArea Street Alley LotShape  \\\n",
       "0  1461          20       RH         80.0    11622   Pave   NaN      Reg   \n",
       "1  1462          20       RL         81.0    14267   Pave   NaN      IR1   \n",
       "2  1463          60       RL         74.0    13830   Pave   NaN      IR1   \n",
       "3  1464          60       RL         78.0     9978   Pave   NaN      IR1   \n",
       "4  1465         120       RL         43.0     5005   Pave   NaN      IR1   \n",
       "\n",
       "  LandContour Utilities  ... ScreenPorch PoolArea PoolQC  Fence MiscFeature  \\\n",
       "0         Lvl    AllPub  ...         120        0    NaN  MnPrv         NaN   \n",
       "1         Lvl    AllPub  ...           0        0    NaN    NaN        Gar2   \n",
       "2         Lvl    AllPub  ...           0        0    NaN  MnPrv         NaN   \n",
       "3         Lvl    AllPub  ...           0        0    NaN    NaN         NaN   \n",
       "4         HLS    AllPub  ...         144        0    NaN    NaN         NaN   \n",
       "\n",
       "  MiscVal MoSold  YrSold  SaleType  SaleCondition  \n",
       "0       0      6    2010        WD         Normal  \n",
       "1   12500      6    2010        WD         Normal  \n",
       "2       0      3    2010        WD         Normal  \n",
       "3       0      6    2010        WD         Normal  \n",
       "4       0      1    2010        WD         Normal  \n",
       "\n",
       "[5 rows x 80 columns]"
      ]
     },
     "execution_count": 12,
     "metadata": {},
     "output_type": "execute_result"
    }
   ],
   "source": [
    "test.head()"
   ]
  },
  {
   "cell_type": "code",
   "execution_count": 13,
   "id": "59fd5205",
   "metadata": {},
   "outputs": [],
   "source": [
    "D = MSV_check(dataset = test , alpha = 0.05)\n",
    "test_res_table , test_which_affect_which = D.check_it()\n",
    "clear_output()"
   ]
  },
  {
   "cell_type": "code",
   "execution_count": 14,
   "id": "7bc2aa36",
   "metadata": {},
   "outputs": [
    {
     "name": "stdout",
     "output_type": "stream",
     "text": [
      "columns to drop:\n"
     ]
    },
    {
     "data": {
      "text/html": [
       "<div>\n",
       "<style scoped>\n",
       "    .dataframe tbody tr th:only-of-type {\n",
       "        vertical-align: middle;\n",
       "    }\n",
       "\n",
       "    .dataframe tbody tr th {\n",
       "        vertical-align: top;\n",
       "    }\n",
       "\n",
       "    .dataframe thead th {\n",
       "        text-align: right;\n",
       "    }\n",
       "</style>\n",
       "<table border=\"1\" class=\"dataframe\">\n",
       "  <thead>\n",
       "    <tr style=\"text-align: right;\">\n",
       "      <th></th>\n",
       "      <th>not_missing</th>\n",
       "      <th>missing</th>\n",
       "      <th>missing_percentage(%)</th>\n",
       "      <th>missing_value_type</th>\n",
       "    </tr>\n",
       "  </thead>\n",
       "  <tbody>\n",
       "    <tr>\n",
       "      <th>Alley</th>\n",
       "      <td>107.0</td>\n",
       "      <td>1352.0</td>\n",
       "      <td>92.67</td>\n",
       "      <td>MNAR or MAR</td>\n",
       "    </tr>\n",
       "    <tr>\n",
       "      <th>MasVnrType</th>\n",
       "      <td>565.0</td>\n",
       "      <td>894.0</td>\n",
       "      <td>61.27</td>\n",
       "      <td>MNAR or MAR</td>\n",
       "    </tr>\n",
       "    <tr>\n",
       "      <th>FireplaceQu</th>\n",
       "      <td>729.0</td>\n",
       "      <td>730.0</td>\n",
       "      <td>50.03</td>\n",
       "      <td>MNAR or MAR</td>\n",
       "    </tr>\n",
       "    <tr>\n",
       "      <th>PoolQC</th>\n",
       "      <td>3.0</td>\n",
       "      <td>1456.0</td>\n",
       "      <td>99.79</td>\n",
       "      <td>MNAR or MAR</td>\n",
       "    </tr>\n",
       "    <tr>\n",
       "      <th>Fence</th>\n",
       "      <td>290.0</td>\n",
       "      <td>1169.0</td>\n",
       "      <td>80.12</td>\n",
       "      <td>MNAR or MAR</td>\n",
       "    </tr>\n",
       "    <tr>\n",
       "      <th>MiscFeature</th>\n",
       "      <td>51.0</td>\n",
       "      <td>1408.0</td>\n",
       "      <td>96.50</td>\n",
       "      <td>MNAR or MAR</td>\n",
       "    </tr>\n",
       "  </tbody>\n",
       "</table>\n",
       "</div>"
      ],
      "text/plain": [
       "             not_missing  missing  missing_percentage(%) missing_value_type\n",
       "Alley              107.0   1352.0                  92.67        MNAR or MAR\n",
       "MasVnrType         565.0    894.0                  61.27        MNAR or MAR\n",
       "FireplaceQu        729.0    730.0                  50.03        MNAR or MAR\n",
       "PoolQC               3.0   1456.0                  99.79        MNAR or MAR\n",
       "Fence              290.0   1169.0                  80.12        MNAR or MAR\n",
       "MiscFeature         51.0   1408.0                  96.50        MNAR or MAR"
      ]
     },
     "metadata": {},
     "output_type": "display_data"
    },
    {
     "name": "stdout",
     "output_type": "stream",
     "text": [
      "columns to fill:\n"
     ]
    },
    {
     "data": {
      "text/html": [
       "<div>\n",
       "<style scoped>\n",
       "    .dataframe tbody tr th:only-of-type {\n",
       "        vertical-align: middle;\n",
       "    }\n",
       "\n",
       "    .dataframe tbody tr th {\n",
       "        vertical-align: top;\n",
       "    }\n",
       "\n",
       "    .dataframe thead th {\n",
       "        text-align: right;\n",
       "    }\n",
       "</style>\n",
       "<table border=\"1\" class=\"dataframe\">\n",
       "  <thead>\n",
       "    <tr style=\"text-align: right;\">\n",
       "      <th></th>\n",
       "      <th>not_missing</th>\n",
       "      <th>missing</th>\n",
       "      <th>missing_percentage(%)</th>\n",
       "      <th>missing_value_type</th>\n",
       "    </tr>\n",
       "  </thead>\n",
       "  <tbody>\n",
       "    <tr>\n",
       "      <th>MSZoning</th>\n",
       "      <td>1455.0</td>\n",
       "      <td>4.0</td>\n",
       "      <td>0.27</td>\n",
       "      <td>MNAR or MAR</td>\n",
       "    </tr>\n",
       "    <tr>\n",
       "      <th>LotFrontage</th>\n",
       "      <td>1232.0</td>\n",
       "      <td>227.0</td>\n",
       "      <td>15.56</td>\n",
       "      <td>MNAR or MAR</td>\n",
       "    </tr>\n",
       "    <tr>\n",
       "      <th>Utilities</th>\n",
       "      <td>1457.0</td>\n",
       "      <td>2.0</td>\n",
       "      <td>0.14</td>\n",
       "      <td>MNAR or MAR</td>\n",
       "    </tr>\n",
       "    <tr>\n",
       "      <th>Exterior1st</th>\n",
       "      <td>1458.0</td>\n",
       "      <td>1.0</td>\n",
       "      <td>0.07</td>\n",
       "      <td>MNAR or MAR</td>\n",
       "    </tr>\n",
       "    <tr>\n",
       "      <th>Exterior2nd</th>\n",
       "      <td>1458.0</td>\n",
       "      <td>1.0</td>\n",
       "      <td>0.07</td>\n",
       "      <td>MNAR or MAR</td>\n",
       "    </tr>\n",
       "    <tr>\n",
       "      <th>MasVnrArea</th>\n",
       "      <td>1444.0</td>\n",
       "      <td>15.0</td>\n",
       "      <td>1.03</td>\n",
       "      <td>MNAR or MAR</td>\n",
       "    </tr>\n",
       "    <tr>\n",
       "      <th>BsmtQual</th>\n",
       "      <td>1415.0</td>\n",
       "      <td>44.0</td>\n",
       "      <td>3.02</td>\n",
       "      <td>MNAR or MAR</td>\n",
       "    </tr>\n",
       "    <tr>\n",
       "      <th>BsmtCond</th>\n",
       "      <td>1414.0</td>\n",
       "      <td>45.0</td>\n",
       "      <td>3.08</td>\n",
       "      <td>MNAR or MAR</td>\n",
       "    </tr>\n",
       "    <tr>\n",
       "      <th>BsmtExposure</th>\n",
       "      <td>1415.0</td>\n",
       "      <td>44.0</td>\n",
       "      <td>3.02</td>\n",
       "      <td>MNAR or MAR</td>\n",
       "    </tr>\n",
       "    <tr>\n",
       "      <th>BsmtFinType1</th>\n",
       "      <td>1417.0</td>\n",
       "      <td>42.0</td>\n",
       "      <td>2.88</td>\n",
       "      <td>MNAR or MAR</td>\n",
       "    </tr>\n",
       "    <tr>\n",
       "      <th>BsmtFinSF1</th>\n",
       "      <td>1458.0</td>\n",
       "      <td>1.0</td>\n",
       "      <td>0.07</td>\n",
       "      <td>MNAR or MAR</td>\n",
       "    </tr>\n",
       "    <tr>\n",
       "      <th>BsmtFinType2</th>\n",
       "      <td>1417.0</td>\n",
       "      <td>42.0</td>\n",
       "      <td>2.88</td>\n",
       "      <td>MNAR or MAR</td>\n",
       "    </tr>\n",
       "    <tr>\n",
       "      <th>BsmtFinSF2</th>\n",
       "      <td>1458.0</td>\n",
       "      <td>1.0</td>\n",
       "      <td>0.07</td>\n",
       "      <td>MNAR or MAR</td>\n",
       "    </tr>\n",
       "    <tr>\n",
       "      <th>BsmtUnfSF</th>\n",
       "      <td>1458.0</td>\n",
       "      <td>1.0</td>\n",
       "      <td>0.07</td>\n",
       "      <td>MNAR or MAR</td>\n",
       "    </tr>\n",
       "    <tr>\n",
       "      <th>TotalBsmtSF</th>\n",
       "      <td>1458.0</td>\n",
       "      <td>1.0</td>\n",
       "      <td>0.07</td>\n",
       "      <td>MNAR or MAR</td>\n",
       "    </tr>\n",
       "    <tr>\n",
       "      <th>BsmtFullBath</th>\n",
       "      <td>1457.0</td>\n",
       "      <td>2.0</td>\n",
       "      <td>0.14</td>\n",
       "      <td>MNAR or MAR</td>\n",
       "    </tr>\n",
       "    <tr>\n",
       "      <th>BsmtHalfBath</th>\n",
       "      <td>1457.0</td>\n",
       "      <td>2.0</td>\n",
       "      <td>0.14</td>\n",
       "      <td>MNAR or MAR</td>\n",
       "    </tr>\n",
       "    <tr>\n",
       "      <th>KitchenQual</th>\n",
       "      <td>1458.0</td>\n",
       "      <td>1.0</td>\n",
       "      <td>0.07</td>\n",
       "      <td>MNAR or MAR</td>\n",
       "    </tr>\n",
       "    <tr>\n",
       "      <th>Functional</th>\n",
       "      <td>1457.0</td>\n",
       "      <td>2.0</td>\n",
       "      <td>0.14</td>\n",
       "      <td>MNAR or MAR</td>\n",
       "    </tr>\n",
       "    <tr>\n",
       "      <th>GarageType</th>\n",
       "      <td>1383.0</td>\n",
       "      <td>76.0</td>\n",
       "      <td>5.21</td>\n",
       "      <td>MNAR or MAR</td>\n",
       "    </tr>\n",
       "    <tr>\n",
       "      <th>GarageYrBlt</th>\n",
       "      <td>1381.0</td>\n",
       "      <td>78.0</td>\n",
       "      <td>5.35</td>\n",
       "      <td>MNAR or MAR</td>\n",
       "    </tr>\n",
       "    <tr>\n",
       "      <th>GarageFinish</th>\n",
       "      <td>1381.0</td>\n",
       "      <td>78.0</td>\n",
       "      <td>5.35</td>\n",
       "      <td>MNAR or MAR</td>\n",
       "    </tr>\n",
       "    <tr>\n",
       "      <th>GarageCars</th>\n",
       "      <td>1458.0</td>\n",
       "      <td>1.0</td>\n",
       "      <td>0.07</td>\n",
       "      <td>MNAR or MAR</td>\n",
       "    </tr>\n",
       "    <tr>\n",
       "      <th>GarageArea</th>\n",
       "      <td>1458.0</td>\n",
       "      <td>1.0</td>\n",
       "      <td>0.07</td>\n",
       "      <td>MNAR or MAR</td>\n",
       "    </tr>\n",
       "    <tr>\n",
       "      <th>GarageQual</th>\n",
       "      <td>1381.0</td>\n",
       "      <td>78.0</td>\n",
       "      <td>5.35</td>\n",
       "      <td>MNAR or MAR</td>\n",
       "    </tr>\n",
       "    <tr>\n",
       "      <th>GarageCond</th>\n",
       "      <td>1381.0</td>\n",
       "      <td>78.0</td>\n",
       "      <td>5.35</td>\n",
       "      <td>MNAR or MAR</td>\n",
       "    </tr>\n",
       "    <tr>\n",
       "      <th>SaleType</th>\n",
       "      <td>1458.0</td>\n",
       "      <td>1.0</td>\n",
       "      <td>0.07</td>\n",
       "      <td>MNAR or MAR</td>\n",
       "    </tr>\n",
       "  </tbody>\n",
       "</table>\n",
       "</div>"
      ],
      "text/plain": [
       "              not_missing  missing  missing_percentage(%) missing_value_type\n",
       "MSZoning           1455.0      4.0                   0.27        MNAR or MAR\n",
       "LotFrontage        1232.0    227.0                  15.56        MNAR or MAR\n",
       "Utilities          1457.0      2.0                   0.14        MNAR or MAR\n",
       "Exterior1st        1458.0      1.0                   0.07        MNAR or MAR\n",
       "Exterior2nd        1458.0      1.0                   0.07        MNAR or MAR\n",
       "MasVnrArea         1444.0     15.0                   1.03        MNAR or MAR\n",
       "BsmtQual           1415.0     44.0                   3.02        MNAR or MAR\n",
       "BsmtCond           1414.0     45.0                   3.08        MNAR or MAR\n",
       "BsmtExposure       1415.0     44.0                   3.02        MNAR or MAR\n",
       "BsmtFinType1       1417.0     42.0                   2.88        MNAR or MAR\n",
       "BsmtFinSF1         1458.0      1.0                   0.07        MNAR or MAR\n",
       "BsmtFinType2       1417.0     42.0                   2.88        MNAR or MAR\n",
       "BsmtFinSF2         1458.0      1.0                   0.07        MNAR or MAR\n",
       "BsmtUnfSF          1458.0      1.0                   0.07        MNAR or MAR\n",
       "TotalBsmtSF        1458.0      1.0                   0.07        MNAR or MAR\n",
       "BsmtFullBath       1457.0      2.0                   0.14        MNAR or MAR\n",
       "BsmtHalfBath       1457.0      2.0                   0.14        MNAR or MAR\n",
       "KitchenQual        1458.0      1.0                   0.07        MNAR or MAR\n",
       "Functional         1457.0      2.0                   0.14        MNAR or MAR\n",
       "GarageType         1383.0     76.0                   5.21        MNAR or MAR\n",
       "GarageYrBlt        1381.0     78.0                   5.35        MNAR or MAR\n",
       "GarageFinish       1381.0     78.0                   5.35        MNAR or MAR\n",
       "GarageCars         1458.0      1.0                   0.07        MNAR or MAR\n",
       "GarageArea         1458.0      1.0                   0.07        MNAR or MAR\n",
       "GarageQual         1381.0     78.0                   5.35        MNAR or MAR\n",
       "GarageCond         1381.0     78.0                   5.35        MNAR or MAR\n",
       "SaleType           1458.0      1.0                   0.07        MNAR or MAR"
      ]
     },
     "metadata": {},
     "output_type": "display_data"
    }
   ],
   "source": [
    "pd.set_option('display.max_rows', None)\n",
    "\n",
    "test_which_to_drop = (test_res_table['missing_percentage(%)'] > 25) # bool mask for all columns with more than 25% missing values\n",
    "test_which_to_fill = (0 < test_res_table['missing_percentage(%)']) & (test_res_table['missing_percentage(%)'] < 25) # bool mask for all columns with more than 0% and less than 25% missing values\n",
    "\n",
    "test_drop_table = test_res_table[test_which_to_drop]\n",
    "test_fill_table = test_res_table[test_which_to_fill]\n",
    "\n",
    "print(\"columns to drop:\")\n",
    "display(test_drop_table)\n",
    "\n",
    "print(\"columns to fill:\")\n",
    "display(test_fill_table)\n",
    "\n",
    "# getting a list of names of columns to drop or fill\n",
    "test_drop_list = list(test_drop_table.index) + ['LotFrontage'] # adding LotFrontage as i said in markdown\n",
    "test_fill_list = list(test_fill_table.index)\n",
    "test_fill_list.remove('LotFrontage') # and removing LotFrontage cuz it doesnt belong there \n",
    "\n",
    "pd.set_option('display.max_rows', 10)"
   ]
  },
  {
   "cell_type": "code",
   "execution_count": 15,
   "id": "e3477a3f",
   "metadata": {},
   "outputs": [],
   "source": [
    "dropped_test = test.drop(labels = test_drop_list , axis = 1) # drop all attributes that must be dropped"
   ]
  },
  {
   "cell_type": "markdown",
   "id": "99e5b665",
   "metadata": {},
   "source": [
    "## outlier and missing value handling of training data\n",
    "***"
   ]
  },
  {
   "cell_type": "markdown",
   "id": "cf7cf0fa",
   "metadata": {},
   "source": [
    "### with the `deal_with_outliers` function we wrote we deal with'em"
   ]
  },
  {
   "cell_type": "code",
   "execution_count": 16,
   "id": "b14be23b",
   "metadata": {},
   "outputs": [],
   "source": [
    "# filter Id column using iloc\n",
    "train_df , train_res = deal_with_outliers(dataframe = dropped_train.iloc[: , 1:]) # i used same dropped_train because i dont have to change every occurrence ik name might not make sense\n",
    "clear_output()"
   ]
  },
  {
   "cell_type": "markdown",
   "id": "ea8c5578",
   "metadata": {},
   "source": [
    "### the DataFrame below shows what strategy is best for our continuous attribues. for categorical attributes we should check if its nominal or ordinal. we will talk more about this topic in following cells "
   ]
  },
  {
   "cell_type": "code",
   "execution_count": 17,
   "id": "b247baae",
   "metadata": {},
   "outputs": [
    {
     "name": "stdout",
     "output_type": "stream",
     "text": [
      "best strategy for continuous attributes:\n"
     ]
    },
    {
     "data": {
      "text/html": [
       "<div>\n",
       "<style scoped>\n",
       "    .dataframe tbody tr th:only-of-type {\n",
       "        vertical-align: middle;\n",
       "    }\n",
       "\n",
       "    .dataframe tbody tr th {\n",
       "        vertical-align: top;\n",
       "    }\n",
       "\n",
       "    .dataframe thead th {\n",
       "        text-align: right;\n",
       "    }\n",
       "</style>\n",
       "<table border=\"1\" class=\"dataframe\">\n",
       "  <thead>\n",
       "    <tr style=\"text-align: right;\">\n",
       "      <th></th>\n",
       "      <th>strategy</th>\n",
       "    </tr>\n",
       "  </thead>\n",
       "  <tbody>\n",
       "    <tr>\n",
       "      <th>MasVnrArea</th>\n",
       "      <td>median</td>\n",
       "    </tr>\n",
       "    <tr>\n",
       "      <th>GarageYrBlt</th>\n",
       "      <td>mean</td>\n",
       "    </tr>\n",
       "  </tbody>\n",
       "</table>\n",
       "</div>"
      ],
      "text/plain": [
       "            strategy\n",
       "MasVnrArea    median\n",
       "GarageYrBlt     mean"
      ]
     },
     "metadata": {},
     "output_type": "display_data"
    },
    {
     "name": "stdout",
     "output_type": "stream",
     "text": [
      "\n",
      "best strategy for categorical attributes:\n"
     ]
    },
    {
     "data": {
      "text/html": [
       "<div>\n",
       "<style scoped>\n",
       "    .dataframe tbody tr th:only-of-type {\n",
       "        vertical-align: middle;\n",
       "    }\n",
       "\n",
       "    .dataframe tbody tr th {\n",
       "        vertical-align: top;\n",
       "    }\n",
       "\n",
       "    .dataframe thead th {\n",
       "        text-align: right;\n",
       "    }\n",
       "</style>\n",
       "<table border=\"1\" class=\"dataframe\">\n",
       "  <thead>\n",
       "    <tr style=\"text-align: right;\">\n",
       "      <th></th>\n",
       "      <th>strategy</th>\n",
       "    </tr>\n",
       "  </thead>\n",
       "  <tbody>\n",
       "    <tr>\n",
       "      <th>BsmtQual</th>\n",
       "      <td>categorical</td>\n",
       "    </tr>\n",
       "    <tr>\n",
       "      <th>BsmtCond</th>\n",
       "      <td>categorical</td>\n",
       "    </tr>\n",
       "    <tr>\n",
       "      <th>BsmtExposure</th>\n",
       "      <td>categorical</td>\n",
       "    </tr>\n",
       "    <tr>\n",
       "      <th>BsmtFinType1</th>\n",
       "      <td>categorical</td>\n",
       "    </tr>\n",
       "    <tr>\n",
       "      <th>BsmtFinType2</th>\n",
       "      <td>categorical</td>\n",
       "    </tr>\n",
       "    <tr>\n",
       "      <th>Electrical</th>\n",
       "      <td>categorical</td>\n",
       "    </tr>\n",
       "    <tr>\n",
       "      <th>GarageType</th>\n",
       "      <td>categorical</td>\n",
       "    </tr>\n",
       "    <tr>\n",
       "      <th>GarageFinish</th>\n",
       "      <td>categorical</td>\n",
       "    </tr>\n",
       "    <tr>\n",
       "      <th>GarageQual</th>\n",
       "      <td>categorical</td>\n",
       "    </tr>\n",
       "    <tr>\n",
       "      <th>GarageCond</th>\n",
       "      <td>categorical</td>\n",
       "    </tr>\n",
       "  </tbody>\n",
       "</table>\n",
       "</div>"
      ],
      "text/plain": [
       "                 strategy\n",
       "BsmtQual      categorical\n",
       "BsmtCond      categorical\n",
       "BsmtExposure  categorical\n",
       "BsmtFinType1  categorical\n",
       "BsmtFinType2  categorical\n",
       "Electrical    categorical\n",
       "GarageType    categorical\n",
       "GarageFinish  categorical\n",
       "GarageQual    categorical\n",
       "GarageCond    categorical"
      ]
     },
     "metadata": {},
     "output_type": "display_data"
    }
   ],
   "source": [
    "train_res = train_res.loc[fill_list]\n",
    "\n",
    "train_continuous_bmask = ((train_res['strategy'] == 'median') | (train_res['strategy'] == 'mean'))\n",
    "train_categorical_bmask = (train_res['strategy'] == 'categorical')\n",
    "\n",
    "train_continuous = train_res[train_continuous_bmask]\n",
    "train_categorical = train_res[train_categorical_bmask]\n",
    "\n",
    "print('best strategy for continuous attributes:')\n",
    "display(train_continuous)\n",
    "\n",
    "print('\\nbest strategy for categorical attributes:')\n",
    "display(train_categorical)"
   ]
  },
  {
   "cell_type": "markdown",
   "id": "b2338113",
   "metadata": {},
   "source": [
    "## now we label encode the categorical labels"
   ]
  },
  {
   "cell_type": "code",
   "execution_count": 18,
   "id": "5d8f3bdb",
   "metadata": {},
   "outputs": [
    {
     "name": "stdout",
     "output_type": "stream",
     "text": [
      "do we have any non-numerical column is our train set now? False\n"
     ]
    },
    {
     "data": {
      "text/html": [
       "<div>\n",
       "<style scoped>\n",
       "    .dataframe tbody tr th:only-of-type {\n",
       "        vertical-align: middle;\n",
       "    }\n",
       "\n",
       "    .dataframe tbody tr th {\n",
       "        vertical-align: top;\n",
       "    }\n",
       "\n",
       "    .dataframe thead th {\n",
       "        text-align: right;\n",
       "    }\n",
       "</style>\n",
       "<table border=\"1\" class=\"dataframe\">\n",
       "  <thead>\n",
       "    <tr style=\"text-align: right;\">\n",
       "      <th></th>\n",
       "      <th>MSSubClass</th>\n",
       "      <th>MSZoning</th>\n",
       "      <th>LotArea</th>\n",
       "      <th>Street</th>\n",
       "      <th>LotShape</th>\n",
       "      <th>LandContour</th>\n",
       "      <th>Utilities</th>\n",
       "      <th>LotConfig</th>\n",
       "      <th>LandSlope</th>\n",
       "      <th>Neighborhood</th>\n",
       "      <th>...</th>\n",
       "      <th>EnclosedPorch</th>\n",
       "      <th>3SsnPorch</th>\n",
       "      <th>ScreenPorch</th>\n",
       "      <th>PoolArea</th>\n",
       "      <th>MiscVal</th>\n",
       "      <th>MoSold</th>\n",
       "      <th>YrSold</th>\n",
       "      <th>SaleType</th>\n",
       "      <th>SaleCondition</th>\n",
       "      <th>SalePrice</th>\n",
       "    </tr>\n",
       "  </thead>\n",
       "  <tbody>\n",
       "    <tr>\n",
       "      <th>0</th>\n",
       "      <td>60.0</td>\n",
       "      <td>1</td>\n",
       "      <td>8450.0</td>\n",
       "      <td>1</td>\n",
       "      <td>1</td>\n",
       "      <td>1</td>\n",
       "      <td>1</td>\n",
       "      <td>1</td>\n",
       "      <td>1</td>\n",
       "      <td>1</td>\n",
       "      <td>...</td>\n",
       "      <td>0.000000</td>\n",
       "      <td>0.0</td>\n",
       "      <td>0.0</td>\n",
       "      <td>0.0</td>\n",
       "      <td>0.000000</td>\n",
       "      <td>2</td>\n",
       "      <td>2008</td>\n",
       "      <td>1</td>\n",
       "      <td>1</td>\n",
       "      <td>208500.0</td>\n",
       "    </tr>\n",
       "    <tr>\n",
       "      <th>1</th>\n",
       "      <td>20.0</td>\n",
       "      <td>1</td>\n",
       "      <td>9600.0</td>\n",
       "      <td>1</td>\n",
       "      <td>1</td>\n",
       "      <td>1</td>\n",
       "      <td>1</td>\n",
       "      <td>2</td>\n",
       "      <td>1</td>\n",
       "      <td>2</td>\n",
       "      <td>...</td>\n",
       "      <td>0.000000</td>\n",
       "      <td>0.0</td>\n",
       "      <td>0.0</td>\n",
       "      <td>0.0</td>\n",
       "      <td>0.000000</td>\n",
       "      <td>5</td>\n",
       "      <td>2007</td>\n",
       "      <td>1</td>\n",
       "      <td>1</td>\n",
       "      <td>181500.0</td>\n",
       "    </tr>\n",
       "    <tr>\n",
       "      <th>2</th>\n",
       "      <td>60.0</td>\n",
       "      <td>1</td>\n",
       "      <td>11250.0</td>\n",
       "      <td>1</td>\n",
       "      <td>2</td>\n",
       "      <td>1</td>\n",
       "      <td>1</td>\n",
       "      <td>1</td>\n",
       "      <td>1</td>\n",
       "      <td>1</td>\n",
       "      <td>...</td>\n",
       "      <td>0.000000</td>\n",
       "      <td>0.0</td>\n",
       "      <td>0.0</td>\n",
       "      <td>0.0</td>\n",
       "      <td>0.000000</td>\n",
       "      <td>9</td>\n",
       "      <td>2008</td>\n",
       "      <td>1</td>\n",
       "      <td>1</td>\n",
       "      <td>223500.0</td>\n",
       "    </tr>\n",
       "    <tr>\n",
       "      <th>3</th>\n",
       "      <td>70.0</td>\n",
       "      <td>1</td>\n",
       "      <td>9550.0</td>\n",
       "      <td>1</td>\n",
       "      <td>2</td>\n",
       "      <td>1</td>\n",
       "      <td>1</td>\n",
       "      <td>3</td>\n",
       "      <td>1</td>\n",
       "      <td>3</td>\n",
       "      <td>...</td>\n",
       "      <td>205.311554</td>\n",
       "      <td>0.0</td>\n",
       "      <td>0.0</td>\n",
       "      <td>0.0</td>\n",
       "      <td>0.000000</td>\n",
       "      <td>2</td>\n",
       "      <td>2006</td>\n",
       "      <td>1</td>\n",
       "      <td>2</td>\n",
       "      <td>140000.0</td>\n",
       "    </tr>\n",
       "    <tr>\n",
       "      <th>4</th>\n",
       "      <td>60.0</td>\n",
       "      <td>1</td>\n",
       "      <td>14260.0</td>\n",
       "      <td>1</td>\n",
       "      <td>2</td>\n",
       "      <td>1</td>\n",
       "      <td>1</td>\n",
       "      <td>2</td>\n",
       "      <td>1</td>\n",
       "      <td>4</td>\n",
       "      <td>...</td>\n",
       "      <td>0.000000</td>\n",
       "      <td>0.0</td>\n",
       "      <td>0.0</td>\n",
       "      <td>0.0</td>\n",
       "      <td>0.000000</td>\n",
       "      <td>12</td>\n",
       "      <td>2008</td>\n",
       "      <td>1</td>\n",
       "      <td>1</td>\n",
       "      <td>250000.0</td>\n",
       "    </tr>\n",
       "    <tr>\n",
       "      <th>...</th>\n",
       "      <td>...</td>\n",
       "      <td>...</td>\n",
       "      <td>...</td>\n",
       "      <td>...</td>\n",
       "      <td>...</td>\n",
       "      <td>...</td>\n",
       "      <td>...</td>\n",
       "      <td>...</td>\n",
       "      <td>...</td>\n",
       "      <td>...</td>\n",
       "      <td>...</td>\n",
       "      <td>...</td>\n",
       "      <td>...</td>\n",
       "      <td>...</td>\n",
       "      <td>...</td>\n",
       "      <td>...</td>\n",
       "      <td>...</td>\n",
       "      <td>...</td>\n",
       "      <td>...</td>\n",
       "      <td>...</td>\n",
       "      <td>...</td>\n",
       "    </tr>\n",
       "    <tr>\n",
       "      <th>1455</th>\n",
       "      <td>60.0</td>\n",
       "      <td>1</td>\n",
       "      <td>7917.0</td>\n",
       "      <td>1</td>\n",
       "      <td>1</td>\n",
       "      <td>1</td>\n",
       "      <td>1</td>\n",
       "      <td>1</td>\n",
       "      <td>1</td>\n",
       "      <td>18</td>\n",
       "      <td>...</td>\n",
       "      <td>0.000000</td>\n",
       "      <td>0.0</td>\n",
       "      <td>0.0</td>\n",
       "      <td>0.0</td>\n",
       "      <td>0.000000</td>\n",
       "      <td>8</td>\n",
       "      <td>2007</td>\n",
       "      <td>1</td>\n",
       "      <td>1</td>\n",
       "      <td>175000.0</td>\n",
       "    </tr>\n",
       "    <tr>\n",
       "      <th>1456</th>\n",
       "      <td>20.0</td>\n",
       "      <td>1</td>\n",
       "      <td>13175.0</td>\n",
       "      <td>1</td>\n",
       "      <td>1</td>\n",
       "      <td>1</td>\n",
       "      <td>1</td>\n",
       "      <td>1</td>\n",
       "      <td>1</td>\n",
       "      <td>7</td>\n",
       "      <td>...</td>\n",
       "      <td>0.000000</td>\n",
       "      <td>0.0</td>\n",
       "      <td>0.0</td>\n",
       "      <td>0.0</td>\n",
       "      <td>0.000000</td>\n",
       "      <td>2</td>\n",
       "      <td>2010</td>\n",
       "      <td>1</td>\n",
       "      <td>1</td>\n",
       "      <td>210000.0</td>\n",
       "    </tr>\n",
       "    <tr>\n",
       "      <th>1457</th>\n",
       "      <td>70.0</td>\n",
       "      <td>1</td>\n",
       "      <td>9042.0</td>\n",
       "      <td>1</td>\n",
       "      <td>1</td>\n",
       "      <td>1</td>\n",
       "      <td>1</td>\n",
       "      <td>1</td>\n",
       "      <td>1</td>\n",
       "      <td>3</td>\n",
       "      <td>...</td>\n",
       "      <td>0.000000</td>\n",
       "      <td>0.0</td>\n",
       "      <td>0.0</td>\n",
       "      <td>0.0</td>\n",
       "      <td>1531.858154</td>\n",
       "      <td>5</td>\n",
       "      <td>2010</td>\n",
       "      <td>1</td>\n",
       "      <td>1</td>\n",
       "      <td>266500.0</td>\n",
       "    </tr>\n",
       "    <tr>\n",
       "      <th>1458</th>\n",
       "      <td>20.0</td>\n",
       "      <td>1</td>\n",
       "      <td>9717.0</td>\n",
       "      <td>1</td>\n",
       "      <td>1</td>\n",
       "      <td>1</td>\n",
       "      <td>1</td>\n",
       "      <td>1</td>\n",
       "      <td>1</td>\n",
       "      <td>12</td>\n",
       "      <td>...</td>\n",
       "      <td>112.000000</td>\n",
       "      <td>0.0</td>\n",
       "      <td>0.0</td>\n",
       "      <td>0.0</td>\n",
       "      <td>0.000000</td>\n",
       "      <td>4</td>\n",
       "      <td>2010</td>\n",
       "      <td>1</td>\n",
       "      <td>1</td>\n",
       "      <td>142125.0</td>\n",
       "    </tr>\n",
       "    <tr>\n",
       "      <th>1459</th>\n",
       "      <td>20.0</td>\n",
       "      <td>1</td>\n",
       "      <td>9937.0</td>\n",
       "      <td>1</td>\n",
       "      <td>1</td>\n",
       "      <td>1</td>\n",
       "      <td>1</td>\n",
       "      <td>1</td>\n",
       "      <td>1</td>\n",
       "      <td>16</td>\n",
       "      <td>...</td>\n",
       "      <td>0.000000</td>\n",
       "      <td>0.0</td>\n",
       "      <td>0.0</td>\n",
       "      <td>0.0</td>\n",
       "      <td>0.000000</td>\n",
       "      <td>6</td>\n",
       "      <td>2008</td>\n",
       "      <td>1</td>\n",
       "      <td>1</td>\n",
       "      <td>147500.0</td>\n",
       "    </tr>\n",
       "  </tbody>\n",
       "</table>\n",
       "<p>1460 rows × 73 columns</p>\n",
       "</div>"
      ],
      "text/plain": [
       "      MSSubClass  MSZoning  LotArea  Street  LotShape  LandContour  Utilities  \\\n",
       "0           60.0         1   8450.0       1         1            1          1   \n",
       "1           20.0         1   9600.0       1         1            1          1   \n",
       "2           60.0         1  11250.0       1         2            1          1   \n",
       "3           70.0         1   9550.0       1         2            1          1   \n",
       "4           60.0         1  14260.0       1         2            1          1   \n",
       "...          ...       ...      ...     ...       ...          ...        ...   \n",
       "1455        60.0         1   7917.0       1         1            1          1   \n",
       "1456        20.0         1  13175.0       1         1            1          1   \n",
       "1457        70.0         1   9042.0       1         1            1          1   \n",
       "1458        20.0         1   9717.0       1         1            1          1   \n",
       "1459        20.0         1   9937.0       1         1            1          1   \n",
       "\n",
       "      LotConfig  LandSlope  Neighborhood  ...  EnclosedPorch  3SsnPorch  \\\n",
       "0             1          1             1  ...       0.000000        0.0   \n",
       "1             2          1             2  ...       0.000000        0.0   \n",
       "2             1          1             1  ...       0.000000        0.0   \n",
       "3             3          1             3  ...     205.311554        0.0   \n",
       "4             2          1             4  ...       0.000000        0.0   \n",
       "...         ...        ...           ...  ...            ...        ...   \n",
       "1455          1          1            18  ...       0.000000        0.0   \n",
       "1456          1          1             7  ...       0.000000        0.0   \n",
       "1457          1          1             3  ...       0.000000        0.0   \n",
       "1458          1          1            12  ...     112.000000        0.0   \n",
       "1459          1          1            16  ...       0.000000        0.0   \n",
       "\n",
       "      ScreenPorch  PoolArea      MiscVal  MoSold  YrSold  SaleType  \\\n",
       "0             0.0       0.0     0.000000       2    2008         1   \n",
       "1             0.0       0.0     0.000000       5    2007         1   \n",
       "2             0.0       0.0     0.000000       9    2008         1   \n",
       "3             0.0       0.0     0.000000       2    2006         1   \n",
       "4             0.0       0.0     0.000000      12    2008         1   \n",
       "...           ...       ...          ...     ...     ...       ...   \n",
       "1455          0.0       0.0     0.000000       8    2007         1   \n",
       "1456          0.0       0.0     0.000000       2    2010         1   \n",
       "1457          0.0       0.0  1531.858154       5    2010         1   \n",
       "1458          0.0       0.0     0.000000       4    2010         1   \n",
       "1459          0.0       0.0     0.000000       6    2008         1   \n",
       "\n",
       "      SaleCondition  SalePrice  \n",
       "0                 1   208500.0  \n",
       "1                 1   181500.0  \n",
       "2                 1   223500.0  \n",
       "3                 2   140000.0  \n",
       "4                 1   250000.0  \n",
       "...             ...        ...  \n",
       "1455              1   175000.0  \n",
       "1456              1   210000.0  \n",
       "1457              1   266500.0  \n",
       "1458              1   142125.0  \n",
       "1459              1   147500.0  \n",
       "\n",
       "[1460 rows x 73 columns]"
      ]
     },
     "metadata": {},
     "output_type": "display_data"
    }
   ],
   "source": [
    "str2num_list = list(train_df.select_dtypes(include = 'string').columns) # names of all str columns\n",
    "for i in str2num_list:\n",
    "    train_df[i] = str_to_num(train_df[i])\n",
    "\n",
    "attributes_dtypes = train_df.dtypes\n",
    "print(\"do we have any non-numerical column is our train set now? \" + str(('str' in attributes_dtypes) and ('object' in attributes_dtypes)))\n",
    "\n",
    "display(train_df)"
   ]
  },
  {
   "cell_type": "markdown",
   "id": "66e15865",
   "metadata": {},
   "source": [
    "##### this is dataframe of all columns that have missing values. we need to fill them all with a central tendency value. we need find the best central tendency for each. thats why we need to know if our categorical columns are nominal or ordinal. if its nominal we use mode and if its ordinal we use median. for continuous columns if we have outlier we use median and if we dont have any outliers we use mean. for outliers we are going to deal with them along the way.\n",
    "\n",
    "##### just checking the table below with column informations i have it seems that `BsmtQual`, `BsmtCond`, `GarageQual`, `GarageCond`, `BsmtFinType1` and `BsmtFinType2` are ordinal attributes and `BsmtExposure` , `Electrical`, `GarageType` and `GarageFinish` are nominal attributes. we need to find ordinal or nominal by hand. i didnt find systematic way to do it"
   ]
  },
  {
   "cell_type": "code",
   "execution_count": 19,
   "id": "c30b5bd3",
   "metadata": {},
   "outputs": [
    {
     "data": {
      "text/html": [
       "<div>\n",
       "<style scoped>\n",
       "    .dataframe tbody tr th:only-of-type {\n",
       "        vertical-align: middle;\n",
       "    }\n",
       "\n",
       "    .dataframe tbody tr th {\n",
       "        vertical-align: top;\n",
       "    }\n",
       "\n",
       "    .dataframe thead th {\n",
       "        text-align: right;\n",
       "    }\n",
       "</style>\n",
       "<table border=\"1\" class=\"dataframe\">\n",
       "  <thead>\n",
       "    <tr style=\"text-align: right;\">\n",
       "      <th></th>\n",
       "      <th>MasVnrArea</th>\n",
       "      <th>BsmtQual</th>\n",
       "      <th>BsmtCond</th>\n",
       "      <th>BsmtExposure</th>\n",
       "      <th>BsmtFinType1</th>\n",
       "      <th>BsmtFinType2</th>\n",
       "      <th>Electrical</th>\n",
       "      <th>GarageType</th>\n",
       "      <th>GarageYrBlt</th>\n",
       "      <th>GarageFinish</th>\n",
       "      <th>GarageQual</th>\n",
       "      <th>GarageCond</th>\n",
       "    </tr>\n",
       "  </thead>\n",
       "  <tbody>\n",
       "    <tr>\n",
       "      <th>count</th>\n",
       "      <td>1452.000000</td>\n",
       "      <td>1423.0</td>\n",
       "      <td>1423.0</td>\n",
       "      <td>1422.0</td>\n",
       "      <td>1423.0</td>\n",
       "      <td>1422.0</td>\n",
       "      <td>1459.0</td>\n",
       "      <td>1379.0</td>\n",
       "      <td>1379.000000</td>\n",
       "      <td>1379.0</td>\n",
       "      <td>1379.0</td>\n",
       "      <td>1379.0</td>\n",
       "    </tr>\n",
       "    <tr>\n",
       "      <th>mean</th>\n",
       "      <td>98.943723</td>\n",
       "      <td>1.69993</td>\n",
       "      <td>1.113141</td>\n",
       "      <td>1.720816</td>\n",
       "      <td>2.71539</td>\n",
       "      <td>1.342475</td>\n",
       "      <td>1.156271</td>\n",
       "      <td>1.504714</td>\n",
       "      <td>1978.506164</td>\n",
       "      <td>1.949239</td>\n",
       "      <td>1.070341</td>\n",
       "      <td>1.059463</td>\n",
       "    </tr>\n",
       "    <tr>\n",
       "      <th>std</th>\n",
       "      <td>159.696608</td>\n",
       "      <td>0.726662</td>\n",
       "      <td>0.414899</td>\n",
       "      <td>1.137971</td>\n",
       "      <td>1.492535</td>\n",
       "      <td>1.032278</td>\n",
       "      <td>0.530529</td>\n",
       "      <td>0.818296</td>\n",
       "      <td>24.689725</td>\n",
       "      <td>0.747733</td>\n",
       "      <td>0.353478</td>\n",
       "      <td>0.341944</td>\n",
       "    </tr>\n",
       "    <tr>\n",
       "      <th>min</th>\n",
       "      <td>0.000000</td>\n",
       "      <td>1.0</td>\n",
       "      <td>1.0</td>\n",
       "      <td>1.0</td>\n",
       "      <td>1.0</td>\n",
       "      <td>1.0</td>\n",
       "      <td>1.0</td>\n",
       "      <td>1.0</td>\n",
       "      <td>1900.000000</td>\n",
       "      <td>1.0</td>\n",
       "      <td>1.0</td>\n",
       "      <td>1.0</td>\n",
       "    </tr>\n",
       "    <tr>\n",
       "      <th>25%</th>\n",
       "      <td>0.000000</td>\n",
       "      <td>1.0</td>\n",
       "      <td>1.0</td>\n",
       "      <td>1.0</td>\n",
       "      <td>1.0</td>\n",
       "      <td>1.0</td>\n",
       "      <td>1.0</td>\n",
       "      <td>1.0</td>\n",
       "      <td>1961.000000</td>\n",
       "      <td>1.0</td>\n",
       "      <td>1.0</td>\n",
       "      <td>1.0</td>\n",
       "    </tr>\n",
       "    <tr>\n",
       "      <th>50%</th>\n",
       "      <td>0.000000</td>\n",
       "      <td>2.0</td>\n",
       "      <td>1.0</td>\n",
       "      <td>1.0</td>\n",
       "      <td>3.0</td>\n",
       "      <td>1.0</td>\n",
       "      <td>1.0</td>\n",
       "      <td>1.0</td>\n",
       "      <td>1980.000000</td>\n",
       "      <td>2.0</td>\n",
       "      <td>1.0</td>\n",
       "      <td>1.0</td>\n",
       "    </tr>\n",
       "    <tr>\n",
       "      <th>75%</th>\n",
       "      <td>166.000000</td>\n",
       "      <td>2.0</td>\n",
       "      <td>1.0</td>\n",
       "      <td>2.0</td>\n",
       "      <td>3.0</td>\n",
       "      <td>1.0</td>\n",
       "      <td>1.0</td>\n",
       "      <td>2.0</td>\n",
       "      <td>2002.000000</td>\n",
       "      <td>3.0</td>\n",
       "      <td>1.0</td>\n",
       "      <td>1.0</td>\n",
       "    </tr>\n",
       "    <tr>\n",
       "      <th>max</th>\n",
       "      <td>646.883911</td>\n",
       "      <td>4.0</td>\n",
       "      <td>4.0</td>\n",
       "      <td>4.0</td>\n",
       "      <td>6.0</td>\n",
       "      <td>6.0</td>\n",
       "      <td>5.0</td>\n",
       "      <td>6.0</td>\n",
       "      <td>2010.000000</td>\n",
       "      <td>3.0</td>\n",
       "      <td>5.0</td>\n",
       "      <td>5.0</td>\n",
       "    </tr>\n",
       "  </tbody>\n",
       "</table>\n",
       "</div>"
      ],
      "text/plain": [
       "        MasVnrArea  BsmtQual  BsmtCond  BsmtExposure  BsmtFinType1  \\\n",
       "count  1452.000000    1423.0    1423.0        1422.0        1423.0   \n",
       "mean     98.943723   1.69993  1.113141      1.720816       2.71539   \n",
       "std     159.696608  0.726662  0.414899      1.137971      1.492535   \n",
       "min       0.000000       1.0       1.0           1.0           1.0   \n",
       "25%       0.000000       1.0       1.0           1.0           1.0   \n",
       "50%       0.000000       2.0       1.0           1.0           3.0   \n",
       "75%     166.000000       2.0       1.0           2.0           3.0   \n",
       "max     646.883911       4.0       4.0           4.0           6.0   \n",
       "\n",
       "       BsmtFinType2  Electrical  GarageType  GarageYrBlt  GarageFinish  \\\n",
       "count        1422.0      1459.0      1379.0  1379.000000        1379.0   \n",
       "mean       1.342475    1.156271    1.504714  1978.506164      1.949239   \n",
       "std        1.032278    0.530529    0.818296    24.689725      0.747733   \n",
       "min             1.0         1.0         1.0  1900.000000           1.0   \n",
       "25%             1.0         1.0         1.0  1961.000000           1.0   \n",
       "50%             1.0         1.0         1.0  1980.000000           2.0   \n",
       "75%             1.0         1.0         2.0  2002.000000           3.0   \n",
       "max             6.0         5.0         6.0  2010.000000           3.0   \n",
       "\n",
       "       GarageQual  GarageCond  \n",
       "count      1379.0      1379.0  \n",
       "mean     1.070341    1.059463  \n",
       "std      0.353478    0.341944  \n",
       "min           1.0         1.0  \n",
       "25%           1.0         1.0  \n",
       "50%           1.0         1.0  \n",
       "75%           1.0         1.0  \n",
       "max           5.0         5.0  "
      ]
     },
     "execution_count": 19,
     "metadata": {},
     "output_type": "execute_result"
    }
   ],
   "source": [
    "train_df[fill_list].describe()"
   ]
  },
  {
   "cell_type": "markdown",
   "id": "ed24e2fc",
   "metadata": {},
   "source": [
    "### it seems that Nan values of each attribute can be different as we can see in cell below. thats an issue when we want to impute cause the simple imputer of sklearn needs to know what type it is. we can make an observation that all the Nan values of categorical attributes have Nan value from pandas library but every Nan value from continuous attributes are from numpy library. this is important."
   ]
  },
  {
   "cell_type": "code",
   "execution_count": 20,
   "id": "a6de82cf",
   "metadata": {},
   "outputs": [
    {
     "name": "stdout",
     "output_type": "stream",
     "text": [
      "MasVnrArea ==> <class 'numpy.float64'>\n",
      "BsmtQual ==> <class 'pandas._libs.missing.NAType'>\n",
      "BsmtCond ==> <class 'pandas._libs.missing.NAType'>\n",
      "BsmtExposure ==> <class 'pandas._libs.missing.NAType'>\n",
      "BsmtFinType1 ==> <class 'pandas._libs.missing.NAType'>\n",
      "BsmtFinType2 ==> <class 'pandas._libs.missing.NAType'>\n",
      "Electrical ==> <class 'pandas._libs.missing.NAType'>\n",
      "GarageType ==> <class 'pandas._libs.missing.NAType'>\n",
      "GarageYrBlt ==> <class 'numpy.float64'>\n",
      "GarageFinish ==> <class 'pandas._libs.missing.NAType'>\n",
      "GarageQual ==> <class 'pandas._libs.missing.NAType'>\n",
      "GarageCond ==> <class 'pandas._libs.missing.NAType'>\n"
     ]
    }
   ],
   "source": [
    "for i in fill_list:\n",
    "    print(i , '==>' ,type(train_df[train_df[i].isna()][i].iloc[0])) # make a bool mask to find all Nan values and find type of first row"
   ]
  },
  {
   "cell_type": "markdown",
   "id": "3d565d9a",
   "metadata": {},
   "source": [
    "### and we create SimpleImputer object according to dtype of Nan values and the strategy that our attribute needs."
   ]
  },
  {
   "cell_type": "code",
   "execution_count": 21,
   "id": "1523c046",
   "metadata": {},
   "outputs": [],
   "source": [
    "np_mean_imputer = SimpleImputer(missing_values = np.nan , strategy = 'mean') # npfp64 stands for numpy.float64\n",
    "np_median_imputer = SimpleImputer(missing_values = np.nan , strategy = 'median')\n",
    "\n",
    "pd_mode_imputer = SimpleImputer(missing_values = pd.NA , strategy = 'most_frequent') # most_frequent is mode\n",
    "pd_median_impuer = SimpleImputer(missing_values = pd.NA , strategy = 'median')"
   ]
  },
  {
   "cell_type": "markdown",
   "id": "88905870",
   "metadata": {},
   "source": [
    "### now we impute them accordingly"
   ]
  },
  {
   "cell_type": "code",
   "execution_count": 22,
   "id": "400232e0",
   "metadata": {},
   "outputs": [],
   "source": [
    "nominal_list = ['BsmtExposure' , 'Electrical', 'GarageType' , 'GarageFinish']\n",
    "ordinal_list = ['BsmtQual' , 'BsmtCond' , 'GarageQual' , 'GarageCond' , 'BsmtFinType1' , 'BsmtFinType2']\n",
    "\n",
    "\n",
    "for i in train_continuous.index: # imputing all nominal attributes\n",
    "    if train_continuous.loc[i]['strategy'] == 'mean':\n",
    "        train_df[i] = np_mean_imputer.fit_transform(train_df[i].to_frame())\n",
    "    else:\n",
    "        train_df[i] = np_median_imputer.fit_transform(train_df[i].to_frame())\n",
    "\n",
    "\n",
    "for i in nominal_list: # imputing all nominal attributes\n",
    "    train_df[i] = pd_mode_imputer.fit_transform(train_df[i].to_frame())\n",
    "\n",
    "\n",
    "for i in ordinal_list: # imputing all ordinal attributes\n",
    "    train_df[i] = pd_median_impuer.fit_transform(train_df[i].to_frame())"
   ]
  },
  {
   "cell_type": "markdown",
   "id": "19a74789",
   "metadata": {},
   "source": [
    "# now we do the same for test data. clearing test from missing values and outliers\n",
    "***"
   ]
  },
  {
   "cell_type": "code",
   "execution_count": 23,
   "id": "a6f43eb1",
   "metadata": {},
   "outputs": [],
   "source": [
    "# filter Id column using iloc\n",
    "test_df , test_res = deal_with_outliers(dataframe = dropped_test.iloc[: , 1:]) # i used same dropped_train because i dont have to change every occurrence ik name might not make sense\n",
    "clear_output()"
   ]
  },
  {
   "cell_type": "code",
   "execution_count": 24,
   "id": "86217660",
   "metadata": {},
   "outputs": [
    {
     "name": "stdout",
     "output_type": "stream",
     "text": [
      "best strategy for continuous attributes:\n"
     ]
    },
    {
     "data": {
      "text/html": [
       "<div>\n",
       "<style scoped>\n",
       "    .dataframe tbody tr th:only-of-type {\n",
       "        vertical-align: middle;\n",
       "    }\n",
       "\n",
       "    .dataframe tbody tr th {\n",
       "        vertical-align: top;\n",
       "    }\n",
       "\n",
       "    .dataframe thead th {\n",
       "        text-align: right;\n",
       "    }\n",
       "</style>\n",
       "<table border=\"1\" class=\"dataframe\">\n",
       "  <thead>\n",
       "    <tr style=\"text-align: right;\">\n",
       "      <th></th>\n",
       "      <th>strategy</th>\n",
       "    </tr>\n",
       "  </thead>\n",
       "  <tbody>\n",
       "    <tr>\n",
       "      <th>MasVnrArea</th>\n",
       "      <td>median</td>\n",
       "    </tr>\n",
       "    <tr>\n",
       "      <th>BsmtFinSF1</th>\n",
       "      <td>mean</td>\n",
       "    </tr>\n",
       "    <tr>\n",
       "      <th>BsmtFinSF2</th>\n",
       "      <td>median</td>\n",
       "    </tr>\n",
       "    <tr>\n",
       "      <th>BsmtUnfSF</th>\n",
       "      <td>median</td>\n",
       "    </tr>\n",
       "    <tr>\n",
       "      <th>TotalBsmtSF</th>\n",
       "      <td>median</td>\n",
       "    </tr>\n",
       "    <tr>\n",
       "      <th>BsmtFullBath</th>\n",
       "      <td>mean</td>\n",
       "    </tr>\n",
       "    <tr>\n",
       "      <th>BsmtHalfBath</th>\n",
       "      <td>median</td>\n",
       "    </tr>\n",
       "    <tr>\n",
       "      <th>GarageYrBlt</th>\n",
       "      <td>mean</td>\n",
       "    </tr>\n",
       "    <tr>\n",
       "      <th>GarageCars</th>\n",
       "      <td>median</td>\n",
       "    </tr>\n",
       "    <tr>\n",
       "      <th>GarageArea</th>\n",
       "      <td>median</td>\n",
       "    </tr>\n",
       "  </tbody>\n",
       "</table>\n",
       "</div>"
      ],
      "text/plain": [
       "             strategy\n",
       "MasVnrArea     median\n",
       "BsmtFinSF1       mean\n",
       "BsmtFinSF2     median\n",
       "BsmtUnfSF      median\n",
       "TotalBsmtSF    median\n",
       "BsmtFullBath     mean\n",
       "BsmtHalfBath   median\n",
       "GarageYrBlt      mean\n",
       "GarageCars     median\n",
       "GarageArea     median"
      ]
     },
     "metadata": {},
     "output_type": "display_data"
    },
    {
     "name": "stdout",
     "output_type": "stream",
     "text": [
      "\n",
      "best strategy for categorical attributes:\n"
     ]
    },
    {
     "data": {
      "text/html": [
       "<div>\n",
       "<style scoped>\n",
       "    .dataframe tbody tr th:only-of-type {\n",
       "        vertical-align: middle;\n",
       "    }\n",
       "\n",
       "    .dataframe tbody tr th {\n",
       "        vertical-align: top;\n",
       "    }\n",
       "\n",
       "    .dataframe thead th {\n",
       "        text-align: right;\n",
       "    }\n",
       "</style>\n",
       "<table border=\"1\" class=\"dataframe\">\n",
       "  <thead>\n",
       "    <tr style=\"text-align: right;\">\n",
       "      <th></th>\n",
       "      <th>strategy</th>\n",
       "    </tr>\n",
       "  </thead>\n",
       "  <tbody>\n",
       "    <tr>\n",
       "      <th>MSZoning</th>\n",
       "      <td>categorical</td>\n",
       "    </tr>\n",
       "    <tr>\n",
       "      <th>Utilities</th>\n",
       "      <td>categorical</td>\n",
       "    </tr>\n",
       "    <tr>\n",
       "      <th>Exterior1st</th>\n",
       "      <td>categorical</td>\n",
       "    </tr>\n",
       "    <tr>\n",
       "      <th>Exterior2nd</th>\n",
       "      <td>categorical</td>\n",
       "    </tr>\n",
       "    <tr>\n",
       "      <th>BsmtQual</th>\n",
       "      <td>categorical</td>\n",
       "    </tr>\n",
       "    <tr>\n",
       "      <th>...</th>\n",
       "      <td>...</td>\n",
       "    </tr>\n",
       "    <tr>\n",
       "      <th>GarageType</th>\n",
       "      <td>categorical</td>\n",
       "    </tr>\n",
       "    <tr>\n",
       "      <th>GarageFinish</th>\n",
       "      <td>categorical</td>\n",
       "    </tr>\n",
       "    <tr>\n",
       "      <th>GarageQual</th>\n",
       "      <td>categorical</td>\n",
       "    </tr>\n",
       "    <tr>\n",
       "      <th>GarageCond</th>\n",
       "      <td>categorical</td>\n",
       "    </tr>\n",
       "    <tr>\n",
       "      <th>SaleType</th>\n",
       "      <td>categorical</td>\n",
       "    </tr>\n",
       "  </tbody>\n",
       "</table>\n",
       "<p>16 rows × 1 columns</p>\n",
       "</div>"
      ],
      "text/plain": [
       "                 strategy\n",
       "MSZoning      categorical\n",
       "Utilities     categorical\n",
       "Exterior1st   categorical\n",
       "Exterior2nd   categorical\n",
       "BsmtQual      categorical\n",
       "...                   ...\n",
       "GarageType    categorical\n",
       "GarageFinish  categorical\n",
       "GarageQual    categorical\n",
       "GarageCond    categorical\n",
       "SaleType      categorical\n",
       "\n",
       "[16 rows x 1 columns]"
      ]
     },
     "metadata": {},
     "output_type": "display_data"
    }
   ],
   "source": [
    "test_res = test_res.loc[test_fill_list]\n",
    "\n",
    "test_continuous_bmask = ((test_res['strategy'] == 'median') | (test_res['strategy'] == 'mean'))\n",
    "test_categorical_bmask = (test_res['strategy'] == 'categorical')\n",
    "\n",
    "test_continuous = test_res[test_continuous_bmask]\n",
    "test_categorical = test_res[test_categorical_bmask]\n",
    "\n",
    "print('best strategy for continuous attributes:')\n",
    "display(test_continuous)\n",
    "\n",
    "print('\\nbest strategy for categorical attributes:')\n",
    "display(test_categorical)"
   ]
  },
  {
   "cell_type": "markdown",
   "id": "35049e90",
   "metadata": {},
   "source": [
    "## and again, we label encode the categorical labels"
   ]
  },
  {
   "cell_type": "code",
   "execution_count": 25,
   "id": "8cde3a4b",
   "metadata": {},
   "outputs": [
    {
     "name": "stdout",
     "output_type": "stream",
     "text": [
      "do we have any non-numerical column is our test set now? False\n"
     ]
    },
    {
     "data": {
      "text/html": [
       "<div>\n",
       "<style scoped>\n",
       "    .dataframe tbody tr th:only-of-type {\n",
       "        vertical-align: middle;\n",
       "    }\n",
       "\n",
       "    .dataframe tbody tr th {\n",
       "        vertical-align: top;\n",
       "    }\n",
       "\n",
       "    .dataframe thead th {\n",
       "        text-align: right;\n",
       "    }\n",
       "</style>\n",
       "<table border=\"1\" class=\"dataframe\">\n",
       "  <thead>\n",
       "    <tr style=\"text-align: right;\">\n",
       "      <th></th>\n",
       "      <th>MSSubClass</th>\n",
       "      <th>MSZoning</th>\n",
       "      <th>LotArea</th>\n",
       "      <th>Street</th>\n",
       "      <th>LotShape</th>\n",
       "      <th>LandContour</th>\n",
       "      <th>Utilities</th>\n",
       "      <th>LotConfig</th>\n",
       "      <th>LandSlope</th>\n",
       "      <th>Neighborhood</th>\n",
       "      <th>...</th>\n",
       "      <th>OpenPorchSF</th>\n",
       "      <th>EnclosedPorch</th>\n",
       "      <th>3SsnPorch</th>\n",
       "      <th>ScreenPorch</th>\n",
       "      <th>PoolArea</th>\n",
       "      <th>MiscVal</th>\n",
       "      <th>MoSold</th>\n",
       "      <th>YrSold</th>\n",
       "      <th>SaleType</th>\n",
       "      <th>SaleCondition</th>\n",
       "    </tr>\n",
       "  </thead>\n",
       "  <tbody>\n",
       "    <tr>\n",
       "      <th>0</th>\n",
       "      <td>20.0</td>\n",
       "      <td>1</td>\n",
       "      <td>11622.0</td>\n",
       "      <td>1</td>\n",
       "      <td>1</td>\n",
       "      <td>1</td>\n",
       "      <td>1</td>\n",
       "      <td>1</td>\n",
       "      <td>1</td>\n",
       "      <td>1</td>\n",
       "      <td>...</td>\n",
       "      <td>0.0</td>\n",
       "      <td>0.0</td>\n",
       "      <td>0.0</td>\n",
       "      <td>120.0</td>\n",
       "      <td>0.0</td>\n",
       "      <td>0.000000</td>\n",
       "      <td>6</td>\n",
       "      <td>2010</td>\n",
       "      <td>1</td>\n",
       "      <td>1</td>\n",
       "    </tr>\n",
       "    <tr>\n",
       "      <th>1</th>\n",
       "      <td>20.0</td>\n",
       "      <td>2</td>\n",
       "      <td>14267.0</td>\n",
       "      <td>1</td>\n",
       "      <td>2</td>\n",
       "      <td>1</td>\n",
       "      <td>1</td>\n",
       "      <td>2</td>\n",
       "      <td>1</td>\n",
       "      <td>1</td>\n",
       "      <td>...</td>\n",
       "      <td>36.0</td>\n",
       "      <td>0.0</td>\n",
       "      <td>0.0</td>\n",
       "      <td>0.0</td>\n",
       "      <td>0.0</td>\n",
       "      <td>1950.588867</td>\n",
       "      <td>6</td>\n",
       "      <td>2010</td>\n",
       "      <td>1</td>\n",
       "      <td>1</td>\n",
       "    </tr>\n",
       "    <tr>\n",
       "      <th>2</th>\n",
       "      <td>60.0</td>\n",
       "      <td>2</td>\n",
       "      <td>13830.0</td>\n",
       "      <td>1</td>\n",
       "      <td>2</td>\n",
       "      <td>1</td>\n",
       "      <td>1</td>\n",
       "      <td>1</td>\n",
       "      <td>1</td>\n",
       "      <td>2</td>\n",
       "      <td>...</td>\n",
       "      <td>34.0</td>\n",
       "      <td>0.0</td>\n",
       "      <td>0.0</td>\n",
       "      <td>0.0</td>\n",
       "      <td>0.0</td>\n",
       "      <td>0.000000</td>\n",
       "      <td>3</td>\n",
       "      <td>2010</td>\n",
       "      <td>1</td>\n",
       "      <td>1</td>\n",
       "    </tr>\n",
       "    <tr>\n",
       "      <th>3</th>\n",
       "      <td>60.0</td>\n",
       "      <td>2</td>\n",
       "      <td>9978.0</td>\n",
       "      <td>1</td>\n",
       "      <td>2</td>\n",
       "      <td>1</td>\n",
       "      <td>1</td>\n",
       "      <td>1</td>\n",
       "      <td>1</td>\n",
       "      <td>2</td>\n",
       "      <td>...</td>\n",
       "      <td>36.0</td>\n",
       "      <td>0.0</td>\n",
       "      <td>0.0</td>\n",
       "      <td>0.0</td>\n",
       "      <td>0.0</td>\n",
       "      <td>0.000000</td>\n",
       "      <td>6</td>\n",
       "      <td>2010</td>\n",
       "      <td>1</td>\n",
       "      <td>1</td>\n",
       "    </tr>\n",
       "    <tr>\n",
       "      <th>4</th>\n",
       "      <td>120.0</td>\n",
       "      <td>2</td>\n",
       "      <td>5005.0</td>\n",
       "      <td>1</td>\n",
       "      <td>2</td>\n",
       "      <td>2</td>\n",
       "      <td>1</td>\n",
       "      <td>1</td>\n",
       "      <td>1</td>\n",
       "      <td>3</td>\n",
       "      <td>...</td>\n",
       "      <td>82.0</td>\n",
       "      <td>0.0</td>\n",
       "      <td>0.0</td>\n",
       "      <td>144.0</td>\n",
       "      <td>0.0</td>\n",
       "      <td>0.000000</td>\n",
       "      <td>1</td>\n",
       "      <td>2010</td>\n",
       "      <td>1</td>\n",
       "      <td>1</td>\n",
       "    </tr>\n",
       "    <tr>\n",
       "      <th>...</th>\n",
       "      <td>...</td>\n",
       "      <td>...</td>\n",
       "      <td>...</td>\n",
       "      <td>...</td>\n",
       "      <td>...</td>\n",
       "      <td>...</td>\n",
       "      <td>...</td>\n",
       "      <td>...</td>\n",
       "      <td>...</td>\n",
       "      <td>...</td>\n",
       "      <td>...</td>\n",
       "      <td>...</td>\n",
       "      <td>...</td>\n",
       "      <td>...</td>\n",
       "      <td>...</td>\n",
       "      <td>...</td>\n",
       "      <td>...</td>\n",
       "      <td>...</td>\n",
       "      <td>...</td>\n",
       "      <td>...</td>\n",
       "      <td>...</td>\n",
       "    </tr>\n",
       "    <tr>\n",
       "      <th>1454</th>\n",
       "      <td>160.0</td>\n",
       "      <td>3</td>\n",
       "      <td>1936.0</td>\n",
       "      <td>1</td>\n",
       "      <td>1</td>\n",
       "      <td>1</td>\n",
       "      <td>1</td>\n",
       "      <td>1</td>\n",
       "      <td>1</td>\n",
       "      <td>24</td>\n",
       "      <td>...</td>\n",
       "      <td>0.0</td>\n",
       "      <td>0.0</td>\n",
       "      <td>0.0</td>\n",
       "      <td>0.0</td>\n",
       "      <td>0.0</td>\n",
       "      <td>0.000000</td>\n",
       "      <td>6</td>\n",
       "      <td>2006</td>\n",
       "      <td>1</td>\n",
       "      <td>1</td>\n",
       "    </tr>\n",
       "    <tr>\n",
       "      <th>1455</th>\n",
       "      <td>160.0</td>\n",
       "      <td>3</td>\n",
       "      <td>1894.0</td>\n",
       "      <td>1</td>\n",
       "      <td>1</td>\n",
       "      <td>1</td>\n",
       "      <td>1</td>\n",
       "      <td>1</td>\n",
       "      <td>1</td>\n",
       "      <td>24</td>\n",
       "      <td>...</td>\n",
       "      <td>24.0</td>\n",
       "      <td>0.0</td>\n",
       "      <td>0.0</td>\n",
       "      <td>0.0</td>\n",
       "      <td>0.0</td>\n",
       "      <td>0.000000</td>\n",
       "      <td>4</td>\n",
       "      <td>2006</td>\n",
       "      <td>1</td>\n",
       "      <td>3</td>\n",
       "    </tr>\n",
       "    <tr>\n",
       "      <th>1456</th>\n",
       "      <td>20.0</td>\n",
       "      <td>2</td>\n",
       "      <td>20000.0</td>\n",
       "      <td>1</td>\n",
       "      <td>1</td>\n",
       "      <td>1</td>\n",
       "      <td>1</td>\n",
       "      <td>1</td>\n",
       "      <td>1</td>\n",
       "      <td>22</td>\n",
       "      <td>...</td>\n",
       "      <td>0.0</td>\n",
       "      <td>0.0</td>\n",
       "      <td>0.0</td>\n",
       "      <td>0.0</td>\n",
       "      <td>0.0</td>\n",
       "      <td>0.000000</td>\n",
       "      <td>9</td>\n",
       "      <td>2006</td>\n",
       "      <td>1</td>\n",
       "      <td>3</td>\n",
       "    </tr>\n",
       "    <tr>\n",
       "      <th>1457</th>\n",
       "      <td>85.0</td>\n",
       "      <td>2</td>\n",
       "      <td>10441.0</td>\n",
       "      <td>1</td>\n",
       "      <td>1</td>\n",
       "      <td>1</td>\n",
       "      <td>1</td>\n",
       "      <td>1</td>\n",
       "      <td>1</td>\n",
       "      <td>22</td>\n",
       "      <td>...</td>\n",
       "      <td>32.0</td>\n",
       "      <td>0.0</td>\n",
       "      <td>0.0</td>\n",
       "      <td>0.0</td>\n",
       "      <td>0.0</td>\n",
       "      <td>700.000000</td>\n",
       "      <td>7</td>\n",
       "      <td>2006</td>\n",
       "      <td>1</td>\n",
       "      <td>1</td>\n",
       "    </tr>\n",
       "    <tr>\n",
       "      <th>1458</th>\n",
       "      <td>60.0</td>\n",
       "      <td>2</td>\n",
       "      <td>9627.0</td>\n",
       "      <td>1</td>\n",
       "      <td>1</td>\n",
       "      <td>1</td>\n",
       "      <td>1</td>\n",
       "      <td>1</td>\n",
       "      <td>2</td>\n",
       "      <td>22</td>\n",
       "      <td>...</td>\n",
       "      <td>48.0</td>\n",
       "      <td>0.0</td>\n",
       "      <td>0.0</td>\n",
       "      <td>0.0</td>\n",
       "      <td>0.0</td>\n",
       "      <td>0.000000</td>\n",
       "      <td>11</td>\n",
       "      <td>2006</td>\n",
       "      <td>1</td>\n",
       "      <td>1</td>\n",
       "    </tr>\n",
       "  </tbody>\n",
       "</table>\n",
       "<p>1459 rows × 72 columns</p>\n",
       "</div>"
      ],
      "text/plain": [
       "      MSSubClass  MSZoning  LotArea  Street  LotShape  LandContour  Utilities  \\\n",
       "0           20.0         1  11622.0       1         1            1          1   \n",
       "1           20.0         2  14267.0       1         2            1          1   \n",
       "2           60.0         2  13830.0       1         2            1          1   \n",
       "3           60.0         2   9978.0       1         2            1          1   \n",
       "4          120.0         2   5005.0       1         2            2          1   \n",
       "...          ...       ...      ...     ...       ...          ...        ...   \n",
       "1454       160.0         3   1936.0       1         1            1          1   \n",
       "1455       160.0         3   1894.0       1         1            1          1   \n",
       "1456        20.0         2  20000.0       1         1            1          1   \n",
       "1457        85.0         2  10441.0       1         1            1          1   \n",
       "1458        60.0         2   9627.0       1         1            1          1   \n",
       "\n",
       "      LotConfig  LandSlope  Neighborhood  ...  OpenPorchSF  EnclosedPorch  \\\n",
       "0             1          1             1  ...          0.0            0.0   \n",
       "1             2          1             1  ...         36.0            0.0   \n",
       "2             1          1             2  ...         34.0            0.0   \n",
       "3             1          1             2  ...         36.0            0.0   \n",
       "4             1          1             3  ...         82.0            0.0   \n",
       "...         ...        ...           ...  ...          ...            ...   \n",
       "1454          1          1            24  ...          0.0            0.0   \n",
       "1455          1          1            24  ...         24.0            0.0   \n",
       "1456          1          1            22  ...          0.0            0.0   \n",
       "1457          1          1            22  ...         32.0            0.0   \n",
       "1458          1          2            22  ...         48.0            0.0   \n",
       "\n",
       "      3SsnPorch  ScreenPorch  PoolArea      MiscVal  MoSold  YrSold  SaleType  \\\n",
       "0           0.0        120.0       0.0     0.000000       6    2010         1   \n",
       "1           0.0          0.0       0.0  1950.588867       6    2010         1   \n",
       "2           0.0          0.0       0.0     0.000000       3    2010         1   \n",
       "3           0.0          0.0       0.0     0.000000       6    2010         1   \n",
       "4           0.0        144.0       0.0     0.000000       1    2010         1   \n",
       "...         ...          ...       ...          ...     ...     ...       ...   \n",
       "1454        0.0          0.0       0.0     0.000000       6    2006         1   \n",
       "1455        0.0          0.0       0.0     0.000000       4    2006         1   \n",
       "1456        0.0          0.0       0.0     0.000000       9    2006         1   \n",
       "1457        0.0          0.0       0.0   700.000000       7    2006         1   \n",
       "1458        0.0          0.0       0.0     0.000000      11    2006         1   \n",
       "\n",
       "      SaleCondition  \n",
       "0                 1  \n",
       "1                 1  \n",
       "2                 1  \n",
       "3                 1  \n",
       "4                 1  \n",
       "...             ...  \n",
       "1454              1  \n",
       "1455              3  \n",
       "1456              3  \n",
       "1457              1  \n",
       "1458              1  \n",
       "\n",
       "[1459 rows x 72 columns]"
      ]
     },
     "metadata": {},
     "output_type": "display_data"
    }
   ],
   "source": [
    "test_str2num_list = list(test_df.select_dtypes(include = 'string').columns) # names of all str columns\n",
    "for i in test_str2num_list:\n",
    "    test_df[i] = str_to_num(test_df[i])\n",
    "\n",
    "test_attributes_dtypes = test_df.dtypes\n",
    "print(\"do we have any non-numerical column is our test set now? \" + str(('str' in test_attributes_dtypes) and ('object' in test_attributes_dtypes)))\n",
    "\n",
    "display(test_df)"
   ]
  },
  {
   "cell_type": "markdown",
   "id": "379649eb",
   "metadata": {},
   "source": [
    "## now we need to find out which categorical is nominal and which one is ordinal and we gotta make our hands dirty\n",
    "\n",
    "#### and it seems that `MSZoning` , `Utilities` , `Exterior1st` , `Exterior2nd` , `GarageType` , `GarageFinish` and `SaleType` are nominal and `BsmtQual` , `BsmtCond` , `BsmtExposure` , `BsmtFinType1` , `BsmtFinType2` , `KitchenQual` , `Functional` , `GarageQual` and `GarageCond` are ordinal."
   ]
  },
  {
   "cell_type": "code",
   "execution_count": 26,
   "id": "a2fb85ed",
   "metadata": {},
   "outputs": [
    {
     "data": {
      "text/plain": [
       "Index(['MSZoning', 'Utilities', 'Exterior1st', 'Exterior2nd', 'BsmtQual',\n",
       "       'BsmtCond', 'BsmtExposure', 'BsmtFinType1', 'BsmtFinType2',\n",
       "       'KitchenQual', 'Functional', 'GarageType', 'GarageFinish', 'GarageQual',\n",
       "       'GarageCond', 'SaleType'],\n",
       "      dtype='object')"
      ]
     },
     "execution_count": 26,
     "metadata": {},
     "output_type": "execute_result"
    }
   ],
   "source": [
    "test_categorical.index"
   ]
  },
  {
   "cell_type": "markdown",
   "id": "2d67a496",
   "metadata": {},
   "source": [
    "## and again. we need to know what kind of Nan values they are"
   ]
  },
  {
   "cell_type": "code",
   "execution_count": 27,
   "id": "6c562271",
   "metadata": {},
   "outputs": [
    {
     "name": "stdout",
     "output_type": "stream",
     "text": [
      "MSZoning ==> <class 'pandas._libs.missing.NAType'>\n",
      "Utilities ==> <class 'pandas._libs.missing.NAType'>\n",
      "Exterior1st ==> <class 'pandas._libs.missing.NAType'>\n",
      "Exterior2nd ==> <class 'pandas._libs.missing.NAType'>\n",
      "MasVnrArea ==> <class 'numpy.float64'>\n",
      "BsmtQual ==> <class 'pandas._libs.missing.NAType'>\n",
      "BsmtCond ==> <class 'pandas._libs.missing.NAType'>\n",
      "BsmtExposure ==> <class 'pandas._libs.missing.NAType'>\n",
      "BsmtFinType1 ==> <class 'pandas._libs.missing.NAType'>\n",
      "BsmtFinSF1 ==> <class 'numpy.float64'>\n",
      "BsmtFinType2 ==> <class 'pandas._libs.missing.NAType'>\n",
      "BsmtFinSF2 ==> <class 'numpy.float64'>\n",
      "BsmtUnfSF ==> <class 'numpy.float64'>\n",
      "TotalBsmtSF ==> <class 'numpy.float64'>\n",
      "BsmtFullBath ==> <class 'numpy.float64'>\n",
      "BsmtHalfBath ==> <class 'numpy.float64'>\n",
      "KitchenQual ==> <class 'pandas._libs.missing.NAType'>\n",
      "Functional ==> <class 'pandas._libs.missing.NAType'>\n",
      "GarageType ==> <class 'pandas._libs.missing.NAType'>\n",
      "GarageYrBlt ==> <class 'numpy.float64'>\n",
      "GarageFinish ==> <class 'pandas._libs.missing.NAType'>\n",
      "GarageCars ==> <class 'numpy.float64'>\n",
      "GarageArea ==> <class 'numpy.float64'>\n",
      "GarageQual ==> <class 'pandas._libs.missing.NAType'>\n",
      "GarageCond ==> <class 'pandas._libs.missing.NAType'>\n",
      "SaleType ==> <class 'pandas._libs.missing.NAType'>\n"
     ]
    }
   ],
   "source": [
    "for i in test_fill_list:\n",
    "        print(i , '==>' ,type(test_df[test_df[i].isna()][i].iloc[0])) # make a bool mask to find all Nan values and find type of first row"
   ]
  },
  {
   "cell_type": "markdown",
   "id": "155138d2",
   "metadata": {},
   "source": [
    "## and then we go imputing!"
   ]
  },
  {
   "cell_type": "code",
   "execution_count": 28,
   "id": "c44aba18",
   "metadata": {},
   "outputs": [],
   "source": [
    "test_nominal_list = ['MSZoning' , 'Utilities' , 'Exterior1st' , 'Exterior2nd' , 'GarageType' , 'GarageFinish' , 'SaleType']\n",
    "test_ordinal_list = ['BsmtQual' , 'BsmtCond' , 'BsmtExposure' , 'BsmtFinType1' , 'BsmtFinType2' , 'KitchenQual' , 'Functional' , 'GarageQual' , 'GarageCond']\n",
    "\n",
    "\n",
    "for i in test_continuous.index: # imputing all nominal attributes\n",
    "    if test_continuous.loc[i]['strategy'] == 'mean':\n",
    "        test_df[i] = np_mean_imputer.fit_transform(test_df[i].to_frame())\n",
    "    else:\n",
    "        test_df[i] = np_median_imputer.fit_transform(test_df[i].to_frame())\n",
    "\n",
    "\n",
    "for i in test_nominal_list: # imputing all nominal attributes\n",
    "    test_df[i] = pd_mode_imputer.fit_transform(test_df[i].to_frame())\n",
    "\n",
    "\n",
    "for i in test_ordinal_list: # imputing all ordinal attributes\n",
    "    test_df[i] = pd_median_impuer.fit_transform(test_df[i].to_frame())"
   ]
  },
  {
   "cell_type": "markdown",
   "id": "39395685",
   "metadata": {},
   "source": [
    "## Feature selection\n",
    "***"
   ]
  },
  {
   "cell_type": "markdown",
   "id": "df1742bb",
   "metadata": {},
   "source": [
    "##### now we need to do some feature selection. cuz our task is regression we go by OLS but since we have categorical attribues (which we encoded them) the p-values of OLS for categorical attribues are not reliabel so we take a hybrid approach. we separate categorical attribues and numerical ones and we find good numerical attribues with OLS and good categorical attribues with ANOVA f-value. for separating we use `train` that has original dtypes and find categorical attribues using that dataframe and we remove names of attribues in `drop_list` because we dropped all those attribues."
   ]
  },
  {
   "cell_type": "code",
   "execution_count": 29,
   "id": "127232e3",
   "metadata": {},
   "outputs": [],
   "source": [
    "str_list = train.select_dtypes('string').columns\n",
    "num_list = train.select_dtypes('number').columns.drop('Id')\n",
    "\n",
    "categorical_list = [cat_name for cat_name in str_list if cat_name not in drop_list]\n",
    "numerical_list = [num_name for num_name in num_list if num_name not in drop_list]\n",
    "\n",
    "categorical = train_df[categorical_list]\n",
    "numerical = train_df[numerical_list]"
   ]
  },
  {
   "cell_type": "markdown",
   "id": "d1f52c14",
   "metadata": {},
   "source": [
    "##### now that we separated we apply OLS for `numerical` and ANOVA f-value for categorical. its important to note that `id` and `SalePrice` attribue is inside `numerical`. `SalePrice` is our target which we need for both OLS and ANOVA f-value. and we need to drop `id` and `SalePrice` from `numerical` because one is useless for training and one is our target."
   ]
  },
  {
   "cell_type": "code",
   "execution_count": 30,
   "id": "cf62970c",
   "metadata": {},
   "outputs": [
    {
     "data": {
      "text/html": [
       "<table class=\"simpletable\">\n",
       "<caption>OLS Regression Results</caption>\n",
       "<tr>\n",
       "  <th>Dep. Variable:</th>        <td>SalePrice</td>    <th>  R-squared:         </th> <td>   0.866</td> \n",
       "</tr>\n",
       "<tr>\n",
       "  <th>Model:</th>                   <td>OLS</td>       <th>  Adj. R-squared:    </th> <td>   0.862</td> \n",
       "</tr>\n",
       "<tr>\n",
       "  <th>Method:</th>             <td>Least Squares</td>  <th>  F-statistic:       </th> <td>   262.3</td> \n",
       "</tr>\n",
       "<tr>\n",
       "  <th>Date:</th>             <td>Sat, 02 Aug 2025</td> <th>  Prob (F-statistic):</th>  <td>  0.00</td>  \n",
       "</tr>\n",
       "<tr>\n",
       "  <th>Time:</th>                 <td>22:23:01</td>     <th>  Log-Likelihood:    </th> <td> -16960.</td> \n",
       "</tr>\n",
       "<tr>\n",
       "  <th>No. Observations:</th>      <td>  1460</td>      <th>  AIC:               </th> <td>3.399e+04</td>\n",
       "</tr>\n",
       "<tr>\n",
       "  <th>Df Residuals:</th>          <td>  1424</td>      <th>  BIC:               </th> <td>3.418e+04</td>\n",
       "</tr>\n",
       "<tr>\n",
       "  <th>Df Model:</th>              <td>    35</td>      <th>                     </th>     <td> </td>    \n",
       "</tr>\n",
       "<tr>\n",
       "  <th>Covariance Type:</th>      <td>nonrobust</td>    <th>                     </th>     <td> </td>    \n",
       "</tr>\n",
       "</table>\n",
       "<table class=\"simpletable\">\n",
       "<tr>\n",
       "        <td></td>           <th>coef</th>     <th>std err</th>      <th>t</th>      <th>P>|t|</th>  <th>[0.025</th>    <th>0.975]</th>  \n",
       "</tr>\n",
       "<tr>\n",
       "  <th>const</th>         <td> 1.333e+05</td> <td> 1.11e+06</td> <td>    0.120</td> <td> 0.904</td> <td>-2.04e+06</td> <td> 2.31e+06</td>\n",
       "</tr>\n",
       "<tr>\n",
       "  <th>MSSubClass</th>    <td> -116.6245</td> <td>   21.614</td> <td>   -5.396</td> <td> 0.000</td> <td> -159.023</td> <td>  -74.226</td>\n",
       "</tr>\n",
       "<tr>\n",
       "  <th>LotArea</th>       <td>    0.8066</td> <td>    0.167</td> <td>    4.839</td> <td> 0.000</td> <td>    0.480</td> <td>    1.134</td>\n",
       "</tr>\n",
       "<tr>\n",
       "  <th>OverallQual</th>   <td> 1.504e+04</td> <td>  939.912</td> <td>   15.999</td> <td> 0.000</td> <td> 1.32e+04</td> <td> 1.69e+04</td>\n",
       "</tr>\n",
       "<tr>\n",
       "  <th>OverallCond</th>   <td> 4967.3414</td> <td>  783.006</td> <td>    6.344</td> <td> 0.000</td> <td> 3431.372</td> <td> 6503.310</td>\n",
       "</tr>\n",
       "<tr>\n",
       "  <th>YearBuilt</th>     <td>  294.1682</td> <td>   52.979</td> <td>    5.552</td> <td> 0.000</td> <td>  190.242</td> <td>  398.094</td>\n",
       "</tr>\n",
       "<tr>\n",
       "  <th>YearRemodAdd</th>  <td>  166.4609</td> <td>   53.860</td> <td>    3.091</td> <td> 0.002</td> <td>   60.807</td> <td>  272.115</td>\n",
       "</tr>\n",
       "<tr>\n",
       "  <th>MasVnrArea</th>    <td>   17.4383</td> <td>    5.288</td> <td>    3.298</td> <td> 0.001</td> <td>    7.066</td> <td>   27.811</td>\n",
       "</tr>\n",
       "<tr>\n",
       "  <th>BsmtFinSF1</th>    <td>   16.2555</td> <td>   10.359</td> <td>    1.569</td> <td> 0.117</td> <td>   -4.065</td> <td>   36.576</td>\n",
       "</tr>\n",
       "<tr>\n",
       "  <th>BsmtFinSF2</th>    <td>   -3.7683</td> <td>   14.108</td> <td>   -0.267</td> <td> 0.789</td> <td>  -31.442</td> <td>   23.906</td>\n",
       "</tr>\n",
       "<tr>\n",
       "  <th>BsmtUnfSF</th>     <td>   -0.7455</td> <td>   10.534</td> <td>   -0.071</td> <td> 0.944</td> <td>  -21.409</td> <td>   19.918</td>\n",
       "</tr>\n",
       "<tr>\n",
       "  <th>TotalBsmtSF</th>   <td>   14.4844</td> <td>    9.719</td> <td>    1.490</td> <td> 0.136</td> <td>   -4.581</td> <td>   33.550</td>\n",
       "</tr>\n",
       "<tr>\n",
       "  <th>1stFlrSF</th>      <td>  -26.4969</td> <td>   13.454</td> <td>   -1.969</td> <td> 0.049</td> <td>  -52.888</td> <td>   -0.106</td>\n",
       "</tr>\n",
       "<tr>\n",
       "  <th>2ndFlrSF</th>      <td>  -28.3560</td> <td>   12.899</td> <td>   -2.198</td> <td> 0.028</td> <td>  -53.659</td> <td>   -3.053</td>\n",
       "</tr>\n",
       "<tr>\n",
       "  <th>LowQualFinSF</th>  <td> -170.6549</td> <td>   50.575</td> <td>   -3.374</td> <td> 0.001</td> <td> -269.865</td> <td>  -71.445</td>\n",
       "</tr>\n",
       "<tr>\n",
       "  <th>GrLivArea</th>     <td>   85.9490</td> <td>   13.381</td> <td>    6.423</td> <td> 0.000</td> <td>   59.700</td> <td>  112.198</td>\n",
       "</tr>\n",
       "<tr>\n",
       "  <th>BsmtFullBath</th>  <td> 3751.9599</td> <td> 2088.963</td> <td>    1.796</td> <td> 0.073</td> <td> -345.815</td> <td> 7849.735</td>\n",
       "</tr>\n",
       "<tr>\n",
       "  <th>BsmtHalfBath</th>  <td>-4554.3890</td> <td> 4324.682</td> <td>   -1.053</td> <td> 0.292</td> <td> -1.3e+04</td> <td> 3929.043</td>\n",
       "</tr>\n",
       "<tr>\n",
       "  <th>FullBath</th>      <td> -753.1155</td> <td> 2227.605</td> <td>   -0.338</td> <td> 0.735</td> <td>-5122.855</td> <td> 3616.624</td>\n",
       "</tr>\n",
       "<tr>\n",
       "  <th>HalfBath</th>      <td>-2571.5690</td> <td> 2100.961</td> <td>   -1.224</td> <td> 0.221</td> <td>-6692.880</td> <td> 1549.742</td>\n",
       "</tr>\n",
       "<tr>\n",
       "  <th>BedroomAbvGr</th>  <td>-8410.2531</td> <td> 1370.615</td> <td>   -6.136</td> <td> 0.000</td> <td>-1.11e+04</td> <td>-5721.612</td>\n",
       "</tr>\n",
       "<tr>\n",
       "  <th>KitchenAbvGr</th>  <td>-1.892e+04</td> <td> 6044.313</td> <td>   -3.131</td> <td> 0.002</td> <td>-3.08e+04</td> <td>-7066.828</td>\n",
       "</tr>\n",
       "<tr>\n",
       "  <th>TotRmsAbvGrd</th>  <td> 2070.5390</td> <td>  977.187</td> <td>    2.119</td> <td> 0.034</td> <td>  153.658</td> <td> 3987.420</td>\n",
       "</tr>\n",
       "<tr>\n",
       "  <th>Fireplaces</th>    <td> 3566.1639</td> <td> 1410.542</td> <td>    2.528</td> <td> 0.012</td> <td>  799.201</td> <td> 6333.127</td>\n",
       "</tr>\n",
       "<tr>\n",
       "  <th>GarageYrBlt</th>   <td>  128.7265</td> <td>   54.656</td> <td>    2.355</td> <td> 0.019</td> <td>   21.512</td> <td>  235.941</td>\n",
       "</tr>\n",
       "<tr>\n",
       "  <th>GarageCars</th>    <td> 7509.7374</td> <td> 2278.704</td> <td>    3.296</td> <td> 0.001</td> <td> 3039.760</td> <td>  1.2e+04</td>\n",
       "</tr>\n",
       "<tr>\n",
       "  <th>GarageArea</th>    <td>    5.3703</td> <td>    7.991</td> <td>    0.672</td> <td> 0.502</td> <td>  -10.305</td> <td>   21.045</td>\n",
       "</tr>\n",
       "<tr>\n",
       "  <th>WoodDeckSF</th>    <td>   20.0419</td> <td>    6.621</td> <td>    3.027</td> <td> 0.003</td> <td>    7.054</td> <td>   33.030</td>\n",
       "</tr>\n",
       "<tr>\n",
       "  <th>OpenPorchSF</th>   <td>   15.7590</td> <td>   13.215</td> <td>    1.193</td> <td> 0.233</td> <td>  -10.163</td> <td>   41.681</td>\n",
       "</tr>\n",
       "<tr>\n",
       "  <th>EnclosedPorch</th> <td>   11.5355</td> <td>   15.030</td> <td>    0.768</td> <td> 0.443</td> <td>  -17.947</td> <td>   41.018</td>\n",
       "</tr>\n",
       "<tr>\n",
       "  <th>3SsnPorch</th>     <td>   72.8210</td> <td>   63.386</td> <td>    1.149</td> <td> 0.251</td> <td>  -51.519</td> <td>  197.161</td>\n",
       "</tr>\n",
       "<tr>\n",
       "  <th>ScreenPorch</th>   <td>   40.3422</td> <td>   17.093</td> <td>    2.360</td> <td> 0.018</td> <td>    6.813</td> <td>   73.872</td>\n",
       "</tr>\n",
       "<tr>\n",
       "  <th>PoolArea</th>      <td> -280.8542</td> <td>   87.744</td> <td>   -3.201</td> <td> 0.001</td> <td> -452.975</td> <td> -108.734</td>\n",
       "</tr>\n",
       "<tr>\n",
       "  <th>MiscVal</th>       <td>   -1.7007</td> <td>    4.631</td> <td>   -0.367</td> <td> 0.713</td> <td>  -10.785</td> <td>    7.384</td>\n",
       "</tr>\n",
       "<tr>\n",
       "  <th>MoSold</th>        <td>  177.8418</td> <td>  269.605</td> <td>    0.660</td> <td> 0.510</td> <td> -351.023</td> <td>  706.707</td>\n",
       "</tr>\n",
       "<tr>\n",
       "  <th>YrSold</th>        <td> -668.9976</td> <td>  550.240</td> <td>   -1.216</td> <td> 0.224</td> <td>-1748.365</td> <td>  410.370</td>\n",
       "</tr>\n",
       "</table>\n",
       "<table class=\"simpletable\">\n",
       "<tr>\n",
       "  <th>Omnibus:</th>       <td>374.149</td> <th>  Durbin-Watson:     </th> <td>   2.012</td>\n",
       "</tr>\n",
       "<tr>\n",
       "  <th>Prob(Omnibus):</th> <td> 0.000</td>  <th>  Jarque-Bera (JB):  </th> <td>8492.747</td>\n",
       "</tr>\n",
       "<tr>\n",
       "  <th>Skew:</th>          <td>-0.633</td>  <th>  Prob(JB):          </th> <td>    0.00</td>\n",
       "</tr>\n",
       "<tr>\n",
       "  <th>Kurtosis:</th>      <td>14.747</td>  <th>  Cond. No.          </th> <td>1.89e+07</td>\n",
       "</tr>\n",
       "</table><br/><br/>Notes:<br/>[1] Standard Errors assume that the covariance matrix of the errors is correctly specified.<br/>[2] The condition number is large, 1.89e+07. This might indicate that there are<br/>strong multicollinearity or other numerical problems."
      ],
      "text/latex": [
       "\\begin{center}\n",
       "\\begin{tabular}{lclc}\n",
       "\\toprule\n",
       "\\textbf{Dep. Variable:}    &    SalePrice     & \\textbf{  R-squared:         } &     0.866   \\\\\n",
       "\\textbf{Model:}            &       OLS        & \\textbf{  Adj. R-squared:    } &     0.862   \\\\\n",
       "\\textbf{Method:}           &  Least Squares   & \\textbf{  F-statistic:       } &     262.3   \\\\\n",
       "\\textbf{Date:}             & Sat, 02 Aug 2025 & \\textbf{  Prob (F-statistic):} &     0.00    \\\\\n",
       "\\textbf{Time:}             &     22:23:01     & \\textbf{  Log-Likelihood:    } &   -16960.   \\\\\n",
       "\\textbf{No. Observations:} &        1460      & \\textbf{  AIC:               } & 3.399e+04   \\\\\n",
       "\\textbf{Df Residuals:}     &        1424      & \\textbf{  BIC:               } & 3.418e+04   \\\\\n",
       "\\textbf{Df Model:}         &          35      & \\textbf{                     } &             \\\\\n",
       "\\textbf{Covariance Type:}  &    nonrobust     & \\textbf{                     } &             \\\\\n",
       "\\bottomrule\n",
       "\\end{tabular}\n",
       "\\begin{tabular}{lcccccc}\n",
       "                       & \\textbf{coef} & \\textbf{std err} & \\textbf{t} & \\textbf{P$> |$t$|$} & \\textbf{[0.025} & \\textbf{0.975]}  \\\\\n",
       "\\midrule\n",
       "\\textbf{const}         &    1.333e+05  &     1.11e+06     &     0.120  &         0.904        &    -2.04e+06    &     2.31e+06     \\\\\n",
       "\\textbf{MSSubClass}    &    -116.6245  &       21.614     &    -5.396  &         0.000        &     -159.023    &      -74.226     \\\\\n",
       "\\textbf{LotArea}       &       0.8066  &        0.167     &     4.839  &         0.000        &        0.480    &        1.134     \\\\\n",
       "\\textbf{OverallQual}   &    1.504e+04  &      939.912     &    15.999  &         0.000        &     1.32e+04    &     1.69e+04     \\\\\n",
       "\\textbf{OverallCond}   &    4967.3414  &      783.006     &     6.344  &         0.000        &     3431.372    &     6503.310     \\\\\n",
       "\\textbf{YearBuilt}     &     294.1682  &       52.979     &     5.552  &         0.000        &      190.242    &      398.094     \\\\\n",
       "\\textbf{YearRemodAdd}  &     166.4609  &       53.860     &     3.091  &         0.002        &       60.807    &      272.115     \\\\\n",
       "\\textbf{MasVnrArea}    &      17.4383  &        5.288     &     3.298  &         0.001        &        7.066    &       27.811     \\\\\n",
       "\\textbf{BsmtFinSF1}    &      16.2555  &       10.359     &     1.569  &         0.117        &       -4.065    &       36.576     \\\\\n",
       "\\textbf{BsmtFinSF2}    &      -3.7683  &       14.108     &    -0.267  &         0.789        &      -31.442    &       23.906     \\\\\n",
       "\\textbf{BsmtUnfSF}     &      -0.7455  &       10.534     &    -0.071  &         0.944        &      -21.409    &       19.918     \\\\\n",
       "\\textbf{TotalBsmtSF}   &      14.4844  &        9.719     &     1.490  &         0.136        &       -4.581    &       33.550     \\\\\n",
       "\\textbf{1stFlrSF}      &     -26.4969  &       13.454     &    -1.969  &         0.049        &      -52.888    &       -0.106     \\\\\n",
       "\\textbf{2ndFlrSF}      &     -28.3560  &       12.899     &    -2.198  &         0.028        &      -53.659    &       -3.053     \\\\\n",
       "\\textbf{LowQualFinSF}  &    -170.6549  &       50.575     &    -3.374  &         0.001        &     -269.865    &      -71.445     \\\\\n",
       "\\textbf{GrLivArea}     &      85.9490  &       13.381     &     6.423  &         0.000        &       59.700    &      112.198     \\\\\n",
       "\\textbf{BsmtFullBath}  &    3751.9599  &     2088.963     &     1.796  &         0.073        &     -345.815    &     7849.735     \\\\\n",
       "\\textbf{BsmtHalfBath}  &   -4554.3890  &     4324.682     &    -1.053  &         0.292        &     -1.3e+04    &     3929.043     \\\\\n",
       "\\textbf{FullBath}      &    -753.1155  &     2227.605     &    -0.338  &         0.735        &    -5122.855    &     3616.624     \\\\\n",
       "\\textbf{HalfBath}      &   -2571.5690  &     2100.961     &    -1.224  &         0.221        &    -6692.880    &     1549.742     \\\\\n",
       "\\textbf{BedroomAbvGr}  &   -8410.2531  &     1370.615     &    -6.136  &         0.000        &    -1.11e+04    &    -5721.612     \\\\\n",
       "\\textbf{KitchenAbvGr}  &   -1.892e+04  &     6044.313     &    -3.131  &         0.002        &    -3.08e+04    &    -7066.828     \\\\\n",
       "\\textbf{TotRmsAbvGrd}  &    2070.5390  &      977.187     &     2.119  &         0.034        &      153.658    &     3987.420     \\\\\n",
       "\\textbf{Fireplaces}    &    3566.1639  &     1410.542     &     2.528  &         0.012        &      799.201    &     6333.127     \\\\\n",
       "\\textbf{GarageYrBlt}   &     128.7265  &       54.656     &     2.355  &         0.019        &       21.512    &      235.941     \\\\\n",
       "\\textbf{GarageCars}    &    7509.7374  &     2278.704     &     3.296  &         0.001        &     3039.760    &      1.2e+04     \\\\\n",
       "\\textbf{GarageArea}    &       5.3703  &        7.991     &     0.672  &         0.502        &      -10.305    &       21.045     \\\\\n",
       "\\textbf{WoodDeckSF}    &      20.0419  &        6.621     &     3.027  &         0.003        &        7.054    &       33.030     \\\\\n",
       "\\textbf{OpenPorchSF}   &      15.7590  &       13.215     &     1.193  &         0.233        &      -10.163    &       41.681     \\\\\n",
       "\\textbf{EnclosedPorch} &      11.5355  &       15.030     &     0.768  &         0.443        &      -17.947    &       41.018     \\\\\n",
       "\\textbf{3SsnPorch}     &      72.8210  &       63.386     &     1.149  &         0.251        &      -51.519    &      197.161     \\\\\n",
       "\\textbf{ScreenPorch}   &      40.3422  &       17.093     &     2.360  &         0.018        &        6.813    &       73.872     \\\\\n",
       "\\textbf{PoolArea}      &    -280.8542  &       87.744     &    -3.201  &         0.001        &     -452.975    &     -108.734     \\\\\n",
       "\\textbf{MiscVal}       &      -1.7007  &        4.631     &    -0.367  &         0.713        &      -10.785    &        7.384     \\\\\n",
       "\\textbf{MoSold}        &     177.8418  &      269.605     &     0.660  &         0.510        &     -351.023    &      706.707     \\\\\n",
       "\\textbf{YrSold}        &    -668.9976  &      550.240     &    -1.216  &         0.224        &    -1748.365    &      410.370     \\\\\n",
       "\\bottomrule\n",
       "\\end{tabular}\n",
       "\\begin{tabular}{lclc}\n",
       "\\textbf{Omnibus:}       & 374.149 & \\textbf{  Durbin-Watson:     } &    2.012  \\\\\n",
       "\\textbf{Prob(Omnibus):} &   0.000 & \\textbf{  Jarque-Bera (JB):  } & 8492.747  \\\\\n",
       "\\textbf{Skew:}          &  -0.633 & \\textbf{  Prob(JB):          } &     0.00  \\\\\n",
       "\\textbf{Kurtosis:}      &  14.747 & \\textbf{  Cond. No.          } & 1.89e+07  \\\\\n",
       "\\bottomrule\n",
       "\\end{tabular}\n",
       "%\\caption{OLS Regression Results}\n",
       "\\end{center}\n",
       "\n",
       "Notes: \\newline\n",
       " [1] Standard Errors assume that the covariance matrix of the errors is correctly specified. \\newline\n",
       " [2] The condition number is large, 1.89e+07. This might indicate that there are \\newline\n",
       " strong multicollinearity or other numerical problems."
      ],
      "text/plain": [
       "<class 'statsmodels.iolib.summary.Summary'>\n",
       "\"\"\"\n",
       "                            OLS Regression Results                            \n",
       "==============================================================================\n",
       "Dep. Variable:              SalePrice   R-squared:                       0.866\n",
       "Model:                            OLS   Adj. R-squared:                  0.862\n",
       "Method:                 Least Squares   F-statistic:                     262.3\n",
       "Date:                Sat, 02 Aug 2025   Prob (F-statistic):               0.00\n",
       "Time:                        22:23:01   Log-Likelihood:                -16960.\n",
       "No. Observations:                1460   AIC:                         3.399e+04\n",
       "Df Residuals:                    1424   BIC:                         3.418e+04\n",
       "Df Model:                          35                                         \n",
       "Covariance Type:            nonrobust                                         \n",
       "=================================================================================\n",
       "                    coef    std err          t      P>|t|      [0.025      0.975]\n",
       "---------------------------------------------------------------------------------\n",
       "const          1.333e+05   1.11e+06      0.120      0.904   -2.04e+06    2.31e+06\n",
       "MSSubClass     -116.6245     21.614     -5.396      0.000    -159.023     -74.226\n",
       "LotArea           0.8066      0.167      4.839      0.000       0.480       1.134\n",
       "OverallQual    1.504e+04    939.912     15.999      0.000    1.32e+04    1.69e+04\n",
       "OverallCond    4967.3414    783.006      6.344      0.000    3431.372    6503.310\n",
       "YearBuilt       294.1682     52.979      5.552      0.000     190.242     398.094\n",
       "YearRemodAdd    166.4609     53.860      3.091      0.002      60.807     272.115\n",
       "MasVnrArea       17.4383      5.288      3.298      0.001       7.066      27.811\n",
       "BsmtFinSF1       16.2555     10.359      1.569      0.117      -4.065      36.576\n",
       "BsmtFinSF2       -3.7683     14.108     -0.267      0.789     -31.442      23.906\n",
       "BsmtUnfSF        -0.7455     10.534     -0.071      0.944     -21.409      19.918\n",
       "TotalBsmtSF      14.4844      9.719      1.490      0.136      -4.581      33.550\n",
       "1stFlrSF        -26.4969     13.454     -1.969      0.049     -52.888      -0.106\n",
       "2ndFlrSF        -28.3560     12.899     -2.198      0.028     -53.659      -3.053\n",
       "LowQualFinSF   -170.6549     50.575     -3.374      0.001    -269.865     -71.445\n",
       "GrLivArea        85.9490     13.381      6.423      0.000      59.700     112.198\n",
       "BsmtFullBath   3751.9599   2088.963      1.796      0.073    -345.815    7849.735\n",
       "BsmtHalfBath  -4554.3890   4324.682     -1.053      0.292    -1.3e+04    3929.043\n",
       "FullBath       -753.1155   2227.605     -0.338      0.735   -5122.855    3616.624\n",
       "HalfBath      -2571.5690   2100.961     -1.224      0.221   -6692.880    1549.742\n",
       "BedroomAbvGr  -8410.2531   1370.615     -6.136      0.000   -1.11e+04   -5721.612\n",
       "KitchenAbvGr  -1.892e+04   6044.313     -3.131      0.002   -3.08e+04   -7066.828\n",
       "TotRmsAbvGrd   2070.5390    977.187      2.119      0.034     153.658    3987.420\n",
       "Fireplaces     3566.1639   1410.542      2.528      0.012     799.201    6333.127\n",
       "GarageYrBlt     128.7265     54.656      2.355      0.019      21.512     235.941\n",
       "GarageCars     7509.7374   2278.704      3.296      0.001    3039.760     1.2e+04\n",
       "GarageArea        5.3703      7.991      0.672      0.502     -10.305      21.045\n",
       "WoodDeckSF       20.0419      6.621      3.027      0.003       7.054      33.030\n",
       "OpenPorchSF      15.7590     13.215      1.193      0.233     -10.163      41.681\n",
       "EnclosedPorch    11.5355     15.030      0.768      0.443     -17.947      41.018\n",
       "3SsnPorch        72.8210     63.386      1.149      0.251     -51.519     197.161\n",
       "ScreenPorch      40.3422     17.093      2.360      0.018       6.813      73.872\n",
       "PoolArea       -280.8542     87.744     -3.201      0.001    -452.975    -108.734\n",
       "MiscVal          -1.7007      4.631     -0.367      0.713     -10.785       7.384\n",
       "MoSold          177.8418    269.605      0.660      0.510    -351.023     706.707\n",
       "YrSold         -668.9976    550.240     -1.216      0.224   -1748.365     410.370\n",
       "==============================================================================\n",
       "Omnibus:                      374.149   Durbin-Watson:                   2.012\n",
       "Prob(Omnibus):                  0.000   Jarque-Bera (JB):             8492.747\n",
       "Skew:                          -0.633   Prob(JB):                         0.00\n",
       "Kurtosis:                      14.747   Cond. No.                     1.89e+07\n",
       "==============================================================================\n",
       "\n",
       "Notes:\n",
       "[1] Standard Errors assume that the covariance matrix of the errors is correctly specified.\n",
       "[2] The condition number is large, 1.89e+07. This might indicate that there are\n",
       "strong multicollinearity or other numerical problems.\n",
       "\"\"\""
      ]
     },
     "execution_count": 30,
     "metadata": {},
     "output_type": "execute_result"
    }
   ],
   "source": [
    "y = numerical['SalePrice']\n",
    "X_numerical = numerical.drop(['SalePrice'] , axis = 1)\n",
    "X_numerical_ = sm.add_constant(X_numerical)\n",
    "\n",
    "OLS_res = sm.OLS(endog = y , exog = X_numerical_).fit()\n",
    "OLS_res.summary()"
   ]
  },
  {
   "cell_type": "markdown",
   "id": "839c0f27",
   "metadata": {},
   "source": [
    "### now we drop columns that dont contribute to our target."
   ]
  },
  {
   "cell_type": "code",
   "execution_count": 31,
   "id": "b868e57e",
   "metadata": {},
   "outputs": [],
   "source": [
    "fine_cols = [] # this is where we put the numerical or categorical columns that contribute to the target\n",
    "\n",
    "pvalue_bmask = (OLS_res.pvalues < 0.05)\n",
    "fine_numericals = list(OLS_res.pvalues[pvalue_bmask].index)\n",
    "fine_cols += fine_numericals"
   ]
  },
  {
   "cell_type": "markdown",
   "id": "a6db8dac",
   "metadata": {},
   "source": [
    "### now we go for categorical ones"
   ]
  },
  {
   "cell_type": "code",
   "execution_count": 32,
   "id": "46e01570",
   "metadata": {},
   "outputs": [],
   "source": [
    "catPLUSy = pd.concat([categorical , y] , axis = 1)\n",
    "result = categorical_stest(data = catPLUSy , y = 'SalePrice')\n",
    "fine_categorical = list(result[result['is_correlated']].index)\n",
    "fine_cols += fine_numericals\n",
    "clear_output()"
   ]
  },
  {
   "cell_type": "markdown",
   "id": "6323080b",
   "metadata": {},
   "source": [
    "### and this dataframe below is the one we will train on. no outliers. no missing value. everything encoded. features selected. ready for training! but one thing i know is during feature selection i only selected features based on their univariate relationships and i couldn't address multivariate relationships because nothing came to my mind at the moment!"
   ]
  },
  {
   "cell_type": "code",
   "execution_count": 33,
   "id": "6d8c9d91",
   "metadata": {},
   "outputs": [
    {
     "data": {
      "text/html": [
       "<div>\n",
       "<style scoped>\n",
       "    .dataframe tbody tr th:only-of-type {\n",
       "        vertical-align: middle;\n",
       "    }\n",
       "\n",
       "    .dataframe tbody tr th {\n",
       "        vertical-align: top;\n",
       "    }\n",
       "\n",
       "    .dataframe thead th {\n",
       "        text-align: right;\n",
       "    }\n",
       "</style>\n",
       "<table border=\"1\" class=\"dataframe\">\n",
       "  <thead>\n",
       "    <tr style=\"text-align: right;\">\n",
       "      <th></th>\n",
       "      <th>MSSubClass</th>\n",
       "      <th>LotArea</th>\n",
       "      <th>OverallQual</th>\n",
       "      <th>OverallCond</th>\n",
       "      <th>YearBuilt</th>\n",
       "      <th>YearRemodAdd</th>\n",
       "      <th>MasVnrArea</th>\n",
       "      <th>1stFlrSF</th>\n",
       "      <th>2ndFlrSF</th>\n",
       "      <th>LowQualFinSF</th>\n",
       "      <th>...</th>\n",
       "      <th>GrLivArea</th>\n",
       "      <th>BedroomAbvGr</th>\n",
       "      <th>KitchenAbvGr</th>\n",
       "      <th>TotRmsAbvGrd</th>\n",
       "      <th>Fireplaces</th>\n",
       "      <th>GarageYrBlt</th>\n",
       "      <th>GarageCars</th>\n",
       "      <th>WoodDeckSF</th>\n",
       "      <th>ScreenPorch</th>\n",
       "      <th>PoolArea</th>\n",
       "    </tr>\n",
       "  </thead>\n",
       "  <tbody>\n",
       "    <tr>\n",
       "      <th>0</th>\n",
       "      <td>60.0</td>\n",
       "      <td>8450.0</td>\n",
       "      <td>7.0</td>\n",
       "      <td>5.00000</td>\n",
       "      <td>2003.0</td>\n",
       "      <td>2003</td>\n",
       "      <td>196.0</td>\n",
       "      <td>856.0</td>\n",
       "      <td>854</td>\n",
       "      <td>0.0</td>\n",
       "      <td>...</td>\n",
       "      <td>1710.0</td>\n",
       "      <td>3.0</td>\n",
       "      <td>1.0</td>\n",
       "      <td>8.0</td>\n",
       "      <td>0.0</td>\n",
       "      <td>2003.0</td>\n",
       "      <td>2</td>\n",
       "      <td>0.000000</td>\n",
       "      <td>0.0</td>\n",
       "      <td>0.0</td>\n",
       "    </tr>\n",
       "    <tr>\n",
       "      <th>1</th>\n",
       "      <td>20.0</td>\n",
       "      <td>9600.0</td>\n",
       "      <td>6.0</td>\n",
       "      <td>8.00000</td>\n",
       "      <td>1976.0</td>\n",
       "      <td>1976</td>\n",
       "      <td>0.0</td>\n",
       "      <td>1262.0</td>\n",
       "      <td>0</td>\n",
       "      <td>0.0</td>\n",
       "      <td>...</td>\n",
       "      <td>1262.0</td>\n",
       "      <td>3.0</td>\n",
       "      <td>1.0</td>\n",
       "      <td>6.0</td>\n",
       "      <td>1.0</td>\n",
       "      <td>1976.0</td>\n",
       "      <td>2</td>\n",
       "      <td>298.000000</td>\n",
       "      <td>0.0</td>\n",
       "      <td>0.0</td>\n",
       "    </tr>\n",
       "    <tr>\n",
       "      <th>2</th>\n",
       "      <td>60.0</td>\n",
       "      <td>11250.0</td>\n",
       "      <td>7.0</td>\n",
       "      <td>5.00000</td>\n",
       "      <td>2001.0</td>\n",
       "      <td>2002</td>\n",
       "      <td>162.0</td>\n",
       "      <td>920.0</td>\n",
       "      <td>866</td>\n",
       "      <td>0.0</td>\n",
       "      <td>...</td>\n",
       "      <td>1786.0</td>\n",
       "      <td>3.0</td>\n",
       "      <td>1.0</td>\n",
       "      <td>6.0</td>\n",
       "      <td>1.0</td>\n",
       "      <td>2001.0</td>\n",
       "      <td>2</td>\n",
       "      <td>0.000000</td>\n",
       "      <td>0.0</td>\n",
       "      <td>0.0</td>\n",
       "    </tr>\n",
       "    <tr>\n",
       "      <th>3</th>\n",
       "      <td>70.0</td>\n",
       "      <td>9550.0</td>\n",
       "      <td>7.0</td>\n",
       "      <td>5.00000</td>\n",
       "      <td>1915.0</td>\n",
       "      <td>1970</td>\n",
       "      <td>0.0</td>\n",
       "      <td>961.0</td>\n",
       "      <td>756</td>\n",
       "      <td>0.0</td>\n",
       "      <td>...</td>\n",
       "      <td>1717.0</td>\n",
       "      <td>3.0</td>\n",
       "      <td>1.0</td>\n",
       "      <td>7.0</td>\n",
       "      <td>1.0</td>\n",
       "      <td>1998.0</td>\n",
       "      <td>3</td>\n",
       "      <td>0.000000</td>\n",
       "      <td>0.0</td>\n",
       "      <td>0.0</td>\n",
       "    </tr>\n",
       "    <tr>\n",
       "      <th>4</th>\n",
       "      <td>60.0</td>\n",
       "      <td>14260.0</td>\n",
       "      <td>8.0</td>\n",
       "      <td>5.00000</td>\n",
       "      <td>2000.0</td>\n",
       "      <td>2000</td>\n",
       "      <td>350.0</td>\n",
       "      <td>1145.0</td>\n",
       "      <td>1053</td>\n",
       "      <td>0.0</td>\n",
       "      <td>...</td>\n",
       "      <td>2198.0</td>\n",
       "      <td>4.0</td>\n",
       "      <td>1.0</td>\n",
       "      <td>9.0</td>\n",
       "      <td>1.0</td>\n",
       "      <td>2000.0</td>\n",
       "      <td>3</td>\n",
       "      <td>192.000000</td>\n",
       "      <td>0.0</td>\n",
       "      <td>0.0</td>\n",
       "    </tr>\n",
       "    <tr>\n",
       "      <th>...</th>\n",
       "      <td>...</td>\n",
       "      <td>...</td>\n",
       "      <td>...</td>\n",
       "      <td>...</td>\n",
       "      <td>...</td>\n",
       "      <td>...</td>\n",
       "      <td>...</td>\n",
       "      <td>...</td>\n",
       "      <td>...</td>\n",
       "      <td>...</td>\n",
       "      <td>...</td>\n",
       "      <td>...</td>\n",
       "      <td>...</td>\n",
       "      <td>...</td>\n",
       "      <td>...</td>\n",
       "      <td>...</td>\n",
       "      <td>...</td>\n",
       "      <td>...</td>\n",
       "      <td>...</td>\n",
       "      <td>...</td>\n",
       "      <td>...</td>\n",
       "    </tr>\n",
       "    <tr>\n",
       "      <th>1455</th>\n",
       "      <td>60.0</td>\n",
       "      <td>7917.0</td>\n",
       "      <td>6.0</td>\n",
       "      <td>5.00000</td>\n",
       "      <td>1999.0</td>\n",
       "      <td>2000</td>\n",
       "      <td>0.0</td>\n",
       "      <td>953.0</td>\n",
       "      <td>694</td>\n",
       "      <td>0.0</td>\n",
       "      <td>...</td>\n",
       "      <td>1647.0</td>\n",
       "      <td>3.0</td>\n",
       "      <td>1.0</td>\n",
       "      <td>7.0</td>\n",
       "      <td>1.0</td>\n",
       "      <td>1999.0</td>\n",
       "      <td>2</td>\n",
       "      <td>0.000000</td>\n",
       "      <td>0.0</td>\n",
       "      <td>0.0</td>\n",
       "    </tr>\n",
       "    <tr>\n",
       "      <th>1456</th>\n",
       "      <td>20.0</td>\n",
       "      <td>13175.0</td>\n",
       "      <td>6.0</td>\n",
       "      <td>6.00000</td>\n",
       "      <td>1978.0</td>\n",
       "      <td>1988</td>\n",
       "      <td>119.0</td>\n",
       "      <td>2073.0</td>\n",
       "      <td>0</td>\n",
       "      <td>0.0</td>\n",
       "      <td>...</td>\n",
       "      <td>2073.0</td>\n",
       "      <td>3.0</td>\n",
       "      <td>1.0</td>\n",
       "      <td>7.0</td>\n",
       "      <td>2.0</td>\n",
       "      <td>1978.0</td>\n",
       "      <td>2</td>\n",
       "      <td>349.000000</td>\n",
       "      <td>0.0</td>\n",
       "      <td>0.0</td>\n",
       "    </tr>\n",
       "    <tr>\n",
       "      <th>1457</th>\n",
       "      <td>70.0</td>\n",
       "      <td>9042.0</td>\n",
       "      <td>7.0</td>\n",
       "      <td>8.91374</td>\n",
       "      <td>1941.0</td>\n",
       "      <td>2006</td>\n",
       "      <td>0.0</td>\n",
       "      <td>1188.0</td>\n",
       "      <td>1152</td>\n",
       "      <td>0.0</td>\n",
       "      <td>...</td>\n",
       "      <td>2340.0</td>\n",
       "      <td>4.0</td>\n",
       "      <td>1.0</td>\n",
       "      <td>9.0</td>\n",
       "      <td>2.0</td>\n",
       "      <td>1941.0</td>\n",
       "      <td>1</td>\n",
       "      <td>0.000000</td>\n",
       "      <td>0.0</td>\n",
       "      <td>0.0</td>\n",
       "    </tr>\n",
       "    <tr>\n",
       "      <th>1458</th>\n",
       "      <td>20.0</td>\n",
       "      <td>9717.0</td>\n",
       "      <td>5.0</td>\n",
       "      <td>6.00000</td>\n",
       "      <td>1950.0</td>\n",
       "      <td>1996</td>\n",
       "      <td>0.0</td>\n",
       "      <td>1078.0</td>\n",
       "      <td>0</td>\n",
       "      <td>0.0</td>\n",
       "      <td>...</td>\n",
       "      <td>1078.0</td>\n",
       "      <td>2.0</td>\n",
       "      <td>1.0</td>\n",
       "      <td>5.0</td>\n",
       "      <td>0.0</td>\n",
       "      <td>1950.0</td>\n",
       "      <td>1</td>\n",
       "      <td>366.000000</td>\n",
       "      <td>0.0</td>\n",
       "      <td>0.0</td>\n",
       "    </tr>\n",
       "    <tr>\n",
       "      <th>1459</th>\n",
       "      <td>20.0</td>\n",
       "      <td>9937.0</td>\n",
       "      <td>5.0</td>\n",
       "      <td>6.00000</td>\n",
       "      <td>1965.0</td>\n",
       "      <td>1965</td>\n",
       "      <td>0.0</td>\n",
       "      <td>1256.0</td>\n",
       "      <td>0</td>\n",
       "      <td>0.0</td>\n",
       "      <td>...</td>\n",
       "      <td>1256.0</td>\n",
       "      <td>3.0</td>\n",
       "      <td>1.0</td>\n",
       "      <td>6.0</td>\n",
       "      <td>0.0</td>\n",
       "      <td>1965.0</td>\n",
       "      <td>1</td>\n",
       "      <td>470.260895</td>\n",
       "      <td>0.0</td>\n",
       "      <td>0.0</td>\n",
       "    </tr>\n",
       "  </tbody>\n",
       "</table>\n",
       "<p>1460 rows × 40 columns</p>\n",
       "</div>"
      ],
      "text/plain": [
       "      MSSubClass  LotArea  OverallQual  OverallCond  YearBuilt  YearRemodAdd  \\\n",
       "0           60.0   8450.0          7.0      5.00000     2003.0          2003   \n",
       "1           20.0   9600.0          6.0      8.00000     1976.0          1976   \n",
       "2           60.0  11250.0          7.0      5.00000     2001.0          2002   \n",
       "3           70.0   9550.0          7.0      5.00000     1915.0          1970   \n",
       "4           60.0  14260.0          8.0      5.00000     2000.0          2000   \n",
       "...          ...      ...          ...          ...        ...           ...   \n",
       "1455        60.0   7917.0          6.0      5.00000     1999.0          2000   \n",
       "1456        20.0  13175.0          6.0      6.00000     1978.0          1988   \n",
       "1457        70.0   9042.0          7.0      8.91374     1941.0          2006   \n",
       "1458        20.0   9717.0          5.0      6.00000     1950.0          1996   \n",
       "1459        20.0   9937.0          5.0      6.00000     1965.0          1965   \n",
       "\n",
       "      MasVnrArea  1stFlrSF  2ndFlrSF  LowQualFinSF  ...  GrLivArea  \\\n",
       "0          196.0     856.0       854           0.0  ...     1710.0   \n",
       "1            0.0    1262.0         0           0.0  ...     1262.0   \n",
       "2          162.0     920.0       866           0.0  ...     1786.0   \n",
       "3            0.0     961.0       756           0.0  ...     1717.0   \n",
       "4          350.0    1145.0      1053           0.0  ...     2198.0   \n",
       "...          ...       ...       ...           ...  ...        ...   \n",
       "1455         0.0     953.0       694           0.0  ...     1647.0   \n",
       "1456       119.0    2073.0         0           0.0  ...     2073.0   \n",
       "1457         0.0    1188.0      1152           0.0  ...     2340.0   \n",
       "1458         0.0    1078.0         0           0.0  ...     1078.0   \n",
       "1459         0.0    1256.0         0           0.0  ...     1256.0   \n",
       "\n",
       "      BedroomAbvGr  KitchenAbvGr  TotRmsAbvGrd  Fireplaces  GarageYrBlt  \\\n",
       "0              3.0           1.0           8.0         0.0       2003.0   \n",
       "1              3.0           1.0           6.0         1.0       1976.0   \n",
       "2              3.0           1.0           6.0         1.0       2001.0   \n",
       "3              3.0           1.0           7.0         1.0       1998.0   \n",
       "4              4.0           1.0           9.0         1.0       2000.0   \n",
       "...            ...           ...           ...         ...          ...   \n",
       "1455           3.0           1.0           7.0         1.0       1999.0   \n",
       "1456           3.0           1.0           7.0         2.0       1978.0   \n",
       "1457           4.0           1.0           9.0         2.0       1941.0   \n",
       "1458           2.0           1.0           5.0         0.0       1950.0   \n",
       "1459           3.0           1.0           6.0         0.0       1965.0   \n",
       "\n",
       "      GarageCars  WoodDeckSF  ScreenPorch  PoolArea  \n",
       "0              2    0.000000          0.0       0.0  \n",
       "1              2  298.000000          0.0       0.0  \n",
       "2              2    0.000000          0.0       0.0  \n",
       "3              3    0.000000          0.0       0.0  \n",
       "4              3  192.000000          0.0       0.0  \n",
       "...          ...         ...          ...       ...  \n",
       "1455           2    0.000000          0.0       0.0  \n",
       "1456           2  349.000000          0.0       0.0  \n",
       "1457           1    0.000000          0.0       0.0  \n",
       "1458           1  366.000000          0.0       0.0  \n",
       "1459           1  470.260895          0.0       0.0  \n",
       "\n",
       "[1460 rows x 40 columns]"
      ]
     },
     "execution_count": 33,
     "metadata": {},
     "output_type": "execute_result"
    }
   ],
   "source": [
    "final_train = train_df[fine_cols]\n",
    "final_train"
   ]
  },
  {
   "cell_type": "markdown",
   "id": "c3786cc1",
   "metadata": {},
   "source": [
    "## now we go for long awaited training process!\n",
    "***"
   ]
  },
  {
   "cell_type": "markdown",
   "id": "bbef905a",
   "metadata": {},
   "source": [
    "#### we split into train and validation sets"
   ]
  },
  {
   "cell_type": "code",
   "execution_count": 34,
   "id": "1a2935c6",
   "metadata": {},
   "outputs": [],
   "source": [
    "xtrain , xvalid , ytrain , yvalid = train_test_split(final_train , y , random_state = 42 , test_size = 0.12)"
   ]
  },
  {
   "cell_type": "code",
   "execution_count": 35,
   "id": "68d1ca82",
   "metadata": {},
   "outputs": [],
   "source": [
    "class dataset_train(Dataset):\n",
    "    def __init__(self , x: pd.DataFrame , y: pd.Series) -> None:\n",
    "        super().__init__()\n",
    "        self.x = x\n",
    "        self.y = y\n",
    "\n",
    "    def __len__(self):\n",
    "        return len(self.x)\n",
    "\n",
    "    def __getitem__(self , idx):\n",
    "        x_row = self.x.iloc[idx]\n",
    "        y_row = self.y.iloc[idx]\n",
    "        return torch.tensor(x_row , dtype = torch.float32), torch.tensor(y_row , dtype = torch.float32)\n",
    "    \n",
    "\n",
    "class dataset_test(Dataset):\n",
    "    def __init__(self , x: pd.DataFrame) -> None:\n",
    "        super().__init__()\n",
    "        self.x = x\n",
    "\n",
    "    def __len__(self):\n",
    "        return len(self.x)\n",
    "\n",
    "    def __getitem__(self , idx):\n",
    "        x_row = self.x.iloc[idx]\n",
    "        return torch.tensor(x_row , dtype = torch.float32)"
   ]
  },
  {
   "cell_type": "code",
   "execution_count": 36,
   "id": "175c393a",
   "metadata": {},
   "outputs": [],
   "source": [
    "class MLP(nn.Module):\n",
    "    def __init__(self, *args, **kwargs) -> None:\n",
    "        super().__init__(*args, **kwargs)\n",
    "\n",
    "        self.mlp = nn.Sequential(\n",
    "            nn.Linear(in_features = 40 , out_features = 1000),\n",
    "            nn.ReLU(),\n",
    "            nn.Linear(in_features = 1000 , out_features = 500),\n",
    "            nn.ReLU(),\n",
    "            nn.Linear(in_features = 500 , out_features = 300),\n",
    "            nn.ReLU(),\n",
    "            nn.Linear(in_features = 300 , out_features = 100),\n",
    "            nn.ReLU(),\n",
    "            nn.Linear(in_features = 100 , out_features = 1),\n",
    "            nn.ReLU()\n",
    "        )\n",
    "\n",
    "    def forward(self , x):\n",
    "        logits = self.mlp(x)\n",
    "        return logits"
   ]
  },
  {
   "cell_type": "code",
   "execution_count": 37,
   "id": "3c57353f",
   "metadata": {},
   "outputs": [
    {
     "name": "stdout",
     "output_type": "stream",
     "text": [
      "MLP(\n",
      "  (mlp): Sequential(\n",
      "    (0): Linear(in_features=40, out_features=1000, bias=True)\n",
      "    (1): ReLU()\n",
      "    (2): Linear(in_features=1000, out_features=500, bias=True)\n",
      "    (3): ReLU()\n",
      "    (4): Linear(in_features=500, out_features=300, bias=True)\n",
      "    (5): ReLU()\n",
      "    (6): Linear(in_features=300, out_features=100, bias=True)\n",
      "    (7): ReLU()\n",
      "    (8): Linear(in_features=100, out_features=1, bias=True)\n",
      "    (9): ReLU()\n",
      "  )\n",
      ")\n"
     ]
    }
   ],
   "source": [
    "device = 'cuda'\n",
    "model = MLP().to(device)\n",
    "print(model)"
   ]
  },
  {
   "cell_type": "code",
   "execution_count": 38,
   "id": "7cf5e317",
   "metadata": {},
   "outputs": [],
   "source": [
    "def train_loop(\n",
    "        dataloader: DataLoader,\n",
    "        model: nn.Module,\n",
    "        loss_func,\n",
    "        optimizer,\n",
    "        epochs = 10,\n",
    "        early_stop_epoch = 30,\n",
    "        validation_dl: DataLoader = None, # dl stands for dataloader\n",
    "        metric = None):\n",
    "    \n",
    "    global_avg_losses = [] # appending after each epoch. its avg over all losses of each mini batches.\n",
    "    valid_losses = [] # appending after each epoch\n",
    "    metric_results = [] # appending after each epoch\n",
    "\n",
    "    metric = metric.to(device) # moving metric to GPU for faster computation\n",
    "    for epoch in tqdm(range(epochs)):\n",
    "        print(f\"Epoch {epoch+1}\\n-------------------------------------\")\n",
    "\n",
    "        model.train()\n",
    "        accumulating_train_loss = 0\n",
    "        for (x_batch , y_batch) in dataloader:\n",
    "            x_batch , y_batch = x_batch.to(device) , y_batch.to(device)\n",
    "\n",
    "            prediction = model(x_batch).squeeze(1) # we doing the squeeze because prediction.shape is (32,1) but y_batch.shape is (32)\n",
    "            loss = loss_func(prediction , y_batch)\n",
    "            accumulating_train_loss += loss.item()\n",
    "\n",
    "            loss.backward()\n",
    "            optimizer.step()\n",
    "            optimizer.zero_grad()         \n",
    "        \n",
    "        if validation_dl != None:\n",
    "                model.eval()\n",
    "                val_loss = 0\n",
    "                scale_val = 0\n",
    "                epoch_without_change = 0\n",
    "\n",
    "                with torch.no_grad():\n",
    "                    for i , j in validation_dl:\n",
    "                        i , j = i.to(device) , j.to(device)\n",
    "                        prediction = model(i)\n",
    "                        prediction = prediction.squeeze(1)\n",
    "                        val_loss += loss_func(prediction , j).item() # accumulating losses of each batches\n",
    "                        updated_metric = metric.update(j , prediction)\n",
    "                \n",
    "                metric_val = updated_metric.compute()\n",
    "                metric.reset() # reseting to ensures that the metric states do not carry over data from previous epochs\n",
    "                val_loss /= len(validation_dl) # avg validation losses\n",
    "\n",
    "                print(f\"Test Error: \\n metric: {(metric_val)}, Avg test loss: {val_loss} , loss = {loss.item()} \\n\")\n",
    "\n",
    "                epoch_without_change += 1\n",
    "\n",
    "                if (metric_val > scale_val):\n",
    "                     epoch_without_change = 0\n",
    "\n",
    "                if (metric_val <= scale_val) and (epoch_without_change >= early_stop_epoch): # we dont need to train further if our metric (currently R2 score) is bigger than 0.96\n",
    "                     break\n",
    "                \n",
    "                \n",
    "\n",
    "        global_avg_losses.append((accumulating_train_loss / len(dataloader)))\n",
    "        valid_losses.append(val_loss)\n",
    "        metric_results.append(metric_val.item())\n",
    "    \n",
    "    return {'global_average_losses' : global_avg_losses , 'validation_losses' : valid_losses , 'metric_results' : metric_results}"
   ]
  },
  {
   "cell_type": "code",
   "execution_count": 39,
   "id": "2c6c2efd",
   "metadata": {},
   "outputs": [],
   "source": [
    "batch_size = 32\n",
    "tensor_fdf = dataset_train(x = xtrain , y = ytrain)\n",
    "tensor_val = dataset_train(x = xvalid , y = yvalid)\n",
    "\n",
    "train_dataloader = DataLoader(dataset = tensor_fdf , batch_size = batch_size , shuffle = True)\n",
    "valid_dataloader = DataLoader(dataset = tensor_val , batch_size = batch_size , shuffle = True)"
   ]
  },
  {
   "cell_type": "code",
   "execution_count": 40,
   "id": "c942de0f",
   "metadata": {},
   "outputs": [
    {
     "name": "stderr",
     "output_type": "stream",
     "text": [
      "  0%|          | 0/1500 [00:00<?, ?it/s]"
     ]
    },
    {
     "name": "stdout",
     "output_type": "stream",
     "text": [
      "Epoch 1\n",
      "-------------------------------------\n"
     ]
    },
    {
     "name": "stderr",
     "output_type": "stream",
     "text": [
      "/tmp/ipykernel_81910/2034908235.py:13: FutureWarning: Series.__getitem__ treating keys as positions is deprecated. In a future version, integer keys will always be treated as labels (consistent with DataFrame behavior). To access a value by position, use `ser.iloc[pos]`\n",
      "  return torch.tensor(x_row , dtype = torch.float32), torch.tensor(y_row , dtype = torch.float32)\n",
      "  0%|          | 1/1500 [00:00<14:47,  1.69it/s]"
     ]
    },
    {
     "name": "stdout",
     "output_type": "stream",
     "text": [
      "Test Error: \n",
      " metric: -1.119940996170044, Avg test loss: 4812922538.666667 , loss = 3679784192.0 \n",
      "\n",
      "Epoch 2\n",
      "-------------------------------------\n"
     ]
    },
    {
     "name": "stderr",
     "output_type": "stream",
     "text": [
      "  0%|          | 3/1500 [00:01<07:36,  3.28it/s]"
     ]
    },
    {
     "name": "stdout",
     "output_type": "stream",
     "text": [
      "Test Error: \n",
      " metric: -2.246607780456543, Avg test loss: 3440176298.6666665 , loss = 5744898048.0 \n",
      "\n",
      "Epoch 3\n",
      "-------------------------------------\n",
      "Test Error: \n",
      " metric: -1.4795548915863037, Avg test loss: 3075605738.6666665 , loss = 4406667776.0 \n",
      "\n",
      "Epoch 4\n",
      "-------------------------------------\n"
     ]
    },
    {
     "name": "stderr",
     "output_type": "stream",
     "text": [
      "  0%|          | 5/1500 [00:01<05:16,  4.73it/s]"
     ]
    },
    {
     "name": "stdout",
     "output_type": "stream",
     "text": [
      "Test Error: \n",
      " metric: -0.34509730339050293, Avg test loss: 2456780842.6666665 , loss = 1026136384.0 \n",
      "\n",
      "Epoch 5\n",
      "-------------------------------------\n",
      "Test Error: \n",
      " metric: 0.29550009965896606, Avg test loss: 1934445056.0 , loss = 69557712.0 \n",
      "\n",
      "Epoch 6\n",
      "-------------------------------------\n"
     ]
    },
    {
     "name": "stderr",
     "output_type": "stream",
     "text": [
      "  0%|          | 7/1500 [00:01<04:31,  5.50it/s]"
     ]
    },
    {
     "name": "stdout",
     "output_type": "stream",
     "text": [
      "Test Error: \n",
      " metric: 0.5508044362068176, Avg test loss: 1738293077.3333333 , loss = 2426867456.0 \n",
      "\n",
      "Epoch 7\n",
      "-------------------------------------\n",
      "Test Error: \n",
      " metric: 0.5903946161270142, Avg test loss: 1781942698.6666667 , loss = 427265600.0 \n",
      "\n",
      "Epoch 8\n",
      "-------------------------------------\n"
     ]
    },
    {
     "name": "stderr",
     "output_type": "stream",
     "text": [
      "  1%|          | 9/1500 [00:01<04:09,  5.98it/s]"
     ]
    },
    {
     "name": "stdout",
     "output_type": "stream",
     "text": [
      "Test Error: \n",
      " metric: 0.32564371824264526, Avg test loss: 2493120320.0 , loss = 733594944.0 \n",
      "\n",
      "Epoch 9\n",
      "-------------------------------------\n",
      "Test Error: \n",
      " metric: 0.5939553380012512, Avg test loss: 1800295370.6666667 , loss = 306104192.0 \n",
      "\n",
      "Epoch 10\n",
      "-------------------------------------\n"
     ]
    },
    {
     "name": "stderr",
     "output_type": "stream",
     "text": [
      "  1%|          | 11/1500 [00:02<03:59,  6.21it/s]"
     ]
    },
    {
     "name": "stdout",
     "output_type": "stream",
     "text": [
      "Test Error: \n",
      " metric: 0.5162697434425354, Avg test loss: 1822885205.3333333 , loss = 3193080832.0 \n",
      "\n",
      "Epoch 11\n",
      "-------------------------------------\n",
      "Test Error: \n",
      " metric: 0.5976079702377319, Avg test loss: 1671918410.6666667 , loss = 1211490048.0 \n",
      "\n",
      "Epoch 12\n",
      "-------------------------------------\n"
     ]
    },
    {
     "name": "stderr",
     "output_type": "stream",
     "text": [
      "  1%|          | 13/1500 [00:02<03:55,  6.32it/s]"
     ]
    },
    {
     "name": "stdout",
     "output_type": "stream",
     "text": [
      "Test Error: \n",
      " metric: 0.4206544756889343, Avg test loss: 3090383274.6666665 , loss = 3038857984.0 \n",
      "\n",
      "Epoch 13\n",
      "-------------------------------------\n",
      "Test Error: \n",
      " metric: 0.6018038988113403, Avg test loss: 1727491328.0 , loss = 67068440.0 \n",
      "\n",
      "Epoch 14\n",
      "-------------------------------------\n"
     ]
    },
    {
     "name": "stderr",
     "output_type": "stream",
     "text": [
      "  1%|          | 15/1500 [00:02<03:52,  6.40it/s]"
     ]
    },
    {
     "name": "stdout",
     "output_type": "stream",
     "text": [
      "Test Error: \n",
      " metric: 0.5411274433135986, Avg test loss: 1881304000.0 , loss = 5430717440.0 \n",
      "\n",
      "Epoch 15\n",
      "-------------------------------------\n",
      "Test Error: \n",
      " metric: 0.5358850955963135, Avg test loss: 1747914645.3333333 , loss = 498844512.0 \n",
      "\n",
      "Epoch 16\n",
      "-------------------------------------\n"
     ]
    },
    {
     "name": "stderr",
     "output_type": "stream",
     "text": [
      "  1%|          | 17/1500 [00:03<03:52,  6.39it/s]"
     ]
    },
    {
     "name": "stdout",
     "output_type": "stream",
     "text": [
      "Test Error: \n",
      " metric: 0.615546703338623, Avg test loss: 1803918336.0 , loss = 944657152.0 \n",
      "\n",
      "Epoch 17\n",
      "-------------------------------------\n",
      "Test Error: \n",
      " metric: 0.5141518115997314, Avg test loss: 2001905834.6666667 , loss = 296655584.0 \n",
      "\n",
      "Epoch 18\n",
      "-------------------------------------\n"
     ]
    },
    {
     "name": "stderr",
     "output_type": "stream",
     "text": [
      "  1%|▏         | 19/1500 [00:03<03:49,  6.46it/s]"
     ]
    },
    {
     "name": "stdout",
     "output_type": "stream",
     "text": [
      "Test Error: \n",
      " metric: 0.6390295028686523, Avg test loss: 1730681216.0 , loss = 3823965440.0 \n",
      "\n",
      "Epoch 19\n",
      "-------------------------------------\n",
      "Test Error: \n",
      " metric: 0.6371380090713501, Avg test loss: 1695361834.6666667 , loss = 916048896.0 \n",
      "\n",
      "Epoch 20\n",
      "-------------------------------------\n"
     ]
    },
    {
     "name": "stderr",
     "output_type": "stream",
     "text": [
      "  1%|▏         | 21/1500 [00:03<03:47,  6.49it/s]"
     ]
    },
    {
     "name": "stdout",
     "output_type": "stream",
     "text": [
      "Test Error: \n",
      " metric: 0.5623992681503296, Avg test loss: 1735377536.0 , loss = 675821760.0 \n",
      "\n",
      "Epoch 21\n",
      "-------------------------------------\n",
      "Test Error: \n",
      " metric: 0.6186444163322449, Avg test loss: 1718063509.3333333 , loss = 1484003328.0 \n",
      "\n",
      "Epoch 22\n",
      "-------------------------------------\n"
     ]
    },
    {
     "name": "stderr",
     "output_type": "stream",
     "text": [
      "  2%|▏         | 23/1500 [00:04<03:47,  6.48it/s]"
     ]
    },
    {
     "name": "stdout",
     "output_type": "stream",
     "text": [
      "Test Error: \n",
      " metric: 0.3206011652946472, Avg test loss: 2230509056.0 , loss = 4896025600.0 \n",
      "\n",
      "Epoch 23\n",
      "-------------------------------------\n",
      "Test Error: \n",
      " metric: 0.6270381212234497, Avg test loss: 1664314816.0 , loss = 2163658496.0 \n",
      "\n",
      "Epoch 24\n",
      "-------------------------------------\n"
     ]
    },
    {
     "name": "stderr",
     "output_type": "stream",
     "text": [
      "  2%|▏         | 25/1500 [00:04<03:50,  6.39it/s]"
     ]
    },
    {
     "name": "stdout",
     "output_type": "stream",
     "text": [
      "Test Error: \n",
      " metric: 0.654404878616333, Avg test loss: 1723381781.3333333 , loss = 1724783488.0 \n",
      "\n",
      "Epoch 25\n",
      "-------------------------------------\n",
      "Test Error: \n",
      " metric: 0.5653509497642517, Avg test loss: 1716925760.0 , loss = 3400610304.0 \n",
      "\n",
      "Epoch 26\n",
      "-------------------------------------\n"
     ]
    },
    {
     "name": "stderr",
     "output_type": "stream",
     "text": [
      "  2%|▏         | 27/1500 [00:04<03:49,  6.42it/s]"
     ]
    },
    {
     "name": "stdout",
     "output_type": "stream",
     "text": [
      "Test Error: \n",
      " metric: 0.6589816808700562, Avg test loss: 1599962528.0 , loss = 813485952.0 \n",
      "\n",
      "Epoch 27\n",
      "-------------------------------------\n",
      "Test Error: \n",
      " metric: 0.6066128015518188, Avg test loss: 1833764117.3333333 , loss = 1400028416.0 \n",
      "\n",
      "Epoch 28\n",
      "-------------------------------------\n"
     ]
    },
    {
     "name": "stderr",
     "output_type": "stream",
     "text": [
      "  2%|▏         | 29/1500 [00:05<03:49,  6.41it/s]"
     ]
    },
    {
     "name": "stdout",
     "output_type": "stream",
     "text": [
      "Test Error: \n",
      " metric: 0.6212913990020752, Avg test loss: 1627708800.0 , loss = 372834816.0 \n",
      "\n",
      "Epoch 29\n",
      "-------------------------------------\n",
      "Test Error: \n",
      " metric: 0.6357926726341248, Avg test loss: 1559018944.0 , loss = 822056192.0 \n",
      "\n",
      "Epoch 30\n",
      "-------------------------------------\n"
     ]
    },
    {
     "name": "stderr",
     "output_type": "stream",
     "text": [
      "  2%|▏         | 31/1500 [00:05<03:52,  6.33it/s]"
     ]
    },
    {
     "name": "stdout",
     "output_type": "stream",
     "text": [
      "Test Error: \n",
      " metric: 0.35820603370666504, Avg test loss: 2267630037.3333335 , loss = 612124800.0 \n",
      "\n",
      "Epoch 31\n",
      "-------------------------------------\n",
      "Test Error: \n",
      " metric: 0.5931375026702881, Avg test loss: 1680960341.3333333 , loss = 245458112.0 \n",
      "\n",
      "Epoch 32\n",
      "-------------------------------------\n"
     ]
    },
    {
     "name": "stderr",
     "output_type": "stream",
     "text": [
      "  2%|▏         | 33/1500 [00:05<03:48,  6.41it/s]"
     ]
    },
    {
     "name": "stdout",
     "output_type": "stream",
     "text": [
      "Test Error: \n",
      " metric: 0.6212384700775146, Avg test loss: 2068757909.3333333 , loss = 658598976.0 \n",
      "\n",
      "Epoch 33\n",
      "-------------------------------------\n",
      "Test Error: \n",
      " metric: 0.6122424602508545, Avg test loss: 1518606592.0 , loss = 486644672.0 \n",
      "\n",
      "Epoch 34\n",
      "-------------------------------------\n"
     ]
    },
    {
     "name": "stderr",
     "output_type": "stream",
     "text": [
      "  2%|▏         | 35/1500 [00:06<03:48,  6.41it/s]"
     ]
    },
    {
     "name": "stdout",
     "output_type": "stream",
     "text": [
      "Test Error: \n",
      " metric: 0.2893596887588501, Avg test loss: 2399152896.0 , loss = 1687629824.0 \n",
      "\n",
      "Epoch 35\n",
      "-------------------------------------\n",
      "Test Error: \n",
      " metric: 0.6323007345199585, Avg test loss: 1664949994.6666667 , loss = 1615142016.0 \n",
      "\n",
      "Epoch 36\n",
      "-------------------------------------\n"
     ]
    },
    {
     "name": "stderr",
     "output_type": "stream",
     "text": [
      "  2%|▏         | 37/1500 [00:06<03:49,  6.38it/s]"
     ]
    },
    {
     "name": "stdout",
     "output_type": "stream",
     "text": [
      "Test Error: \n",
      " metric: 0.45265281200408936, Avg test loss: 1935716800.0 , loss = 698202496.0 \n",
      "\n",
      "Epoch 37\n",
      "-------------------------------------\n",
      "Test Error: \n",
      " metric: 0.6377785205841064, Avg test loss: 1505119637.3333333 , loss = 2226473984.0 \n",
      "\n",
      "Epoch 38\n",
      "-------------------------------------\n"
     ]
    },
    {
     "name": "stderr",
     "output_type": "stream",
     "text": [
      "  3%|▎         | 39/1500 [00:06<03:50,  6.35it/s]"
     ]
    },
    {
     "name": "stdout",
     "output_type": "stream",
     "text": [
      "Test Error: \n",
      " metric: 0.6451352834701538, Avg test loss: 1476919904.0 , loss = 696256320.0 \n",
      "\n",
      "Epoch 39\n",
      "-------------------------------------\n",
      "Test Error: \n",
      " metric: 0.6087748408317566, Avg test loss: 1928155040.0 , loss = 994137344.0 \n",
      "\n",
      "Epoch 40\n",
      "-------------------------------------\n"
     ]
    },
    {
     "name": "stderr",
     "output_type": "stream",
     "text": [
      "  3%|▎         | 41/1500 [00:06<03:49,  6.37it/s]"
     ]
    },
    {
     "name": "stdout",
     "output_type": "stream",
     "text": [
      "Test Error: \n",
      " metric: 0.6405747532844543, Avg test loss: 1959829824.0 , loss = 4227909120.0 \n",
      "\n",
      "Epoch 41\n",
      "-------------------------------------\n",
      "Test Error: \n",
      " metric: 0.6442807912826538, Avg test loss: 1560423008.0 , loss = 1808694016.0 \n",
      "\n",
      "Epoch 42\n",
      "-------------------------------------\n"
     ]
    },
    {
     "name": "stderr",
     "output_type": "stream",
     "text": [
      "  3%|▎         | 43/1500 [00:07<03:47,  6.40it/s]"
     ]
    },
    {
     "name": "stdout",
     "output_type": "stream",
     "text": [
      "Test Error: \n",
      " metric: 0.6359230875968933, Avg test loss: 2234727616.0 , loss = 3141548032.0 \n",
      "\n",
      "Epoch 43\n",
      "-------------------------------------\n",
      "Test Error: \n",
      " metric: 0.5970664620399475, Avg test loss: 1665613376.0 , loss = 6312238080.0 \n",
      "\n",
      "Epoch 44\n",
      "-------------------------------------\n"
     ]
    },
    {
     "name": "stderr",
     "output_type": "stream",
     "text": [
      "  3%|▎         | 45/1500 [00:07<03:46,  6.42it/s]"
     ]
    },
    {
     "name": "stdout",
     "output_type": "stream",
     "text": [
      "Test Error: \n",
      " metric: 0.6075021624565125, Avg test loss: 1563244672.0 , loss = 740702848.0 \n",
      "\n",
      "Epoch 45\n",
      "-------------------------------------\n",
      "Test Error: \n",
      " metric: 0.6685299873352051, Avg test loss: 1571550656.0 , loss = 3302694912.0 \n",
      "\n",
      "Epoch 46\n",
      "-------------------------------------\n"
     ]
    },
    {
     "name": "stderr",
     "output_type": "stream",
     "text": [
      "  3%|▎         | 47/1500 [00:07<03:46,  6.42it/s]"
     ]
    },
    {
     "name": "stdout",
     "output_type": "stream",
     "text": [
      "Test Error: \n",
      " metric: 0.5629571676254272, Avg test loss: 1751605162.6666667 , loss = 697001984.0 \n",
      "\n",
      "Epoch 47\n",
      "-------------------------------------\n",
      "Test Error: \n",
      " metric: 0.3623563051223755, Avg test loss: 2299196522.6666665 , loss = 4092008192.0 \n",
      "\n",
      "Epoch 48\n",
      "-------------------------------------\n"
     ]
    },
    {
     "name": "stderr",
     "output_type": "stream",
     "text": [
      "  3%|▎         | 49/1500 [00:08<03:47,  6.36it/s]"
     ]
    },
    {
     "name": "stdout",
     "output_type": "stream",
     "text": [
      "Test Error: \n",
      " metric: 0.4057387113571167, Avg test loss: 2099382912.0 , loss = 86613056.0 \n",
      "\n",
      "Epoch 49\n",
      "-------------------------------------\n",
      "Test Error: \n",
      " metric: 0.6744258403778076, Avg test loss: 1658425280.0 , loss = 1412183808.0 \n",
      "\n",
      "Epoch 50\n",
      "-------------------------------------\n"
     ]
    },
    {
     "name": "stderr",
     "output_type": "stream",
     "text": [
      "  3%|▎         | 51/1500 [00:08<03:42,  6.51it/s]"
     ]
    },
    {
     "name": "stdout",
     "output_type": "stream",
     "text": [
      "Test Error: \n",
      " metric: 0.5873030424118042, Avg test loss: 1824072981.3333333 , loss = 48541412.0 \n",
      "\n",
      "Epoch 51\n",
      "-------------------------------------\n",
      "Test Error: \n",
      " metric: 0.5980859994888306, Avg test loss: 1634929088.0 , loss = 1361313536.0 \n",
      "\n",
      "Epoch 52\n",
      "-------------------------------------\n"
     ]
    },
    {
     "name": "stderr",
     "output_type": "stream",
     "text": [
      "  4%|▎         | 53/1500 [00:08<03:40,  6.57it/s]"
     ]
    },
    {
     "name": "stdout",
     "output_type": "stream",
     "text": [
      "Test Error: \n",
      " metric: 0.6386097073554993, Avg test loss: 1610977109.3333333 , loss = 720159872.0 \n",
      "\n",
      "Epoch 53\n",
      "-------------------------------------\n",
      "Test Error: \n",
      " metric: 0.6474291086196899, Avg test loss: 1590148992.0 , loss = 4399602176.0 \n",
      "\n",
      "Epoch 54\n",
      "-------------------------------------\n"
     ]
    },
    {
     "name": "stderr",
     "output_type": "stream",
     "text": [
      "  4%|▎         | 55/1500 [00:09<03:42,  6.51it/s]"
     ]
    },
    {
     "name": "stdout",
     "output_type": "stream",
     "text": [
      "Test Error: \n",
      " metric: 0.7084080576896667, Avg test loss: 1630886176.0 , loss = 631898368.0 \n",
      "\n",
      "Epoch 55\n",
      "-------------------------------------\n",
      "Test Error: \n",
      " metric: 0.6868252754211426, Avg test loss: 1614914261.3333333 , loss = 609133888.0 \n",
      "\n",
      "Epoch 56\n",
      "-------------------------------------\n"
     ]
    },
    {
     "name": "stderr",
     "output_type": "stream",
     "text": [
      "  4%|▍         | 57/1500 [00:09<03:42,  6.48it/s]"
     ]
    },
    {
     "name": "stdout",
     "output_type": "stream",
     "text": [
      "Test Error: \n",
      " metric: 0.6486546993255615, Avg test loss: 1620399808.0 , loss = 1234959232.0 \n",
      "\n",
      "Epoch 57\n",
      "-------------------------------------\n",
      "Test Error: \n",
      " metric: 0.6978964805603027, Avg test loss: 1517377856.0 , loss = 475963264.0 \n",
      "\n",
      "Epoch 58\n",
      "-------------------------------------\n"
     ]
    },
    {
     "name": "stderr",
     "output_type": "stream",
     "text": [
      "  4%|▍         | 59/1500 [00:09<03:39,  6.55it/s]"
     ]
    },
    {
     "name": "stdout",
     "output_type": "stream",
     "text": [
      "Test Error: \n",
      " metric: 0.68293696641922, Avg test loss: 1551564330.6666667 , loss = 426045024.0 \n",
      "\n",
      "Epoch 59\n",
      "-------------------------------------\n",
      "Test Error: \n",
      " metric: 0.6690311431884766, Avg test loss: 1621230069.3333333 , loss = 376351968.0 \n",
      "\n",
      "Epoch 60\n",
      "-------------------------------------\n"
     ]
    },
    {
     "name": "stderr",
     "output_type": "stream",
     "text": [
      "  4%|▍         | 61/1500 [00:10<03:38,  6.59it/s]"
     ]
    },
    {
     "name": "stdout",
     "output_type": "stream",
     "text": [
      "Test Error: \n",
      " metric: 0.6073597073554993, Avg test loss: 1675657450.6666667 , loss = 5272621056.0 \n",
      "\n",
      "Epoch 61\n",
      "-------------------------------------\n",
      "Test Error: \n",
      " metric: 0.6820012331008911, Avg test loss: 1558612266.6666667 , loss = 814011392.0 \n",
      "\n",
      "Epoch 62\n",
      "-------------------------------------\n"
     ]
    },
    {
     "name": "stderr",
     "output_type": "stream",
     "text": [
      "  4%|▍         | 63/1500 [00:10<03:44,  6.39it/s]"
     ]
    },
    {
     "name": "stdout",
     "output_type": "stream",
     "text": [
      "Test Error: \n",
      " metric: 0.5662078857421875, Avg test loss: 1722270442.6666667 , loss = 1850501760.0 \n",
      "\n",
      "Epoch 63\n",
      "-------------------------------------\n",
      "Test Error: \n",
      " metric: 0.6811439394950867, Avg test loss: 1633124352.0 , loss = 607500224.0 \n",
      "\n",
      "Epoch 64\n",
      "-------------------------------------\n"
     ]
    },
    {
     "name": "stderr",
     "output_type": "stream",
     "text": [
      "  4%|▍         | 65/1500 [00:10<03:52,  6.17it/s]"
     ]
    },
    {
     "name": "stdout",
     "output_type": "stream",
     "text": [
      "Test Error: \n",
      " metric: 0.647177517414093, Avg test loss: 1781245322.6666667 , loss = 1072762624.0 \n",
      "\n",
      "Epoch 65\n",
      "-------------------------------------\n",
      "Test Error: \n",
      " metric: 0.679777979850769, Avg test loss: 1838317952.0 , loss = 1216354048.0 \n",
      "\n",
      "Epoch 66\n",
      "-------------------------------------\n"
     ]
    },
    {
     "name": "stderr",
     "output_type": "stream",
     "text": [
      "  4%|▍         | 67/1500 [00:11<03:55,  6.09it/s]"
     ]
    },
    {
     "name": "stdout",
     "output_type": "stream",
     "text": [
      "Test Error: \n",
      " metric: 0.46322107315063477, Avg test loss: 1887486912.0 , loss = 3238905344.0 \n",
      "\n",
      "Epoch 67\n",
      "-------------------------------------\n",
      "Test Error: \n",
      " metric: 0.6468709707260132, Avg test loss: 1677042368.0 , loss = 721740288.0 \n",
      "\n",
      "Epoch 68\n",
      "-------------------------------------\n"
     ]
    },
    {
     "name": "stderr",
     "output_type": "stream",
     "text": [
      "  5%|▍         | 69/1500 [00:11<03:59,  5.99it/s]"
     ]
    },
    {
     "name": "stdout",
     "output_type": "stream",
     "text": [
      "Test Error: \n",
      " metric: 0.7050527334213257, Avg test loss: 1521380480.0 , loss = 937967488.0 \n",
      "\n",
      "Epoch 69\n",
      "-------------------------------------\n",
      "Test Error: \n",
      " metric: 0.541823148727417, Avg test loss: 1655743546.6666667 , loss = 1057484160.0 \n",
      "\n",
      "Epoch 70\n",
      "-------------------------------------\n"
     ]
    },
    {
     "name": "stderr",
     "output_type": "stream",
     "text": [
      "  5%|▍         | 71/1500 [00:11<04:12,  5.65it/s]"
     ]
    },
    {
     "name": "stdout",
     "output_type": "stream",
     "text": [
      "Test Error: \n",
      " metric: 0.668410062789917, Avg test loss: 1521349386.6666667 , loss = 855595584.0 \n",
      "\n",
      "Epoch 71\n",
      "-------------------------------------\n",
      "Test Error: \n",
      " metric: 0.7010922431945801, Avg test loss: 1530709546.6666667 , loss = 371219392.0 \n",
      "\n",
      "Epoch 72\n",
      "-------------------------------------\n"
     ]
    },
    {
     "name": "stderr",
     "output_type": "stream",
     "text": [
      "  5%|▍         | 73/1500 [00:12<04:07,  5.77it/s]"
     ]
    },
    {
     "name": "stdout",
     "output_type": "stream",
     "text": [
      "Test Error: \n",
      " metric: 0.7071130275726318, Avg test loss: 1644316096.0 , loss = 419112736.0 \n",
      "\n",
      "Epoch 73\n",
      "-------------------------------------\n",
      "Test Error: \n",
      " metric: 0.6690987944602966, Avg test loss: 1841761280.0 , loss = 1323643008.0 \n",
      "\n",
      "Epoch 74\n",
      "-------------------------------------\n"
     ]
    },
    {
     "name": "stderr",
     "output_type": "stream",
     "text": [
      "  5%|▌         | 75/1500 [00:12<04:03,  5.85it/s]"
     ]
    },
    {
     "name": "stdout",
     "output_type": "stream",
     "text": [
      "Test Error: \n",
      " metric: 0.6285223960876465, Avg test loss: 1611815978.6666667 , loss = 2947233792.0 \n",
      "\n",
      "Epoch 75\n",
      "-------------------------------------\n",
      "Test Error: \n",
      " metric: 0.7058888673782349, Avg test loss: 1595918997.3333333 , loss = 793614848.0 \n",
      "\n",
      "Epoch 76\n",
      "-------------------------------------\n"
     ]
    },
    {
     "name": "stderr",
     "output_type": "stream",
     "text": [
      "  5%|▌         | 77/1500 [00:12<04:04,  5.83it/s]"
     ]
    },
    {
     "name": "stdout",
     "output_type": "stream",
     "text": [
      "Test Error: \n",
      " metric: 0.7149062752723694, Avg test loss: 1637862762.6666667 , loss = 537973120.0 \n",
      "\n",
      "Epoch 77\n",
      "-------------------------------------\n",
      "Test Error: \n",
      " metric: 0.6783634424209595, Avg test loss: 1556905034.6666667 , loss = 2397026304.0 \n",
      "\n",
      "Epoch 78\n",
      "-------------------------------------\n"
     ]
    },
    {
     "name": "stderr",
     "output_type": "stream",
     "text": [
      "  5%|▌         | 79/1500 [00:13<04:03,  5.84it/s]"
     ]
    },
    {
     "name": "stdout",
     "output_type": "stream",
     "text": [
      "Test Error: \n",
      " metric: 0.6141449213027954, Avg test loss: 1529682752.0 , loss = 888044672.0 \n",
      "\n",
      "Epoch 79\n",
      "-------------------------------------\n",
      "Test Error: \n",
      " metric: 0.687611997127533, Avg test loss: 1672650154.6666667 , loss = 4419302912.0 \n",
      "\n",
      "Epoch 80\n",
      "-------------------------------------\n"
     ]
    },
    {
     "name": "stderr",
     "output_type": "stream",
     "text": [
      "  5%|▌         | 81/1500 [00:13<04:02,  5.86it/s]"
     ]
    },
    {
     "name": "stdout",
     "output_type": "stream",
     "text": [
      "Test Error: \n",
      " metric: 0.6632193326950073, Avg test loss: 1626902922.6666667 , loss = 204382208.0 \n",
      "\n",
      "Epoch 81\n",
      "-------------------------------------\n",
      "Test Error: \n",
      " metric: 0.5879241228103638, Avg test loss: 1789138517.3333333 , loss = 1418942208.0 \n",
      "\n",
      "Epoch 82\n",
      "-------------------------------------\n"
     ]
    },
    {
     "name": "stderr",
     "output_type": "stream",
     "text": [
      "  6%|▌         | 83/1500 [00:13<04:00,  5.89it/s]"
     ]
    },
    {
     "name": "stdout",
     "output_type": "stream",
     "text": [
      "Test Error: \n",
      " metric: 0.6994267702102661, Avg test loss: 1499725461.3333333 , loss = 1575723136.0 \n",
      "\n",
      "Epoch 83\n",
      "-------------------------------------\n",
      "Test Error: \n",
      " metric: 0.559174120426178, Avg test loss: 1765633877.3333333 , loss = 88110048.0 \n",
      "\n",
      "Epoch 84\n",
      "-------------------------------------\n"
     ]
    },
    {
     "name": "stderr",
     "output_type": "stream",
     "text": [
      "  6%|▌         | 85/1500 [00:14<04:06,  5.73it/s]"
     ]
    },
    {
     "name": "stdout",
     "output_type": "stream",
     "text": [
      "Test Error: \n",
      " metric: 0.6295262575149536, Avg test loss: 1593822528.0 , loss = 2573190144.0 \n",
      "\n",
      "Epoch 85\n",
      "-------------------------------------\n",
      "Test Error: \n",
      " metric: 0.6739700436592102, Avg test loss: 1781944789.3333333 , loss = 1419280128.0 \n",
      "\n",
      "Epoch 86\n",
      "-------------------------------------\n"
     ]
    },
    {
     "name": "stderr",
     "output_type": "stream",
     "text": [
      "  6%|▌         | 87/1500 [00:14<04:03,  5.80it/s]"
     ]
    },
    {
     "name": "stdout",
     "output_type": "stream",
     "text": [
      "Test Error: \n",
      " metric: 0.7174593210220337, Avg test loss: 1612683296.0 , loss = 720210240.0 \n",
      "\n",
      "Epoch 87\n",
      "-------------------------------------\n",
      "Test Error: \n",
      " metric: 0.7317492365837097, Avg test loss: 1579220736.0 , loss = 892591616.0 \n",
      "\n",
      "Epoch 88\n",
      "-------------------------------------\n"
     ]
    },
    {
     "name": "stderr",
     "output_type": "stream",
     "text": [
      "  6%|▌         | 89/1500 [00:14<03:59,  5.90it/s]"
     ]
    },
    {
     "name": "stdout",
     "output_type": "stream",
     "text": [
      "Test Error: \n",
      " metric: 0.6649592518806458, Avg test loss: 1738615488.0 , loss = 1656171776.0 \n",
      "\n",
      "Epoch 89\n",
      "-------------------------------------\n",
      "Test Error: \n",
      " metric: 0.7028399705886841, Avg test loss: 1442966229.3333333 , loss = 4524657152.0 \n",
      "\n",
      "Epoch 90\n",
      "-------------------------------------\n"
     ]
    },
    {
     "name": "stderr",
     "output_type": "stream",
     "text": [
      "  6%|▌         | 91/1500 [00:15<03:56,  5.96it/s]"
     ]
    },
    {
     "name": "stdout",
     "output_type": "stream",
     "text": [
      "Test Error: \n",
      " metric: 0.6288970112800598, Avg test loss: 1515865066.6666667 , loss = 659244544.0 \n",
      "\n",
      "Epoch 91\n",
      "-------------------------------------\n",
      "Test Error: \n",
      " metric: 0.6878902316093445, Avg test loss: 1540870144.0 , loss = 388132608.0 \n",
      "\n",
      "Epoch 92\n",
      "-------------------------------------\n"
     ]
    },
    {
     "name": "stderr",
     "output_type": "stream",
     "text": [
      "  6%|▌         | 93/1500 [00:15<04:00,  5.84it/s]"
     ]
    },
    {
     "name": "stdout",
     "output_type": "stream",
     "text": [
      "Test Error: \n",
      " metric: 0.6964510679244995, Avg test loss: 1433037568.0 , loss = 3302726144.0 \n",
      "\n",
      "Epoch 93\n",
      "-------------------------------------\n",
      "Test Error: \n",
      " metric: 0.5367217063903809, Avg test loss: 1911724714.6666667 , loss = 283258976.0 \n",
      "\n",
      "Epoch 94\n",
      "-------------------------------------\n"
     ]
    },
    {
     "name": "stderr",
     "output_type": "stream",
     "text": [
      "  6%|▋         | 95/1500 [00:15<03:57,  5.92it/s]"
     ]
    },
    {
     "name": "stdout",
     "output_type": "stream",
     "text": [
      "Test Error: \n",
      " metric: 0.7046242356300354, Avg test loss: 1515807445.3333333 , loss = 434114848.0 \n",
      "\n",
      "Epoch 95\n",
      "-------------------------------------\n",
      "Test Error: \n",
      " metric: 0.6776741743087769, Avg test loss: 1489402240.0 , loss = 957477568.0 \n",
      "\n",
      "Epoch 96\n",
      "-------------------------------------\n"
     ]
    },
    {
     "name": "stderr",
     "output_type": "stream",
     "text": [
      "  6%|▋         | 97/1500 [00:16<03:55,  5.96it/s]"
     ]
    },
    {
     "name": "stdout",
     "output_type": "stream",
     "text": [
      "Test Error: \n",
      " metric: 0.7235761880874634, Avg test loss: 1551250624.0 , loss = 1037201408.0 \n",
      "\n",
      "Epoch 97\n",
      "-------------------------------------\n",
      "Test Error: \n",
      " metric: 0.6784757375717163, Avg test loss: 1884479274.6666667 , loss = 448996064.0 \n",
      "\n",
      "Epoch 98\n",
      "-------------------------------------\n"
     ]
    },
    {
     "name": "stderr",
     "output_type": "stream",
     "text": [
      "  7%|▋         | 99/1500 [00:16<03:59,  5.84it/s]"
     ]
    },
    {
     "name": "stdout",
     "output_type": "stream",
     "text": [
      "Test Error: \n",
      " metric: 0.6858019828796387, Avg test loss: 1818077674.6666667 , loss = 568117696.0 \n",
      "\n",
      "Epoch 99\n",
      "-------------------------------------\n",
      "Test Error: \n",
      " metric: 0.721417248249054, Avg test loss: 1476300010.6666667 , loss = 316371040.0 \n",
      "\n",
      "Epoch 100\n",
      "-------------------------------------\n"
     ]
    },
    {
     "name": "stderr",
     "output_type": "stream",
     "text": [
      "  7%|▋         | 101/1500 [00:16<04:03,  5.75it/s]"
     ]
    },
    {
     "name": "stdout",
     "output_type": "stream",
     "text": [
      "Test Error: \n",
      " metric: 0.6636561155319214, Avg test loss: 1687874784.0 , loss = 632615872.0 \n",
      "\n",
      "Epoch 101\n",
      "-------------------------------------\n",
      "Test Error: \n",
      " metric: 0.5943595170974731, Avg test loss: 1795792789.3333333 , loss = 280830656.0 \n",
      "\n",
      "Epoch 102\n",
      "-------------------------------------\n"
     ]
    },
    {
     "name": "stderr",
     "output_type": "stream",
     "text": [
      "  7%|▋         | 103/1500 [00:17<03:57,  5.89it/s]"
     ]
    },
    {
     "name": "stdout",
     "output_type": "stream",
     "text": [
      "Test Error: \n",
      " metric: 0.716289758682251, Avg test loss: 1484427552.0 , loss = 404631168.0 \n",
      "\n",
      "Epoch 103\n",
      "-------------------------------------\n",
      "Test Error: \n",
      " metric: 0.6322025060653687, Avg test loss: 1758054805.3333333 , loss = 1101067264.0 \n",
      "\n",
      "Epoch 104\n",
      "-------------------------------------\n"
     ]
    },
    {
     "name": "stderr",
     "output_type": "stream",
     "text": [
      "  7%|▋         | 105/1500 [00:17<03:55,  5.93it/s]"
     ]
    },
    {
     "name": "stdout",
     "output_type": "stream",
     "text": [
      "Test Error: \n",
      " metric: 0.6900714635848999, Avg test loss: 1508709664.0 , loss = 487985024.0 \n",
      "\n",
      "Epoch 105\n",
      "-------------------------------------\n",
      "Test Error: \n",
      " metric: 0.6372939348220825, Avg test loss: 1671831488.0 , loss = 1394359552.0 \n",
      "\n",
      "Epoch 106\n",
      "-------------------------------------\n"
     ]
    },
    {
     "name": "stderr",
     "output_type": "stream",
     "text": [
      "  7%|▋         | 107/1500 [00:17<03:55,  5.91it/s]"
     ]
    },
    {
     "name": "stdout",
     "output_type": "stream",
     "text": [
      "Test Error: \n",
      " metric: 0.6602916717529297, Avg test loss: 1728849216.0 , loss = 63941296.0 \n",
      "\n",
      "Epoch 107\n",
      "-------------------------------------\n",
      "Test Error: \n",
      " metric: 0.6166385412216187, Avg test loss: 1722464746.6666667 , loss = 461880000.0 \n",
      "\n",
      "Epoch 108\n",
      "-------------------------------------\n"
     ]
    },
    {
     "name": "stderr",
     "output_type": "stream",
     "text": [
      "  7%|▋         | 109/1500 [00:18<03:56,  5.87it/s]"
     ]
    },
    {
     "name": "stdout",
     "output_type": "stream",
     "text": [
      "Test Error: \n",
      " metric: 0.5456303358078003, Avg test loss: 1861073642.6666667 , loss = 3045452544.0 \n",
      "\n",
      "Epoch 109\n",
      "-------------------------------------\n",
      "Test Error: \n",
      " metric: 0.7159280776977539, Avg test loss: 1493436992.0 , loss = 470793984.0 \n",
      "\n",
      "Epoch 110\n",
      "-------------------------------------\n"
     ]
    },
    {
     "name": "stderr",
     "output_type": "stream",
     "text": [
      "  7%|▋         | 111/1500 [00:18<03:54,  5.91it/s]"
     ]
    },
    {
     "name": "stdout",
     "output_type": "stream",
     "text": [
      "Test Error: \n",
      " metric: 0.72270268201828, Avg test loss: 1720765418.6666667 , loss = 357831136.0 \n",
      "\n",
      "Epoch 111\n",
      "-------------------------------------\n",
      "Test Error: \n",
      " metric: 0.5231592655181885, Avg test loss: 1848057418.6666667 , loss = 1417672448.0 \n",
      "\n",
      "Epoch 112\n",
      "-------------------------------------\n"
     ]
    },
    {
     "name": "stderr",
     "output_type": "stream",
     "text": [
      "  8%|▊         | 113/1500 [00:18<03:54,  5.92it/s]"
     ]
    },
    {
     "name": "stdout",
     "output_type": "stream",
     "text": [
      "Test Error: \n",
      " metric: 0.7239194512367249, Avg test loss: 1492725578.6666667 , loss = 357044320.0 \n",
      "\n",
      "Epoch 113\n",
      "-------------------------------------\n",
      "Test Error: \n",
      " metric: 0.6998322010040283, Avg test loss: 1396534986.6666667 , loss = 621717824.0 \n",
      "\n",
      "Epoch 114\n",
      "-------------------------------------\n"
     ]
    },
    {
     "name": "stderr",
     "output_type": "stream",
     "text": [
      "  8%|▊         | 115/1500 [00:19<03:56,  5.85it/s]"
     ]
    },
    {
     "name": "stdout",
     "output_type": "stream",
     "text": [
      "Test Error: \n",
      " metric: 0.7370748519897461, Avg test loss: 1501468832.0 , loss = 1814908416.0 \n",
      "\n",
      "Epoch 115\n",
      "-------------------------------------\n",
      "Test Error: \n",
      " metric: 0.7455140352249146, Avg test loss: 1569769493.3333333 , loss = 1085539072.0 \n",
      "\n",
      "Epoch 116\n",
      "-------------------------------------\n"
     ]
    },
    {
     "name": "stderr",
     "output_type": "stream",
     "text": [
      "  8%|▊         | 117/1500 [00:19<03:57,  5.83it/s]"
     ]
    },
    {
     "name": "stdout",
     "output_type": "stream",
     "text": [
      "Test Error: \n",
      " metric: 0.6800510883331299, Avg test loss: 1943014346.6666667 , loss = 1092663936.0 \n",
      "\n",
      "Epoch 117\n",
      "-------------------------------------\n",
      "Test Error: \n",
      " metric: 0.7099193334579468, Avg test loss: 1503714677.3333333 , loss = 1565748864.0 \n",
      "\n",
      "Epoch 118\n",
      "-------------------------------------\n"
     ]
    },
    {
     "name": "stderr",
     "output_type": "stream",
     "text": [
      "  8%|▊         | 119/1500 [00:19<03:53,  5.91it/s]"
     ]
    },
    {
     "name": "stdout",
     "output_type": "stream",
     "text": [
      "Test Error: \n",
      " metric: 0.6905249357223511, Avg test loss: 1807564810.6666667 , loss = 206901024.0 \n",
      "\n",
      "Epoch 119\n",
      "-------------------------------------\n",
      "Test Error: \n",
      " metric: 0.709447979927063, Avg test loss: 1395474282.6666667 , loss = 956796800.0 \n",
      "\n",
      "Epoch 120\n",
      "-------------------------------------\n"
     ]
    },
    {
     "name": "stderr",
     "output_type": "stream",
     "text": [
      "  8%|▊         | 121/1500 [00:20<03:50,  5.98it/s]"
     ]
    },
    {
     "name": "stdout",
     "output_type": "stream",
     "text": [
      "Test Error: \n",
      " metric: 0.6843545436859131, Avg test loss: 1518988245.3333333 , loss = 470683904.0 \n",
      "\n",
      "Epoch 121\n",
      "-------------------------------------\n",
      "Test Error: \n",
      " metric: 0.6549581289291382, Avg test loss: 1515817962.6666667 , loss = 2461362432.0 \n",
      "\n",
      "Epoch 122\n",
      "-------------------------------------\n"
     ]
    },
    {
     "name": "stderr",
     "output_type": "stream",
     "text": [
      "  8%|▊         | 123/1500 [00:20<03:51,  5.94it/s]"
     ]
    },
    {
     "name": "stdout",
     "output_type": "stream",
     "text": [
      "Test Error: \n",
      " metric: 0.6587657928466797, Avg test loss: 1513540576.0 , loss = 967256192.0 \n",
      "\n",
      "Epoch 123\n",
      "-------------------------------------\n",
      "Test Error: \n",
      " metric: 0.7038662433624268, Avg test loss: 1468115861.3333333 , loss = 1618949760.0 \n",
      "\n",
      "Epoch 124\n",
      "-------------------------------------\n"
     ]
    },
    {
     "name": "stderr",
     "output_type": "stream",
     "text": [
      "  8%|▊         | 125/1500 [00:20<03:52,  5.92it/s]"
     ]
    },
    {
     "name": "stdout",
     "output_type": "stream",
     "text": [
      "Test Error: \n",
      " metric: 0.5562343597412109, Avg test loss: 1833149173.3333333 , loss = 2264612096.0 \n",
      "\n",
      "Epoch 125\n",
      "-------------------------------------\n",
      "Test Error: \n",
      " metric: 0.7300630807876587, Avg test loss: 1380677674.6666667 , loss = 694697728.0 \n",
      "\n",
      "Epoch 126\n",
      "-------------------------------------\n"
     ]
    },
    {
     "name": "stderr",
     "output_type": "stream",
     "text": [
      "  8%|▊         | 127/1500 [00:21<03:50,  5.94it/s]"
     ]
    },
    {
     "name": "stdout",
     "output_type": "stream",
     "text": [
      "Test Error: \n",
      " metric: 0.7395027279853821, Avg test loss: 1477998005.3333333 , loss = 278482016.0 \n",
      "\n",
      "Epoch 127\n",
      "-------------------------------------\n",
      "Test Error: \n",
      " metric: 0.7379571199417114, Avg test loss: 1302769674.6666667 , loss = 1508069120.0 \n",
      "\n",
      "Epoch 128\n",
      "-------------------------------------\n"
     ]
    },
    {
     "name": "stderr",
     "output_type": "stream",
     "text": [
      "  9%|▊         | 129/1500 [00:21<03:49,  5.98it/s]"
     ]
    },
    {
     "name": "stdout",
     "output_type": "stream",
     "text": [
      "Test Error: \n",
      " metric: 0.7177495956420898, Avg test loss: 1665969770.6666667 , loss = 2092276736.0 \n",
      "\n",
      "Epoch 129\n",
      "-------------------------------------\n",
      "Test Error: \n",
      " metric: 0.721462607383728, Avg test loss: 1462559189.3333333 , loss = 376823936.0 \n",
      "\n",
      "Epoch 130\n",
      "-------------------------------------\n"
     ]
    },
    {
     "name": "stderr",
     "output_type": "stream",
     "text": [
      "  9%|▊         | 131/1500 [00:21<03:48,  6.00it/s]"
     ]
    },
    {
     "name": "stdout",
     "output_type": "stream",
     "text": [
      "Test Error: \n",
      " metric: 0.7577857971191406, Avg test loss: 1477260864.0 , loss = 3050771456.0 \n",
      "\n",
      "Epoch 131\n",
      "-------------------------------------\n",
      "Test Error: \n",
      " metric: 0.6552736759185791, Avg test loss: 1440320800.0 , loss = 489740576.0 \n",
      "\n",
      "Epoch 132\n",
      "-------------------------------------\n"
     ]
    },
    {
     "name": "stderr",
     "output_type": "stream",
     "text": [
      "  9%|▉         | 133/1500 [00:22<03:49,  5.96it/s]"
     ]
    },
    {
     "name": "stdout",
     "output_type": "stream",
     "text": [
      "Test Error: \n",
      " metric: 0.7459115386009216, Avg test loss: 1528642784.0 , loss = 2720925696.0 \n",
      "\n",
      "Epoch 133\n",
      "-------------------------------------\n",
      "Test Error: \n",
      " metric: 0.7512208223342896, Avg test loss: 1504654634.6666667 , loss = 2005273344.0 \n",
      "\n",
      "Epoch 134\n",
      "-------------------------------------\n"
     ]
    },
    {
     "name": "stderr",
     "output_type": "stream",
     "text": [
      "  9%|▉         | 135/1500 [00:22<03:46,  6.03it/s]"
     ]
    },
    {
     "name": "stdout",
     "output_type": "stream",
     "text": [
      "Test Error: \n",
      " metric: 0.6564105749130249, Avg test loss: 1566578389.3333333 , loss = 1364410880.0 \n",
      "\n",
      "Epoch 135\n",
      "-------------------------------------\n",
      "Test Error: \n",
      " metric: 0.5198682546615601, Avg test loss: 1842036469.3333333 , loss = 2928898048.0 \n",
      "\n",
      "Epoch 136\n",
      "-------------------------------------\n"
     ]
    },
    {
     "name": "stderr",
     "output_type": "stream",
     "text": [
      "  9%|▉         | 137/1500 [00:22<03:46,  6.02it/s]"
     ]
    },
    {
     "name": "stdout",
     "output_type": "stream",
     "text": [
      "Test Error: \n",
      " metric: 0.5373018980026245, Avg test loss: 1921211381.3333333 , loss = 733134464.0 \n",
      "\n",
      "Epoch 137\n",
      "-------------------------------------\n",
      "Test Error: \n",
      " metric: 0.6806779503822327, Avg test loss: 1452476544.0 , loss = 1881561984.0 \n",
      "\n",
      "Epoch 138\n",
      "-------------------------------------\n"
     ]
    },
    {
     "name": "stderr",
     "output_type": "stream",
     "text": [
      "  9%|▉         | 139/1500 [00:23<03:48,  5.94it/s]"
     ]
    },
    {
     "name": "stdout",
     "output_type": "stream",
     "text": [
      "Test Error: \n",
      " metric: 0.7230037450790405, Avg test loss: 1396621242.6666667 , loss = 1351681536.0 \n",
      "\n",
      "Epoch 139\n",
      "-------------------------------------\n",
      "Test Error: \n",
      " metric: 0.7270662784576416, Avg test loss: 1555589429.3333333 , loss = 1381165824.0 \n",
      "\n",
      "Epoch 140\n",
      "-------------------------------------\n"
     ]
    },
    {
     "name": "stderr",
     "output_type": "stream",
     "text": [
      "  9%|▉         | 141/1500 [00:23<03:49,  5.92it/s]"
     ]
    },
    {
     "name": "stdout",
     "output_type": "stream",
     "text": [
      "Test Error: \n",
      " metric: 0.6002451181411743, Avg test loss: 1581023754.6666667 , loss = 948676672.0 \n",
      "\n",
      "Epoch 141\n",
      "-------------------------------------\n",
      "Test Error: \n",
      " metric: 0.6671124696731567, Avg test loss: 1494101802.6666667 , loss = 434460000.0 \n",
      "\n",
      "Epoch 142\n",
      "-------------------------------------\n"
     ]
    },
    {
     "name": "stderr",
     "output_type": "stream",
     "text": [
      " 10%|▉         | 143/1500 [00:23<03:47,  5.95it/s]"
     ]
    },
    {
     "name": "stdout",
     "output_type": "stream",
     "text": [
      "Test Error: \n",
      " metric: 0.5915088653564453, Avg test loss: 1624304085.3333333 , loss = 1174064128.0 \n",
      "\n",
      "Epoch 143\n",
      "-------------------------------------\n",
      "Test Error: \n",
      " metric: 0.7351769208908081, Avg test loss: 1704681130.6666667 , loss = 3111708928.0 \n",
      "\n",
      "Epoch 144\n",
      "-------------------------------------\n"
     ]
    },
    {
     "name": "stderr",
     "output_type": "stream",
     "text": [
      " 10%|▉         | 145/1500 [00:24<03:46,  5.98it/s]"
     ]
    },
    {
     "name": "stdout",
     "output_type": "stream",
     "text": [
      "Test Error: \n",
      " metric: 0.7225412726402283, Avg test loss: 1703678549.3333333 , loss = 3553224704.0 \n",
      "\n",
      "Epoch 145\n",
      "-------------------------------------\n",
      "Test Error: \n",
      " metric: 0.6945552825927734, Avg test loss: 1445008778.6666667 , loss = 640666944.0 \n",
      "\n",
      "Epoch 146\n",
      "-------------------------------------\n"
     ]
    },
    {
     "name": "stderr",
     "output_type": "stream",
     "text": [
      " 10%|▉         | 147/1500 [00:24<03:46,  5.98it/s]"
     ]
    },
    {
     "name": "stdout",
     "output_type": "stream",
     "text": [
      "Test Error: \n",
      " metric: 0.7076207399368286, Avg test loss: 1775238229.3333333 , loss = 653743488.0 \n",
      "\n",
      "Epoch 147\n",
      "-------------------------------------\n",
      "Test Error: \n",
      " metric: 0.7120856046676636, Avg test loss: 1307343029.3333333 , loss = 1912222336.0 \n",
      "\n",
      "Epoch 148\n",
      "-------------------------------------\n"
     ]
    },
    {
     "name": "stderr",
     "output_type": "stream",
     "text": [
      " 10%|▉         | 149/1500 [00:24<03:46,  5.97it/s]"
     ]
    },
    {
     "name": "stdout",
     "output_type": "stream",
     "text": [
      "Test Error: \n",
      " metric: 0.7009360790252686, Avg test loss: 1440457258.6666667 , loss = 306715072.0 \n",
      "\n",
      "Epoch 149\n",
      "-------------------------------------\n",
      "Test Error: \n",
      " metric: 0.7163388729095459, Avg test loss: 1586758176.0 , loss = 2558271488.0 \n",
      "\n",
      "Epoch 150\n",
      "-------------------------------------\n"
     ]
    },
    {
     "name": "stderr",
     "output_type": "stream",
     "text": [
      " 10%|█         | 151/1500 [00:25<03:45,  5.97it/s]"
     ]
    },
    {
     "name": "stdout",
     "output_type": "stream",
     "text": [
      "Test Error: \n",
      " metric: 0.6011532545089722, Avg test loss: 1669379893.3333333 , loss = 1937756416.0 \n",
      "\n",
      "Epoch 151\n",
      "-------------------------------------\n",
      "Test Error: \n",
      " metric: 0.7429062128067017, Avg test loss: 1388094752.0 , loss = 1114434688.0 \n",
      "\n",
      "Epoch 152\n",
      "-------------------------------------\n"
     ]
    },
    {
     "name": "stderr",
     "output_type": "stream",
     "text": [
      " 10%|█         | 153/1500 [00:25<03:45,  5.98it/s]"
     ]
    },
    {
     "name": "stdout",
     "output_type": "stream",
     "text": [
      "Test Error: \n",
      " metric: 0.7221140265464783, Avg test loss: 1442926784.0 , loss = 183913328.0 \n",
      "\n",
      "Epoch 153\n",
      "-------------------------------------\n",
      "Test Error: \n",
      " metric: 0.7688922882080078, Avg test loss: 1437872800.0 , loss = 3073161728.0 \n",
      "\n",
      "Epoch 154\n",
      "-------------------------------------\n"
     ]
    },
    {
     "name": "stderr",
     "output_type": "stream",
     "text": [
      " 10%|█         | 155/1500 [00:25<03:50,  5.85it/s]"
     ]
    },
    {
     "name": "stdout",
     "output_type": "stream",
     "text": [
      "Test Error: \n",
      " metric: 0.7110304832458496, Avg test loss: 1463816917.3333333 , loss = 828854976.0 \n",
      "\n",
      "Epoch 155\n",
      "-------------------------------------\n",
      "Test Error: \n",
      " metric: 0.6788145303726196, Avg test loss: 1445209685.3333333 , loss = 163317424.0 \n",
      "\n",
      "Epoch 156\n",
      "-------------------------------------\n"
     ]
    },
    {
     "name": "stderr",
     "output_type": "stream",
     "text": [
      " 10%|█         | 157/1500 [00:26<03:47,  5.90it/s]"
     ]
    },
    {
     "name": "stdout",
     "output_type": "stream",
     "text": [
      "Test Error: \n",
      " metric: 0.7285866141319275, Avg test loss: 1630364842.6666667 , loss = 443304192.0 \n",
      "\n",
      "Epoch 157\n",
      "-------------------------------------\n",
      "Test Error: \n",
      " metric: 0.6826601028442383, Avg test loss: 1392770432.0 , loss = 1829301504.0 \n",
      "\n",
      "Epoch 158\n",
      "-------------------------------------\n"
     ]
    },
    {
     "name": "stderr",
     "output_type": "stream",
     "text": [
      " 11%|█         | 159/1500 [00:26<03:47,  5.90it/s]"
     ]
    },
    {
     "name": "stdout",
     "output_type": "stream",
     "text": [
      "Test Error: \n",
      " metric: 0.7467369437217712, Avg test loss: 1460186368.0 , loss = 2322552576.0 \n",
      "\n",
      "Epoch 159\n",
      "-------------------------------------\n",
      "Test Error: \n",
      " metric: 0.7502894997596741, Avg test loss: 1514138400.0 , loss = 590712704.0 \n",
      "\n",
      "Epoch 160\n",
      "-------------------------------------\n"
     ]
    },
    {
     "name": "stderr",
     "output_type": "stream",
     "text": [
      " 11%|█         | 161/1500 [00:26<03:47,  5.88it/s]"
     ]
    },
    {
     "name": "stdout",
     "output_type": "stream",
     "text": [
      "Test Error: \n",
      " metric: 0.7348834276199341, Avg test loss: 1241788762.6666667 , loss = 496389248.0 \n",
      "\n",
      "Epoch 161\n",
      "-------------------------------------\n",
      "Test Error: \n",
      " metric: 0.7087041139602661, Avg test loss: 1386089386.6666667 , loss = 191486528.0 \n",
      "\n",
      "Epoch 162\n",
      "-------------------------------------\n"
     ]
    },
    {
     "name": "stderr",
     "output_type": "stream",
     "text": [
      " 11%|█         | 163/1500 [00:27<03:47,  5.87it/s]"
     ]
    },
    {
     "name": "stdout",
     "output_type": "stream",
     "text": [
      "Test Error: \n",
      " metric: 0.7134788632392883, Avg test loss: 1448935776.0 , loss = 776555840.0 \n",
      "\n",
      "Epoch 163\n",
      "-------------------------------------\n",
      "Test Error: \n",
      " metric: 0.7581535577774048, Avg test loss: 1303158245.3333333 , loss = 2645113856.0 \n",
      "\n",
      "Epoch 164\n",
      "-------------------------------------\n"
     ]
    },
    {
     "name": "stderr",
     "output_type": "stream",
     "text": [
      " 11%|█         | 165/1500 [00:27<03:45,  5.91it/s]"
     ]
    },
    {
     "name": "stdout",
     "output_type": "stream",
     "text": [
      "Test Error: \n",
      " metric: 0.7617829442024231, Avg test loss: 1417702069.3333333 , loss = 4474468352.0 \n",
      "\n",
      "Epoch 165\n",
      "-------------------------------------\n",
      "Test Error: \n",
      " metric: 0.6880257725715637, Avg test loss: 1391800298.6666667 , loss = 321041984.0 \n",
      "\n",
      "Epoch 166\n",
      "-------------------------------------\n"
     ]
    },
    {
     "name": "stderr",
     "output_type": "stream",
     "text": [
      " 11%|█         | 167/1500 [00:28<03:46,  5.90it/s]"
     ]
    },
    {
     "name": "stdout",
     "output_type": "stream",
     "text": [
      "Test Error: \n",
      " metric: 0.7534647583961487, Avg test loss: 1365997760.0 , loss = 1410175360.0 \n",
      "\n",
      "Epoch 167\n",
      "-------------------------------------\n",
      "Test Error: \n",
      " metric: 0.7094119787216187, Avg test loss: 1411977280.0 , loss = 3725769472.0 \n",
      "\n",
      "Epoch 168\n",
      "-------------------------------------\n"
     ]
    },
    {
     "name": "stderr",
     "output_type": "stream",
     "text": [
      " 11%|█▏        | 169/1500 [00:28<03:45,  5.91it/s]"
     ]
    },
    {
     "name": "stdout",
     "output_type": "stream",
     "text": [
      "Test Error: \n",
      " metric: 0.7438585162162781, Avg test loss: 1721073397.3333333 , loss = 1021658624.0 \n",
      "\n",
      "Epoch 169\n",
      "-------------------------------------\n",
      "Test Error: \n",
      " metric: 0.7244809865951538, Avg test loss: 1467126208.0 , loss = 847880704.0 \n",
      "\n",
      "Epoch 170\n",
      "-------------------------------------\n"
     ]
    },
    {
     "name": "stderr",
     "output_type": "stream",
     "text": [
      " 11%|█▏        | 171/1500 [00:28<03:49,  5.78it/s]"
     ]
    },
    {
     "name": "stdout",
     "output_type": "stream",
     "text": [
      "Test Error: \n",
      " metric: 0.7240980267524719, Avg test loss: 1358133338.6666667 , loss = 543526848.0 \n",
      "\n",
      "Epoch 171\n",
      "-------------------------------------\n",
      "Test Error: \n",
      " metric: 0.45136088132858276, Avg test loss: 1872058560.0 , loss = 900208768.0 \n",
      "\n",
      "Epoch 172\n",
      "-------------------------------------\n"
     ]
    },
    {
     "name": "stderr",
     "output_type": "stream",
     "text": [
      " 12%|█▏        | 173/1500 [00:29<03:44,  5.90it/s]"
     ]
    },
    {
     "name": "stdout",
     "output_type": "stream",
     "text": [
      "Test Error: \n",
      " metric: 0.6583888530731201, Avg test loss: 1500569344.0 , loss = 4005455616.0 \n",
      "\n",
      "Epoch 173\n",
      "-------------------------------------\n",
      "Test Error: \n",
      " metric: 0.7448501586914062, Avg test loss: 1310416714.6666667 , loss = 6531973120.0 \n",
      "\n",
      "Epoch 174\n",
      "-------------------------------------\n"
     ]
    },
    {
     "name": "stderr",
     "output_type": "stream",
     "text": [
      " 12%|█▏        | 175/1500 [00:29<03:42,  5.96it/s]"
     ]
    },
    {
     "name": "stdout",
     "output_type": "stream",
     "text": [
      "Test Error: \n",
      " metric: 0.6981099843978882, Avg test loss: 1589512320.0 , loss = 1339133184.0 \n",
      "\n",
      "Epoch 175\n",
      "-------------------------------------\n",
      "Test Error: \n",
      " metric: 0.7081171274185181, Avg test loss: 1443655424.0 , loss = 1294425088.0 \n",
      "\n",
      "Epoch 176\n",
      "-------------------------------------\n"
     ]
    },
    {
     "name": "stderr",
     "output_type": "stream",
     "text": [
      " 12%|█▏        | 177/1500 [00:29<03:41,  5.97it/s]"
     ]
    },
    {
     "name": "stdout",
     "output_type": "stream",
     "text": [
      "Test Error: \n",
      " metric: 0.5367809534072876, Avg test loss: 1941907189.3333333 , loss = 602460864.0 \n",
      "\n",
      "Epoch 177\n",
      "-------------------------------------\n",
      "Test Error: \n",
      " metric: 0.741758406162262, Avg test loss: 1337175520.0 , loss = 4309913600.0 \n",
      "\n",
      "Epoch 178\n",
      "-------------------------------------\n"
     ]
    },
    {
     "name": "stderr",
     "output_type": "stream",
     "text": [
      " 12%|█▏        | 179/1500 [00:30<03:38,  6.03it/s]"
     ]
    },
    {
     "name": "stdout",
     "output_type": "stream",
     "text": [
      "Test Error: \n",
      " metric: 0.7577336430549622, Avg test loss: 1427347402.6666667 , loss = 868540032.0 \n",
      "\n",
      "Epoch 179\n",
      "-------------------------------------\n",
      "Test Error: \n",
      " metric: 0.7449958324432373, Avg test loss: 1348512149.3333333 , loss = 946442368.0 \n",
      "\n",
      "Epoch 180\n",
      "-------------------------------------\n"
     ]
    },
    {
     "name": "stderr",
     "output_type": "stream",
     "text": [
      " 12%|█▏        | 181/1500 [00:30<03:38,  6.03it/s]"
     ]
    },
    {
     "name": "stdout",
     "output_type": "stream",
     "text": [
      "Test Error: \n",
      " metric: 0.7510551810264587, Avg test loss: 1332966666.6666667 , loss = 2188503040.0 \n",
      "\n",
      "Epoch 181\n",
      "-------------------------------------\n",
      "Test Error: \n",
      " metric: 0.7230371832847595, Avg test loss: 1644649152.0 , loss = 467885152.0 \n",
      "\n",
      "Epoch 182\n",
      "-------------------------------------\n"
     ]
    },
    {
     "name": "stderr",
     "output_type": "stream",
     "text": [
      " 12%|█▏        | 183/1500 [00:30<03:38,  6.02it/s]"
     ]
    },
    {
     "name": "stdout",
     "output_type": "stream",
     "text": [
      "Test Error: \n",
      " metric: 0.7542458176612854, Avg test loss: 1480874624.0 , loss = 934991872.0 \n",
      "\n",
      "Epoch 183\n",
      "-------------------------------------\n",
      "Test Error: \n",
      " metric: 0.7293102741241455, Avg test loss: 1456929792.0 , loss = 258024160.0 \n",
      "\n",
      "Epoch 184\n",
      "-------------------------------------\n"
     ]
    },
    {
     "name": "stderr",
     "output_type": "stream",
     "text": [
      " 12%|█▏        | 185/1500 [00:31<03:38,  6.01it/s]"
     ]
    },
    {
     "name": "stdout",
     "output_type": "stream",
     "text": [
      "Test Error: \n",
      " metric: 0.7396450042724609, Avg test loss: 1218022933.3333333 , loss = 949570176.0 \n",
      "\n",
      "Epoch 185\n",
      "-------------------------------------\n",
      "Test Error: \n",
      " metric: 0.7581706047058105, Avg test loss: 1464350645.3333333 , loss = 401866752.0 \n",
      "\n",
      "Epoch 186\n",
      "-------------------------------------\n"
     ]
    },
    {
     "name": "stderr",
     "output_type": "stream",
     "text": [
      " 12%|█▏        | 187/1500 [00:31<03:40,  5.95it/s]"
     ]
    },
    {
     "name": "stdout",
     "output_type": "stream",
     "text": [
      "Test Error: \n",
      " metric: 0.5531754493713379, Avg test loss: 1838717045.3333333 , loss = 378797504.0 \n",
      "\n",
      "Epoch 187\n",
      "-------------------------------------\n",
      "Test Error: \n",
      " metric: 0.7234463095664978, Avg test loss: 1314829760.0 , loss = 688116224.0 \n",
      "\n",
      "Epoch 188\n",
      "-------------------------------------\n"
     ]
    },
    {
     "name": "stderr",
     "output_type": "stream",
     "text": [
      " 13%|█▎        | 189/1500 [00:31<03:39,  5.97it/s]"
     ]
    },
    {
     "name": "stdout",
     "output_type": "stream",
     "text": [
      "Test Error: \n",
      " metric: 0.7738403081893921, Avg test loss: 1274312394.6666667 , loss = 1479758592.0 \n",
      "\n",
      "Epoch 189\n",
      "-------------------------------------\n",
      "Test Error: \n",
      " metric: 0.7534472942352295, Avg test loss: 1531009258.6666667 , loss = 1366614656.0 \n",
      "\n",
      "Epoch 190\n",
      "-------------------------------------\n"
     ]
    },
    {
     "name": "stderr",
     "output_type": "stream",
     "text": [
      " 13%|█▎        | 191/1500 [00:32<03:44,  5.84it/s]"
     ]
    },
    {
     "name": "stdout",
     "output_type": "stream",
     "text": [
      "Test Error: \n",
      " metric: 0.7598142623901367, Avg test loss: 1500030026.6666667 , loss = 240612272.0 \n",
      "\n",
      "Epoch 191\n",
      "-------------------------------------\n",
      "Test Error: \n",
      " metric: 0.6913568377494812, Avg test loss: 1355128096.0 , loss = 50629176.0 \n",
      "\n",
      "Epoch 192\n",
      "-------------------------------------\n"
     ]
    },
    {
     "name": "stderr",
     "output_type": "stream",
     "text": [
      " 13%|█▎        | 193/1500 [00:32<03:41,  5.90it/s]"
     ]
    },
    {
     "name": "stdout",
     "output_type": "stream",
     "text": [
      "Test Error: \n",
      " metric: 0.6540181040763855, Avg test loss: 1363796016.0 , loss = 1464852224.0 \n",
      "\n",
      "Epoch 193\n",
      "-------------------------------------\n",
      "Test Error: \n",
      " metric: 0.6973694562911987, Avg test loss: 1318665450.6666667 , loss = 2435578368.0 \n",
      "\n",
      "Epoch 194\n",
      "-------------------------------------\n"
     ]
    },
    {
     "name": "stderr",
     "output_type": "stream",
     "text": [
      " 13%|█▎        | 195/1500 [00:32<03:39,  5.95it/s]"
     ]
    },
    {
     "name": "stdout",
     "output_type": "stream",
     "text": [
      "Test Error: \n",
      " metric: 0.7812984585762024, Avg test loss: 1396791584.0 , loss = 381891584.0 \n",
      "\n",
      "Epoch 195\n",
      "-------------------------------------\n",
      "Test Error: \n",
      " metric: 0.4504561424255371, Avg test loss: 2306936341.3333335 , loss = 3426237440.0 \n",
      "\n",
      "Epoch 196\n",
      "-------------------------------------\n"
     ]
    },
    {
     "name": "stderr",
     "output_type": "stream",
     "text": [
      " 13%|█▎        | 197/1500 [00:33<03:44,  5.80it/s]"
     ]
    },
    {
     "name": "stdout",
     "output_type": "stream",
     "text": [
      "Test Error: \n",
      " metric: 0.747421145439148, Avg test loss: 1245033920.0 , loss = 293445120.0 \n",
      "\n",
      "Epoch 197\n",
      "-------------------------------------\n",
      "Test Error: \n",
      " metric: 0.7628037333488464, Avg test loss: 1195799189.3333333 , loss = 115489280.0 \n",
      "\n",
      "Epoch 198\n",
      "-------------------------------------\n"
     ]
    },
    {
     "name": "stderr",
     "output_type": "stream",
     "text": [
      " 13%|█▎        | 199/1500 [00:33<03:55,  5.52it/s]"
     ]
    },
    {
     "name": "stdout",
     "output_type": "stream",
     "text": [
      "Test Error: \n",
      " metric: 0.7329602241516113, Avg test loss: 1240471786.6666667 , loss = 727483200.0 \n",
      "\n",
      "Epoch 199\n",
      "-------------------------------------\n",
      "Test Error: \n",
      " metric: 0.6524529457092285, Avg test loss: 1590651968.0 , loss = 775812096.0 \n",
      "\n",
      "Epoch 200\n",
      "-------------------------------------\n"
     ]
    },
    {
     "name": "stderr",
     "output_type": "stream",
     "text": [
      " 13%|█▎        | 201/1500 [00:33<03:58,  5.45it/s]"
     ]
    },
    {
     "name": "stdout",
     "output_type": "stream",
     "text": [
      "Test Error: \n",
      " metric: 0.7739808559417725, Avg test loss: 1169134165.3333333 , loss = 940498688.0 \n",
      "\n",
      "Epoch 201\n",
      "-------------------------------------\n",
      "Test Error: \n",
      " metric: 0.7586348056793213, Avg test loss: 1367394074.6666667 , loss = 374380416.0 \n",
      "\n",
      "Epoch 202\n",
      "-------------------------------------\n"
     ]
    },
    {
     "name": "stderr",
     "output_type": "stream",
     "text": [
      " 14%|█▎        | 203/1500 [00:34<03:41,  5.85it/s]"
     ]
    },
    {
     "name": "stdout",
     "output_type": "stream",
     "text": [
      "Test Error: \n",
      " metric: 0.7484912872314453, Avg test loss: 1339627189.3333333 , loss = 288980448.0 \n",
      "\n",
      "Epoch 203\n",
      "-------------------------------------\n",
      "Test Error: \n",
      " metric: 0.7171648740768433, Avg test loss: 1252552405.3333333 , loss = 1038405056.0 \n",
      "\n",
      "Epoch 204\n",
      "-------------------------------------\n"
     ]
    },
    {
     "name": "stderr",
     "output_type": "stream",
     "text": [
      " 14%|█▎        | 205/1500 [00:34<03:41,  5.86it/s]"
     ]
    },
    {
     "name": "stdout",
     "output_type": "stream",
     "text": [
      "Test Error: \n",
      " metric: 0.6777424812316895, Avg test loss: 1450593941.3333333 , loss = 492499776.0 \n",
      "\n",
      "Epoch 205\n",
      "-------------------------------------\n",
      "Test Error: \n",
      " metric: 0.7811012268066406, Avg test loss: 1178424789.3333333 , loss = 1765027968.0 \n",
      "\n",
      "Epoch 206\n",
      "-------------------------------------\n"
     ]
    },
    {
     "name": "stderr",
     "output_type": "stream",
     "text": [
      " 14%|█▍        | 207/1500 [00:34<03:41,  5.84it/s]"
     ]
    },
    {
     "name": "stdout",
     "output_type": "stream",
     "text": [
      "Test Error: \n",
      " metric: 0.7155047655105591, Avg test loss: 1350273962.6666667 , loss = 1748910208.0 \n",
      "\n",
      "Epoch 207\n",
      "-------------------------------------\n",
      "Test Error: \n",
      " metric: 0.7332396507263184, Avg test loss: 1230149653.3333333 , loss = 4809932800.0 \n",
      "\n",
      "Epoch 208\n",
      "-------------------------------------\n"
     ]
    },
    {
     "name": "stderr",
     "output_type": "stream",
     "text": [
      " 14%|█▍        | 209/1500 [00:35<03:37,  5.92it/s]"
     ]
    },
    {
     "name": "stdout",
     "output_type": "stream",
     "text": [
      "Test Error: \n",
      " metric: 0.747061550617218, Avg test loss: 1383623328.0 , loss = 4056964096.0 \n",
      "\n",
      "Epoch 209\n",
      "-------------------------------------\n",
      "Test Error: \n",
      " metric: 0.739774763584137, Avg test loss: 1186226160.0 , loss = 508395776.0 \n",
      "\n",
      "Epoch 210\n",
      "-------------------------------------\n"
     ]
    },
    {
     "name": "stderr",
     "output_type": "stream",
     "text": [
      " 14%|█▍        | 211/1500 [00:35<03:31,  6.10it/s]"
     ]
    },
    {
     "name": "stdout",
     "output_type": "stream",
     "text": [
      "Test Error: \n",
      " metric: 0.5922141075134277, Avg test loss: 1664585984.0 , loss = 985965696.0 \n",
      "\n",
      "Epoch 211\n",
      "-------------------------------------\n",
      "Test Error: \n",
      " metric: 0.714514970779419, Avg test loss: 1308124320.0 , loss = 2203685888.0 \n",
      "\n",
      "Epoch 212\n",
      "-------------------------------------\n"
     ]
    },
    {
     "name": "stderr",
     "output_type": "stream",
     "text": [
      " 14%|█▍        | 213/1500 [00:35<03:27,  6.19it/s]"
     ]
    },
    {
     "name": "stdout",
     "output_type": "stream",
     "text": [
      "Test Error: \n",
      " metric: 0.7106612324714661, Avg test loss: 1309389184.0 , loss = 1397822720.0 \n",
      "\n",
      "Epoch 213\n",
      "-------------------------------------\n",
      "Test Error: \n",
      " metric: 0.6985636949539185, Avg test loss: 1281678570.6666667 , loss = 230818720.0 \n",
      "\n",
      "Epoch 214\n",
      "-------------------------------------\n"
     ]
    },
    {
     "name": "stderr",
     "output_type": "stream",
     "text": [
      " 14%|█▍        | 215/1500 [00:36<03:26,  6.22it/s]"
     ]
    },
    {
     "name": "stdout",
     "output_type": "stream",
     "text": [
      "Test Error: \n",
      " metric: 0.7642625570297241, Avg test loss: 1321283722.6666667 , loss = 92614040.0 \n",
      "\n",
      "Epoch 215\n",
      "-------------------------------------\n",
      "Test Error: \n",
      " metric: 0.7496068477630615, Avg test loss: 1353004554.6666667 , loss = 648970112.0 \n",
      "\n",
      "Epoch 216\n",
      "-------------------------------------\n"
     ]
    },
    {
     "name": "stderr",
     "output_type": "stream",
     "text": [
      " 14%|█▍        | 217/1500 [00:36<03:24,  6.28it/s]"
     ]
    },
    {
     "name": "stdout",
     "output_type": "stream",
     "text": [
      "Test Error: \n",
      " metric: 0.7666367292404175, Avg test loss: 1245616421.3333333 , loss = 1309893888.0 \n",
      "\n",
      "Epoch 217\n",
      "-------------------------------------\n",
      "Test Error: \n",
      " metric: 0.7439242601394653, Avg test loss: 1525729728.0 , loss = 413911744.0 \n",
      "\n",
      "Epoch 218\n",
      "-------------------------------------\n"
     ]
    },
    {
     "name": "stderr",
     "output_type": "stream",
     "text": [
      " 15%|█▍        | 219/1500 [00:36<03:23,  6.29it/s]"
     ]
    },
    {
     "name": "stdout",
     "output_type": "stream",
     "text": [
      "Test Error: \n",
      " metric: 0.7858233451843262, Avg test loss: 1201456789.3333333 , loss = 176132864.0 \n",
      "\n",
      "Epoch 219\n",
      "-------------------------------------\n",
      "Test Error: \n",
      " metric: 0.7401408553123474, Avg test loss: 1275798634.6666667 , loss = 242520896.0 \n",
      "\n",
      "Epoch 220\n",
      "-------------------------------------\n"
     ]
    },
    {
     "name": "stderr",
     "output_type": "stream",
     "text": [
      " 15%|█▍        | 221/1500 [00:37<03:25,  6.23it/s]"
     ]
    },
    {
     "name": "stdout",
     "output_type": "stream",
     "text": [
      "Test Error: \n",
      " metric: 0.42997413873672485, Avg test loss: 2336557525.3333335 , loss = 779918144.0 \n",
      "\n",
      "Epoch 221\n",
      "-------------------------------------\n",
      "Test Error: \n",
      " metric: 0.7696170806884766, Avg test loss: 1314336245.3333333 , loss = 742261504.0 \n",
      "\n",
      "Epoch 222\n",
      "-------------------------------------\n"
     ]
    },
    {
     "name": "stderr",
     "output_type": "stream",
     "text": [
      " 15%|█▍        | 223/1500 [00:37<03:24,  6.24it/s]"
     ]
    },
    {
     "name": "stdout",
     "output_type": "stream",
     "text": [
      "Test Error: \n",
      " metric: 0.7422093749046326, Avg test loss: 1167190378.6666667 , loss = 295164000.0 \n",
      "\n",
      "Epoch 223\n",
      "-------------------------------------\n",
      "Test Error: \n",
      " metric: 0.7670400142669678, Avg test loss: 1261884949.3333333 , loss = 442955264.0 \n",
      "\n",
      "Epoch 224\n",
      "-------------------------------------\n"
     ]
    },
    {
     "name": "stderr",
     "output_type": "stream",
     "text": [
      " 15%|█▌        | 225/1500 [00:37<03:24,  6.23it/s]"
     ]
    },
    {
     "name": "stdout",
     "output_type": "stream",
     "text": [
      "Test Error: \n",
      " metric: 0.757118821144104, Avg test loss: 1181106496.0 , loss = 447349504.0 \n",
      "\n",
      "Epoch 225\n",
      "-------------------------------------\n",
      "Test Error: \n",
      " metric: 0.7538332343101501, Avg test loss: 1185091776.0 , loss = 106274648.0 \n",
      "\n",
      "Epoch 226\n",
      "-------------------------------------\n"
     ]
    },
    {
     "name": "stderr",
     "output_type": "stream",
     "text": [
      " 15%|█▌        | 227/1500 [00:38<03:26,  6.17it/s]"
     ]
    },
    {
     "name": "stdout",
     "output_type": "stream",
     "text": [
      "Test Error: \n",
      " metric: 0.7374625205993652, Avg test loss: 1976957386.6666667 , loss = 502913664.0 \n",
      "\n",
      "Epoch 227\n",
      "-------------------------------------\n",
      "Test Error: \n",
      " metric: 0.7110586166381836, Avg test loss: 1744376736.0 , loss = 819077504.0 \n",
      "\n",
      "Epoch 228\n",
      "-------------------------------------\n"
     ]
    },
    {
     "name": "stderr",
     "output_type": "stream",
     "text": [
      " 15%|█▌        | 229/1500 [00:38<03:27,  6.13it/s]"
     ]
    },
    {
     "name": "stdout",
     "output_type": "stream",
     "text": [
      "Test Error: \n",
      " metric: 0.7750468850135803, Avg test loss: 1447112490.6666667 , loss = 573081856.0 \n",
      "\n",
      "Epoch 229\n",
      "-------------------------------------\n",
      "Test Error: \n",
      " metric: 0.7745175957679749, Avg test loss: 1383207594.6666667 , loss = 2921420544.0 \n",
      "\n",
      "Epoch 230\n",
      "-------------------------------------\n"
     ]
    },
    {
     "name": "stderr",
     "output_type": "stream",
     "text": [
      " 15%|█▌        | 231/1500 [00:38<03:25,  6.16it/s]"
     ]
    },
    {
     "name": "stdout",
     "output_type": "stream",
     "text": [
      "Test Error: \n",
      " metric: 0.7569323778152466, Avg test loss: 1550711509.3333333 , loss = 369418400.0 \n",
      "\n",
      "Epoch 231\n",
      "-------------------------------------\n",
      "Test Error: \n",
      " metric: 0.6946839094161987, Avg test loss: 1425469248.0 , loss = 1975281536.0 \n",
      "\n",
      "Epoch 232\n",
      "-------------------------------------\n"
     ]
    },
    {
     "name": "stderr",
     "output_type": "stream",
     "text": [
      " 16%|█▌        | 233/1500 [00:39<03:22,  6.24it/s]"
     ]
    },
    {
     "name": "stdout",
     "output_type": "stream",
     "text": [
      "Test Error: \n",
      " metric: 0.6720881462097168, Avg test loss: 1441441130.6666667 , loss = 311650496.0 \n",
      "\n",
      "Epoch 233\n",
      "-------------------------------------\n",
      "Test Error: \n",
      " metric: 0.6757696866989136, Avg test loss: 1310132458.6666667 , loss = 2965906944.0 \n",
      "\n",
      "Epoch 234\n",
      "-------------------------------------\n"
     ]
    },
    {
     "name": "stderr",
     "output_type": "stream",
     "text": [
      " 16%|█▌        | 235/1500 [00:39<03:21,  6.27it/s]"
     ]
    },
    {
     "name": "stdout",
     "output_type": "stream",
     "text": [
      "Test Error: \n",
      " metric: 0.7968865633010864, Avg test loss: 1144040501.3333333 , loss = 1729936896.0 \n",
      "\n",
      "Epoch 235\n",
      "-------------------------------------\n",
      "Test Error: \n",
      " metric: 0.7572512030601501, Avg test loss: 1362720618.6666667 , loss = 905086656.0 \n",
      "\n",
      "Epoch 236\n",
      "-------------------------------------\n"
     ]
    },
    {
     "name": "stderr",
     "output_type": "stream",
     "text": [
      " 16%|█▌        | 237/1500 [00:39<03:17,  6.40it/s]"
     ]
    },
    {
     "name": "stdout",
     "output_type": "stream",
     "text": [
      "Test Error: \n",
      " metric: 0.7701399326324463, Avg test loss: 1200185461.3333333 , loss = 1451212544.0 \n",
      "\n",
      "Epoch 237\n",
      "-------------------------------------\n",
      "Test Error: \n",
      " metric: 0.7917307019233704, Avg test loss: 1158996874.6666667 , loss = 345242944.0 \n",
      "\n",
      "Epoch 238\n",
      "-------------------------------------\n"
     ]
    },
    {
     "name": "stderr",
     "output_type": "stream",
     "text": [
      " 16%|█▌        | 239/1500 [00:39<03:17,  6.38it/s]"
     ]
    },
    {
     "name": "stdout",
     "output_type": "stream",
     "text": [
      "Test Error: \n",
      " metric: 0.7820428609848022, Avg test loss: 1172036618.6666667 , loss = 88701856.0 \n",
      "\n",
      "Epoch 239\n",
      "-------------------------------------\n",
      "Test Error: \n",
      " metric: 0.7907481789588928, Avg test loss: 1180050096.0 , loss = 226281792.0 \n",
      "\n",
      "Epoch 240\n",
      "-------------------------------------\n"
     ]
    },
    {
     "name": "stderr",
     "output_type": "stream",
     "text": [
      " 16%|█▌        | 241/1500 [00:40<03:18,  6.35it/s]"
     ]
    },
    {
     "name": "stdout",
     "output_type": "stream",
     "text": [
      "Test Error: \n",
      " metric: 0.7585486769676208, Avg test loss: 1248694144.0 , loss = 625138496.0 \n",
      "\n",
      "Epoch 241\n",
      "-------------------------------------\n",
      "Test Error: \n",
      " metric: 0.7655313611030579, Avg test loss: 1521630400.0 , loss = 1631913472.0 \n",
      "\n",
      "Epoch 242\n",
      "-------------------------------------\n"
     ]
    },
    {
     "name": "stderr",
     "output_type": "stream",
     "text": [
      " 16%|█▌        | 243/1500 [00:40<03:18,  6.34it/s]"
     ]
    },
    {
     "name": "stdout",
     "output_type": "stream",
     "text": [
      "Test Error: \n",
      " metric: 0.80840665102005, Avg test loss: 1168947434.6666667 , loss = 2764200960.0 \n",
      "\n",
      "Epoch 243\n",
      "-------------------------------------\n",
      "Test Error: \n",
      " metric: 0.7870786190032959, Avg test loss: 1146713216.0 , loss = 299320928.0 \n",
      "\n",
      "Epoch 244\n",
      "-------------------------------------\n"
     ]
    },
    {
     "name": "stderr",
     "output_type": "stream",
     "text": [
      " 16%|█▋        | 245/1500 [00:40<03:12,  6.53it/s]"
     ]
    },
    {
     "name": "stdout",
     "output_type": "stream",
     "text": [
      "Test Error: \n",
      " metric: 0.542750895023346, Avg test loss: 1908472554.6666667 , loss = 1739443456.0 \n",
      "\n",
      "Epoch 245\n",
      "-------------------------------------\n",
      "Test Error: \n",
      " metric: 0.7241623401641846, Avg test loss: 1210238442.6666667 , loss = 2155319296.0 \n",
      "\n",
      "Epoch 246\n",
      "-------------------------------------\n"
     ]
    },
    {
     "name": "stderr",
     "output_type": "stream",
     "text": [
      " 16%|█▋        | 247/1500 [00:41<03:12,  6.51it/s]"
     ]
    },
    {
     "name": "stdout",
     "output_type": "stream",
     "text": [
      "Test Error: \n",
      " metric: 0.6759127378463745, Avg test loss: 1323502538.6666667 , loss = 3278917120.0 \n",
      "\n",
      "Epoch 247\n",
      "-------------------------------------\n",
      "Test Error: \n",
      " metric: 0.8042179346084595, Avg test loss: 1095925696.0 , loss = 574482496.0 \n",
      "\n",
      "Epoch 248\n",
      "-------------------------------------\n"
     ]
    },
    {
     "name": "stderr",
     "output_type": "stream",
     "text": [
      " 17%|█▋        | 249/1500 [00:41<03:19,  6.26it/s]"
     ]
    },
    {
     "name": "stdout",
     "output_type": "stream",
     "text": [
      "Test Error: \n",
      " metric: 0.8060888051986694, Avg test loss: 1168136864.0 , loss = 144929136.0 \n",
      "\n",
      "Epoch 249\n",
      "-------------------------------------\n",
      "Test Error: \n",
      " metric: 0.7585923671722412, Avg test loss: 1191991168.0 , loss = 169432640.0 \n",
      "\n",
      "Epoch 250\n",
      "-------------------------------------\n"
     ]
    },
    {
     "name": "stderr",
     "output_type": "stream",
     "text": [
      " 17%|█▋        | 251/1500 [00:41<03:21,  6.20it/s]"
     ]
    },
    {
     "name": "stdout",
     "output_type": "stream",
     "text": [
      "Test Error: \n",
      " metric: 0.8129680752754211, Avg test loss: 1167956597.3333333 , loss = 844697856.0 \n",
      "\n",
      "Epoch 251\n",
      "-------------------------------------\n",
      "Test Error: \n",
      " metric: 0.7846260666847229, Avg test loss: 1200109194.6666667 , loss = 1062263296.0 \n",
      "\n",
      "Epoch 252\n",
      "-------------------------------------\n"
     ]
    },
    {
     "name": "stderr",
     "output_type": "stream",
     "text": [
      " 17%|█▋        | 253/1500 [00:42<03:22,  6.15it/s]"
     ]
    },
    {
     "name": "stdout",
     "output_type": "stream",
     "text": [
      "Test Error: \n",
      " metric: 0.7392026782035828, Avg test loss: 1143921376.0 , loss = 1223445632.0 \n",
      "\n",
      "Epoch 253\n",
      "-------------------------------------\n",
      "Test Error: \n",
      " metric: 0.7726770043373108, Avg test loss: 1361692192.0 , loss = 1147735296.0 \n",
      "\n",
      "Epoch 254\n",
      "-------------------------------------\n"
     ]
    },
    {
     "name": "stderr",
     "output_type": "stream",
     "text": [
      " 17%|█▋        | 255/1500 [00:42<03:22,  6.13it/s]"
     ]
    },
    {
     "name": "stdout",
     "output_type": "stream",
     "text": [
      "Test Error: \n",
      " metric: 0.788864254951477, Avg test loss: 1082260554.6666667 , loss = 1067833600.0 \n",
      "\n",
      "Epoch 255\n",
      "-------------------------------------\n",
      "Test Error: \n",
      " metric: 0.7833983302116394, Avg test loss: 1067695706.6666666 , loss = 659307264.0 \n",
      "\n",
      "Epoch 256\n",
      "-------------------------------------\n"
     ]
    },
    {
     "name": "stderr",
     "output_type": "stream",
     "text": [
      " 17%|█▋        | 257/1500 [00:42<03:21,  6.16it/s]"
     ]
    },
    {
     "name": "stdout",
     "output_type": "stream",
     "text": [
      "Test Error: \n",
      " metric: 0.8160185813903809, Avg test loss: 1177365845.3333333 , loss = 2336196096.0 \n",
      "\n",
      "Epoch 257\n",
      "-------------------------------------\n",
      "Test Error: \n",
      " metric: 0.7644842863082886, Avg test loss: 1095317322.6666667 , loss = 496750016.0 \n",
      "\n",
      "Epoch 258\n",
      "-------------------------------------\n"
     ]
    },
    {
     "name": "stderr",
     "output_type": "stream",
     "text": [
      " 17%|█▋        | 259/1500 [00:43<03:25,  6.03it/s]"
     ]
    },
    {
     "name": "stdout",
     "output_type": "stream",
     "text": [
      "Test Error: \n",
      " metric: 0.7790554165840149, Avg test loss: 1393818282.6666667 , loss = 3492328960.0 \n",
      "\n",
      "Epoch 259\n",
      "-------------------------------------\n",
      "Test Error: \n",
      " metric: 0.7199288606643677, Avg test loss: 1255166240.0 , loss = 1400118528.0 \n",
      "\n",
      "Epoch 260\n",
      "-------------------------------------\n"
     ]
    },
    {
     "name": "stderr",
     "output_type": "stream",
     "text": [
      " 17%|█▋        | 261/1500 [00:43<03:25,  6.03it/s]"
     ]
    },
    {
     "name": "stdout",
     "output_type": "stream",
     "text": [
      "Test Error: \n",
      " metric: 0.7391261458396912, Avg test loss: 1471030400.0 , loss = 2526143744.0 \n",
      "\n",
      "Epoch 261\n",
      "-------------------------------------\n",
      "Test Error: \n",
      " metric: 0.7806963920593262, Avg test loss: 1121823968.0 , loss = 1196416768.0 \n",
      "\n",
      "Epoch 262\n",
      "-------------------------------------\n"
     ]
    },
    {
     "name": "stderr",
     "output_type": "stream",
     "text": [
      " 18%|█▊        | 263/1500 [00:43<03:26,  5.99it/s]"
     ]
    },
    {
     "name": "stdout",
     "output_type": "stream",
     "text": [
      "Test Error: \n",
      " metric: 0.6313378810882568, Avg test loss: 1580494410.6666667 , loss = 913161600.0 \n",
      "\n",
      "Epoch 263\n",
      "-------------------------------------\n",
      "Test Error: \n",
      " metric: 0.7793951034545898, Avg test loss: 1227398208.0 , loss = 1333192192.0 \n",
      "\n",
      "Epoch 264\n",
      "-------------------------------------\n"
     ]
    },
    {
     "name": "stderr",
     "output_type": "stream",
     "text": [
      " 18%|█▊        | 265/1500 [00:44<03:22,  6.11it/s]"
     ]
    },
    {
     "name": "stdout",
     "output_type": "stream",
     "text": [
      "Test Error: \n",
      " metric: 0.6747795343399048, Avg test loss: 1290296437.3333333 , loss = 243739984.0 \n",
      "\n",
      "Epoch 265\n",
      "-------------------------------------\n",
      "Test Error: \n",
      " metric: 0.7268271446228027, Avg test loss: 1388109013.3333333 , loss = 367974400.0 \n",
      "\n",
      "Epoch 266\n",
      "-------------------------------------\n"
     ]
    },
    {
     "name": "stderr",
     "output_type": "stream",
     "text": [
      " 18%|█▊        | 267/1500 [00:44<03:25,  6.01it/s]"
     ]
    },
    {
     "name": "stdout",
     "output_type": "stream",
     "text": [
      "Test Error: \n",
      " metric: 0.8060070276260376, Avg test loss: 1167065184.0 , loss = 806086144.0 \n",
      "\n",
      "Epoch 267\n",
      "-------------------------------------\n",
      "Test Error: \n",
      " metric: 0.6273051500320435, Avg test loss: 1646831690.6666667 , loss = 679558784.0 \n",
      "\n",
      "Epoch 268\n",
      "-------------------------------------\n"
     ]
    },
    {
     "name": "stderr",
     "output_type": "stream",
     "text": [
      " 18%|█▊        | 269/1500 [00:44<03:23,  6.05it/s]"
     ]
    },
    {
     "name": "stdout",
     "output_type": "stream",
     "text": [
      "Test Error: \n",
      " metric: 0.7416015863418579, Avg test loss: 1249801482.6666667 , loss = 393023712.0 \n",
      "\n",
      "Epoch 269\n",
      "-------------------------------------\n",
      "Test Error: \n",
      " metric: 0.6314960718154907, Avg test loss: 1600748746.6666667 , loss = 319643264.0 \n",
      "\n",
      "Epoch 270\n",
      "-------------------------------------\n"
     ]
    },
    {
     "name": "stderr",
     "output_type": "stream",
     "text": [
      " 18%|█▊        | 271/1500 [00:45<03:21,  6.11it/s]"
     ]
    },
    {
     "name": "stdout",
     "output_type": "stream",
     "text": [
      "Test Error: \n",
      " metric: 0.7474391460418701, Avg test loss: 1150167114.6666667 , loss = 122521064.0 \n",
      "\n",
      "Epoch 271\n",
      "-------------------------------------\n",
      "Test Error: \n",
      " metric: 0.7854322195053101, Avg test loss: 1223605130.6666667 , loss = 1054734208.0 \n",
      "\n",
      "Epoch 272\n",
      "-------------------------------------\n"
     ]
    },
    {
     "name": "stderr",
     "output_type": "stream",
     "text": [
      " 18%|█▊        | 273/1500 [00:45<03:29,  5.84it/s]"
     ]
    },
    {
     "name": "stdout",
     "output_type": "stream",
     "text": [
      "Test Error: \n",
      " metric: 0.7527674436569214, Avg test loss: 1166340096.0 , loss = 1264462336.0 \n",
      "\n",
      "Epoch 273\n",
      "-------------------------------------\n",
      "Test Error: \n",
      " metric: 0.737907886505127, Avg test loss: 1635674730.6666667 , loss = 221497296.0 \n",
      "\n",
      "Epoch 274\n",
      "-------------------------------------\n"
     ]
    },
    {
     "name": "stderr",
     "output_type": "stream",
     "text": [
      " 18%|█▊        | 275/1500 [00:45<03:30,  5.82it/s]"
     ]
    },
    {
     "name": "stdout",
     "output_type": "stream",
     "text": [
      "Test Error: \n",
      " metric: 0.4972161054611206, Avg test loss: 2254329813.3333335 , loss = 507463424.0 \n",
      "\n",
      "Epoch 275\n",
      "-------------------------------------\n",
      "Test Error: \n",
      " metric: 0.7613683938980103, Avg test loss: 1254784458.6666667 , loss = 865586240.0 \n",
      "\n",
      "Epoch 276\n",
      "-------------------------------------\n"
     ]
    },
    {
     "name": "stderr",
     "output_type": "stream",
     "text": [
      " 18%|█▊        | 277/1500 [00:46<03:32,  5.77it/s]"
     ]
    },
    {
     "name": "stdout",
     "output_type": "stream",
     "text": [
      "Test Error: \n",
      " metric: 0.7949275970458984, Avg test loss: 1033932384.0 , loss = 38680932.0 \n",
      "\n",
      "Epoch 277\n",
      "-------------------------------------\n",
      "Test Error: \n",
      " metric: 0.8062812089920044, Avg test loss: 1087627029.3333333 , loss = 991373824.0 \n",
      "\n",
      "Epoch 278\n",
      "-------------------------------------\n"
     ]
    },
    {
     "name": "stderr",
     "output_type": "stream",
     "text": [
      " 19%|█▊        | 279/1500 [00:46<03:30,  5.80it/s]"
     ]
    },
    {
     "name": "stdout",
     "output_type": "stream",
     "text": [
      "Test Error: \n",
      " metric: 0.8143012523651123, Avg test loss: 1104430373.3333333 , loss = 379389376.0 \n",
      "\n",
      "Epoch 279\n",
      "-------------------------------------\n",
      "Test Error: \n",
      " metric: 0.8094774484634399, Avg test loss: 1065127264.0 , loss = 2558530048.0 \n",
      "\n",
      "Epoch 280\n",
      "-------------------------------------\n"
     ]
    },
    {
     "name": "stderr",
     "output_type": "stream",
     "text": [
      " 19%|█▊        | 281/1500 [00:46<03:28,  5.84it/s]"
     ]
    },
    {
     "name": "stdout",
     "output_type": "stream",
     "text": [
      "Test Error: \n",
      " metric: 0.7838947176933289, Avg test loss: 1123140746.6666667 , loss = 614509312.0 \n",
      "\n",
      "Epoch 281\n",
      "-------------------------------------\n",
      "Test Error: \n",
      " metric: 0.7682802677154541, Avg test loss: 1078685656.0 , loss = 137502608.0 \n",
      "\n",
      "Epoch 282\n",
      "-------------------------------------\n"
     ]
    },
    {
     "name": "stderr",
     "output_type": "stream",
     "text": [
      " 19%|█▉        | 283/1500 [00:47<03:27,  5.87it/s]"
     ]
    },
    {
     "name": "stdout",
     "output_type": "stream",
     "text": [
      "Test Error: \n",
      " metric: 0.8048844337463379, Avg test loss: 1225588821.3333333 , loss = 1904292864.0 \n",
      "\n",
      "Epoch 283\n",
      "-------------------------------------\n",
      "Test Error: \n",
      " metric: 0.8012166619300842, Avg test loss: 1124139658.6666667 , loss = 49967000.0 \n",
      "\n",
      "Epoch 284\n",
      "-------------------------------------\n"
     ]
    },
    {
     "name": "stderr",
     "output_type": "stream",
     "text": [
      " 19%|█▉        | 285/1500 [00:47<03:30,  5.76it/s]"
     ]
    },
    {
     "name": "stdout",
     "output_type": "stream",
     "text": [
      "Test Error: \n",
      " metric: 0.7428061962127686, Avg test loss: 1278843381.3333333 , loss = 416614720.0 \n",
      "\n",
      "Epoch 285\n",
      "-------------------------------------\n",
      "Test Error: \n",
      " metric: 0.7848964929580688, Avg test loss: 1025225520.0 , loss = 237035808.0 \n",
      "\n",
      "Epoch 286\n",
      "-------------------------------------\n"
     ]
    },
    {
     "name": "stderr",
     "output_type": "stream",
     "text": [
      " 19%|█▉        | 287/1500 [00:47<03:27,  5.86it/s]"
     ]
    },
    {
     "name": "stdout",
     "output_type": "stream",
     "text": [
      "Test Error: \n",
      " metric: 0.8005379438400269, Avg test loss: 1063193077.3333334 , loss = 537849664.0 \n",
      "\n",
      "Epoch 287\n",
      "-------------------------------------\n",
      "Test Error: \n",
      " metric: 0.747287392616272, Avg test loss: 1247930720.0 , loss = 512501440.0 \n",
      "\n",
      "Epoch 288\n",
      "-------------------------------------\n"
     ]
    },
    {
     "name": "stderr",
     "output_type": "stream",
     "text": [
      " 19%|█▉        | 289/1500 [00:48<03:23,  5.96it/s]"
     ]
    },
    {
     "name": "stdout",
     "output_type": "stream",
     "text": [
      "Test Error: \n",
      " metric: 0.6347694396972656, Avg test loss: 1602106400.0 , loss = 1805564160.0 \n",
      "\n",
      "Epoch 289\n",
      "-------------------------------------\n",
      "Test Error: \n",
      " metric: 0.819040060043335, Avg test loss: 966189050.6666666 , loss = 773089344.0 \n",
      "\n",
      "Epoch 290\n",
      "-------------------------------------\n"
     ]
    },
    {
     "name": "stderr",
     "output_type": "stream",
     "text": [
      " 19%|█▉        | 291/1500 [00:48<03:24,  5.90it/s]"
     ]
    },
    {
     "name": "stdout",
     "output_type": "stream",
     "text": [
      "Test Error: \n",
      " metric: 0.8233966827392578, Avg test loss: 1021846000.0 , loss = 328048832.0 \n",
      "\n",
      "Epoch 291\n",
      "-------------------------------------\n",
      "Test Error: \n",
      " metric: 0.8093220591545105, Avg test loss: 1078103760.0 , loss = 423957888.0 \n",
      "\n",
      "Epoch 292\n",
      "-------------------------------------\n"
     ]
    },
    {
     "name": "stderr",
     "output_type": "stream",
     "text": [
      " 20%|█▉        | 293/1500 [00:48<03:22,  5.96it/s]"
     ]
    },
    {
     "name": "stdout",
     "output_type": "stream",
     "text": [
      "Test Error: \n",
      " metric: 0.81585693359375, Avg test loss: 1033939157.3333334 , loss = 331647840.0 \n",
      "\n",
      "Epoch 293\n",
      "-------------------------------------\n",
      "Test Error: \n",
      " metric: 0.7491469383239746, Avg test loss: 1163221173.3333333 , loss = 529539712.0 \n",
      "\n",
      "Epoch 294\n",
      "-------------------------------------\n"
     ]
    },
    {
     "name": "stderr",
     "output_type": "stream",
     "text": [
      " 20%|█▉        | 295/1500 [00:49<03:21,  5.97it/s]"
     ]
    },
    {
     "name": "stdout",
     "output_type": "stream",
     "text": [
      "Test Error: \n",
      " metric: 0.7755574584007263, Avg test loss: 1122449269.3333333 , loss = 76886512.0 \n",
      "\n",
      "Epoch 295\n",
      "-------------------------------------\n",
      "Test Error: \n",
      " metric: 0.8046960234642029, Avg test loss: 1039533568.0 , loss = 159778592.0 \n",
      "\n",
      "Epoch 296\n",
      "-------------------------------------\n"
     ]
    },
    {
     "name": "stderr",
     "output_type": "stream",
     "text": [
      " 20%|█▉        | 297/1500 [00:49<03:22,  5.94it/s]"
     ]
    },
    {
     "name": "stdout",
     "output_type": "stream",
     "text": [
      "Test Error: \n",
      " metric: 0.8133605718612671, Avg test loss: 1145212288.0 , loss = 2765671936.0 \n",
      "\n",
      "Epoch 297\n",
      "-------------------------------------\n",
      "Test Error: \n",
      " metric: 0.6916730403900146, Avg test loss: 2443579477.3333335 , loss = 3693889792.0 \n",
      "\n",
      "Epoch 298\n",
      "-------------------------------------\n"
     ]
    },
    {
     "name": "stderr",
     "output_type": "stream",
     "text": [
      " 20%|█▉        | 299/1500 [00:49<03:17,  6.08it/s]"
     ]
    },
    {
     "name": "stdout",
     "output_type": "stream",
     "text": [
      "Test Error: \n",
      " metric: 0.709196925163269, Avg test loss: 1192668933.3333333 , loss = 1872302464.0 \n",
      "\n",
      "Epoch 299\n",
      "-------------------------------------\n",
      "Test Error: \n",
      " metric: 0.7979228496551514, Avg test loss: 1091987840.0 , loss = 546000384.0 \n",
      "\n",
      "Epoch 300\n",
      "-------------------------------------\n"
     ]
    },
    {
     "name": "stderr",
     "output_type": "stream",
     "text": [
      " 20%|██        | 301/1500 [00:50<03:16,  6.10it/s]"
     ]
    },
    {
     "name": "stdout",
     "output_type": "stream",
     "text": [
      "Test Error: \n",
      " metric: 0.6593409776687622, Avg test loss: 2946233600.0 , loss = 1137305344.0 \n",
      "\n",
      "Epoch 301\n",
      "-------------------------------------\n",
      "Test Error: \n",
      " metric: 0.7355107069015503, Avg test loss: 1222038154.6666667 , loss = 2255661056.0 \n",
      "\n",
      "Epoch 302\n",
      "-------------------------------------\n"
     ]
    },
    {
     "name": "stderr",
     "output_type": "stream",
     "text": [
      " 20%|██        | 303/1500 [00:50<03:17,  6.07it/s]"
     ]
    },
    {
     "name": "stdout",
     "output_type": "stream",
     "text": [
      "Test Error: \n",
      " metric: 0.7962257862091064, Avg test loss: 1032625909.3333334 , loss = 31679514.0 \n",
      "\n",
      "Epoch 303\n",
      "-------------------------------------\n",
      "Test Error: \n",
      " metric: 0.8030953407287598, Avg test loss: 1094484821.3333333 , loss = 1058360704.0 \n",
      "\n",
      "Epoch 304\n",
      "-------------------------------------\n"
     ]
    },
    {
     "name": "stderr",
     "output_type": "stream",
     "text": [
      " 20%|██        | 305/1500 [00:50<03:19,  5.99it/s]"
     ]
    },
    {
     "name": "stdout",
     "output_type": "stream",
     "text": [
      "Test Error: \n",
      " metric: 0.7952883243560791, Avg test loss: 1000831434.6666666 , loss = 956106112.0 \n",
      "\n",
      "Epoch 305\n",
      "-------------------------------------\n",
      "Test Error: \n",
      " metric: 0.8079997301101685, Avg test loss: 1033789024.0 , loss = 535955072.0 \n",
      "\n",
      "Epoch 306\n",
      "-------------------------------------\n"
     ]
    },
    {
     "name": "stderr",
     "output_type": "stream",
     "text": [
      " 20%|██        | 307/1500 [00:51<03:19,  5.98it/s]"
     ]
    },
    {
     "name": "stdout",
     "output_type": "stream",
     "text": [
      "Test Error: \n",
      " metric: 0.7998395562171936, Avg test loss: 1190471637.3333333 , loss = 814236928.0 \n",
      "\n",
      "Epoch 307\n",
      "-------------------------------------\n",
      "Test Error: \n",
      " metric: 0.8230577111244202, Avg test loss: 1259104117.3333333 , loss = 624544448.0 \n",
      "\n",
      "Epoch 308\n",
      "-------------------------------------\n"
     ]
    },
    {
     "name": "stderr",
     "output_type": "stream",
     "text": [
      " 21%|██        | 309/1500 [00:51<03:21,  5.90it/s]"
     ]
    },
    {
     "name": "stdout",
     "output_type": "stream",
     "text": [
      "Test Error: \n",
      " metric: 0.80876624584198, Avg test loss: 1125903824.0 , loss = 242268128.0 \n",
      "\n",
      "Epoch 309\n",
      "-------------------------------------\n",
      "Test Error: \n",
      " metric: 0.8228827714920044, Avg test loss: 930401984.0 , loss = 1272992512.0 \n",
      "\n",
      "Epoch 310\n",
      "-------------------------------------\n"
     ]
    },
    {
     "name": "stderr",
     "output_type": "stream",
     "text": [
      " 21%|██        | 311/1500 [00:51<03:22,  5.88it/s]"
     ]
    },
    {
     "name": "stdout",
     "output_type": "stream",
     "text": [
      "Test Error: \n",
      " metric: 0.7947063446044922, Avg test loss: 1270884661.3333333 , loss = 518806720.0 \n",
      "\n",
      "Epoch 311\n",
      "-------------------------------------\n",
      "Test Error: \n",
      " metric: 0.7999114990234375, Avg test loss: 1433055381.3333333 , loss = 822418432.0 \n",
      "\n",
      "Epoch 312\n",
      "-------------------------------------\n"
     ]
    },
    {
     "name": "stderr",
     "output_type": "stream",
     "text": [
      " 21%|██        | 313/1500 [00:52<03:22,  5.86it/s]"
     ]
    },
    {
     "name": "stdout",
     "output_type": "stream",
     "text": [
      "Test Error: \n",
      " metric: 0.7351464033126831, Avg test loss: 1148986240.0 , loss = 772540416.0 \n",
      "\n",
      "Epoch 313\n",
      "-------------------------------------\n",
      "Test Error: \n",
      " metric: 0.8044297099113464, Avg test loss: 1229433642.6666667 , loss = 794533248.0 \n",
      "\n",
      "Epoch 314\n",
      "-------------------------------------\n"
     ]
    },
    {
     "name": "stderr",
     "output_type": "stream",
     "text": [
      " 21%|██        | 315/1500 [00:52<03:19,  5.94it/s]"
     ]
    },
    {
     "name": "stdout",
     "output_type": "stream",
     "text": [
      "Test Error: \n",
      " metric: 0.7258583903312683, Avg test loss: 1607482432.0 , loss = 1210594816.0 \n",
      "\n",
      "Epoch 315\n",
      "-------------------------------------\n",
      "Test Error: \n",
      " metric: 0.8209031820297241, Avg test loss: 1222614240.0 , loss = 701753472.0 \n",
      "\n",
      "Epoch 316\n",
      "-------------------------------------\n"
     ]
    },
    {
     "name": "stderr",
     "output_type": "stream",
     "text": [
      " 21%|██        | 317/1500 [00:52<03:18,  5.95it/s]"
     ]
    },
    {
     "name": "stdout",
     "output_type": "stream",
     "text": [
      "Test Error: \n",
      " metric: 0.5982497334480286, Avg test loss: 1612251594.6666667 , loss = 1469036800.0 \n",
      "\n",
      "Epoch 317\n",
      "-------------------------------------\n",
      "Test Error: \n",
      " metric: 0.8112550377845764, Avg test loss: 1161092341.3333333 , loss = 362582144.0 \n",
      "\n",
      "Epoch 318\n",
      "-------------------------------------\n"
     ]
    },
    {
     "name": "stderr",
     "output_type": "stream",
     "text": [
      " 21%|██▏       | 319/1500 [00:53<03:17,  5.97it/s]"
     ]
    },
    {
     "name": "stdout",
     "output_type": "stream",
     "text": [
      "Test Error: \n",
      " metric: 0.7938510179519653, Avg test loss: 1029349760.0 , loss = 529960832.0 \n",
      "\n",
      "Epoch 319\n",
      "-------------------------------------\n",
      "Test Error: \n",
      " metric: 0.7337080240249634, Avg test loss: 1140596576.0 , loss = 1783313408.0 \n",
      "\n",
      "Epoch 320\n",
      "-------------------------------------\n"
     ]
    },
    {
     "name": "stderr",
     "output_type": "stream",
     "text": [
      " 21%|██▏       | 321/1500 [00:53<03:18,  5.95it/s]"
     ]
    },
    {
     "name": "stdout",
     "output_type": "stream",
     "text": [
      "Test Error: \n",
      " metric: 0.7819928526878357, Avg test loss: 1114427605.3333333 , loss = 481557760.0 \n",
      "\n",
      "Epoch 321\n",
      "-------------------------------------\n",
      "Test Error: \n",
      " metric: 0.7670897841453552, Avg test loss: 1446261024.0 , loss = 225873216.0 \n",
      "\n",
      "Epoch 322\n",
      "-------------------------------------\n"
     ]
    },
    {
     "name": "stderr",
     "output_type": "stream",
     "text": [
      " 22%|██▏       | 323/1500 [00:53<03:17,  5.97it/s]"
     ]
    },
    {
     "name": "stdout",
     "output_type": "stream",
     "text": [
      "Test Error: \n",
      " metric: 0.7645891308784485, Avg test loss: 1578992000.0 , loss = 236730080.0 \n",
      "\n",
      "Epoch 323\n",
      "-------------------------------------\n",
      "Test Error: \n",
      " metric: 0.7768722772598267, Avg test loss: 1142242890.6666667 , loss = 259393664.0 \n",
      "\n",
      "Epoch 324\n",
      "-------------------------------------\n"
     ]
    },
    {
     "name": "stderr",
     "output_type": "stream",
     "text": [
      " 22%|██▏       | 325/1500 [00:54<03:17,  5.96it/s]"
     ]
    },
    {
     "name": "stdout",
     "output_type": "stream",
     "text": [
      "Test Error: \n",
      " metric: 0.8132926225662231, Avg test loss: 973250346.6666666 , loss = 5289101312.0 \n",
      "\n",
      "Epoch 325\n",
      "-------------------------------------\n",
      "Test Error: \n",
      " metric: 0.7731990814208984, Avg test loss: 974644261.3333334 , loss = 1530253568.0 \n",
      "\n",
      "Epoch 326\n",
      "-------------------------------------\n"
     ]
    },
    {
     "name": "stderr",
     "output_type": "stream",
     "text": [
      " 22%|██▏       | 327/1500 [00:54<03:18,  5.91it/s]"
     ]
    },
    {
     "name": "stdout",
     "output_type": "stream",
     "text": [
      "Test Error: \n",
      " metric: 0.825614333152771, Avg test loss: 1134037813.3333333 , loss = 2551167488.0 \n",
      "\n",
      "Epoch 327\n",
      "-------------------------------------\n",
      "Test Error: \n",
      " metric: 0.8320823907852173, Avg test loss: 1007449024.0 , loss = 662883904.0 \n",
      "\n",
      "Epoch 328\n",
      "-------------------------------------\n"
     ]
    },
    {
     "name": "stderr",
     "output_type": "stream",
     "text": [
      " 22%|██▏       | 329/1500 [00:54<03:19,  5.87it/s]"
     ]
    },
    {
     "name": "stdout",
     "output_type": "stream",
     "text": [
      "Test Error: \n",
      " metric: 0.7878394722938538, Avg test loss: 1012079946.6666666 , loss = 510032320.0 \n",
      "\n",
      "Epoch 329\n",
      "-------------------------------------\n",
      "Test Error: \n",
      " metric: 0.8224526047706604, Avg test loss: 953506464.0 , loss = 969314880.0 \n",
      "\n",
      "Epoch 330\n",
      "-------------------------------------\n"
     ]
    },
    {
     "name": "stderr",
     "output_type": "stream",
     "text": [
      " 22%|██▏       | 331/1500 [00:55<03:17,  5.91it/s]"
     ]
    },
    {
     "name": "stdout",
     "output_type": "stream",
     "text": [
      "Test Error: \n",
      " metric: 0.7908678650856018, Avg test loss: 1085944533.3333333 , loss = 356382912.0 \n",
      "\n",
      "Epoch 331\n",
      "-------------------------------------\n",
      "Test Error: \n",
      " metric: 0.7871239185333252, Avg test loss: 1230617408.0 , loss = 1245687296.0 \n",
      "\n",
      "Epoch 332\n",
      "-------------------------------------\n"
     ]
    },
    {
     "name": "stderr",
     "output_type": "stream",
     "text": [
      " 22%|██▏       | 333/1500 [00:55<03:19,  5.84it/s]"
     ]
    },
    {
     "name": "stdout",
     "output_type": "stream",
     "text": [
      "Test Error: \n",
      " metric: 0.7594548463821411, Avg test loss: 1162953280.0 , loss = 227763760.0 \n",
      "\n",
      "Epoch 333\n",
      "-------------------------------------\n",
      "Test Error: \n",
      " metric: 0.8281015157699585, Avg test loss: 1095267776.0 , loss = 1268225920.0 \n",
      "\n",
      "Epoch 334\n",
      "-------------------------------------\n"
     ]
    },
    {
     "name": "stderr",
     "output_type": "stream",
     "text": [
      " 22%|██▏       | 335/1500 [00:56<03:19,  5.84it/s]"
     ]
    },
    {
     "name": "stdout",
     "output_type": "stream",
     "text": [
      "Test Error: \n",
      " metric: 0.7948966026306152, Avg test loss: 998466976.0 , loss = 2825990144.0 \n",
      "\n",
      "Epoch 335\n",
      "-------------------------------------\n",
      "Test Error: \n",
      " metric: 0.8353039026260376, Avg test loss: 899334570.6666666 , loss = 199156800.0 \n",
      "\n",
      "Epoch 336\n",
      "-------------------------------------\n"
     ]
    },
    {
     "name": "stderr",
     "output_type": "stream",
     "text": [
      " 22%|██▏       | 337/1500 [00:56<03:21,  5.78it/s]"
     ]
    },
    {
     "name": "stdout",
     "output_type": "stream",
     "text": [
      "Test Error: \n",
      " metric: 0.7844420671463013, Avg test loss: 1094443637.3333333 , loss = 1272198016.0 \n",
      "\n",
      "Epoch 337\n",
      "-------------------------------------\n",
      "Test Error: \n",
      " metric: 0.8152055144309998, Avg test loss: 1030401301.3333334 , loss = 222760048.0 \n",
      "\n",
      "Epoch 338\n",
      "-------------------------------------\n"
     ]
    },
    {
     "name": "stderr",
     "output_type": "stream",
     "text": [
      " 23%|██▎       | 339/1500 [00:56<03:19,  5.83it/s]"
     ]
    },
    {
     "name": "stdout",
     "output_type": "stream",
     "text": [
      "Test Error: \n",
      " metric: 0.8110378980636597, Avg test loss: 1219082218.6666667 , loss = 534760576.0 \n",
      "\n",
      "Epoch 339\n",
      "-------------------------------------\n",
      "Test Error: \n",
      " metric: 0.8041960597038269, Avg test loss: 1175467637.3333333 , loss = 1169129984.0 \n",
      "\n",
      "Epoch 340\n",
      "-------------------------------------\n"
     ]
    },
    {
     "name": "stderr",
     "output_type": "stream",
     "text": [
      " 23%|██▎       | 341/1500 [00:57<03:19,  5.82it/s]"
     ]
    },
    {
     "name": "stdout",
     "output_type": "stream",
     "text": [
      "Test Error: \n",
      " metric: 0.8302344679832458, Avg test loss: 1020125141.3333334 , loss = 243364160.0 \n",
      "\n",
      "Epoch 341\n",
      "-------------------------------------\n",
      "Test Error: \n",
      " metric: 0.7607969045639038, Avg test loss: 1058552277.3333334 , loss = 187637824.0 \n",
      "\n",
      "Epoch 342\n",
      "-------------------------------------\n"
     ]
    },
    {
     "name": "stderr",
     "output_type": "stream",
     "text": [
      " 23%|██▎       | 343/1500 [00:57<03:17,  5.86it/s]"
     ]
    },
    {
     "name": "stdout",
     "output_type": "stream",
     "text": [
      "Test Error: \n",
      " metric: 0.8200674057006836, Avg test loss: 1099271178.6666667 , loss = 101664832.0 \n",
      "\n",
      "Epoch 343\n",
      "-------------------------------------\n",
      "Test Error: \n",
      " metric: 0.8196111917495728, Avg test loss: 1031066154.6666666 , loss = 1703406720.0 \n",
      "\n",
      "Epoch 344\n",
      "-------------------------------------\n"
     ]
    },
    {
     "name": "stderr",
     "output_type": "stream",
     "text": [
      " 23%|██▎       | 345/1500 [00:57<03:18,  5.83it/s]"
     ]
    },
    {
     "name": "stdout",
     "output_type": "stream",
     "text": [
      "Test Error: \n",
      " metric: 0.6420717239379883, Avg test loss: 1497194752.0 , loss = 445162880.0 \n",
      "\n",
      "Epoch 345\n",
      "-------------------------------------\n",
      "Test Error: \n",
      " metric: 0.7932562828063965, Avg test loss: 1211873770.6666667 , loss = 640974848.0 \n",
      "\n",
      "Epoch 346\n",
      "-------------------------------------\n"
     ]
    },
    {
     "name": "stderr",
     "output_type": "stream",
     "text": [
      " 23%|██▎       | 347/1500 [00:58<03:14,  5.93it/s]"
     ]
    },
    {
     "name": "stdout",
     "output_type": "stream",
     "text": [
      "Test Error: \n",
      " metric: 0.8170293569564819, Avg test loss: 1081692746.6666667 , loss = 1249863936.0 \n",
      "\n",
      "Epoch 347\n",
      "-------------------------------------\n",
      "Test Error: \n",
      " metric: 0.7932642698287964, Avg test loss: 1395959221.3333333 , loss = 493457952.0 \n",
      "\n",
      "Epoch 348\n",
      "-------------------------------------\n"
     ]
    },
    {
     "name": "stderr",
     "output_type": "stream",
     "text": [
      " 23%|██▎       | 349/1500 [00:58<03:20,  5.74it/s]"
     ]
    },
    {
     "name": "stdout",
     "output_type": "stream",
     "text": [
      "Test Error: \n",
      " metric: 0.7523353099822998, Avg test loss: 1278791818.6666667 , loss = 1031071808.0 \n",
      "\n",
      "Epoch 349\n",
      "-------------------------------------\n",
      "Test Error: \n",
      " metric: 0.7764358520507812, Avg test loss: 1992402261.3333333 , loss = 374026624.0 \n",
      "\n",
      "Epoch 350\n",
      "-------------------------------------\n"
     ]
    },
    {
     "name": "stderr",
     "output_type": "stream",
     "text": [
      " 23%|██▎       | 351/1500 [00:58<03:14,  5.92it/s]"
     ]
    },
    {
     "name": "stdout",
     "output_type": "stream",
     "text": [
      "Test Error: \n",
      " metric: 0.8041654825210571, Avg test loss: 1129058506.6666667 , loss = 416257728.0 \n",
      "\n",
      "Epoch 351\n",
      "-------------------------------------\n",
      "Test Error: \n",
      " metric: 0.8334213495254517, Avg test loss: 1125271253.3333333 , loss = 1599207680.0 \n",
      "\n",
      "Epoch 352\n",
      "-------------------------------------\n"
     ]
    },
    {
     "name": "stderr",
     "output_type": "stream",
     "text": [
      " 24%|██▎       | 353/1500 [00:59<03:13,  5.93it/s]"
     ]
    },
    {
     "name": "stdout",
     "output_type": "stream",
     "text": [
      "Test Error: \n",
      " metric: 0.8327952027320862, Avg test loss: 1004874858.6666666 , loss = 3199038208.0 \n",
      "\n",
      "Epoch 353\n",
      "-------------------------------------\n",
      "Test Error: \n",
      " metric: 0.7802273035049438, Avg test loss: 1406075381.3333333 , loss = 969707072.0 \n",
      "\n",
      "Epoch 354\n",
      "-------------------------------------\n"
     ]
    },
    {
     "name": "stderr",
     "output_type": "stream",
     "text": [
      " 24%|██▎       | 355/1500 [00:59<03:14,  5.90it/s]"
     ]
    },
    {
     "name": "stdout",
     "output_type": "stream",
     "text": [
      "Test Error: \n",
      " metric: 0.830054521560669, Avg test loss: 964374976.0 , loss = 1219237120.0 \n",
      "\n",
      "Epoch 355\n",
      "-------------------------------------\n",
      "Test Error: \n",
      " metric: 0.7586691379547119, Avg test loss: 1175676757.3333333 , loss = 454413952.0 \n",
      "\n",
      "Epoch 356\n",
      "-------------------------------------\n"
     ]
    },
    {
     "name": "stderr",
     "output_type": "stream",
     "text": [
      " 24%|██▍       | 357/1500 [00:59<03:13,  5.92it/s]"
     ]
    },
    {
     "name": "stdout",
     "output_type": "stream",
     "text": [
      "Test Error: \n",
      " metric: 0.809332549571991, Avg test loss: 924105205.3333334 , loss = 180245632.0 \n",
      "\n",
      "Epoch 357\n",
      "-------------------------------------\n",
      "Test Error: \n",
      " metric: 0.6372899413108826, Avg test loss: 1459446976.0 , loss = 334794112.0 \n",
      "\n",
      "Epoch 358\n",
      "-------------------------------------\n"
     ]
    },
    {
     "name": "stderr",
     "output_type": "stream",
     "text": [
      " 24%|██▍       | 359/1500 [01:00<03:13,  5.89it/s]"
     ]
    },
    {
     "name": "stdout",
     "output_type": "stream",
     "text": [
      "Test Error: \n",
      " metric: 0.8020322322845459, Avg test loss: 1103636608.0 , loss = 542510464.0 \n",
      "\n",
      "Epoch 359\n",
      "-------------------------------------\n",
      "Test Error: \n",
      " metric: 0.7190271615982056, Avg test loss: 1288632970.6666667 , loss = 275482560.0 \n",
      "\n",
      "Epoch 360\n",
      "-------------------------------------\n"
     ]
    },
    {
     "name": "stderr",
     "output_type": "stream",
     "text": [
      " 24%|██▍       | 361/1500 [01:00<03:13,  5.88it/s]"
     ]
    },
    {
     "name": "stdout",
     "output_type": "stream",
     "text": [
      "Test Error: \n",
      " metric: 0.8146294355392456, Avg test loss: 1315727392.0 , loss = 801559872.0 \n",
      "\n",
      "Epoch 361\n",
      "-------------------------------------\n",
      "Test Error: \n",
      " metric: 0.787533700466156, Avg test loss: 1163704170.6666667 , loss = 647981696.0 \n",
      "\n",
      "Epoch 362\n",
      "-------------------------------------\n"
     ]
    },
    {
     "name": "stderr",
     "output_type": "stream",
     "text": [
      " 24%|██▍       | 363/1500 [01:00<03:11,  5.94it/s]"
     ]
    },
    {
     "name": "stdout",
     "output_type": "stream",
     "text": [
      "Test Error: \n",
      " metric: 0.8454356789588928, Avg test loss: 1095436778.6666667 , loss = 575242304.0 \n",
      "\n",
      "Epoch 363\n",
      "-------------------------------------\n",
      "Test Error: \n",
      " metric: 0.716953456401825, Avg test loss: 1220751082.6666667 , loss = 181685392.0 \n",
      "\n",
      "Epoch 364\n",
      "-------------------------------------\n"
     ]
    },
    {
     "name": "stderr",
     "output_type": "stream",
     "text": [
      " 24%|██▍       | 365/1500 [01:01<03:08,  6.02it/s]"
     ]
    },
    {
     "name": "stdout",
     "output_type": "stream",
     "text": [
      "Test Error: \n",
      " metric: 0.8147987723350525, Avg test loss: 992610058.6666666 , loss = 1324377600.0 \n",
      "\n",
      "Epoch 365\n",
      "-------------------------------------\n",
      "Test Error: \n",
      " metric: 0.7439482808113098, Avg test loss: 1230231728.0 , loss = 401807648.0 \n",
      "\n",
      "Epoch 366\n",
      "-------------------------------------\n"
     ]
    },
    {
     "name": "stderr",
     "output_type": "stream",
     "text": [
      " 24%|██▍       | 367/1500 [01:01<03:05,  6.10it/s]"
     ]
    },
    {
     "name": "stdout",
     "output_type": "stream",
     "text": [
      "Test Error: \n",
      " metric: 0.8061569929122925, Avg test loss: 1142777813.3333333 , loss = 362062432.0 \n",
      "\n",
      "Epoch 367\n",
      "-------------------------------------\n",
      "Test Error: \n",
      " metric: 0.8188843727111816, Avg test loss: 920777600.0 , loss = 543238144.0 \n",
      "\n",
      "Epoch 368\n",
      "-------------------------------------\n"
     ]
    },
    {
     "name": "stderr",
     "output_type": "stream",
     "text": [
      " 25%|██▍       | 369/1500 [01:01<03:06,  6.07it/s]"
     ]
    },
    {
     "name": "stdout",
     "output_type": "stream",
     "text": [
      "Test Error: \n",
      " metric: 0.8263119459152222, Avg test loss: 935019653.3333334 , loss = 164712800.0 \n",
      "\n",
      "Epoch 369\n",
      "-------------------------------------\n",
      "Test Error: \n",
      " metric: 0.8239306211471558, Avg test loss: 956956810.6666666 , loss = 69043240.0 \n",
      "\n",
      "Epoch 370\n",
      "-------------------------------------\n"
     ]
    },
    {
     "name": "stderr",
     "output_type": "stream",
     "text": [
      " 25%|██▍       | 371/1500 [01:02<03:06,  6.06it/s]"
     ]
    },
    {
     "name": "stdout",
     "output_type": "stream",
     "text": [
      "Test Error: \n",
      " metric: 0.8064532279968262, Avg test loss: 930875290.6666666 , loss = 1105084288.0 \n",
      "\n",
      "Epoch 371\n",
      "-------------------------------------\n",
      "Test Error: \n",
      " metric: 0.7549429535865784, Avg test loss: 1746903317.3333333 , loss = 95999616.0 \n",
      "\n",
      "Epoch 372\n",
      "-------------------------------------\n"
     ]
    },
    {
     "name": "stderr",
     "output_type": "stream",
     "text": [
      " 25%|██▍       | 373/1500 [01:02<03:06,  6.06it/s]"
     ]
    },
    {
     "name": "stdout",
     "output_type": "stream",
     "text": [
      "Test Error: \n",
      " metric: 0.8522407412528992, Avg test loss: 1001350890.6666666 , loss = 113483608.0 \n",
      "\n",
      "Epoch 373\n",
      "-------------------------------------\n",
      "Test Error: \n",
      " metric: 0.795838475227356, Avg test loss: 1047617898.6666666 , loss = 547110720.0 \n",
      "\n",
      "Epoch 374\n",
      "-------------------------------------\n"
     ]
    },
    {
     "name": "stderr",
     "output_type": "stream",
     "text": [
      " 25%|██▌       | 375/1500 [01:02<03:05,  6.07it/s]"
     ]
    },
    {
     "name": "stdout",
     "output_type": "stream",
     "text": [
      "Test Error: \n",
      " metric: 0.6804265975952148, Avg test loss: 1458033941.3333333 , loss = 3152359936.0 \n",
      "\n",
      "Epoch 375\n",
      "-------------------------------------\n",
      "Test Error: \n",
      " metric: 0.689854621887207, Avg test loss: 1245475690.6666667 , loss = 269920928.0 \n",
      "\n",
      "Epoch 376\n",
      "-------------------------------------\n"
     ]
    },
    {
     "name": "stderr",
     "output_type": "stream",
     "text": [
      " 25%|██▌       | 377/1500 [01:03<03:06,  6.03it/s]"
     ]
    },
    {
     "name": "stdout",
     "output_type": "stream",
     "text": [
      "Test Error: \n",
      " metric: 0.8176919221878052, Avg test loss: 1048954304.0 , loss = 37430908.0 \n",
      "\n",
      "Epoch 377\n",
      "-------------------------------------\n",
      "Test Error: \n",
      " metric: 0.8085125088691711, Avg test loss: 977280778.6666666 , loss = 600309696.0 \n",
      "\n",
      "Epoch 378\n",
      "-------------------------------------\n"
     ]
    },
    {
     "name": "stderr",
     "output_type": "stream",
     "text": [
      " 25%|██▌       | 379/1500 [01:03<03:04,  6.06it/s]"
     ]
    },
    {
     "name": "stdout",
     "output_type": "stream",
     "text": [
      "Test Error: \n",
      " metric: 0.8000665307044983, Avg test loss: 1127428650.6666667 , loss = 584891968.0 \n",
      "\n",
      "Epoch 379\n",
      "-------------------------------------\n",
      "Test Error: \n",
      " metric: 0.8136772513389587, Avg test loss: 991186325.3333334 , loss = 1427525248.0 \n",
      "\n",
      "Epoch 380\n",
      "-------------------------------------\n"
     ]
    },
    {
     "name": "stderr",
     "output_type": "stream",
     "text": [
      " 25%|██▌       | 381/1500 [01:03<03:04,  6.06it/s]"
     ]
    },
    {
     "name": "stdout",
     "output_type": "stream",
     "text": [
      "Test Error: \n",
      " metric: 0.7889306545257568, Avg test loss: 993625018.6666666 , loss = 694812288.0 \n",
      "\n",
      "Epoch 381\n",
      "-------------------------------------\n",
      "Test Error: \n",
      " metric: 0.8255987167358398, Avg test loss: 1160061802.6666667 , loss = 411562944.0 \n",
      "\n",
      "Epoch 382\n",
      "-------------------------------------\n"
     ]
    },
    {
     "name": "stderr",
     "output_type": "stream",
     "text": [
      " 26%|██▌       | 383/1500 [01:04<03:05,  6.03it/s]"
     ]
    },
    {
     "name": "stdout",
     "output_type": "stream",
     "text": [
      "Test Error: \n",
      " metric: 0.8153253793716431, Avg test loss: 1011647669.3333334 , loss = 900861888.0 \n",
      "\n",
      "Epoch 383\n",
      "-------------------------------------\n",
      "Test Error: \n",
      " metric: 0.8283056020736694, Avg test loss: 1103464981.3333333 , loss = 243415568.0 \n",
      "\n",
      "Epoch 384\n",
      "-------------------------------------\n"
     ]
    },
    {
     "name": "stderr",
     "output_type": "stream",
     "text": [
      " 26%|██▌       | 385/1500 [01:04<03:05,  6.01it/s]"
     ]
    },
    {
     "name": "stdout",
     "output_type": "stream",
     "text": [
      "Test Error: \n",
      " metric: 0.8426924347877502, Avg test loss: 854199690.6666666 , loss = 1414160128.0 \n",
      "\n",
      "Epoch 385\n",
      "-------------------------------------\n",
      "Test Error: \n",
      " metric: 0.826359212398529, Avg test loss: 1167141066.6666667 , loss = 406659808.0 \n",
      "\n",
      "Epoch 386\n",
      "-------------------------------------\n"
     ]
    },
    {
     "name": "stderr",
     "output_type": "stream",
     "text": [
      " 26%|██▌       | 387/1500 [01:04<03:04,  6.04it/s]"
     ]
    },
    {
     "name": "stdout",
     "output_type": "stream",
     "text": [
      "Test Error: \n",
      " metric: 0.8287004232406616, Avg test loss: 902928245.3333334 , loss = 301803008.0 \n",
      "\n",
      "Epoch 387\n",
      "-------------------------------------\n",
      "Test Error: \n",
      " metric: 0.7786564826965332, Avg test loss: 1020753424.0 , loss = 835396032.0 \n",
      "\n",
      "Epoch 388\n",
      "-------------------------------------\n"
     ]
    },
    {
     "name": "stderr",
     "output_type": "stream",
     "text": [
      " 26%|██▌       | 389/1500 [01:05<02:53,  6.39it/s]"
     ]
    },
    {
     "name": "stdout",
     "output_type": "stream",
     "text": [
      "Test Error: \n",
      " metric: 0.7574452757835388, Avg test loss: 1603337642.6666667 , loss = 401084960.0 \n",
      "\n",
      "Epoch 389\n",
      "-------------------------------------\n",
      "Test Error: \n",
      " metric: 0.8079950213432312, Avg test loss: 1359781120.0 , loss = 994821376.0 \n",
      "\n",
      "Epoch 390\n",
      "-------------------------------------\n"
     ]
    },
    {
     "name": "stderr",
     "output_type": "stream",
     "text": [
      " 26%|██▌       | 391/1500 [01:05<02:47,  6.61it/s]"
     ]
    },
    {
     "name": "stdout",
     "output_type": "stream",
     "text": [
      "Test Error: \n",
      " metric: 0.8393688201904297, Avg test loss: 992881578.6666666 , loss = 55877372.0 \n",
      "\n",
      "Epoch 391\n",
      "-------------------------------------\n",
      "Test Error: \n",
      " metric: 0.8148056268692017, Avg test loss: 969090506.6666666 , loss = 1326865024.0 \n",
      "\n",
      "Epoch 392\n",
      "-------------------------------------\n"
     ]
    },
    {
     "name": "stderr",
     "output_type": "stream",
     "text": [
      " 26%|██▌       | 393/1500 [01:05<02:47,  6.63it/s]"
     ]
    },
    {
     "name": "stdout",
     "output_type": "stream",
     "text": [
      "Test Error: \n",
      " metric: 0.7908985018730164, Avg test loss: 1469625109.3333333 , loss = 4798872064.0 \n",
      "\n",
      "Epoch 393\n",
      "-------------------------------------\n",
      "Test Error: \n",
      " metric: 0.8118550777435303, Avg test loss: 1070310549.3333334 , loss = 1085185408.0 \n",
      "\n",
      "Epoch 394\n",
      "-------------------------------------\n"
     ]
    },
    {
     "name": "stderr",
     "output_type": "stream",
     "text": [
      " 26%|██▋       | 395/1500 [01:05<02:50,  6.50it/s]"
     ]
    },
    {
     "name": "stdout",
     "output_type": "stream",
     "text": [
      "Test Error: \n",
      " metric: 0.7937445640563965, Avg test loss: 1051927509.3333334 , loss = 329771488.0 \n",
      "\n",
      "Epoch 395\n",
      "-------------------------------------\n",
      "Test Error: \n",
      " metric: 0.8185651898384094, Avg test loss: 1297992149.3333333 , loss = 483741792.0 \n",
      "\n",
      "Epoch 396\n",
      "-------------------------------------\n"
     ]
    },
    {
     "name": "stderr",
     "output_type": "stream",
     "text": [
      " 26%|██▋       | 397/1500 [01:06<02:52,  6.40it/s]"
     ]
    },
    {
     "name": "stdout",
     "output_type": "stream",
     "text": [
      "Test Error: \n",
      " metric: 0.7903944849967957, Avg test loss: 1167351018.6666667 , loss = 250346352.0 \n",
      "\n",
      "Epoch 397\n",
      "-------------------------------------\n",
      "Test Error: \n",
      " metric: 0.8123177289962769, Avg test loss: 1632187914.6666667 , loss = 221845312.0 \n",
      "\n",
      "Epoch 398\n",
      "-------------------------------------\n"
     ]
    },
    {
     "name": "stderr",
     "output_type": "stream",
     "text": [
      " 27%|██▋       | 399/1500 [01:06<02:52,  6.39it/s]"
     ]
    },
    {
     "name": "stdout",
     "output_type": "stream",
     "text": [
      "Test Error: \n",
      " metric: 0.8112125396728516, Avg test loss: 962899872.0 , loss = 469633600.0 \n",
      "\n",
      "Epoch 399\n",
      "-------------------------------------\n",
      "Test Error: \n",
      " metric: 0.8298149704933167, Avg test loss: 942272053.3333334 , loss = 199321952.0 \n",
      "\n",
      "Epoch 400\n",
      "-------------------------------------\n"
     ]
    },
    {
     "name": "stderr",
     "output_type": "stream",
     "text": [
      " 27%|██▋       | 401/1500 [01:06<02:44,  6.69it/s]"
     ]
    },
    {
     "name": "stdout",
     "output_type": "stream",
     "text": [
      "Test Error: \n",
      " metric: 0.8207308650016785, Avg test loss: 922447770.6666666 , loss = 404779392.0 \n",
      "\n",
      "Epoch 401\n",
      "-------------------------------------\n",
      "Test Error: \n",
      " metric: 0.7818572521209717, Avg test loss: 1548140821.3333333 , loss = 528617888.0 \n",
      "\n",
      "Epoch 402\n",
      "-------------------------------------\n"
     ]
    },
    {
     "name": "stderr",
     "output_type": "stream",
     "text": [
      " 27%|██▋       | 403/1500 [01:07<02:47,  6.55it/s]"
     ]
    },
    {
     "name": "stdout",
     "output_type": "stream",
     "text": [
      "Test Error: \n",
      " metric: 0.8198405504226685, Avg test loss: 984846069.3333334 , loss = 590893760.0 \n",
      "\n",
      "Epoch 403\n",
      "-------------------------------------\n",
      "Test Error: \n",
      " metric: 0.800053596496582, Avg test loss: 1236895477.3333333 , loss = 286775872.0 \n",
      "\n",
      "Epoch 404\n",
      "-------------------------------------\n"
     ]
    },
    {
     "name": "stderr",
     "output_type": "stream",
     "text": [
      " 27%|██▋       | 405/1500 [01:07<02:44,  6.65it/s]"
     ]
    },
    {
     "name": "stdout",
     "output_type": "stream",
     "text": [
      "Test Error: \n",
      " metric: 0.7922973036766052, Avg test loss: 1002530741.3333334 , loss = 186449952.0 \n",
      "\n",
      "Epoch 405\n",
      "-------------------------------------\n",
      "Test Error: \n",
      " metric: 0.8041173815727234, Avg test loss: 962260416.0 , loss = 885714560.0 \n",
      "\n",
      "Epoch 406\n",
      "-------------------------------------\n"
     ]
    },
    {
     "name": "stderr",
     "output_type": "stream",
     "text": [
      " 27%|██▋       | 407/1500 [01:07<02:43,  6.67it/s]"
     ]
    },
    {
     "name": "stdout",
     "output_type": "stream",
     "text": [
      "Test Error: \n",
      " metric: 0.8324914574623108, Avg test loss: 1166471397.3333333 , loss = 215821248.0 \n",
      "\n",
      "Epoch 407\n",
      "-------------------------------------\n",
      "Test Error: \n",
      " metric: 0.8131079077720642, Avg test loss: 1043320565.3333334 , loss = 239338736.0 \n",
      "\n",
      "Epoch 408\n",
      "-------------------------------------\n"
     ]
    },
    {
     "name": "stderr",
     "output_type": "stream",
     "text": [
      " 27%|██▋       | 409/1500 [01:08<02:45,  6.60it/s]"
     ]
    },
    {
     "name": "stdout",
     "output_type": "stream",
     "text": [
      "Test Error: \n",
      " metric: 0.8563430309295654, Avg test loss: 953522570.6666666 , loss = 1604001024.0 \n",
      "\n",
      "Epoch 409\n",
      "-------------------------------------\n",
      "Test Error: \n",
      " metric: 0.6518896818161011, Avg test loss: 1522775114.6666667 , loss = 346380800.0 \n",
      "\n",
      "Epoch 410\n",
      "-------------------------------------\n"
     ]
    },
    {
     "name": "stderr",
     "output_type": "stream",
     "text": [
      " 27%|██▋       | 411/1500 [01:08<02:46,  6.54it/s]"
     ]
    },
    {
     "name": "stdout",
     "output_type": "stream",
     "text": [
      "Test Error: \n",
      " metric: 0.8337700366973877, Avg test loss: 1033138602.6666666 , loss = 85548728.0 \n",
      "\n",
      "Epoch 411\n",
      "-------------------------------------\n",
      "Test Error: \n",
      " metric: 0.7908748388290405, Avg test loss: 978533514.6666666 , loss = 228612528.0 \n",
      "\n",
      "Epoch 412\n",
      "-------------------------------------\n"
     ]
    },
    {
     "name": "stderr",
     "output_type": "stream",
     "text": [
      " 28%|██▊       | 413/1500 [01:08<02:45,  6.56it/s]"
     ]
    },
    {
     "name": "stdout",
     "output_type": "stream",
     "text": [
      "Test Error: \n",
      " metric: 0.8342356085777283, Avg test loss: 831700021.3333334 , loss = 72939392.0 \n",
      "\n",
      "Epoch 413\n",
      "-------------------------------------\n",
      "Test Error: \n",
      " metric: 0.8109049797058105, Avg test loss: 1555765056.0 , loss = 987328448.0 \n",
      "\n",
      "Epoch 414\n",
      "-------------------------------------\n"
     ]
    },
    {
     "name": "stderr",
     "output_type": "stream",
     "text": [
      " 28%|██▊       | 415/1500 [01:09<02:49,  6.40it/s]"
     ]
    },
    {
     "name": "stdout",
     "output_type": "stream",
     "text": [
      "Test Error: \n",
      " metric: 0.7816693186759949, Avg test loss: 1171353770.6666667 , loss = 683470272.0 \n",
      "\n",
      "Epoch 415\n",
      "-------------------------------------\n",
      "Test Error: \n",
      " metric: 0.6655902862548828, Avg test loss: 1369961920.0 , loss = 452294080.0 \n",
      "\n",
      "Epoch 416\n",
      "-------------------------------------\n"
     ]
    },
    {
     "name": "stderr",
     "output_type": "stream",
     "text": [
      " 28%|██▊       | 417/1500 [01:09<02:51,  6.31it/s]"
     ]
    },
    {
     "name": "stdout",
     "output_type": "stream",
     "text": [
      "Test Error: \n",
      " metric: 0.8236842751502991, Avg test loss: 991241802.6666666 , loss = 804566528.0 \n",
      "\n",
      "Epoch 417\n",
      "-------------------------------------\n",
      "Test Error: \n",
      " metric: 0.7995895147323608, Avg test loss: 1434167765.3333333 , loss = 412242944.0 \n",
      "\n",
      "Epoch 418\n",
      "-------------------------------------\n"
     ]
    },
    {
     "name": "stderr",
     "output_type": "stream",
     "text": [
      " 28%|██▊       | 419/1500 [01:09<02:51,  6.29it/s]"
     ]
    },
    {
     "name": "stdout",
     "output_type": "stream",
     "text": [
      "Test Error: \n",
      " metric: 0.8262913227081299, Avg test loss: 1005679733.3333334 , loss = 324854592.0 \n",
      "\n",
      "Epoch 419\n",
      "-------------------------------------\n",
      "Test Error: \n",
      " metric: 0.7574200630187988, Avg test loss: 1244947370.6666667 , loss = 226651680.0 \n",
      "\n",
      "Epoch 420\n",
      "-------------------------------------\n"
     ]
    },
    {
     "name": "stderr",
     "output_type": "stream",
     "text": [
      " 28%|██▊       | 421/1500 [01:09<02:51,  6.30it/s]"
     ]
    },
    {
     "name": "stdout",
     "output_type": "stream",
     "text": [
      "Test Error: \n",
      " metric: 0.8117213249206543, Avg test loss: 1087058666.6666667 , loss = 726350016.0 \n",
      "\n",
      "Epoch 421\n",
      "-------------------------------------\n",
      "Test Error: \n",
      " metric: 0.834618866443634, Avg test loss: 903753962.6666666 , loss = 770370176.0 \n",
      "\n",
      "Epoch 422\n",
      "-------------------------------------\n"
     ]
    },
    {
     "name": "stderr",
     "output_type": "stream",
     "text": [
      " 28%|██▊       | 423/1500 [01:10<02:51,  6.28it/s]"
     ]
    },
    {
     "name": "stdout",
     "output_type": "stream",
     "text": [
      "Test Error: \n",
      " metric: 0.8300965428352356, Avg test loss: 1127777536.0 , loss = 167290080.0 \n",
      "\n",
      "Epoch 423\n",
      "-------------------------------------\n",
      "Test Error: \n",
      " metric: 0.8007544875144958, Avg test loss: 1003263285.3333334 , loss = 592823488.0 \n",
      "\n",
      "Epoch 424\n",
      "-------------------------------------\n"
     ]
    },
    {
     "name": "stderr",
     "output_type": "stream",
     "text": [
      " 28%|██▊       | 425/1500 [01:10<02:51,  6.27it/s]"
     ]
    },
    {
     "name": "stdout",
     "output_type": "stream",
     "text": [
      "Test Error: \n",
      " metric: 0.8347592353820801, Avg test loss: 999508277.3333334 , loss = 747608768.0 \n",
      "\n",
      "Epoch 425\n",
      "-------------------------------------\n",
      "Test Error: \n",
      " metric: 0.8202459216117859, Avg test loss: 979330410.6666666 , loss = 104062376.0 \n",
      "\n",
      "Epoch 426\n",
      "-------------------------------------\n"
     ]
    },
    {
     "name": "stderr",
     "output_type": "stream",
     "text": [
      " 28%|██▊       | 427/1500 [01:10<02:43,  6.56it/s]"
     ]
    },
    {
     "name": "stdout",
     "output_type": "stream",
     "text": [
      "Test Error: \n",
      " metric: 0.8276634812355042, Avg test loss: 936762186.6666666 , loss = 121059976.0 \n",
      "\n",
      "Epoch 427\n",
      "-------------------------------------\n",
      "Test Error: \n",
      " metric: 0.8353648781776428, Avg test loss: 884787509.3333334 , loss = 409820992.0 \n",
      "\n",
      "Epoch 428\n",
      "-------------------------------------\n"
     ]
    },
    {
     "name": "stderr",
     "output_type": "stream",
     "text": [
      " 29%|██▊       | 429/1500 [01:11<02:38,  6.77it/s]"
     ]
    },
    {
     "name": "stdout",
     "output_type": "stream",
     "text": [
      "Test Error: \n",
      " metric: 0.8487002849578857, Avg test loss: 984641728.0 , loss = 258040864.0 \n",
      "\n",
      "Epoch 429\n",
      "-------------------------------------\n",
      "Test Error: \n",
      " metric: 0.8293920755386353, Avg test loss: 953240448.0 , loss = 308480128.0 \n",
      "\n",
      "Epoch 430\n",
      "-------------------------------------\n"
     ]
    },
    {
     "name": "stderr",
     "output_type": "stream",
     "text": [
      " 29%|██▊       | 431/1500 [01:11<02:34,  6.93it/s]"
     ]
    },
    {
     "name": "stdout",
     "output_type": "stream",
     "text": [
      "Test Error: \n",
      " metric: 0.757225513458252, Avg test loss: 1112362944.0 , loss = 606892736.0 \n",
      "\n",
      "Epoch 431\n",
      "-------------------------------------\n",
      "Test Error: \n",
      " metric: 0.8392765522003174, Avg test loss: 878534730.6666666 , loss = 405802112.0 \n",
      "\n",
      "Epoch 432\n",
      "-------------------------------------\n"
     ]
    },
    {
     "name": "stderr",
     "output_type": "stream",
     "text": [
      " 29%|██▉       | 433/1500 [01:11<02:31,  7.04it/s]"
     ]
    },
    {
     "name": "stdout",
     "output_type": "stream",
     "text": [
      "Test Error: \n",
      " metric: 0.813086986541748, Avg test loss: 1023746965.3333334 , loss = 540068672.0 \n",
      "\n",
      "Epoch 433\n",
      "-------------------------------------\n",
      "Test Error: \n",
      " metric: 0.8408397436141968, Avg test loss: 952207952.0 , loss = 155784544.0 \n",
      "\n",
      "Epoch 434\n",
      "-------------------------------------\n"
     ]
    },
    {
     "name": "stderr",
     "output_type": "stream",
     "text": [
      " 29%|██▉       | 435/1500 [01:12<02:30,  7.07it/s]"
     ]
    },
    {
     "name": "stdout",
     "output_type": "stream",
     "text": [
      "Test Error: \n",
      " metric: 0.7511209845542908, Avg test loss: 1103551104.0 , loss = 1463944320.0 \n",
      "\n",
      "Epoch 435\n",
      "-------------------------------------\n",
      "Test Error: \n",
      " metric: 0.8435525298118591, Avg test loss: 934772426.6666666 , loss = 897619328.0 \n",
      "\n",
      "Epoch 436\n",
      "-------------------------------------\n"
     ]
    },
    {
     "name": "stderr",
     "output_type": "stream",
     "text": [
      " 29%|██▉       | 437/1500 [01:12<02:30,  7.07it/s]"
     ]
    },
    {
     "name": "stdout",
     "output_type": "stream",
     "text": [
      "Test Error: \n",
      " metric: 0.7813012599945068, Avg test loss: 1552178368.0 , loss = 1423841664.0 \n",
      "\n",
      "Epoch 437\n",
      "-------------------------------------\n",
      "Test Error: \n",
      " metric: 0.6997563242912292, Avg test loss: 1195226368.0 , loss = 755471616.0 \n",
      "\n",
      "Epoch 438\n",
      "-------------------------------------\n"
     ]
    },
    {
     "name": "stderr",
     "output_type": "stream",
     "text": [
      " 29%|██▉       | 439/1500 [01:12<02:30,  7.04it/s]"
     ]
    },
    {
     "name": "stdout",
     "output_type": "stream",
     "text": [
      "Test Error: \n",
      " metric: 0.7218650579452515, Avg test loss: 1144997034.6666667 , loss = 1489227008.0 \n",
      "\n",
      "Epoch 439\n",
      "-------------------------------------\n",
      "Test Error: \n",
      " metric: 0.8421577215194702, Avg test loss: 950244042.6666666 , loss = 427889792.0 \n",
      "\n",
      "Epoch 440\n",
      "-------------------------------------\n"
     ]
    },
    {
     "name": "stderr",
     "output_type": "stream",
     "text": [
      " 29%|██▉       | 441/1500 [01:12<02:29,  7.06it/s]"
     ]
    },
    {
     "name": "stdout",
     "output_type": "stream",
     "text": [
      "Test Error: \n",
      " metric: 0.8102100491523743, Avg test loss: 969204288.0 , loss = 352616320.0 \n",
      "\n",
      "Epoch 441\n",
      "-------------------------------------\n",
      "Test Error: \n",
      " metric: 0.7611638903617859, Avg test loss: 1123357546.6666667 , loss = 326991872.0 \n",
      "\n",
      "Epoch 442\n",
      "-------------------------------------\n"
     ]
    },
    {
     "name": "stderr",
     "output_type": "stream",
     "text": [
      " 30%|██▉       | 443/1500 [01:13<02:41,  6.54it/s]"
     ]
    },
    {
     "name": "stdout",
     "output_type": "stream",
     "text": [
      "Test Error: \n",
      " metric: 0.8313548564910889, Avg test loss: 1145804437.3333333 , loss = 685587904.0 \n",
      "\n",
      "Epoch 443\n",
      "-------------------------------------\n",
      "Test Error: \n",
      " metric: 0.800682783126831, Avg test loss: 1050793557.3333334 , loss = 976774464.0 \n",
      "\n",
      "Epoch 444\n",
      "-------------------------------------\n"
     ]
    },
    {
     "name": "stderr",
     "output_type": "stream",
     "text": [
      " 30%|██▉       | 445/1500 [01:13<02:48,  6.26it/s]"
     ]
    },
    {
     "name": "stdout",
     "output_type": "stream",
     "text": [
      "Test Error: \n",
      " metric: 0.742363452911377, Avg test loss: 1116968618.6666667 , loss = 204672544.0 \n",
      "\n",
      "Epoch 445\n",
      "-------------------------------------\n",
      "Test Error: \n",
      " metric: 0.7865680456161499, Avg test loss: 1003658693.3333334 , loss = 656161920.0 \n",
      "\n",
      "Epoch 446\n",
      "-------------------------------------\n"
     ]
    },
    {
     "name": "stderr",
     "output_type": "stream",
     "text": [
      " 30%|██▉       | 447/1500 [01:13<02:51,  6.14it/s]"
     ]
    },
    {
     "name": "stdout",
     "output_type": "stream",
     "text": [
      "Test Error: \n",
      " metric: 0.8266996145248413, Avg test loss: 991189621.3333334 , loss = 578306240.0 \n",
      "\n",
      "Epoch 447\n",
      "-------------------------------------\n",
      "Test Error: \n",
      " metric: 0.7132573127746582, Avg test loss: 1178577898.6666667 , loss = 342504864.0 \n",
      "\n",
      "Epoch 448\n",
      "-------------------------------------\n"
     ]
    },
    {
     "name": "stderr",
     "output_type": "stream",
     "text": [
      " 30%|██▉       | 449/1500 [01:14<02:53,  6.07it/s]"
     ]
    },
    {
     "name": "stdout",
     "output_type": "stream",
     "text": [
      "Test Error: \n",
      " metric: 0.8536043763160706, Avg test loss: 911473621.3333334 , loss = 103983760.0 \n",
      "\n",
      "Epoch 449\n",
      "-------------------------------------\n",
      "Test Error: \n",
      " metric: 0.8201280832290649, Avg test loss: 982813610.6666666 , loss = 1007340032.0 \n",
      "\n",
      "Epoch 450\n",
      "-------------------------------------\n"
     ]
    },
    {
     "name": "stderr",
     "output_type": "stream",
     "text": [
      " 30%|███       | 451/1500 [01:14<02:50,  6.15it/s]"
     ]
    },
    {
     "name": "stdout",
     "output_type": "stream",
     "text": [
      "Test Error: \n",
      " metric: 0.8568665385246277, Avg test loss: 945905226.6666666 , loss = 222521392.0 \n",
      "\n",
      "Epoch 451\n",
      "-------------------------------------\n",
      "Test Error: \n",
      " metric: 0.836089015007019, Avg test loss: 873902762.6666666 , loss = 166357248.0 \n",
      "\n",
      "Epoch 452\n",
      "-------------------------------------\n"
     ]
    },
    {
     "name": "stderr",
     "output_type": "stream",
     "text": [
      " 30%|███       | 453/1500 [01:14<02:49,  6.18it/s]"
     ]
    },
    {
     "name": "stdout",
     "output_type": "stream",
     "text": [
      "Test Error: \n",
      " metric: 0.836803138256073, Avg test loss: 942389642.6666666 , loss = 496152640.0 \n",
      "\n",
      "Epoch 453\n",
      "-------------------------------------\n",
      "Test Error: \n",
      " metric: 0.8162860870361328, Avg test loss: 980091349.3333334 , loss = 78785696.0 \n",
      "\n",
      "Epoch 454\n",
      "-------------------------------------\n"
     ]
    },
    {
     "name": "stderr",
     "output_type": "stream",
     "text": [
      " 30%|███       | 455/1500 [01:15<02:52,  6.07it/s]"
     ]
    },
    {
     "name": "stdout",
     "output_type": "stream",
     "text": [
      "Test Error: \n",
      " metric: 0.8393067121505737, Avg test loss: 1000850293.3333334 , loss = 182063168.0 \n",
      "\n",
      "Epoch 455\n",
      "-------------------------------------\n",
      "Test Error: \n",
      " metric: 0.7994048595428467, Avg test loss: 1073642848.0 , loss = 714491712.0 \n",
      "\n",
      "Epoch 456\n",
      "-------------------------------------\n"
     ]
    },
    {
     "name": "stderr",
     "output_type": "stream",
     "text": [
      " 30%|███       | 457/1500 [01:15<02:51,  6.07it/s]"
     ]
    },
    {
     "name": "stdout",
     "output_type": "stream",
     "text": [
      "Test Error: \n",
      " metric: 0.7996250987052917, Avg test loss: 1086733909.3333333 , loss = 1107648896.0 \n",
      "\n",
      "Epoch 457\n",
      "-------------------------------------\n",
      "Test Error: \n",
      " metric: 0.7589976787567139, Avg test loss: 1769894485.3333333 , loss = 384383040.0 \n",
      "\n",
      "Epoch 458\n",
      "-------------------------------------\n"
     ]
    },
    {
     "name": "stderr",
     "output_type": "stream",
     "text": [
      " 31%|███       | 459/1500 [01:15<02:51,  6.07it/s]"
     ]
    },
    {
     "name": "stdout",
     "output_type": "stream",
     "text": [
      "Test Error: \n",
      " metric: 0.8316671848297119, Avg test loss: 921897712.0 , loss = 591819712.0 \n",
      "\n",
      "Epoch 459\n",
      "-------------------------------------\n",
      "Test Error: \n",
      " metric: 0.7844617962837219, Avg test loss: 992000106.6666666 , loss = 479001216.0 \n",
      "\n",
      "Epoch 460\n",
      "-------------------------------------\n"
     ]
    },
    {
     "name": "stderr",
     "output_type": "stream",
     "text": [
      " 31%|███       | 461/1500 [01:16<02:51,  6.06it/s]"
     ]
    },
    {
     "name": "stdout",
     "output_type": "stream",
     "text": [
      "Test Error: \n",
      " metric: 0.8274316191673279, Avg test loss: 908220778.6666666 , loss = 167362544.0 \n",
      "\n",
      "Epoch 461\n",
      "-------------------------------------\n",
      "Test Error: \n",
      " metric: 0.7988142967224121, Avg test loss: 988343210.6666666 , loss = 362836544.0 \n",
      "\n",
      "Epoch 462\n",
      "-------------------------------------\n"
     ]
    },
    {
     "name": "stderr",
     "output_type": "stream",
     "text": [
      " 31%|███       | 463/1500 [01:16<02:50,  6.08it/s]"
     ]
    },
    {
     "name": "stdout",
     "output_type": "stream",
     "text": [
      "Test Error: \n",
      " metric: 0.8131148219108582, Avg test loss: 944551013.3333334 , loss = 592978432.0 \n",
      "\n",
      "Epoch 463\n",
      "-------------------------------------\n",
      "Test Error: \n",
      " metric: 0.8267428874969482, Avg test loss: 898852949.3333334 , loss = 141340928.0 \n",
      "\n",
      "Epoch 464\n",
      "-------------------------------------\n"
     ]
    },
    {
     "name": "stderr",
     "output_type": "stream",
     "text": [
      " 31%|███       | 465/1500 [01:16<02:50,  6.08it/s]"
     ]
    },
    {
     "name": "stdout",
     "output_type": "stream",
     "text": [
      "Test Error: \n",
      " metric: 0.830622673034668, Avg test loss: 1006995984.0 , loss = 230182112.0 \n",
      "\n",
      "Epoch 465\n",
      "-------------------------------------\n",
      "Test Error: \n",
      " metric: 0.8435885310173035, Avg test loss: 962110352.0 , loss = 915654592.0 \n",
      "\n",
      "Epoch 466\n",
      "-------------------------------------\n"
     ]
    },
    {
     "name": "stderr",
     "output_type": "stream",
     "text": [
      " 31%|███       | 467/1500 [01:17<02:49,  6.11it/s]"
     ]
    },
    {
     "name": "stdout",
     "output_type": "stream",
     "text": [
      "Test Error: \n",
      " metric: 0.8374748229980469, Avg test loss: 890403232.0 , loss = 964779584.0 \n",
      "\n",
      "Epoch 467\n",
      "-------------------------------------\n",
      "Test Error: \n",
      " metric: 0.8382149934768677, Avg test loss: 963165589.3333334 , loss = 597287488.0 \n",
      "\n",
      "Epoch 468\n",
      "-------------------------------------\n"
     ]
    },
    {
     "name": "stderr",
     "output_type": "stream",
     "text": [
      " 31%|███▏      | 469/1500 [01:17<02:49,  6.07it/s]"
     ]
    },
    {
     "name": "stdout",
     "output_type": "stream",
     "text": [
      "Test Error: \n",
      " metric: 0.7828448414802551, Avg test loss: 1552254965.3333333 , loss = 732016448.0 \n",
      "\n",
      "Epoch 469\n",
      "-------------------------------------\n",
      "Test Error: \n",
      " metric: 0.7821226119995117, Avg test loss: 1627995626.6666667 , loss = 266736160.0 \n",
      "\n",
      "Epoch 470\n",
      "-------------------------------------\n"
     ]
    },
    {
     "name": "stderr",
     "output_type": "stream",
     "text": [
      " 31%|███▏      | 471/1500 [01:17<02:43,  6.31it/s]"
     ]
    },
    {
     "name": "stdout",
     "output_type": "stream",
     "text": [
      "Test Error: \n",
      " metric: 0.827366828918457, Avg test loss: 1102433029.3333333 , loss = 360956608.0 \n",
      "\n",
      "Epoch 471\n",
      "-------------------------------------\n",
      "Test Error: \n",
      " metric: 0.8395873308181763, Avg test loss: 983909632.0 , loss = 1336922752.0 \n",
      "\n",
      "Epoch 472\n",
      "-------------------------------------\n"
     ]
    },
    {
     "name": "stderr",
     "output_type": "stream",
     "text": [
      " 32%|███▏      | 473/1500 [01:18<02:37,  6.52it/s]"
     ]
    },
    {
     "name": "stdout",
     "output_type": "stream",
     "text": [
      "Test Error: \n",
      " metric: 0.768670916557312, Avg test loss: 1231732096.0 , loss = 1743700992.0 \n",
      "\n",
      "Epoch 473\n",
      "-------------------------------------\n",
      "Test Error: \n",
      " metric: 0.8525824546813965, Avg test loss: 952457978.6666666 , loss = 690216256.0 \n",
      "\n",
      "Epoch 474\n",
      "-------------------------------------\n"
     ]
    },
    {
     "name": "stderr",
     "output_type": "stream",
     "text": [
      " 32%|███▏      | 475/1500 [01:18<02:32,  6.71it/s]"
     ]
    },
    {
     "name": "stdout",
     "output_type": "stream",
     "text": [
      "Test Error: \n",
      " metric: 0.781702995300293, Avg test loss: 1035324693.3333334 , loss = 975740032.0 \n",
      "\n",
      "Epoch 475\n",
      "-------------------------------------\n",
      "Test Error: \n",
      " metric: 0.8265951871871948, Avg test loss: 1023495077.3333334 , loss = 968497600.0 \n",
      "\n",
      "Epoch 476\n",
      "-------------------------------------\n"
     ]
    },
    {
     "name": "stderr",
     "output_type": "stream",
     "text": [
      " 32%|███▏      | 477/1500 [01:18<02:35,  6.57it/s]"
     ]
    },
    {
     "name": "stdout",
     "output_type": "stream",
     "text": [
      "Test Error: \n",
      " metric: 0.8285192847251892, Avg test loss: 993902202.6666666 , loss = 1305483904.0 \n",
      "\n",
      "Epoch 477\n",
      "-------------------------------------\n",
      "Test Error: \n",
      " metric: 0.8384297490119934, Avg test loss: 869085477.3333334 , loss = 201623088.0 \n",
      "\n",
      "Epoch 478\n",
      "-------------------------------------\n"
     ]
    },
    {
     "name": "stderr",
     "output_type": "stream",
     "text": [
      " 32%|███▏      | 479/1500 [01:19<02:41,  6.31it/s]"
     ]
    },
    {
     "name": "stdout",
     "output_type": "stream",
     "text": [
      "Test Error: \n",
      " metric: 0.755675196647644, Avg test loss: 1041049450.6666666 , loss = 865453120.0 \n",
      "\n",
      "Epoch 479\n",
      "-------------------------------------\n",
      "Test Error: \n",
      " metric: 0.8323236107826233, Avg test loss: 1331972320.0 , loss = 1053979072.0 \n",
      "\n",
      "Epoch 480\n",
      "-------------------------------------\n"
     ]
    },
    {
     "name": "stderr",
     "output_type": "stream",
     "text": [
      " 32%|███▏      | 481/1500 [01:19<02:41,  6.30it/s]"
     ]
    },
    {
     "name": "stdout",
     "output_type": "stream",
     "text": [
      "Test Error: \n",
      " metric: 0.790144145488739, Avg test loss: 1509343658.6666667 , loss = 1655250176.0 \n",
      "\n",
      "Epoch 481\n",
      "-------------------------------------\n",
      "Test Error: \n",
      " metric: 0.8566100597381592, Avg test loss: 944180736.0 , loss = 1156542592.0 \n",
      "\n",
      "Epoch 482\n",
      "-------------------------------------\n"
     ]
    },
    {
     "name": "stderr",
     "output_type": "stream",
     "text": [
      " 32%|███▏      | 483/1500 [01:19<02:43,  6.23it/s]"
     ]
    },
    {
     "name": "stdout",
     "output_type": "stream",
     "text": [
      "Test Error: \n",
      " metric: 0.8402119874954224, Avg test loss: 931463776.0 , loss = 397707680.0 \n",
      "\n",
      "Epoch 483\n",
      "-------------------------------------\n",
      "Test Error: \n",
      " metric: 0.8258539438247681, Avg test loss: 892524917.3333334 , loss = 161920672.0 \n",
      "\n",
      "Epoch 484\n",
      "-------------------------------------\n"
     ]
    },
    {
     "name": "stderr",
     "output_type": "stream",
     "text": [
      " 32%|███▏      | 485/1500 [01:19<02:45,  6.15it/s]"
     ]
    },
    {
     "name": "stdout",
     "output_type": "stream",
     "text": [
      "Test Error: \n",
      " metric: 0.8032791614532471, Avg test loss: 1504022672.0 , loss = 906042624.0 \n",
      "\n",
      "Epoch 485\n",
      "-------------------------------------\n",
      "Test Error: \n",
      " metric: 0.8007742166519165, Avg test loss: 1046918730.6666666 , loss = 316166144.0 \n",
      "\n",
      "Epoch 486\n",
      "-------------------------------------\n"
     ]
    },
    {
     "name": "stderr",
     "output_type": "stream",
     "text": [
      " 32%|███▏      | 487/1500 [01:20<02:38,  6.40it/s]"
     ]
    },
    {
     "name": "stdout",
     "output_type": "stream",
     "text": [
      "Test Error: \n",
      " metric: 0.8455756306648254, Avg test loss: 869448565.3333334 , loss = 913868160.0 \n",
      "\n",
      "Epoch 487\n",
      "-------------------------------------\n",
      "Test Error: \n",
      " metric: 0.8443456292152405, Avg test loss: 930940981.3333334 , loss = 397333792.0 \n",
      "\n",
      "Epoch 488\n",
      "-------------------------------------\n"
     ]
    },
    {
     "name": "stderr",
     "output_type": "stream",
     "text": [
      " 33%|███▎      | 489/1500 [01:20<02:33,  6.58it/s]"
     ]
    },
    {
     "name": "stdout",
     "output_type": "stream",
     "text": [
      "Test Error: \n",
      " metric: 0.8196439743041992, Avg test loss: 1088013429.3333333 , loss = 434637440.0 \n",
      "\n",
      "Epoch 489\n",
      "-------------------------------------\n",
      "Test Error: \n",
      " metric: 0.8346498012542725, Avg test loss: 908634890.6666666 , loss = 313799808.0 \n",
      "\n",
      "Epoch 490\n",
      "-------------------------------------\n"
     ]
    },
    {
     "name": "stderr",
     "output_type": "stream",
     "text": [
      " 33%|███▎      | 491/1500 [01:20<02:32,  6.61it/s]"
     ]
    },
    {
     "name": "stdout",
     "output_type": "stream",
     "text": [
      "Test Error: \n",
      " metric: 0.8154155611991882, Avg test loss: 975339413.3333334 , loss = 292578080.0 \n",
      "\n",
      "Epoch 491\n",
      "-------------------------------------\n",
      "Test Error: \n",
      " metric: 0.8259387612342834, Avg test loss: 1031933536.0 , loss = 125941824.0 \n",
      "\n",
      "Epoch 492\n",
      "-------------------------------------\n"
     ]
    },
    {
     "name": "stderr",
     "output_type": "stream",
     "text": [
      " 33%|███▎      | 493/1500 [01:21<02:30,  6.68it/s]"
     ]
    },
    {
     "name": "stdout",
     "output_type": "stream",
     "text": [
      "Test Error: \n",
      " metric: 0.8262448906898499, Avg test loss: 1081293813.3333333 , loss = 203875360.0 \n",
      "\n",
      "Epoch 493\n",
      "-------------------------------------\n",
      "Test Error: \n",
      " metric: 0.8440288305282593, Avg test loss: 934243018.6666666 , loss = 522315456.0 \n",
      "\n",
      "Epoch 494\n",
      "-------------------------------------\n"
     ]
    },
    {
     "name": "stderr",
     "output_type": "stream",
     "text": [
      " 33%|███▎      | 495/1500 [01:21<02:30,  6.69it/s]"
     ]
    },
    {
     "name": "stdout",
     "output_type": "stream",
     "text": [
      "Test Error: \n",
      " metric: 0.8375903964042664, Avg test loss: 1024421546.6666666 , loss = 385049920.0 \n",
      "\n",
      "Epoch 495\n",
      "-------------------------------------\n",
      "Test Error: \n",
      " metric: 0.8450890183448792, Avg test loss: 1129349557.3333333 , loss = 1047312896.0 \n",
      "\n",
      "Epoch 496\n",
      "-------------------------------------\n"
     ]
    },
    {
     "name": "stderr",
     "output_type": "stream",
     "text": [
      " 33%|███▎      | 497/1500 [01:21<02:29,  6.72it/s]"
     ]
    },
    {
     "name": "stdout",
     "output_type": "stream",
     "text": [
      "Test Error: \n",
      " metric: 0.8396347761154175, Avg test loss: 866239957.3333334 , loss = 24206550.0 \n",
      "\n",
      "Epoch 497\n",
      "-------------------------------------\n",
      "Test Error: \n",
      " metric: 0.8303155303001404, Avg test loss: 1106335381.3333333 , loss = 82047536.0 \n",
      "\n",
      "Epoch 498\n",
      "-------------------------------------\n"
     ]
    },
    {
     "name": "stderr",
     "output_type": "stream",
     "text": [
      " 33%|███▎      | 499/1500 [01:22<02:27,  6.78it/s]"
     ]
    },
    {
     "name": "stdout",
     "output_type": "stream",
     "text": [
      "Test Error: \n",
      " metric: 0.8224856853485107, Avg test loss: 910544032.0 , loss = 916233024.0 \n",
      "\n",
      "Epoch 499\n",
      "-------------------------------------\n",
      "Test Error: \n",
      " metric: 0.8485249876976013, Avg test loss: 916082922.6666666 , loss = 84539376.0 \n",
      "\n",
      "Epoch 500\n",
      "-------------------------------------\n"
     ]
    },
    {
     "name": "stderr",
     "output_type": "stream",
     "text": [
      " 33%|███▎      | 501/1500 [01:22<02:24,  6.90it/s]"
     ]
    },
    {
     "name": "stdout",
     "output_type": "stream",
     "text": [
      "Test Error: \n",
      " metric: 0.8382097482681274, Avg test loss: 908992320.0 , loss = 814677376.0 \n",
      "\n",
      "Epoch 501\n",
      "-------------------------------------\n",
      "Test Error: \n",
      " metric: 0.8320562839508057, Avg test loss: 900475008.0 , loss = 407477888.0 \n",
      "\n",
      "Epoch 502\n",
      "-------------------------------------\n"
     ]
    },
    {
     "name": "stderr",
     "output_type": "stream",
     "text": [
      " 34%|███▎      | 503/1500 [01:22<02:22,  7.01it/s]"
     ]
    },
    {
     "name": "stdout",
     "output_type": "stream",
     "text": [
      "Test Error: \n",
      " metric: 0.7479225397109985, Avg test loss: 1252588394.6666667 , loss = 464549600.0 \n",
      "\n",
      "Epoch 503\n",
      "-------------------------------------\n",
      "Test Error: \n",
      " metric: 0.8186993598937988, Avg test loss: 915990336.0 , loss = 615375040.0 \n",
      "\n",
      "Epoch 504\n",
      "-------------------------------------\n"
     ]
    },
    {
     "name": "stderr",
     "output_type": "stream",
     "text": [
      " 34%|███▎      | 505/1500 [01:22<02:20,  7.07it/s]"
     ]
    },
    {
     "name": "stdout",
     "output_type": "stream",
     "text": [
      "Test Error: \n",
      " metric: 0.6668990850448608, Avg test loss: 1294286293.3333333 , loss = 398661312.0 \n",
      "\n",
      "Epoch 505\n",
      "-------------------------------------\n",
      "Test Error: \n",
      " metric: 0.8506074547767639, Avg test loss: 936982869.3333334 , loss = 284539840.0 \n",
      "\n",
      "Epoch 506\n",
      "-------------------------------------\n"
     ]
    },
    {
     "name": "stderr",
     "output_type": "stream",
     "text": [
      " 34%|███▍      | 507/1500 [01:23<02:23,  6.93it/s]"
     ]
    },
    {
     "name": "stdout",
     "output_type": "stream",
     "text": [
      "Test Error: \n",
      " metric: 0.838948667049408, Avg test loss: 976006000.0 , loss = 62816828.0 \n",
      "\n",
      "Epoch 507\n",
      "-------------------------------------\n",
      "Test Error: \n",
      " metric: 0.8379314541816711, Avg test loss: 911877568.0 , loss = 541935232.0 \n",
      "\n",
      "Epoch 508\n",
      "-------------------------------------\n"
     ]
    },
    {
     "name": "stderr",
     "output_type": "stream",
     "text": [
      " 34%|███▍      | 509/1500 [01:23<02:31,  6.53it/s]"
     ]
    },
    {
     "name": "stdout",
     "output_type": "stream",
     "text": [
      "Test Error: \n",
      " metric: 0.8594079613685608, Avg test loss: 825726666.6666666 , loss = 1872241792.0 \n",
      "\n",
      "Epoch 509\n",
      "-------------------------------------\n",
      "Test Error: \n",
      " metric: 0.79388427734375, Avg test loss: 953565744.0 , loss = 181092736.0 \n",
      "\n",
      "Epoch 510\n",
      "-------------------------------------\n"
     ]
    },
    {
     "name": "stderr",
     "output_type": "stream",
     "text": [
      " 34%|███▍      | 511/1500 [01:23<02:36,  6.30it/s]"
     ]
    },
    {
     "name": "stdout",
     "output_type": "stream",
     "text": [
      "Test Error: \n",
      " metric: 0.832838237285614, Avg test loss: 848132714.6666666 , loss = 437349824.0 \n",
      "\n",
      "Epoch 511\n",
      "-------------------------------------\n",
      "Test Error: \n",
      " metric: 0.8234096765518188, Avg test loss: 944292368.0 , loss = 672733120.0 \n",
      "\n",
      "Epoch 512\n",
      "-------------------------------------\n"
     ]
    },
    {
     "name": "stderr",
     "output_type": "stream",
     "text": [
      " 34%|███▍      | 513/1500 [01:24<02:38,  6.22it/s]"
     ]
    },
    {
     "name": "stdout",
     "output_type": "stream",
     "text": [
      "Test Error: \n",
      " metric: 0.8631882667541504, Avg test loss: 902397168.0 , loss = 350092256.0 \n",
      "\n",
      "Epoch 513\n",
      "-------------------------------------\n",
      "Test Error: \n",
      " metric: 0.8465939164161682, Avg test loss: 842027573.3333334 , loss = 383372480.0 \n",
      "\n",
      "Epoch 514\n",
      "-------------------------------------\n"
     ]
    },
    {
     "name": "stderr",
     "output_type": "stream",
     "text": [
      " 34%|███▍      | 515/1500 [01:24<02:40,  6.13it/s]"
     ]
    },
    {
     "name": "stdout",
     "output_type": "stream",
     "text": [
      "Test Error: \n",
      " metric: 0.8365582227706909, Avg test loss: 847337482.6666666 , loss = 215074848.0 \n",
      "\n",
      "Epoch 515\n",
      "-------------------------------------\n",
      "Test Error: \n",
      " metric: 0.8014478087425232, Avg test loss: 1455705258.6666667 , loss = 1152353024.0 \n",
      "\n",
      "Epoch 516\n",
      "-------------------------------------\n"
     ]
    },
    {
     "name": "stderr",
     "output_type": "stream",
     "text": [
      " 34%|███▍      | 517/1500 [01:24<02:38,  6.22it/s]"
     ]
    },
    {
     "name": "stdout",
     "output_type": "stream",
     "text": [
      "Test Error: \n",
      " metric: 0.8304378390312195, Avg test loss: 1395602986.6666667 , loss = 106005472.0 \n",
      "\n",
      "Epoch 517\n",
      "-------------------------------------\n",
      "Test Error: \n",
      " metric: 0.827822744846344, Avg test loss: 1036065898.6666666 , loss = 494400992.0 \n",
      "\n",
      "Epoch 518\n",
      "-------------------------------------\n"
     ]
    },
    {
     "name": "stderr",
     "output_type": "stream",
     "text": [
      " 35%|███▍      | 519/1500 [01:25<02:39,  6.16it/s]"
     ]
    },
    {
     "name": "stdout",
     "output_type": "stream",
     "text": [
      "Test Error: \n",
      " metric: 0.826866626739502, Avg test loss: 945708778.6666666 , loss = 316828320.0 \n",
      "\n",
      "Epoch 519\n",
      "-------------------------------------\n",
      "Test Error: \n",
      " metric: 0.8193358778953552, Avg test loss: 1066981541.3333334 , loss = 644459712.0 \n",
      "\n",
      "Epoch 520\n",
      "-------------------------------------\n"
     ]
    },
    {
     "name": "stderr",
     "output_type": "stream",
     "text": [
      " 35%|███▍      | 521/1500 [01:25<02:38,  6.18it/s]"
     ]
    },
    {
     "name": "stdout",
     "output_type": "stream",
     "text": [
      "Test Error: \n",
      " metric: 0.845531702041626, Avg test loss: 856111104.0 , loss = 132742944.0 \n",
      "\n",
      "Epoch 521\n",
      "-------------------------------------\n",
      "Test Error: \n",
      " metric: 0.8384284973144531, Avg test loss: 902284896.0 , loss = 847072576.0 \n",
      "\n",
      "Epoch 522\n",
      "-------------------------------------\n"
     ]
    },
    {
     "name": "stderr",
     "output_type": "stream",
     "text": [
      " 35%|███▍      | 523/1500 [01:25<02:40,  6.10it/s]"
     ]
    },
    {
     "name": "stdout",
     "output_type": "stream",
     "text": [
      "Test Error: \n",
      " metric: 0.8229691386222839, Avg test loss: 884715362.6666666 , loss = 291786880.0 \n",
      "\n",
      "Epoch 523\n",
      "-------------------------------------\n",
      "Test Error: \n",
      " metric: 0.8437325954437256, Avg test loss: 1056203242.6666666 , loss = 313737408.0 \n",
      "\n",
      "Epoch 524\n",
      "-------------------------------------\n"
     ]
    },
    {
     "name": "stderr",
     "output_type": "stream",
     "text": [
      " 35%|███▌      | 525/1500 [01:26<02:43,  5.97it/s]"
     ]
    },
    {
     "name": "stdout",
     "output_type": "stream",
     "text": [
      "Test Error: \n",
      " metric: 0.8284690380096436, Avg test loss: 1173611018.6666667 , loss = 488716928.0 \n",
      "\n",
      "Epoch 525\n",
      "-------------------------------------\n",
      "Test Error: \n",
      " metric: 0.8285472393035889, Avg test loss: 902556474.6666666 , loss = 350287808.0 \n",
      "\n",
      "Epoch 526\n",
      "-------------------------------------\n"
     ]
    },
    {
     "name": "stderr",
     "output_type": "stream",
     "text": [
      " 35%|███▌      | 527/1500 [01:26<02:42,  5.98it/s]"
     ]
    },
    {
     "name": "stdout",
     "output_type": "stream",
     "text": [
      "Test Error: \n",
      " metric: 0.8260297179222107, Avg test loss: 912689621.3333334 , loss = 131310080.0 \n",
      "\n",
      "Epoch 527\n",
      "-------------------------------------\n",
      "Test Error: \n",
      " metric: 0.8371939659118652, Avg test loss: 905527498.6666666 , loss = 28353174.0 \n",
      "\n",
      "Epoch 528\n",
      "-------------------------------------\n"
     ]
    },
    {
     "name": "stderr",
     "output_type": "stream",
     "text": [
      " 35%|███▌      | 529/1500 [01:26<02:47,  5.81it/s]"
     ]
    },
    {
     "name": "stdout",
     "output_type": "stream",
     "text": [
      "Test Error: \n",
      " metric: 0.8439791798591614, Avg test loss: 941989664.0 , loss = 52722176.0 \n",
      "\n",
      "Epoch 529\n",
      "-------------------------------------\n",
      "Test Error: \n",
      " metric: 0.8562259674072266, Avg test loss: 999772245.3333334 , loss = 526592128.0 \n",
      "\n",
      "Epoch 530\n",
      "-------------------------------------\n"
     ]
    },
    {
     "name": "stderr",
     "output_type": "stream",
     "text": [
      " 35%|███▌      | 531/1500 [01:27<02:50,  5.70it/s]"
     ]
    },
    {
     "name": "stdout",
     "output_type": "stream",
     "text": [
      "Test Error: \n",
      " metric: 0.7418209314346313, Avg test loss: 1428100480.0 , loss = 383880832.0 \n",
      "\n",
      "Epoch 531\n",
      "-------------------------------------\n",
      "Test Error: \n",
      " metric: 0.8158897161483765, Avg test loss: 965656800.0 , loss = 751039104.0 \n",
      "\n",
      "Epoch 532\n",
      "-------------------------------------\n"
     ]
    },
    {
     "name": "stderr",
     "output_type": "stream",
     "text": [
      " 36%|███▌      | 533/1500 [01:27<02:44,  5.88it/s]"
     ]
    },
    {
     "name": "stdout",
     "output_type": "stream",
     "text": [
      "Test Error: \n",
      " metric: 0.8266921639442444, Avg test loss: 977793429.3333334 , loss = 77731104.0 \n",
      "\n",
      "Epoch 533\n",
      "-------------------------------------\n",
      "Test Error: \n",
      " metric: 0.8571327328681946, Avg test loss: 931160250.6666666 , loss = 487830752.0 \n",
      "\n",
      "Epoch 534\n",
      "-------------------------------------\n"
     ]
    },
    {
     "name": "stderr",
     "output_type": "stream",
     "text": [
      " 36%|███▌      | 535/1500 [01:27<02:47,  5.75it/s]"
     ]
    },
    {
     "name": "stdout",
     "output_type": "stream",
     "text": [
      "Test Error: \n",
      " metric: 0.8299245834350586, Avg test loss: 1197179274.6666667 , loss = 1349321984.0 \n",
      "\n",
      "Epoch 535\n",
      "-------------------------------------\n",
      "Test Error: \n",
      " metric: 0.8109371066093445, Avg test loss: 1045768688.0 , loss = 748181440.0 \n",
      "\n",
      "Epoch 536\n",
      "-------------------------------------\n"
     ]
    },
    {
     "name": "stderr",
     "output_type": "stream",
     "text": [
      " 36%|███▌      | 537/1500 [01:28<02:46,  5.79it/s]"
     ]
    },
    {
     "name": "stdout",
     "output_type": "stream",
     "text": [
      "Test Error: \n",
      " metric: 0.6416066288948059, Avg test loss: 1395031861.3333333 , loss = 27930438.0 \n",
      "\n",
      "Epoch 537\n",
      "-------------------------------------\n",
      "Test Error: \n",
      " metric: 0.8296012282371521, Avg test loss: 1043332810.6666666 , loss = 360511232.0 \n",
      "\n",
      "Epoch 538\n",
      "-------------------------------------\n"
     ]
    },
    {
     "name": "stderr",
     "output_type": "stream",
     "text": [
      " 36%|███▌      | 539/1500 [01:28<02:44,  5.85it/s]"
     ]
    },
    {
     "name": "stdout",
     "output_type": "stream",
     "text": [
      "Test Error: \n",
      " metric: 0.7982240915298462, Avg test loss: 893935189.3333334 , loss = 103839320.0 \n",
      "\n",
      "Epoch 539\n",
      "-------------------------------------\n",
      "Test Error: \n",
      " metric: 0.8483566045761108, Avg test loss: 859150506.6666666 , loss = 131478736.0 \n",
      "\n",
      "Epoch 540\n",
      "-------------------------------------\n"
     ]
    },
    {
     "name": "stderr",
     "output_type": "stream",
     "text": [
      " 36%|███▌      | 541/1500 [01:28<02:44,  5.82it/s]"
     ]
    },
    {
     "name": "stdout",
     "output_type": "stream",
     "text": [
      "Test Error: \n",
      " metric: 0.8333361148834229, Avg test loss: 1134657909.3333333 , loss = 132907456.0 \n",
      "\n",
      "Epoch 541\n",
      "-------------------------------------\n",
      "Test Error: \n",
      " metric: 0.8439146876335144, Avg test loss: 891609946.6666666 , loss = 1595929088.0 \n",
      "\n",
      "Epoch 542\n",
      "-------------------------------------\n"
     ]
    },
    {
     "name": "stderr",
     "output_type": "stream",
     "text": [
      " 36%|███▌      | 543/1500 [01:29<02:42,  5.89it/s]"
     ]
    },
    {
     "name": "stdout",
     "output_type": "stream",
     "text": [
      "Test Error: \n",
      " metric: 0.8219220638275146, Avg test loss: 1114270048.0 , loss = 288377248.0 \n",
      "\n",
      "Epoch 543\n",
      "-------------------------------------\n",
      "Test Error: \n",
      " metric: 0.8528134226799011, Avg test loss: 852964485.3333334 , loss = 756725248.0 \n",
      "\n",
      "Epoch 544\n",
      "-------------------------------------\n"
     ]
    },
    {
     "name": "stderr",
     "output_type": "stream",
     "text": [
      " 36%|███▋      | 545/1500 [01:29<02:39,  5.98it/s]"
     ]
    },
    {
     "name": "stdout",
     "output_type": "stream",
     "text": [
      "Test Error: \n",
      " metric: 0.8329775929450989, Avg test loss: 1022191466.6666666 , loss = 762707840.0 \n",
      "\n",
      "Epoch 545\n",
      "-------------------------------------\n",
      "Test Error: \n",
      " metric: 0.8460092544555664, Avg test loss: 957397541.3333334 , loss = 566626880.0 \n",
      "\n",
      "Epoch 546\n",
      "-------------------------------------\n"
     ]
    },
    {
     "name": "stderr",
     "output_type": "stream",
     "text": [
      " 36%|███▋      | 547/1500 [01:29<02:38,  6.02it/s]"
     ]
    },
    {
     "name": "stdout",
     "output_type": "stream",
     "text": [
      "Test Error: \n",
      " metric: 0.8067067861557007, Avg test loss: 939256085.3333334 , loss = 599417600.0 \n",
      "\n",
      "Epoch 547\n",
      "-------------------------------------\n",
      "Test Error: \n",
      " metric: 0.828776478767395, Avg test loss: 1096782272.0 , loss = 567539968.0 \n",
      "\n",
      "Epoch 548\n",
      "-------------------------------------\n"
     ]
    },
    {
     "name": "stderr",
     "output_type": "stream",
     "text": [
      " 37%|███▋      | 549/1500 [01:30<02:37,  6.02it/s]"
     ]
    },
    {
     "name": "stdout",
     "output_type": "stream",
     "text": [
      "Test Error: \n",
      " metric: 0.8018430471420288, Avg test loss: 1436773984.0 , loss = 51950880.0 \n",
      "\n",
      "Epoch 549\n",
      "-------------------------------------\n",
      "Test Error: \n",
      " metric: 0.6844735145568848, Avg test loss: 1430429653.3333333 , loss = 644001728.0 \n",
      "\n",
      "Epoch 550\n",
      "-------------------------------------\n"
     ]
    },
    {
     "name": "stderr",
     "output_type": "stream",
     "text": [
      " 37%|███▋      | 551/1500 [01:30<02:34,  6.14it/s]"
     ]
    },
    {
     "name": "stdout",
     "output_type": "stream",
     "text": [
      "Test Error: \n",
      " metric: 0.8420838713645935, Avg test loss: 1074966832.0 , loss = 377792832.0 \n",
      "\n",
      "Epoch 551\n",
      "-------------------------------------\n",
      "Test Error: \n",
      " metric: 0.8377162218093872, Avg test loss: 931058053.3333334 , loss = 135406848.0 \n",
      "\n",
      "Epoch 552\n",
      "-------------------------------------\n"
     ]
    },
    {
     "name": "stderr",
     "output_type": "stream",
     "text": [
      " 37%|███▋      | 553/1500 [01:30<02:32,  6.21it/s]"
     ]
    },
    {
     "name": "stdout",
     "output_type": "stream",
     "text": [
      "Test Error: \n",
      " metric: 0.8210834860801697, Avg test loss: 1187304384.0 , loss = 330024736.0 \n",
      "\n",
      "Epoch 553\n",
      "-------------------------------------\n",
      "Test Error: \n",
      " metric: 0.7904080152511597, Avg test loss: 1107332298.6666667 , loss = 108755480.0 \n",
      "\n",
      "Epoch 554\n",
      "-------------------------------------\n"
     ]
    },
    {
     "name": "stderr",
     "output_type": "stream",
     "text": [
      " 37%|███▋      | 555/1500 [01:31<02:31,  6.24it/s]"
     ]
    },
    {
     "name": "stdout",
     "output_type": "stream",
     "text": [
      "Test Error: \n",
      " metric: 0.8082661628723145, Avg test loss: 928396869.3333334 , loss = 229097008.0 \n",
      "\n",
      "Epoch 555\n",
      "-------------------------------------\n",
      "Test Error: \n",
      " metric: 0.8338807821273804, Avg test loss: 1058282208.0 , loss = 609842048.0 \n",
      "\n",
      "Epoch 556\n",
      "-------------------------------------\n"
     ]
    },
    {
     "name": "stderr",
     "output_type": "stream",
     "text": [
      " 37%|███▋      | 557/1500 [01:31<02:32,  6.17it/s]"
     ]
    },
    {
     "name": "stdout",
     "output_type": "stream",
     "text": [
      "Test Error: \n",
      " metric: 0.8111996054649353, Avg test loss: 965952357.3333334 , loss = 661243584.0 \n",
      "\n",
      "Epoch 557\n",
      "-------------------------------------\n",
      "Test Error: \n",
      " metric: 0.84181147813797, Avg test loss: 996701621.3333334 , loss = 150047328.0 \n",
      "\n",
      "Epoch 558\n",
      "-------------------------------------\n"
     ]
    },
    {
     "name": "stderr",
     "output_type": "stream",
     "text": [
      " 37%|███▋      | 559/1500 [01:31<02:32,  6.19it/s]"
     ]
    },
    {
     "name": "stdout",
     "output_type": "stream",
     "text": [
      "Test Error: \n",
      " metric: 0.8439911603927612, Avg test loss: 1181371744.0 , loss = 471826688.0 \n",
      "\n",
      "Epoch 559\n",
      "-------------------------------------\n",
      "Test Error: \n",
      " metric: 0.8328325748443604, Avg test loss: 1066585728.0 , loss = 479512256.0 \n",
      "\n",
      "Epoch 560\n",
      "-------------------------------------\n"
     ]
    },
    {
     "name": "stderr",
     "output_type": "stream",
     "text": [
      " 37%|███▋      | 561/1500 [01:32<02:32,  6.15it/s]"
     ]
    },
    {
     "name": "stdout",
     "output_type": "stream",
     "text": [
      "Test Error: \n",
      " metric: 0.8540909886360168, Avg test loss: 872019386.6666666 , loss = 617660480.0 \n",
      "\n",
      "Epoch 561\n",
      "-------------------------------------\n",
      "Test Error: \n",
      " metric: 0.8439619541168213, Avg test loss: 957255722.6666666 , loss = 268341088.0 \n",
      "\n",
      "Epoch 562\n",
      "-------------------------------------\n"
     ]
    },
    {
     "name": "stderr",
     "output_type": "stream",
     "text": [
      " 38%|███▊      | 563/1500 [01:32<02:29,  6.27it/s]"
     ]
    },
    {
     "name": "stdout",
     "output_type": "stream",
     "text": [
      "Test Error: \n",
      " metric: 0.8058422803878784, Avg test loss: 1365090517.3333333 , loss = 1979410432.0 \n",
      "\n",
      "Epoch 563\n",
      "-------------------------------------\n",
      "Test Error: \n",
      " metric: 0.8428481817245483, Avg test loss: 874874416.0 , loss = 1196536832.0 \n",
      "\n",
      "Epoch 564\n",
      "-------------------------------------\n"
     ]
    },
    {
     "name": "stderr",
     "output_type": "stream",
     "text": [
      " 38%|███▊      | 565/1500 [01:32<02:30,  6.22it/s]"
     ]
    },
    {
     "name": "stdout",
     "output_type": "stream",
     "text": [
      "Test Error: \n",
      " metric: 0.767272412776947, Avg test loss: 1071982016.0 , loss = 1972895232.0 \n",
      "\n",
      "Epoch 565\n",
      "-------------------------------------\n",
      "Test Error: \n",
      " metric: 0.7936080694198608, Avg test loss: 1157757525.3333333 , loss = 314553728.0 \n",
      "\n",
      "Epoch 566\n",
      "-------------------------------------\n"
     ]
    },
    {
     "name": "stderr",
     "output_type": "stream",
     "text": [
      " 38%|███▊      | 567/1500 [01:33<02:31,  6.18it/s]"
     ]
    },
    {
     "name": "stdout",
     "output_type": "stream",
     "text": [
      "Test Error: \n",
      " metric: 0.8032803535461426, Avg test loss: 1259602528.0 , loss = 578307712.0 \n",
      "\n",
      "Epoch 567\n",
      "-------------------------------------\n",
      "Test Error: \n",
      " metric: 0.6860122680664062, Avg test loss: 1461116576.0 , loss = 350282688.0 \n",
      "\n",
      "Epoch 568\n",
      "-------------------------------------\n"
     ]
    },
    {
     "name": "stderr",
     "output_type": "stream",
     "text": [
      " 38%|███▊      | 569/1500 [01:33<02:32,  6.10it/s]"
     ]
    },
    {
     "name": "stdout",
     "output_type": "stream",
     "text": [
      "Test Error: \n",
      " metric: 0.8353205919265747, Avg test loss: 1124828512.0 , loss = 418939712.0 \n",
      "\n",
      "Epoch 569\n",
      "-------------------------------------\n",
      "Test Error: \n",
      " metric: 0.8394949436187744, Avg test loss: 961900661.3333334 , loss = 221584560.0 \n",
      "\n",
      "Epoch 570\n",
      "-------------------------------------\n"
     ]
    },
    {
     "name": "stderr",
     "output_type": "stream",
     "text": [
      " 38%|███▊      | 571/1500 [01:33<02:34,  6.02it/s]"
     ]
    },
    {
     "name": "stdout",
     "output_type": "stream",
     "text": [
      "Test Error: \n",
      " metric: 0.837838351726532, Avg test loss: 1115163338.6666667 , loss = 246433088.0 \n",
      "\n",
      "Epoch 571\n",
      "-------------------------------------\n",
      "Test Error: \n",
      " metric: 0.8092039823532104, Avg test loss: 1491986240.0 , loss = 133682736.0 \n",
      "\n",
      "Epoch 572\n",
      "-------------------------------------\n"
     ]
    },
    {
     "name": "stderr",
     "output_type": "stream",
     "text": [
      " 38%|███▊      | 573/1500 [01:34<02:36,  5.92it/s]"
     ]
    },
    {
     "name": "stdout",
     "output_type": "stream",
     "text": [
      "Test Error: \n",
      " metric: 0.7985994815826416, Avg test loss: 1414095914.6666667 , loss = 681962624.0 \n",
      "\n",
      "Epoch 573\n",
      "-------------------------------------\n",
      "Test Error: \n",
      " metric: 0.8481413722038269, Avg test loss: 863670688.0 , loss = 222369120.0 \n",
      "\n",
      "Epoch 574\n",
      "-------------------------------------\n"
     ]
    },
    {
     "name": "stderr",
     "output_type": "stream",
     "text": [
      " 38%|███▊      | 575/1500 [01:34<02:31,  6.12it/s]"
     ]
    },
    {
     "name": "stdout",
     "output_type": "stream",
     "text": [
      "Test Error: \n",
      " metric: 0.8433518409729004, Avg test loss: 971592853.3333334 , loss = 159241696.0 \n",
      "\n",
      "Epoch 575\n",
      "-------------------------------------\n",
      "Test Error: \n",
      " metric: 0.8269892334938049, Avg test loss: 1036593925.3333334 , loss = 275167040.0 \n",
      "\n",
      "Epoch 576\n",
      "-------------------------------------\n"
     ]
    },
    {
     "name": "stderr",
     "output_type": "stream",
     "text": [
      " 38%|███▊      | 577/1500 [01:34<02:29,  6.19it/s]"
     ]
    },
    {
     "name": "stdout",
     "output_type": "stream",
     "text": [
      "Test Error: \n",
      " metric: 0.8310568928718567, Avg test loss: 1131391114.6666667 , loss = 392055264.0 \n",
      "\n",
      "Epoch 577\n",
      "-------------------------------------\n",
      "Test Error: \n",
      " metric: 0.8438161611557007, Avg test loss: 959648474.6666666 , loss = 110259328.0 \n",
      "\n",
      "Epoch 578\n",
      "-------------------------------------\n"
     ]
    },
    {
     "name": "stderr",
     "output_type": "stream",
     "text": [
      " 39%|███▊      | 579/1500 [01:35<02:28,  6.19it/s]"
     ]
    },
    {
     "name": "stdout",
     "output_type": "stream",
     "text": [
      "Test Error: \n",
      " metric: 0.8412194848060608, Avg test loss: 937634293.3333334 , loss = 135072784.0 \n",
      "\n",
      "Epoch 579\n",
      "-------------------------------------\n",
      "Test Error: \n",
      " metric: 0.8471760749816895, Avg test loss: 975225520.0 , loss = 107544112.0 \n",
      "\n",
      "Epoch 580\n",
      "-------------------------------------\n"
     ]
    },
    {
     "name": "stderr",
     "output_type": "stream",
     "text": [
      " 39%|███▊      | 581/1500 [01:35<02:29,  6.13it/s]"
     ]
    },
    {
     "name": "stdout",
     "output_type": "stream",
     "text": [
      "Test Error: \n",
      " metric: 0.8115947842597961, Avg test loss: 1348135072.0 , loss = 133388912.0 \n",
      "\n",
      "Epoch 581\n",
      "-------------------------------------\n",
      "Test Error: \n",
      " metric: 0.8320050239562988, Avg test loss: 1071435722.6666666 , loss = 1808231680.0 \n",
      "\n",
      "Epoch 582\n",
      "-------------------------------------\n"
     ]
    },
    {
     "name": "stderr",
     "output_type": "stream",
     "text": [
      " 39%|███▉      | 583/1500 [01:35<02:30,  6.11it/s]"
     ]
    },
    {
     "name": "stdout",
     "output_type": "stream",
     "text": [
      "Test Error: \n",
      " metric: 0.8456933498382568, Avg test loss: 986792437.3333334 , loss = 184778016.0 \n",
      "\n",
      "Epoch 583\n",
      "-------------------------------------\n",
      "Test Error: \n",
      " metric: 0.8397554755210876, Avg test loss: 965122229.3333334 , loss = 94245128.0 \n",
      "\n",
      "Epoch 584\n",
      "-------------------------------------\n"
     ]
    },
    {
     "name": "stderr",
     "output_type": "stream",
     "text": [
      " 39%|███▉      | 585/1500 [01:36<02:32,  6.01it/s]"
     ]
    },
    {
     "name": "stdout",
     "output_type": "stream",
     "text": [
      "Test Error: \n",
      " metric: 0.8346473574638367, Avg test loss: 882798378.6666666 , loss = 317479008.0 \n",
      "\n",
      "Epoch 585\n",
      "-------------------------------------\n",
      "Test Error: \n",
      " metric: 0.8425803780555725, Avg test loss: 920131904.0 , loss = 191790640.0 \n",
      "\n",
      "Epoch 586\n",
      "-------------------------------------\n"
     ]
    },
    {
     "name": "stderr",
     "output_type": "stream",
     "text": [
      " 39%|███▉      | 587/1500 [01:36<02:32,  5.99it/s]"
     ]
    },
    {
     "name": "stdout",
     "output_type": "stream",
     "text": [
      "Test Error: \n",
      " metric: 0.8375051617622375, Avg test loss: 897992714.6666666 , loss = 311541536.0 \n",
      "\n",
      "Epoch 587\n",
      "-------------------------------------\n",
      "Test Error: \n",
      " metric: 0.8418856263160706, Avg test loss: 997212554.6666666 , loss = 543318784.0 \n",
      "\n",
      "Epoch 588\n",
      "-------------------------------------\n"
     ]
    },
    {
     "name": "stderr",
     "output_type": "stream",
     "text": [
      " 39%|███▉      | 589/1500 [01:36<02:32,  5.99it/s]"
     ]
    },
    {
     "name": "stdout",
     "output_type": "stream",
     "text": [
      "Test Error: \n",
      " metric: 0.8300665020942688, Avg test loss: 965173184.0 , loss = 842656512.0 \n",
      "\n",
      "Epoch 589\n",
      "-------------------------------------\n",
      "Test Error: \n",
      " metric: 0.8457411527633667, Avg test loss: 1001243157.3333334 , loss = 154813760.0 \n",
      "\n",
      "Epoch 590\n",
      "-------------------------------------\n"
     ]
    },
    {
     "name": "stderr",
     "output_type": "stream",
     "text": [
      " 39%|███▉      | 591/1500 [01:37<02:30,  6.04it/s]"
     ]
    },
    {
     "name": "stdout",
     "output_type": "stream",
     "text": [
      "Test Error: \n",
      " metric: 0.8175022602081299, Avg test loss: 1405535626.6666667 , loss = 101566896.0 \n",
      "\n",
      "Epoch 591\n",
      "-------------------------------------\n",
      "Test Error: \n",
      " metric: 0.8116040825843811, Avg test loss: 986235925.3333334 , loss = 751850624.0 \n",
      "\n",
      "Epoch 592\n",
      "-------------------------------------\n"
     ]
    },
    {
     "name": "stderr",
     "output_type": "stream",
     "text": [
      " 40%|███▉      | 593/1500 [01:37<02:27,  6.14it/s]"
     ]
    },
    {
     "name": "stdout",
     "output_type": "stream",
     "text": [
      "Test Error: \n",
      " metric: 0.8153070211410522, Avg test loss: 1063637445.3333334 , loss = 944976576.0 \n",
      "\n",
      "Epoch 593\n",
      "-------------------------------------\n",
      "Test Error: \n",
      " metric: 0.8215806484222412, Avg test loss: 1112607616.0 , loss = 299311936.0 \n",
      "\n",
      "Epoch 594\n",
      "-------------------------------------\n"
     ]
    },
    {
     "name": "stderr",
     "output_type": "stream",
     "text": [
      " 40%|███▉      | 595/1500 [01:37<02:27,  6.13it/s]"
     ]
    },
    {
     "name": "stdout",
     "output_type": "stream",
     "text": [
      "Test Error: \n",
      " metric: 0.8522607684135437, Avg test loss: 866219930.6666666 , loss = 996761984.0 \n",
      "\n",
      "Epoch 595\n",
      "-------------------------------------\n",
      "Test Error: \n",
      " metric: 0.8059426546096802, Avg test loss: 1038495605.3333334 , loss = 118591856.0 \n",
      "\n",
      "Epoch 596\n",
      "-------------------------------------\n"
     ]
    },
    {
     "name": "stderr",
     "output_type": "stream",
     "text": [
      " 40%|███▉      | 597/1500 [01:38<02:27,  6.13it/s]"
     ]
    },
    {
     "name": "stdout",
     "output_type": "stream",
     "text": [
      "Test Error: \n",
      " metric: 0.8343167304992676, Avg test loss: 1005778965.3333334 , loss = 215443760.0 \n",
      "\n",
      "Epoch 597\n",
      "-------------------------------------\n",
      "Test Error: \n",
      " metric: 0.8228328227996826, Avg test loss: 971614720.0 , loss = 432624128.0 \n",
      "\n",
      "Epoch 598\n",
      "-------------------------------------\n"
     ]
    },
    {
     "name": "stderr",
     "output_type": "stream",
     "text": [
      " 40%|███▉      | 599/1500 [01:38<02:33,  5.87it/s]"
     ]
    },
    {
     "name": "stdout",
     "output_type": "stream",
     "text": [
      "Test Error: \n",
      " metric: 0.7852790355682373, Avg test loss: 1662546816.0 , loss = 156668688.0 \n",
      "\n",
      "Epoch 599\n",
      "-------------------------------------\n",
      "Test Error: \n",
      " metric: 0.8129336833953857, Avg test loss: 973894458.6666666 , loss = 210738656.0 \n",
      "\n",
      "Epoch 600\n",
      "-------------------------------------\n"
     ]
    },
    {
     "name": "stderr",
     "output_type": "stream",
     "text": [
      " 40%|████      | 601/1500 [01:38<02:28,  6.04it/s]"
     ]
    },
    {
     "name": "stdout",
     "output_type": "stream",
     "text": [
      "Test Error: \n",
      " metric: 0.8191149830818176, Avg test loss: 893394256.0 , loss = 755671808.0 \n",
      "\n",
      "Epoch 601\n",
      "-------------------------------------\n",
      "Test Error: \n",
      " metric: 0.8341670632362366, Avg test loss: 1007137125.3333334 , loss = 512530528.0 \n",
      "\n",
      "Epoch 602\n",
      "-------------------------------------\n"
     ]
    },
    {
     "name": "stderr",
     "output_type": "stream",
     "text": [
      " 40%|████      | 603/1500 [01:39<02:26,  6.14it/s]"
     ]
    },
    {
     "name": "stdout",
     "output_type": "stream",
     "text": [
      "Test Error: \n",
      " metric: 0.8168491125106812, Avg test loss: 932297872.0 , loss = 117861216.0 \n",
      "\n",
      "Epoch 603\n",
      "-------------------------------------\n",
      "Test Error: \n",
      " metric: 0.8427658081054688, Avg test loss: 1039447381.3333334 , loss = 1167639808.0 \n",
      "\n",
      "Epoch 604\n",
      "-------------------------------------\n"
     ]
    },
    {
     "name": "stderr",
     "output_type": "stream",
     "text": [
      " 40%|████      | 605/1500 [01:39<02:29,  5.97it/s]"
     ]
    },
    {
     "name": "stdout",
     "output_type": "stream",
     "text": [
      "Test Error: \n",
      " metric: 0.8296785950660706, Avg test loss: 1104323898.6666667 , loss = 90952288.0 \n",
      "\n",
      "Epoch 605\n",
      "-------------------------------------\n",
      "Test Error: \n",
      " metric: 0.8414747714996338, Avg test loss: 1002123669.3333334 , loss = 148358272.0 \n",
      "\n",
      "Epoch 606\n",
      "-------------------------------------\n"
     ]
    },
    {
     "name": "stderr",
     "output_type": "stream",
     "text": [
      " 40%|████      | 607/1500 [01:39<02:29,  5.96it/s]"
     ]
    },
    {
     "name": "stdout",
     "output_type": "stream",
     "text": [
      "Test Error: \n",
      " metric: 0.8485135436058044, Avg test loss: 1014873269.3333334 , loss = 186483440.0 \n",
      "\n",
      "Epoch 607\n",
      "-------------------------------------\n",
      "Test Error: \n",
      " metric: 0.7583532333374023, Avg test loss: 1224877450.6666667 , loss = 1334936192.0 \n",
      "\n",
      "Epoch 608\n",
      "-------------------------------------\n"
     ]
    },
    {
     "name": "stderr",
     "output_type": "stream",
     "text": [
      " 41%|████      | 609/1500 [01:40<02:26,  6.06it/s]"
     ]
    },
    {
     "name": "stdout",
     "output_type": "stream",
     "text": [
      "Test Error: \n",
      " metric: 0.7869647741317749, Avg test loss: 1148406325.3333333 , loss = 1091214464.0 \n",
      "\n",
      "Epoch 609\n",
      "-------------------------------------\n",
      "Test Error: \n",
      " metric: 0.834896981716156, Avg test loss: 1124576522.6666667 , loss = 172891328.0 \n",
      "\n",
      "Epoch 610\n",
      "-------------------------------------\n"
     ]
    },
    {
     "name": "stderr",
     "output_type": "stream",
     "text": [
      " 41%|████      | 611/1500 [01:40<02:19,  6.39it/s]"
     ]
    },
    {
     "name": "stdout",
     "output_type": "stream",
     "text": [
      "Test Error: \n",
      " metric: 0.7858150005340576, Avg test loss: 1446564053.3333333 , loss = 268868160.0 \n",
      "\n",
      "Epoch 611\n",
      "-------------------------------------\n",
      "Test Error: \n",
      " metric: 0.8484104871749878, Avg test loss: 914115018.6666666 , loss = 125475416.0 \n",
      "\n",
      "Epoch 612\n",
      "-------------------------------------\n"
     ]
    },
    {
     "name": "stderr",
     "output_type": "stream",
     "text": [
      " 41%|████      | 613/1500 [01:40<02:14,  6.61it/s]"
     ]
    },
    {
     "name": "stdout",
     "output_type": "stream",
     "text": [
      "Test Error: \n",
      " metric: 0.8246882557868958, Avg test loss: 1146521626.6666667 , loss = 53910704.0 \n",
      "\n",
      "Epoch 613\n",
      "-------------------------------------\n",
      "Test Error: \n",
      " metric: 0.8253350853919983, Avg test loss: 1033340778.6666666 , loss = 223546976.0 \n",
      "\n",
      "Epoch 614\n",
      "-------------------------------------\n"
     ]
    },
    {
     "name": "stderr",
     "output_type": "stream",
     "text": [
      " 41%|████      | 615/1500 [01:40<02:10,  6.79it/s]"
     ]
    },
    {
     "name": "stdout",
     "output_type": "stream",
     "text": [
      "Test Error: \n",
      " metric: 0.8112384676933289, Avg test loss: 1329023968.0 , loss = 239596288.0 \n",
      "\n",
      "Epoch 615\n",
      "-------------------------------------\n",
      "Test Error: \n",
      " metric: 0.8527113199234009, Avg test loss: 1009451456.0 , loss = 150053696.0 \n",
      "\n",
      "Epoch 616\n",
      "-------------------------------------\n"
     ]
    },
    {
     "name": "stderr",
     "output_type": "stream",
     "text": [
      " 41%|████      | 617/1500 [01:41<02:11,  6.73it/s]"
     ]
    },
    {
     "name": "stdout",
     "output_type": "stream",
     "text": [
      "Test Error: \n",
      " metric: 0.7888160347938538, Avg test loss: 1609899904.0 , loss = 427320512.0 \n",
      "\n",
      "Epoch 617\n",
      "-------------------------------------\n",
      "Test Error: \n",
      " metric: 0.7948043346405029, Avg test loss: 1073169429.3333334 , loss = 110255792.0 \n",
      "\n",
      "Epoch 618\n",
      "-------------------------------------\n"
     ]
    },
    {
     "name": "stderr",
     "output_type": "stream",
     "text": [
      " 41%|████▏     | 619/1500 [01:41<02:18,  6.37it/s]"
     ]
    },
    {
     "name": "stdout",
     "output_type": "stream",
     "text": [
      "Test Error: \n",
      " metric: 0.7998700737953186, Avg test loss: 1380193365.3333333 , loss = 389935424.0 \n",
      "\n",
      "Epoch 619\n",
      "-------------------------------------\n",
      "Test Error: \n",
      " metric: 0.8284134268760681, Avg test loss: 1054098869.3333334 , loss = 468037632.0 \n",
      "\n",
      "Epoch 620\n",
      "-------------------------------------\n"
     ]
    },
    {
     "name": "stderr",
     "output_type": "stream",
     "text": [
      " 41%|████▏     | 621/1500 [01:41<02:21,  6.22it/s]"
     ]
    },
    {
     "name": "stdout",
     "output_type": "stream",
     "text": [
      "Test Error: \n",
      " metric: 0.6792548298835754, Avg test loss: 1485745845.3333333 , loss = 457084480.0 \n",
      "\n",
      "Epoch 621\n",
      "-------------------------------------\n",
      "Test Error: \n",
      " metric: 0.6392804384231567, Avg test loss: 1440334069.3333333 , loss = 1746367616.0 \n",
      "\n",
      "Epoch 622\n",
      "-------------------------------------\n"
     ]
    },
    {
     "name": "stderr",
     "output_type": "stream",
     "text": [
      " 42%|████▏     | 623/1500 [01:42<02:22,  6.16it/s]"
     ]
    },
    {
     "name": "stdout",
     "output_type": "stream",
     "text": [
      "Test Error: \n",
      " metric: 0.7269340753555298, Avg test loss: 1254849765.3333333 , loss = 325001920.0 \n",
      "\n",
      "Epoch 623\n",
      "-------------------------------------\n",
      "Test Error: \n",
      " metric: 0.8032442331314087, Avg test loss: 1044330922.6666666 , loss = 448849952.0 \n",
      "\n",
      "Epoch 624\n",
      "-------------------------------------\n"
     ]
    },
    {
     "name": "stderr",
     "output_type": "stream",
     "text": [
      " 42%|████▏     | 625/1500 [01:42<02:22,  6.13it/s]"
     ]
    },
    {
     "name": "stdout",
     "output_type": "stream",
     "text": [
      "Test Error: \n",
      " metric: 0.7801135778427124, Avg test loss: 1072177802.6666666 , loss = 554906368.0 \n",
      "\n",
      "Epoch 625\n",
      "-------------------------------------\n",
      "Test Error: \n",
      " metric: 0.806262731552124, Avg test loss: 1048059936.0 , loss = 590116736.0 \n",
      "\n",
      "Epoch 626\n",
      "-------------------------------------\n"
     ]
    },
    {
     "name": "stderr",
     "output_type": "stream",
     "text": [
      " 42%|████▏     | 627/1500 [01:42<02:21,  6.15it/s]"
     ]
    },
    {
     "name": "stdout",
     "output_type": "stream",
     "text": [
      "Test Error: \n",
      " metric: 0.8360635638237, Avg test loss: 961906837.3333334 , loss = 246495488.0 \n",
      "\n",
      "Epoch 627\n",
      "-------------------------------------\n",
      "Test Error: \n",
      " metric: 0.83809894323349, Avg test loss: 971139968.0 , loss = 68570224.0 \n",
      "\n",
      "Epoch 628\n",
      "-------------------------------------\n"
     ]
    },
    {
     "name": "stderr",
     "output_type": "stream",
     "text": [
      " 42%|████▏     | 629/1500 [01:43<02:21,  6.16it/s]"
     ]
    },
    {
     "name": "stdout",
     "output_type": "stream",
     "text": [
      "Test Error: \n",
      " metric: 0.8066881895065308, Avg test loss: 976014336.0 , loss = 411251808.0 \n",
      "\n",
      "Epoch 629\n",
      "-------------------------------------\n",
      "Test Error: \n",
      " metric: 0.8384683132171631, Avg test loss: 1283292544.0 , loss = 1400213120.0 \n",
      "\n",
      "Epoch 630\n",
      "-------------------------------------\n"
     ]
    },
    {
     "name": "stderr",
     "output_type": "stream",
     "text": [
      " 42%|████▏     | 631/1500 [01:43<02:21,  6.16it/s]"
     ]
    },
    {
     "name": "stdout",
     "output_type": "stream",
     "text": [
      "Test Error: \n",
      " metric: 0.821295440196991, Avg test loss: 1011066010.6666666 , loss = 207061984.0 \n",
      "\n",
      "Epoch 631\n",
      "-------------------------------------\n",
      "Test Error: \n",
      " metric: 0.8385607004165649, Avg test loss: 962397888.0 , loss = 1583746304.0 \n",
      "\n",
      "Epoch 632\n",
      "-------------------------------------\n"
     ]
    },
    {
     "name": "stderr",
     "output_type": "stream",
     "text": [
      " 42%|████▏     | 633/1500 [01:43<02:21,  6.11it/s]"
     ]
    },
    {
     "name": "stdout",
     "output_type": "stream",
     "text": [
      "Test Error: \n",
      " metric: 0.8135331869125366, Avg test loss: 1092446421.3333333 , loss = 599063424.0 \n",
      "\n",
      "Epoch 633\n",
      "-------------------------------------\n",
      "Test Error: \n",
      " metric: 0.7783253192901611, Avg test loss: 1141948117.3333333 , loss = 562629120.0 \n",
      "\n",
      "Epoch 634\n",
      "-------------------------------------\n"
     ]
    },
    {
     "name": "stderr",
     "output_type": "stream",
     "text": [
      " 42%|████▏     | 635/1500 [01:44<02:22,  6.06it/s]"
     ]
    },
    {
     "name": "stdout",
     "output_type": "stream",
     "text": [
      "Test Error: \n",
      " metric: 0.8377602100372314, Avg test loss: 908587568.0 , loss = 129339024.0 \n",
      "\n",
      "Epoch 635\n",
      "-------------------------------------\n",
      "Test Error: \n",
      " metric: 0.829517126083374, Avg test loss: 1089964085.3333333 , loss = 93208512.0 \n",
      "\n",
      "Epoch 636\n",
      "-------------------------------------\n"
     ]
    },
    {
     "name": "stderr",
     "output_type": "stream",
     "text": [
      " 42%|████▏     | 637/1500 [01:44<02:21,  6.09it/s]"
     ]
    },
    {
     "name": "stdout",
     "output_type": "stream",
     "text": [
      "Test Error: \n",
      " metric: 0.837300181388855, Avg test loss: 1112536245.3333333 , loss = 409533504.0 \n",
      "\n",
      "Epoch 637\n",
      "-------------------------------------\n",
      "Test Error: \n",
      " metric: 0.7962234616279602, Avg test loss: 1350553728.0 , loss = 331088320.0 \n",
      "\n",
      "Epoch 638\n",
      "-------------------------------------\n"
     ]
    },
    {
     "name": "stderr",
     "output_type": "stream",
     "text": [
      " 43%|████▎     | 639/1500 [01:44<02:21,  6.08it/s]"
     ]
    },
    {
     "name": "stdout",
     "output_type": "stream",
     "text": [
      "Test Error: \n",
      " metric: 0.7880120277404785, Avg test loss: 1127218016.0 , loss = 304227168.0 \n",
      "\n",
      "Epoch 639\n",
      "-------------------------------------\n",
      "Test Error: \n",
      " metric: 0.8471033573150635, Avg test loss: 974868293.3333334 , loss = 376026656.0 \n",
      "\n",
      "Epoch 640\n",
      "-------------------------------------\n"
     ]
    },
    {
     "name": "stderr",
     "output_type": "stream",
     "text": [
      " 43%|████▎     | 641/1500 [01:45<02:23,  6.01it/s]"
     ]
    },
    {
     "name": "stdout",
     "output_type": "stream",
     "text": [
      "Test Error: \n",
      " metric: 0.8314127326011658, Avg test loss: 864592368.0 , loss = 227248864.0 \n",
      "\n",
      "Epoch 641\n",
      "-------------------------------------\n",
      "Test Error: \n",
      " metric: 0.825010359287262, Avg test loss: 939836912.0 , loss = 420541504.0 \n",
      "\n",
      "Epoch 642\n",
      "-------------------------------------\n"
     ]
    },
    {
     "name": "stderr",
     "output_type": "stream",
     "text": [
      " 43%|████▎     | 643/1500 [01:45<02:21,  6.06it/s]"
     ]
    },
    {
     "name": "stdout",
     "output_type": "stream",
     "text": [
      "Test Error: \n",
      " metric: 0.7741819620132446, Avg test loss: 1202779872.0 , loss = 375544448.0 \n",
      "\n",
      "Epoch 643\n",
      "-------------------------------------\n",
      "Test Error: \n",
      " metric: 0.7664721608161926, Avg test loss: 1058826112.0 , loss = 335339072.0 \n",
      "\n",
      "Epoch 644\n",
      "-------------------------------------\n"
     ]
    },
    {
     "name": "stderr",
     "output_type": "stream",
     "text": [
      " 43%|████▎     | 645/1500 [01:45<02:30,  5.70it/s]"
     ]
    },
    {
     "name": "stdout",
     "output_type": "stream",
     "text": [
      "Test Error: \n",
      " metric: 0.8212177157402039, Avg test loss: 1042346634.6666666 , loss = 462657760.0 \n",
      "\n",
      "Epoch 645\n",
      "-------------------------------------\n",
      "Test Error: \n",
      " metric: 0.8240076899528503, Avg test loss: 1113847093.3333333 , loss = 425825632.0 \n",
      "\n"
     ]
    },
    {
     "name": "stderr",
     "output_type": "stream",
     "text": [
      " 43%|████▎     | 646/1500 [01:46<02:30,  5.67it/s]"
     ]
    },
    {
     "name": "stdout",
     "output_type": "stream",
     "text": [
      "Epoch 646\n",
      "-------------------------------------\n",
      "Test Error: \n",
      " metric: 0.5786182880401611, Avg test loss: 1698714592.0 , loss = 478707040.0 \n",
      "\n",
      "Epoch 647\n",
      "-------------------------------------\n"
     ]
    },
    {
     "name": "stderr",
     "output_type": "stream",
     "text": [
      " 43%|████▎     | 648/1500 [01:46<02:26,  5.80it/s]"
     ]
    },
    {
     "name": "stdout",
     "output_type": "stream",
     "text": [
      "Test Error: \n",
      " metric: 0.8267754316329956, Avg test loss: 1128431488.0 , loss = 201905040.0 \n",
      "\n",
      "Epoch 648\n",
      "-------------------------------------\n",
      "Test Error: \n",
      " metric: 0.8331999182701111, Avg test loss: 1071757562.6666666 , loss = 479683072.0 \n",
      "\n",
      "Epoch 649\n",
      "-------------------------------------\n"
     ]
    },
    {
     "name": "stderr",
     "output_type": "stream",
     "text": [
      " 43%|████▎     | 650/1500 [01:46<02:32,  5.58it/s]"
     ]
    },
    {
     "name": "stdout",
     "output_type": "stream",
     "text": [
      "Test Error: \n",
      " metric: 0.821881115436554, Avg test loss: 1033827989.3333334 , loss = 82607696.0 \n",
      "\n",
      "Epoch 650\n",
      "-------------------------------------\n",
      "Test Error: \n",
      " metric: 0.8456809520721436, Avg test loss: 1082190656.0 , loss = 2187097856.0 \n",
      "\n",
      "Epoch 651\n",
      "-------------------------------------\n"
     ]
    },
    {
     "name": "stderr",
     "output_type": "stream",
     "text": [
      " 43%|████▎     | 652/1500 [01:47<02:30,  5.62it/s]"
     ]
    },
    {
     "name": "stdout",
     "output_type": "stream",
     "text": [
      "Test Error: \n",
      " metric: 0.7991396188735962, Avg test loss: 1160078005.3333333 , loss = 88696104.0 \n",
      "\n",
      "Epoch 652\n",
      "-------------------------------------\n",
      "Test Error: \n",
      " metric: 0.8136648535728455, Avg test loss: 1042596181.3333334 , loss = 579035648.0 \n",
      "\n",
      "Epoch 653\n",
      "-------------------------------------\n"
     ]
    },
    {
     "name": "stderr",
     "output_type": "stream",
     "text": [
      " 44%|████▎     | 654/1500 [01:47<02:28,  5.69it/s]"
     ]
    },
    {
     "name": "stdout",
     "output_type": "stream",
     "text": [
      "Test Error: \n",
      " metric: 0.8072103261947632, Avg test loss: 1249069536.0 , loss = 117027456.0 \n",
      "\n",
      "Epoch 654\n",
      "-------------------------------------\n",
      "Test Error: \n",
      " metric: 0.8164574503898621, Avg test loss: 1159767306.6666667 , loss = 164609440.0 \n",
      "\n",
      "Epoch 655\n",
      "-------------------------------------\n"
     ]
    },
    {
     "name": "stderr",
     "output_type": "stream",
     "text": [
      " 44%|████▎     | 656/1500 [01:47<02:28,  5.70it/s]"
     ]
    },
    {
     "name": "stdout",
     "output_type": "stream",
     "text": [
      "Test Error: \n",
      " metric: 0.816872775554657, Avg test loss: 1139439136.0 , loss = 109380160.0 \n",
      "\n",
      "Epoch 656\n",
      "-------------------------------------\n",
      "Test Error: \n",
      " metric: 0.8202056884765625, Avg test loss: 993580320.0 , loss = 1091611520.0 \n",
      "\n",
      "Epoch 657\n",
      "-------------------------------------\n"
     ]
    },
    {
     "name": "stderr",
     "output_type": "stream",
     "text": [
      " 44%|████▍     | 658/1500 [01:48<02:26,  5.74it/s]"
     ]
    },
    {
     "name": "stdout",
     "output_type": "stream",
     "text": [
      "Test Error: \n",
      " metric: 0.8119878768920898, Avg test loss: 1297287541.3333333 , loss = 118998696.0 \n",
      "\n",
      "Epoch 658\n",
      "-------------------------------------\n",
      "Test Error: \n",
      " metric: 0.8176530599594116, Avg test loss: 1269742250.6666667 , loss = 736166656.0 \n",
      "\n",
      "Epoch 659\n",
      "-------------------------------------\n"
     ]
    },
    {
     "name": "stderr",
     "output_type": "stream",
     "text": [
      " 44%|████▍     | 660/1500 [01:48<02:21,  5.92it/s]"
     ]
    },
    {
     "name": "stdout",
     "output_type": "stream",
     "text": [
      "Test Error: \n",
      " metric: 0.8218564391136169, Avg test loss: 1006221093.3333334 , loss = 225507296.0 \n",
      "\n",
      "Epoch 660\n",
      "-------------------------------------\n",
      "Test Error: \n",
      " metric: 0.8231411576271057, Avg test loss: 1441216437.3333333 , loss = 503680512.0 \n",
      "\n",
      "Epoch 661\n",
      "-------------------------------------\n"
     ]
    },
    {
     "name": "stderr",
     "output_type": "stream",
     "text": [
      " 44%|████▍     | 662/1500 [01:48<02:18,  6.03it/s]"
     ]
    },
    {
     "name": "stdout",
     "output_type": "stream",
     "text": [
      "Test Error: \n",
      " metric: 0.803208589553833, Avg test loss: 1309177557.3333333 , loss = 57441696.0 \n",
      "\n",
      "Epoch 662\n",
      "-------------------------------------\n",
      "Test Error: \n",
      " metric: 0.7409784197807312, Avg test loss: 2050045653.3333333 , loss = 546844992.0 \n",
      "\n",
      "Epoch 663\n",
      "-------------------------------------\n"
     ]
    },
    {
     "name": "stderr",
     "output_type": "stream",
     "text": [
      " 44%|████▍     | 664/1500 [01:49<02:17,  6.09it/s]"
     ]
    },
    {
     "name": "stdout",
     "output_type": "stream",
     "text": [
      "Test Error: \n",
      " metric: 0.8450058698654175, Avg test loss: 1050166986.6666666 , loss = 155619376.0 \n",
      "\n",
      "Epoch 664\n",
      "-------------------------------------\n",
      "Test Error: \n",
      " metric: 0.8459469079971313, Avg test loss: 1091849504.0 , loss = 653593024.0 \n",
      "\n",
      "Epoch 665\n",
      "-------------------------------------\n"
     ]
    },
    {
     "name": "stderr",
     "output_type": "stream",
     "text": [
      " 44%|████▍     | 666/1500 [01:49<02:17,  6.05it/s]"
     ]
    },
    {
     "name": "stdout",
     "output_type": "stream",
     "text": [
      "Test Error: \n",
      " metric: 0.8377106785774231, Avg test loss: 1052691530.6666666 , loss = 533416928.0 \n",
      "\n",
      "Epoch 666\n",
      "-------------------------------------\n",
      "Test Error: \n",
      " metric: 0.8341240882873535, Avg test loss: 1209739594.6666667 , loss = 137279200.0 \n",
      "\n",
      "Epoch 667\n",
      "-------------------------------------\n"
     ]
    },
    {
     "name": "stderr",
     "output_type": "stream",
     "text": [
      " 45%|████▍     | 668/1500 [01:49<02:17,  6.05it/s]"
     ]
    },
    {
     "name": "stdout",
     "output_type": "stream",
     "text": [
      "Test Error: \n",
      " metric: 0.7942990064620972, Avg test loss: 1038605312.0 , loss = 117412528.0 \n",
      "\n",
      "Epoch 668\n",
      "-------------------------------------\n",
      "Test Error: \n",
      " metric: 0.8565294742584229, Avg test loss: 929041002.6666666 , loss = 1186026496.0 \n",
      "\n",
      "Epoch 669\n",
      "-------------------------------------\n"
     ]
    },
    {
     "name": "stderr",
     "output_type": "stream",
     "text": [
      " 45%|████▍     | 670/1500 [01:50<02:15,  6.14it/s]"
     ]
    },
    {
     "name": "stdout",
     "output_type": "stream",
     "text": [
      "Test Error: \n",
      " metric: 0.8479440212249756, Avg test loss: 1034135541.3333334 , loss = 104752104.0 \n",
      "\n",
      "Epoch 670\n",
      "-------------------------------------\n",
      "Test Error: \n",
      " metric: 0.803290843963623, Avg test loss: 1023981002.6666666 , loss = 131387352.0 \n",
      "\n",
      "Epoch 671\n",
      "-------------------------------------\n"
     ]
    },
    {
     "name": "stderr",
     "output_type": "stream",
     "text": [
      " 45%|████▍     | 672/1500 [01:50<02:14,  6.13it/s]"
     ]
    },
    {
     "name": "stdout",
     "output_type": "stream",
     "text": [
      "Test Error: \n",
      " metric: 0.8318606615066528, Avg test loss: 1126247402.6666667 , loss = 593963712.0 \n",
      "\n",
      "Epoch 672\n",
      "-------------------------------------\n",
      "Test Error: \n",
      " metric: 0.8031671643257141, Avg test loss: 1087664293.3333333 , loss = 187461008.0 \n",
      "\n",
      "Epoch 673\n",
      "-------------------------------------\n"
     ]
    },
    {
     "name": "stderr",
     "output_type": "stream",
     "text": [
      " 45%|████▍     | 674/1500 [01:50<02:15,  6.08it/s]"
     ]
    },
    {
     "name": "stdout",
     "output_type": "stream",
     "text": [
      "Test Error: \n",
      " metric: 0.8396889567375183, Avg test loss: 1188666090.6666667 , loss = 72733064.0 \n",
      "\n",
      "Epoch 674\n",
      "-------------------------------------\n",
      "Test Error: \n",
      " metric: 0.8206536173820496, Avg test loss: 1195279466.6666667 , loss = 90198560.0 \n",
      "\n",
      "Epoch 675\n",
      "-------------------------------------\n"
     ]
    },
    {
     "name": "stderr",
     "output_type": "stream",
     "text": [
      " 45%|████▌     | 676/1500 [01:51<02:14,  6.12it/s]"
     ]
    },
    {
     "name": "stdout",
     "output_type": "stream",
     "text": [
      "Test Error: \n",
      " metric: 0.8080672025680542, Avg test loss: 988606026.6666666 , loss = 725175680.0 \n",
      "\n",
      "Epoch 676\n",
      "-------------------------------------\n",
      "Test Error: \n",
      " metric: 0.8203374743461609, Avg test loss: 997108832.0 , loss = 350270208.0 \n",
      "\n",
      "Epoch 677\n",
      "-------------------------------------\n"
     ]
    },
    {
     "name": "stderr",
     "output_type": "stream",
     "text": [
      " 45%|████▌     | 678/1500 [01:51<02:13,  6.16it/s]"
     ]
    },
    {
     "name": "stdout",
     "output_type": "stream",
     "text": [
      "Test Error: \n",
      " metric: 0.8060840964317322, Avg test loss: 1098884160.0 , loss = 762343168.0 \n",
      "\n",
      "Epoch 678\n",
      "-------------------------------------\n",
      "Test Error: \n",
      " metric: 0.8352565765380859, Avg test loss: 1179360064.0 , loss = 736613248.0 \n",
      "\n",
      "Epoch 679\n",
      "-------------------------------------\n"
     ]
    },
    {
     "name": "stderr",
     "output_type": "stream",
     "text": [
      " 45%|████▌     | 680/1500 [01:51<02:13,  6.13it/s]"
     ]
    },
    {
     "name": "stdout",
     "output_type": "stream",
     "text": [
      "Test Error: \n",
      " metric: 0.8108226656913757, Avg test loss: 1030233925.3333334 , loss = 319338816.0 \n",
      "\n",
      "Epoch 680\n",
      "-------------------------------------\n",
      "Test Error: \n",
      " metric: 0.8332595229148865, Avg test loss: 1194834266.6666667 , loss = 423727136.0 \n",
      "\n",
      "Epoch 681\n",
      "-------------------------------------\n"
     ]
    },
    {
     "name": "stderr",
     "output_type": "stream",
     "text": [
      " 45%|████▌     | 682/1500 [01:52<02:15,  6.05it/s]"
     ]
    },
    {
     "name": "stdout",
     "output_type": "stream",
     "text": [
      "Test Error: \n",
      " metric: 0.7762904167175293, Avg test loss: 1106124522.6666667 , loss = 960713216.0 \n",
      "\n",
      "Epoch 682\n",
      "-------------------------------------\n",
      "Test Error: \n",
      " metric: 0.7796930074691772, Avg test loss: 1101327360.0 , loss = 400107424.0 \n",
      "\n",
      "Epoch 683\n",
      "-------------------------------------\n"
     ]
    },
    {
     "name": "stderr",
     "output_type": "stream",
     "text": [
      " 46%|████▌     | 684/1500 [01:52<02:11,  6.21it/s]"
     ]
    },
    {
     "name": "stdout",
     "output_type": "stream",
     "text": [
      "Test Error: \n",
      " metric: 0.7384283542633057, Avg test loss: 1207621376.0 , loss = 141410336.0 \n",
      "\n",
      "Epoch 684\n",
      "-------------------------------------\n",
      "Test Error: \n",
      " metric: 0.8261864185333252, Avg test loss: 1271977408.0 , loss = 255381296.0 \n",
      "\n",
      "Epoch 685\n",
      "-------------------------------------\n"
     ]
    },
    {
     "name": "stderr",
     "output_type": "stream",
     "text": [
      " 46%|████▌     | 686/1500 [01:52<02:10,  6.26it/s]"
     ]
    },
    {
     "name": "stdout",
     "output_type": "stream",
     "text": [
      "Test Error: \n",
      " metric: 0.817378044128418, Avg test loss: 1145686250.6666667 , loss = 868649792.0 \n",
      "\n",
      "Epoch 686\n",
      "-------------------------------------\n",
      "Test Error: \n",
      " metric: 0.685517430305481, Avg test loss: 1403209013.3333333 , loss = 695093440.0 \n",
      "\n",
      "Epoch 687\n",
      "-------------------------------------\n"
     ]
    },
    {
     "name": "stderr",
     "output_type": "stream",
     "text": [
      " 46%|████▌     | 688/1500 [01:53<02:12,  6.14it/s]"
     ]
    },
    {
     "name": "stdout",
     "output_type": "stream",
     "text": [
      "Test Error: \n",
      " metric: 0.8272998332977295, Avg test loss: 957397866.6666666 , loss = 163695872.0 \n",
      "\n",
      "Epoch 688\n",
      "-------------------------------------\n",
      "Test Error: \n",
      " metric: 0.8094121217727661, Avg test loss: 965612021.3333334 , loss = 38254096.0 \n",
      "\n",
      "Epoch 689\n",
      "-------------------------------------\n"
     ]
    },
    {
     "name": "stderr",
     "output_type": "stream",
     "text": [
      " 46%|████▌     | 690/1500 [01:53<02:10,  6.20it/s]"
     ]
    },
    {
     "name": "stdout",
     "output_type": "stream",
     "text": [
      "Test Error: \n",
      " metric: 0.8167832493782043, Avg test loss: 1177976277.3333333 , loss = 254345536.0 \n",
      "\n",
      "Epoch 690\n",
      "-------------------------------------\n",
      "Test Error: \n",
      " metric: 0.824816882610321, Avg test loss: 1157063829.3333333 , loss = 117862392.0 \n",
      "\n",
      "Epoch 691\n",
      "-------------------------------------\n"
     ]
    },
    {
     "name": "stderr",
     "output_type": "stream",
     "text": [
      " 46%|████▌     | 692/1500 [01:53<02:11,  6.17it/s]"
     ]
    },
    {
     "name": "stdout",
     "output_type": "stream",
     "text": [
      "Test Error: \n",
      " metric: 0.8071972131729126, Avg test loss: 961750096.0 , loss = 536502656.0 \n",
      "\n",
      "Epoch 692\n",
      "-------------------------------------\n",
      "Test Error: \n",
      " metric: 0.844759464263916, Avg test loss: 986748042.6666666 , loss = 371996224.0 \n",
      "\n",
      "Epoch 693\n",
      "-------------------------------------\n"
     ]
    },
    {
     "name": "stderr",
     "output_type": "stream",
     "text": [
      " 46%|████▋     | 694/1500 [01:54<02:12,  6.08it/s]"
     ]
    },
    {
     "name": "stdout",
     "output_type": "stream",
     "text": [
      "Test Error: \n",
      " metric: 0.7868853211402893, Avg test loss: 1229582656.0 , loss = 853883840.0 \n",
      "\n",
      "Epoch 694\n",
      "-------------------------------------\n",
      "Test Error: \n",
      " metric: 0.8325176239013672, Avg test loss: 1094932714.6666667 , loss = 105401280.0 \n",
      "\n",
      "Epoch 695\n",
      "-------------------------------------\n"
     ]
    },
    {
     "name": "stderr",
     "output_type": "stream",
     "text": [
      " 46%|████▋     | 696/1500 [01:54<02:13,  6.03it/s]"
     ]
    },
    {
     "name": "stdout",
     "output_type": "stream",
     "text": [
      "Test Error: \n",
      " metric: 0.8129487037658691, Avg test loss: 988800554.6666666 , loss = 80377968.0 \n",
      "\n",
      "Epoch 696\n",
      "-------------------------------------\n",
      "Test Error: \n",
      " metric: 0.8105401992797852, Avg test loss: 1025043498.6666666 , loss = 141654096.0 \n",
      "\n",
      "Epoch 697\n",
      "-------------------------------------\n"
     ]
    },
    {
     "name": "stderr",
     "output_type": "stream",
     "text": [
      " 47%|████▋     | 698/1500 [01:54<02:11,  6.12it/s]"
     ]
    },
    {
     "name": "stdout",
     "output_type": "stream",
     "text": [
      "Test Error: \n",
      " metric: 0.608867883682251, Avg test loss: 1834770730.6666667 , loss = 965596096.0 \n",
      "\n",
      "Epoch 698\n",
      "-------------------------------------\n",
      "Test Error: \n",
      " metric: 0.5912288427352905, Avg test loss: 1648515968.0 , loss = 314870400.0 \n",
      "\n",
      "Epoch 699\n",
      "-------------------------------------\n"
     ]
    },
    {
     "name": "stderr",
     "output_type": "stream",
     "text": [
      " 47%|████▋     | 700/1500 [01:55<02:09,  6.19it/s]"
     ]
    },
    {
     "name": "stdout",
     "output_type": "stream",
     "text": [
      "Test Error: \n",
      " metric: 0.830829381942749, Avg test loss: 998376266.6666666 , loss = 848606656.0 \n",
      "\n",
      "Epoch 700\n",
      "-------------------------------------\n",
      "Test Error: \n",
      " metric: 0.8303709030151367, Avg test loss: 1241439637.3333333 , loss = 593807360.0 \n",
      "\n",
      "Epoch 701\n",
      "-------------------------------------\n"
     ]
    },
    {
     "name": "stderr",
     "output_type": "stream",
     "text": [
      " 47%|████▋     | 702/1500 [01:55<02:08,  6.20it/s]"
     ]
    },
    {
     "name": "stdout",
     "output_type": "stream",
     "text": [
      "Test Error: \n",
      " metric: 0.7257631421089172, Avg test loss: 2483562794.6666665 , loss = 3117074944.0 \n",
      "\n",
      "Epoch 702\n",
      "-------------------------------------\n",
      "Test Error: \n",
      " metric: 0.8503276705741882, Avg test loss: 907791818.6666666 , loss = 111213312.0 \n",
      "\n",
      "Epoch 703\n",
      "-------------------------------------\n"
     ]
    },
    {
     "name": "stderr",
     "output_type": "stream",
     "text": [
      " 47%|████▋     | 704/1500 [01:55<02:03,  6.45it/s]"
     ]
    },
    {
     "name": "stdout",
     "output_type": "stream",
     "text": [
      "Test Error: \n",
      " metric: 0.801923394203186, Avg test loss: 1128167210.6666667 , loss = 194079312.0 \n",
      "\n",
      "Epoch 704\n",
      "-------------------------------------\n",
      "Test Error: \n",
      " metric: 0.763853132724762, Avg test loss: 1192797525.3333333 , loss = 1267579136.0 \n",
      "\n",
      "Epoch 705\n",
      "-------------------------------------\n"
     ]
    },
    {
     "name": "stderr",
     "output_type": "stream",
     "text": [
      " 47%|████▋     | 706/1500 [01:55<01:59,  6.63it/s]"
     ]
    },
    {
     "name": "stdout",
     "output_type": "stream",
     "text": [
      "Test Error: \n",
      " metric: 0.8066214323043823, Avg test loss: 1060312970.6666666 , loss = 103156160.0 \n",
      "\n",
      "Epoch 706\n",
      "-------------------------------------\n",
      "Test Error: \n",
      " metric: 0.8258289694786072, Avg test loss: 1036469386.6666666 , loss = 221356448.0 \n",
      "\n",
      "Epoch 707\n",
      "-------------------------------------\n"
     ]
    },
    {
     "name": "stderr",
     "output_type": "stream",
     "text": [
      " 47%|████▋     | 708/1500 [01:56<01:57,  6.74it/s]"
     ]
    },
    {
     "name": "stdout",
     "output_type": "stream",
     "text": [
      "Test Error: \n",
      " metric: 0.8346803188323975, Avg test loss: 930788202.6666666 , loss = 211907568.0 \n",
      "\n",
      "Epoch 708\n",
      "-------------------------------------\n",
      "Test Error: \n",
      " metric: 0.7948622703552246, Avg test loss: 1081295552.0 , loss = 266420720.0 \n",
      "\n",
      "Epoch 709\n",
      "-------------------------------------\n"
     ]
    },
    {
     "name": "stderr",
     "output_type": "stream",
     "text": [
      " 47%|████▋     | 710/1500 [01:56<01:55,  6.82it/s]"
     ]
    },
    {
     "name": "stdout",
     "output_type": "stream",
     "text": [
      "Test Error: \n",
      " metric: 0.8123845458030701, Avg test loss: 1010578709.3333334 , loss = 510646976.0 \n",
      "\n",
      "Epoch 710\n",
      "-------------------------------------\n",
      "Test Error: \n",
      " metric: 0.8361482620239258, Avg test loss: 1249663621.3333333 , loss = 267193632.0 \n",
      "\n",
      "Epoch 711\n",
      "-------------------------------------\n"
     ]
    },
    {
     "name": "stderr",
     "output_type": "stream",
     "text": [
      " 47%|████▋     | 712/1500 [01:56<01:54,  6.86it/s]"
     ]
    },
    {
     "name": "stdout",
     "output_type": "stream",
     "text": [
      "Test Error: \n",
      " metric: 0.8391591310501099, Avg test loss: 1144217952.0 , loss = 354871040.0 \n",
      "\n",
      "Epoch 712\n",
      "-------------------------------------\n",
      "Test Error: \n",
      " metric: 0.8063100576400757, Avg test loss: 1088362666.6666667 , loss = 64564984.0 \n",
      "\n",
      "Epoch 713\n",
      "-------------------------------------\n"
     ]
    },
    {
     "name": "stderr",
     "output_type": "stream",
     "text": [
      " 48%|████▊     | 714/1500 [01:57<01:53,  6.91it/s]"
     ]
    },
    {
     "name": "stdout",
     "output_type": "stream",
     "text": [
      "Test Error: \n",
      " metric: 0.7661765217781067, Avg test loss: 1942911370.6666667 , loss = 311835648.0 \n",
      "\n",
      "Epoch 714\n",
      "-------------------------------------\n",
      "Test Error: \n",
      " metric: 0.7790307998657227, Avg test loss: 1751100533.3333333 , loss = 220491856.0 \n",
      "\n",
      "Epoch 715\n",
      "-------------------------------------\n"
     ]
    },
    {
     "name": "stderr",
     "output_type": "stream",
     "text": [
      " 48%|████▊     | 716/1500 [01:57<01:53,  6.93it/s]"
     ]
    },
    {
     "name": "stdout",
     "output_type": "stream",
     "text": [
      "Test Error: \n",
      " metric: 0.8164200782775879, Avg test loss: 1146926261.3333333 , loss = 183360224.0 \n",
      "\n",
      "Epoch 716\n",
      "-------------------------------------\n",
      "Test Error: \n",
      " metric: 0.8246656656265259, Avg test loss: 1015574752.0 , loss = 82083064.0 \n",
      "\n",
      "Epoch 717\n",
      "-------------------------------------\n"
     ]
    },
    {
     "name": "stderr",
     "output_type": "stream",
     "text": [
      " 48%|████▊     | 718/1500 [01:57<01:52,  6.95it/s]"
     ]
    },
    {
     "name": "stdout",
     "output_type": "stream",
     "text": [
      "Test Error: \n",
      " metric: 0.8260517716407776, Avg test loss: 1201260320.0 , loss = 174265168.0 \n",
      "\n",
      "Epoch 718\n",
      "-------------------------------------\n",
      "Test Error: \n",
      " metric: 0.8439594507217407, Avg test loss: 983877109.3333334 , loss = 33645432.0 \n",
      "\n",
      "Epoch 719\n",
      "-------------------------------------\n"
     ]
    },
    {
     "name": "stderr",
     "output_type": "stream",
     "text": [
      " 48%|████▊     | 720/1500 [01:57<01:54,  6.82it/s]"
     ]
    },
    {
     "name": "stdout",
     "output_type": "stream",
     "text": [
      "Test Error: \n",
      " metric: 0.8354557156562805, Avg test loss: 1214030336.0 , loss = 612973696.0 \n",
      "\n",
      "Epoch 720\n",
      "-------------------------------------\n",
      "Test Error: \n",
      " metric: 0.8245565891265869, Avg test loss: 1006286016.0 , loss = 93226720.0 \n",
      "\n",
      "Epoch 721\n",
      "-------------------------------------\n"
     ]
    },
    {
     "name": "stderr",
     "output_type": "stream",
     "text": [
      " 48%|████▊     | 722/1500 [01:58<01:59,  6.53it/s]"
     ]
    },
    {
     "name": "stdout",
     "output_type": "stream",
     "text": [
      "Test Error: \n",
      " metric: 0.8279186487197876, Avg test loss: 1049102944.0 , loss = 142413088.0 \n",
      "\n",
      "Epoch 722\n",
      "-------------------------------------\n",
      "Test Error: \n",
      " metric: 0.7928667068481445, Avg test loss: 1236335872.0 , loss = 43659924.0 \n",
      "\n",
      "Epoch 723\n",
      "-------------------------------------\n"
     ]
    },
    {
     "name": "stderr",
     "output_type": "stream",
     "text": [
      " 48%|████▊     | 724/1500 [01:58<02:02,  6.36it/s]"
     ]
    },
    {
     "name": "stdout",
     "output_type": "stream",
     "text": [
      "Test Error: \n",
      " metric: 0.7230081558227539, Avg test loss: 1401010122.6666667 , loss = 255169616.0 \n",
      "\n",
      "Epoch 724\n",
      "-------------------------------------\n",
      "Test Error: \n",
      " metric: 0.7606590390205383, Avg test loss: 1212268981.3333333 , loss = 1931118336.0 \n",
      "\n",
      "Epoch 725\n",
      "-------------------------------------\n"
     ]
    },
    {
     "name": "stderr",
     "output_type": "stream",
     "text": [
      " 48%|████▊     | 726/1500 [01:58<02:03,  6.25it/s]"
     ]
    },
    {
     "name": "stdout",
     "output_type": "stream",
     "text": [
      "Test Error: \n",
      " metric: 0.8263787031173706, Avg test loss: 1129066549.3333333 , loss = 356077856.0 \n",
      "\n",
      "Epoch 726\n",
      "-------------------------------------\n",
      "Test Error: \n",
      " metric: 0.8258090019226074, Avg test loss: 1009921653.3333334 , loss = 115332704.0 \n",
      "\n",
      "Epoch 727\n",
      "-------------------------------------\n"
     ]
    },
    {
     "name": "stderr",
     "output_type": "stream",
     "text": [
      " 49%|████▊     | 728/1500 [01:59<02:05,  6.13it/s]"
     ]
    },
    {
     "name": "stdout",
     "output_type": "stream",
     "text": [
      "Test Error: \n",
      " metric: 0.8322903513908386, Avg test loss: 969211936.0 , loss = 642550464.0 \n",
      "\n",
      "Epoch 728\n",
      "-------------------------------------\n",
      "Test Error: \n",
      " metric: 0.7829616665840149, Avg test loss: 1097139221.3333333 , loss = 1300597504.0 \n",
      "\n",
      "Epoch 729\n",
      "-------------------------------------\n"
     ]
    },
    {
     "name": "stderr",
     "output_type": "stream",
     "text": [
      " 49%|████▊     | 730/1500 [01:59<02:07,  6.06it/s]"
     ]
    },
    {
     "name": "stdout",
     "output_type": "stream",
     "text": [
      "Test Error: \n",
      " metric: 0.846129298210144, Avg test loss: 1111194309.3333333 , loss = 496936832.0 \n",
      "\n",
      "Epoch 730\n",
      "-------------------------------------\n",
      "Test Error: \n",
      " metric: 0.8175150156021118, Avg test loss: 1072460192.0 , loss = 263272928.0 \n",
      "\n",
      "Epoch 731\n",
      "-------------------------------------\n"
     ]
    },
    {
     "name": "stderr",
     "output_type": "stream",
     "text": [
      " 49%|████▉     | 732/1500 [01:59<02:07,  6.02it/s]"
     ]
    },
    {
     "name": "stdout",
     "output_type": "stream",
     "text": [
      "Test Error: \n",
      " metric: 0.7198799848556519, Avg test loss: 2205507498.6666665 , loss = 562466688.0 \n",
      "\n",
      "Epoch 732\n",
      "-------------------------------------\n",
      "Test Error: \n",
      " metric: 0.8145695328712463, Avg test loss: 1100437973.3333333 , loss = 59299720.0 \n",
      "\n",
      "Epoch 733\n",
      "-------------------------------------\n"
     ]
    },
    {
     "name": "stderr",
     "output_type": "stream",
     "text": [
      " 49%|████▉     | 734/1500 [02:00<02:09,  5.90it/s]"
     ]
    },
    {
     "name": "stdout",
     "output_type": "stream",
     "text": [
      "Test Error: \n",
      " metric: 0.7173111438751221, Avg test loss: 1394765333.3333333 , loss = 952688640.0 \n",
      "\n",
      "Epoch 734\n",
      "-------------------------------------\n",
      "Test Error: \n",
      " metric: 0.803756058216095, Avg test loss: 1396552106.6666667 , loss = 102800304.0 \n",
      "\n",
      "Epoch 735\n",
      "-------------------------------------\n"
     ]
    },
    {
     "name": "stderr",
     "output_type": "stream",
     "text": [
      " 49%|████▉     | 736/1500 [02:00<02:09,  5.90it/s]"
     ]
    },
    {
     "name": "stdout",
     "output_type": "stream",
     "text": [
      "Test Error: \n",
      " metric: 0.8310542106628418, Avg test loss: 975376405.3333334 , loss = 308209440.0 \n",
      "\n",
      "Epoch 736\n",
      "-------------------------------------\n",
      "Test Error: \n",
      " metric: 0.8277449011802673, Avg test loss: 1010783792.0 , loss = 681900032.0 \n",
      "\n",
      "Epoch 737\n",
      "-------------------------------------\n"
     ]
    },
    {
     "name": "stderr",
     "output_type": "stream",
     "text": [
      " 49%|████▉     | 738/1500 [02:00<02:09,  5.89it/s]"
     ]
    },
    {
     "name": "stdout",
     "output_type": "stream",
     "text": [
      "Test Error: \n",
      " metric: 0.8478572368621826, Avg test loss: 901091232.0 , loss = 947985408.0 \n",
      "\n",
      "Epoch 738\n",
      "-------------------------------------\n",
      "Test Error: \n",
      " metric: 0.8382634520530701, Avg test loss: 1059355850.6666666 , loss = 68558208.0 \n",
      "\n",
      "Epoch 739\n",
      "-------------------------------------\n"
     ]
    },
    {
     "name": "stderr",
     "output_type": "stream",
     "text": [
      " 49%|████▉     | 740/1500 [02:01<02:05,  6.05it/s]"
     ]
    },
    {
     "name": "stdout",
     "output_type": "stream",
     "text": [
      "Test Error: \n",
      " metric: 0.8203498125076294, Avg test loss: 979587157.3333334 , loss = 206690368.0 \n",
      "\n",
      "Epoch 740\n",
      "-------------------------------------\n",
      "Test Error: \n",
      " metric: 0.8049272298812866, Avg test loss: 1219502133.3333333 , loss = 13740750.0 \n",
      "\n",
      "Epoch 741\n",
      "-------------------------------------\n"
     ]
    },
    {
     "name": "stderr",
     "output_type": "stream",
     "text": [
      " 49%|████▉     | 742/1500 [02:01<02:07,  5.94it/s]"
     ]
    },
    {
     "name": "stdout",
     "output_type": "stream",
     "text": [
      "Test Error: \n",
      " metric: 0.8401761054992676, Avg test loss: 1077133098.6666667 , loss = 349643904.0 \n",
      "\n",
      "Epoch 742\n",
      "-------------------------------------\n",
      "Test Error: \n",
      " metric: 0.8036306500434875, Avg test loss: 1125330208.0 , loss = 448556384.0 \n",
      "\n",
      "Epoch 743\n",
      "-------------------------------------\n"
     ]
    },
    {
     "name": "stderr",
     "output_type": "stream",
     "text": [
      " 50%|████▉     | 744/1500 [02:01<02:06,  5.97it/s]"
     ]
    },
    {
     "name": "stdout",
     "output_type": "stream",
     "text": [
      "Test Error: \n",
      " metric: 0.7967495918273926, Avg test loss: 1333863125.3333333 , loss = 44820600.0 \n",
      "\n",
      "Epoch 744\n",
      "-------------------------------------\n",
      "Test Error: \n",
      " metric: 0.8115420341491699, Avg test loss: 959864373.3333334 , loss = 105433176.0 \n",
      "\n",
      "Epoch 745\n",
      "-------------------------------------\n"
     ]
    },
    {
     "name": "stderr",
     "output_type": "stream",
     "text": [
      " 50%|████▉     | 746/1500 [02:02<02:07,  5.93it/s]"
     ]
    },
    {
     "name": "stdout",
     "output_type": "stream",
     "text": [
      "Test Error: \n",
      " metric: 0.8161753416061401, Avg test loss: 1048369568.0 , loss = 484309664.0 \n",
      "\n",
      "Epoch 746\n",
      "-------------------------------------\n",
      "Test Error: \n",
      " metric: 0.8167177438735962, Avg test loss: 976415664.0 , loss = 81440640.0 \n",
      "\n",
      "Epoch 747\n",
      "-------------------------------------\n"
     ]
    },
    {
     "name": "stderr",
     "output_type": "stream",
     "text": [
      " 50%|████▉     | 748/1500 [02:02<02:05,  6.01it/s]"
     ]
    },
    {
     "name": "stdout",
     "output_type": "stream",
     "text": [
      "Test Error: \n",
      " metric: 0.7792032361030579, Avg test loss: 1537689610.6666667 , loss = 190505760.0 \n",
      "\n",
      "Epoch 748\n",
      "-------------------------------------\n",
      "Test Error: \n",
      " metric: 0.6976814270019531, Avg test loss: 1305146656.0 , loss = 527212192.0 \n",
      "\n",
      "Epoch 749\n",
      "-------------------------------------\n"
     ]
    },
    {
     "name": "stderr",
     "output_type": "stream",
     "text": [
      " 50%|█████     | 750/1500 [02:02<02:01,  6.18it/s]"
     ]
    },
    {
     "name": "stdout",
     "output_type": "stream",
     "text": [
      "Test Error: \n",
      " metric: 0.8332136273384094, Avg test loss: 1014154053.3333334 , loss = 1504825984.0 \n",
      "\n",
      "Epoch 750\n",
      "-------------------------------------\n",
      "Test Error: \n",
      " metric: 0.808734118938446, Avg test loss: 1059763210.6666666 , loss = 355067392.0 \n",
      "\n",
      "Epoch 751\n",
      "-------------------------------------\n"
     ]
    },
    {
     "name": "stderr",
     "output_type": "stream",
     "text": [
      " 50%|█████     | 752/1500 [02:03<02:02,  6.09it/s]"
     ]
    },
    {
     "name": "stdout",
     "output_type": "stream",
     "text": [
      "Test Error: \n",
      " metric: 0.8338457345962524, Avg test loss: 959046090.6666666 , loss = 621473728.0 \n",
      "\n",
      "Epoch 752\n",
      "-------------------------------------\n",
      "Test Error: \n",
      " metric: 0.8228685259819031, Avg test loss: 1016618954.6666666 , loss = 279144096.0 \n",
      "\n",
      "Epoch 753\n",
      "-------------------------------------\n"
     ]
    },
    {
     "name": "stderr",
     "output_type": "stream",
     "text": [
      " 50%|█████     | 754/1500 [02:03<02:06,  5.90it/s]"
     ]
    },
    {
     "name": "stdout",
     "output_type": "stream",
     "text": [
      "Test Error: \n",
      " metric: 0.8384206295013428, Avg test loss: 1049382890.6666666 , loss = 136419648.0 \n",
      "\n",
      "Epoch 754\n",
      "-------------------------------------\n",
      "Test Error: \n",
      " metric: 0.7578121423721313, Avg test loss: 1275471872.0 , loss = 566553152.0 \n",
      "\n",
      "Epoch 755\n",
      "-------------------------------------\n"
     ]
    },
    {
     "name": "stderr",
     "output_type": "stream",
     "text": [
      " 50%|█████     | 756/1500 [02:03<02:03,  6.02it/s]"
     ]
    },
    {
     "name": "stdout",
     "output_type": "stream",
     "text": [
      "Test Error: \n",
      " metric: 0.8285126090049744, Avg test loss: 988467690.6666666 , loss = 34315904.0 \n",
      "\n",
      "Epoch 756\n",
      "-------------------------------------\n",
      "Test Error: \n",
      " metric: 0.8338965177536011, Avg test loss: 1135135194.6666667 , loss = 434656640.0 \n",
      "\n",
      "Epoch 757\n",
      "-------------------------------------\n"
     ]
    },
    {
     "name": "stderr",
     "output_type": "stream",
     "text": [
      " 51%|█████     | 758/1500 [02:04<02:04,  5.98it/s]"
     ]
    },
    {
     "name": "stdout",
     "output_type": "stream",
     "text": [
      "Test Error: \n",
      " metric: 0.8409196138381958, Avg test loss: 969463626.6666666 , loss = 29288452.0 \n",
      "\n",
      "Epoch 758\n",
      "-------------------------------------\n",
      "Test Error: \n",
      " metric: 0.840753972530365, Avg test loss: 943473957.3333334 , loss = 183684160.0 \n",
      "\n",
      "Epoch 759\n",
      "-------------------------------------\n"
     ]
    },
    {
     "name": "stderr",
     "output_type": "stream",
     "text": [
      " 51%|█████     | 760/1500 [02:04<02:02,  6.04it/s]"
     ]
    },
    {
     "name": "stdout",
     "output_type": "stream",
     "text": [
      "Test Error: \n",
      " metric: 0.84944748878479, Avg test loss: 1148510485.3333333 , loss = 499411744.0 \n",
      "\n",
      "Epoch 760\n",
      "-------------------------------------\n",
      "Test Error: \n",
      " metric: 0.8391304016113281, Avg test loss: 1064072597.3333334 , loss = 336190048.0 \n",
      "\n",
      "Epoch 761\n",
      "-------------------------------------\n"
     ]
    },
    {
     "name": "stderr",
     "output_type": "stream",
     "text": [
      " 51%|█████     | 762/1500 [02:04<02:01,  6.07it/s]"
     ]
    },
    {
     "name": "stdout",
     "output_type": "stream",
     "text": [
      "Test Error: \n",
      " metric: 0.8019850254058838, Avg test loss: 1053604362.6666666 , loss = 886882304.0 \n",
      "\n",
      "Epoch 762\n",
      "-------------------------------------\n",
      "Test Error: \n",
      " metric: 0.800939679145813, Avg test loss: 1095706037.3333333 , loss = 1786342016.0 \n",
      "\n",
      "Epoch 763\n",
      "-------------------------------------\n"
     ]
    },
    {
     "name": "stderr",
     "output_type": "stream",
     "text": [
      " 51%|█████     | 764/1500 [02:05<02:00,  6.09it/s]"
     ]
    },
    {
     "name": "stdout",
     "output_type": "stream",
     "text": [
      "Test Error: \n",
      " metric: 0.8269004821777344, Avg test loss: 1291543189.3333333 , loss = 758876864.0 \n",
      "\n",
      "Epoch 764\n",
      "-------------------------------------\n",
      "Test Error: \n",
      " metric: 0.8304803371429443, Avg test loss: 994058240.0 , loss = 455866688.0 \n",
      "\n",
      "Epoch 765\n",
      "-------------------------------------\n"
     ]
    },
    {
     "name": "stderr",
     "output_type": "stream",
     "text": [
      " 51%|█████     | 766/1500 [02:05<01:59,  6.14it/s]"
     ]
    },
    {
     "name": "stdout",
     "output_type": "stream",
     "text": [
      "Test Error: \n",
      " metric: 0.8239028453826904, Avg test loss: 987042581.3333334 , loss = 131777760.0 \n",
      "\n",
      "Epoch 766\n",
      "-------------------------------------\n",
      "Test Error: \n",
      " metric: 0.6762808561325073, Avg test loss: 1473522026.6666667 , loss = 195718480.0 \n",
      "\n",
      "Epoch 767\n",
      "-------------------------------------\n"
     ]
    },
    {
     "name": "stderr",
     "output_type": "stream",
     "text": [
      " 51%|█████     | 768/1500 [02:05<01:58,  6.18it/s]"
     ]
    },
    {
     "name": "stdout",
     "output_type": "stream",
     "text": [
      "Test Error: \n",
      " metric: 0.835004448890686, Avg test loss: 960575925.3333334 , loss = 309893024.0 \n",
      "\n",
      "Epoch 768\n",
      "-------------------------------------\n",
      "Test Error: \n",
      " metric: 0.851811945438385, Avg test loss: 969071573.3333334 , loss = 106882848.0 \n",
      "\n",
      "Epoch 769\n",
      "-------------------------------------\n"
     ]
    },
    {
     "name": "stderr",
     "output_type": "stream",
     "text": [
      " 51%|█████▏    | 770/1500 [02:06<02:00,  6.08it/s]"
     ]
    },
    {
     "name": "stdout",
     "output_type": "stream",
     "text": [
      "Test Error: \n",
      " metric: 0.8222445249557495, Avg test loss: 943541853.3333334 , loss = 171352320.0 \n",
      "\n",
      "Epoch 770\n",
      "-------------------------------------\n",
      "Test Error: \n",
      " metric: 0.8167210221290588, Avg test loss: 1096501738.6666667 , loss = 482889280.0 \n",
      "\n",
      "Epoch 771\n",
      "-------------------------------------\n"
     ]
    },
    {
     "name": "stderr",
     "output_type": "stream",
     "text": [
      " 51%|█████▏    | 772/1500 [02:06<02:00,  6.04it/s]"
     ]
    },
    {
     "name": "stdout",
     "output_type": "stream",
     "text": [
      "Test Error: \n",
      " metric: 0.834323525428772, Avg test loss: 970394933.3333334 , loss = 268226176.0 \n",
      "\n",
      "Epoch 772\n",
      "-------------------------------------\n",
      "Test Error: \n",
      " metric: 0.8271804451942444, Avg test loss: 1103175701.3333333 , loss = 1322650624.0 \n",
      "\n",
      "Epoch 773\n",
      "-------------------------------------\n"
     ]
    },
    {
     "name": "stderr",
     "output_type": "stream",
     "text": [
      " 52%|█████▏    | 774/1500 [02:06<02:01,  5.96it/s]"
     ]
    },
    {
     "name": "stdout",
     "output_type": "stream",
     "text": [
      "Test Error: \n",
      " metric: 0.8167499303817749, Avg test loss: 1147486506.6666667 , loss = 321976576.0 \n",
      "\n",
      "Epoch 774\n",
      "-------------------------------------\n",
      "Test Error: \n",
      " metric: 0.8388963937759399, Avg test loss: 1121682234.6666667 , loss = 669861632.0 \n",
      "\n",
      "Epoch 775\n",
      "-------------------------------------\n"
     ]
    },
    {
     "name": "stderr",
     "output_type": "stream",
     "text": [
      " 52%|█████▏    | 776/1500 [02:07<02:01,  5.94it/s]"
     ]
    },
    {
     "name": "stdout",
     "output_type": "stream",
     "text": [
      "Test Error: \n",
      " metric: 0.8345991373062134, Avg test loss: 930563925.3333334 , loss = 1559203328.0 \n",
      "\n",
      "Epoch 776\n",
      "-------------------------------------\n",
      "Test Error: \n",
      " metric: 0.8023421764373779, Avg test loss: 1237930848.0 , loss = 558973760.0 \n",
      "\n",
      "Epoch 777\n",
      "-------------------------------------\n"
     ]
    },
    {
     "name": "stderr",
     "output_type": "stream",
     "text": [
      " 52%|█████▏    | 778/1500 [02:07<02:00,  6.01it/s]"
     ]
    },
    {
     "name": "stdout",
     "output_type": "stream",
     "text": [
      "Test Error: \n",
      " metric: 0.8498722314834595, Avg test loss: 906109653.3333334 , loss = 105533584.0 \n",
      "\n",
      "Epoch 778\n",
      "-------------------------------------\n",
      "Test Error: \n",
      " metric: 0.8481109142303467, Avg test loss: 1000065194.6666666 , loss = 91981912.0 \n",
      "\n",
      "Epoch 779\n",
      "-------------------------------------\n"
     ]
    },
    {
     "name": "stderr",
     "output_type": "stream",
     "text": [
      " 52%|█████▏    | 780/1500 [02:07<01:58,  6.08it/s]"
     ]
    },
    {
     "name": "stdout",
     "output_type": "stream",
     "text": [
      "Test Error: \n",
      " metric: 0.8072982430458069, Avg test loss: 1035271621.3333334 , loss = 141118736.0 \n",
      "\n",
      "Epoch 780\n",
      "-------------------------------------\n",
      "Test Error: \n",
      " metric: 0.8378051519393921, Avg test loss: 955585205.3333334 , loss = 548063744.0 \n",
      "\n",
      "Epoch 781\n",
      "-------------------------------------\n"
     ]
    },
    {
     "name": "stderr",
     "output_type": "stream",
     "text": [
      " 52%|█████▏    | 782/1500 [02:08<01:56,  6.14it/s]"
     ]
    },
    {
     "name": "stdout",
     "output_type": "stream",
     "text": [
      "Test Error: \n",
      " metric: 0.8384271860122681, Avg test loss: 959965728.0 , loss = 91340968.0 \n",
      "\n",
      "Epoch 782\n",
      "-------------------------------------\n",
      "Test Error: \n",
      " metric: 0.7907472848892212, Avg test loss: 1067213760.0 , loss = 153408448.0 \n",
      "\n",
      "Epoch 783\n",
      "-------------------------------------\n"
     ]
    },
    {
     "name": "stderr",
     "output_type": "stream",
     "text": [
      " 52%|█████▏    | 784/1500 [02:08<01:54,  6.23it/s]"
     ]
    },
    {
     "name": "stdout",
     "output_type": "stream",
     "text": [
      "Test Error: \n",
      " metric: 0.8142755031585693, Avg test loss: 1056651114.6666666 , loss = 845102592.0 \n",
      "\n",
      "Epoch 784\n",
      "-------------------------------------\n",
      "Test Error: \n",
      " metric: 0.7626680135726929, Avg test loss: 1753895754.6666667 , loss = 196575872.0 \n",
      "\n",
      "Epoch 785\n",
      "-------------------------------------\n"
     ]
    },
    {
     "name": "stderr",
     "output_type": "stream",
     "text": [
      " 52%|█████▏    | 786/1500 [02:08<01:55,  6.19it/s]"
     ]
    },
    {
     "name": "stdout",
     "output_type": "stream",
     "text": [
      "Test Error: \n",
      " metric: 0.8454364538192749, Avg test loss: 948755178.6666666 , loss = 172334480.0 \n",
      "\n",
      "Epoch 786\n",
      "-------------------------------------\n",
      "Test Error: \n",
      " metric: 0.8460237979888916, Avg test loss: 948954885.3333334 , loss = 927025024.0 \n",
      "\n",
      "Epoch 787\n",
      "-------------------------------------\n"
     ]
    },
    {
     "name": "stderr",
     "output_type": "stream",
     "text": [
      " 53%|█████▎    | 788/1500 [02:09<01:56,  6.11it/s]"
     ]
    },
    {
     "name": "stdout",
     "output_type": "stream",
     "text": [
      "Test Error: \n",
      " metric: 0.8066496849060059, Avg test loss: 1036486400.0 , loss = 545353600.0 \n",
      "\n",
      "Epoch 788\n",
      "-------------------------------------\n",
      "Test Error: \n",
      " metric: 0.7685797810554504, Avg test loss: 1799503829.3333333 , loss = 19736336.0 \n",
      "\n",
      "Epoch 789\n",
      "-------------------------------------\n"
     ]
    },
    {
     "name": "stderr",
     "output_type": "stream",
     "text": [
      " 53%|█████▎    | 790/1500 [02:09<01:57,  6.03it/s]"
     ]
    },
    {
     "name": "stdout",
     "output_type": "stream",
     "text": [
      "Test Error: \n",
      " metric: 0.8191120028495789, Avg test loss: 1233461541.3333333 , loss = 139818016.0 \n",
      "\n",
      "Epoch 790\n",
      "-------------------------------------\n",
      "Test Error: \n",
      " metric: 0.819526195526123, Avg test loss: 1164507605.3333333 , loss = 165915056.0 \n",
      "\n",
      "Epoch 791\n",
      "-------------------------------------\n"
     ]
    },
    {
     "name": "stderr",
     "output_type": "stream",
     "text": [
      " 53%|█████▎    | 792/1500 [02:09<01:57,  6.05it/s]"
     ]
    },
    {
     "name": "stdout",
     "output_type": "stream",
     "text": [
      "Test Error: \n",
      " metric: 0.718839168548584, Avg test loss: 1229338080.0 , loss = 1772396032.0 \n",
      "\n",
      "Epoch 792\n",
      "-------------------------------------\n",
      "Test Error: \n",
      " metric: 0.8263665437698364, Avg test loss: 907358394.6666666 , loss = 370327488.0 \n",
      "\n",
      "Epoch 793\n",
      "-------------------------------------\n"
     ]
    },
    {
     "name": "stderr",
     "output_type": "stream",
     "text": [
      " 53%|█████▎    | 794/1500 [02:10<01:57,  6.03it/s]"
     ]
    },
    {
     "name": "stdout",
     "output_type": "stream",
     "text": [
      "Test Error: \n",
      " metric: 0.8266190886497498, Avg test loss: 1340233904.0 , loss = 1346217856.0 \n",
      "\n",
      "Epoch 794\n",
      "-------------------------------------\n",
      "Test Error: \n",
      " metric: 0.8166895508766174, Avg test loss: 1156580501.3333333 , loss = 47393640.0 \n",
      "\n",
      "Epoch 795\n",
      "-------------------------------------\n"
     ]
    },
    {
     "name": "stderr",
     "output_type": "stream",
     "text": [
      " 53%|█████▎    | 796/1500 [02:10<01:56,  6.03it/s]"
     ]
    },
    {
     "name": "stdout",
     "output_type": "stream",
     "text": [
      "Test Error: \n",
      " metric: 0.8132147789001465, Avg test loss: 1010652746.6666666 , loss = 112294520.0 \n",
      "\n",
      "Epoch 796\n",
      "-------------------------------------\n",
      "Test Error: \n",
      " metric: 0.8253717422485352, Avg test loss: 1262672074.6666667 , loss = 507824768.0 \n",
      "\n",
      "Epoch 797\n",
      "-------------------------------------\n"
     ]
    },
    {
     "name": "stderr",
     "output_type": "stream",
     "text": [
      " 53%|█████▎    | 798/1500 [02:10<01:57,  5.99it/s]"
     ]
    },
    {
     "name": "stdout",
     "output_type": "stream",
     "text": [
      "Test Error: \n",
      " metric: 0.8340365886688232, Avg test loss: 985179317.3333334 , loss = 243145600.0 \n",
      "\n",
      "Epoch 798\n",
      "-------------------------------------\n",
      "Test Error: \n",
      " metric: 0.8318840861320496, Avg test loss: 1025182901.3333334 , loss = 35927504.0 \n",
      "\n",
      "Epoch 799\n",
      "-------------------------------------\n"
     ]
    },
    {
     "name": "stderr",
     "output_type": "stream",
     "text": [
      " 53%|█████▎    | 800/1500 [02:11<01:54,  6.11it/s]"
     ]
    },
    {
     "name": "stdout",
     "output_type": "stream",
     "text": [
      "Test Error: \n",
      " metric: 0.7910431623458862, Avg test loss: 1818947040.0 , loss = 82728736.0 \n",
      "\n",
      "Epoch 800\n",
      "-------------------------------------\n",
      "Test Error: \n",
      " metric: 0.8005232214927673, Avg test loss: 1261838058.6666667 , loss = 583398272.0 \n",
      "\n",
      "Epoch 801\n",
      "-------------------------------------\n"
     ]
    },
    {
     "name": "stderr",
     "output_type": "stream",
     "text": [
      " 53%|█████▎    | 802/1500 [02:11<01:53,  6.12it/s]"
     ]
    },
    {
     "name": "stdout",
     "output_type": "stream",
     "text": [
      "Test Error: \n",
      " metric: 0.7803750038146973, Avg test loss: 1235932661.3333333 , loss = 485848928.0 \n",
      "\n",
      "Epoch 802\n",
      "-------------------------------------\n",
      "Test Error: \n",
      " metric: 0.791839599609375, Avg test loss: 1101206560.0 , loss = 317611488.0 \n",
      "\n",
      "Epoch 803\n",
      "-------------------------------------\n"
     ]
    },
    {
     "name": "stderr",
     "output_type": "stream",
     "text": [
      " 54%|█████▎    | 804/1500 [02:11<01:54,  6.10it/s]"
     ]
    },
    {
     "name": "stdout",
     "output_type": "stream",
     "text": [
      "Test Error: \n",
      " metric: 0.7394835948944092, Avg test loss: 1235410549.3333333 , loss = 359774464.0 \n",
      "\n",
      "Epoch 804\n",
      "-------------------------------------\n",
      "Test Error: \n",
      " metric: 0.7965415120124817, Avg test loss: 1081775045.3333333 , loss = 351175872.0 \n",
      "\n",
      "Epoch 805\n",
      "-------------------------------------\n"
     ]
    },
    {
     "name": "stderr",
     "output_type": "stream",
     "text": [
      " 54%|█████▎    | 806/1500 [02:12<01:54,  6.09it/s]"
     ]
    },
    {
     "name": "stdout",
     "output_type": "stream",
     "text": [
      "Test Error: \n",
      " metric: 0.8067336678504944, Avg test loss: 1190360128.0 , loss = 205555744.0 \n",
      "\n",
      "Epoch 806\n",
      "-------------------------------------\n",
      "Test Error: \n",
      " metric: 0.8023124933242798, Avg test loss: 1161136458.6666667 , loss = 256142304.0 \n",
      "\n",
      "Epoch 807\n",
      "-------------------------------------\n"
     ]
    },
    {
     "name": "stderr",
     "output_type": "stream",
     "text": [
      " 54%|█████▍    | 808/1500 [02:12<01:52,  6.17it/s]"
     ]
    },
    {
     "name": "stdout",
     "output_type": "stream",
     "text": [
      "Test Error: \n",
      " metric: 0.8174936175346375, Avg test loss: 991263536.0 , loss = 503941952.0 \n",
      "\n",
      "Epoch 808\n",
      "-------------------------------------\n",
      "Test Error: \n",
      " metric: 0.8309372067451477, Avg test loss: 1052204650.6666666 , loss = 263971904.0 \n",
      "\n",
      "Epoch 809\n",
      "-------------------------------------\n"
     ]
    },
    {
     "name": "stderr",
     "output_type": "stream",
     "text": [
      " 54%|█████▍    | 810/1500 [02:12<01:53,  6.06it/s]"
     ]
    },
    {
     "name": "stdout",
     "output_type": "stream",
     "text": [
      "Test Error: \n",
      " metric: 0.7545207738876343, Avg test loss: 1229139050.6666667 , loss = 140448256.0 \n",
      "\n",
      "Epoch 810\n",
      "-------------------------------------\n",
      "Test Error: \n",
      " metric: 0.8424545526504517, Avg test loss: 1194153898.6666667 , loss = 353919168.0 \n",
      "\n",
      "Epoch 811\n",
      "-------------------------------------\n"
     ]
    },
    {
     "name": "stderr",
     "output_type": "stream",
     "text": [
      " 54%|█████▍    | 812/1500 [02:13<01:52,  6.11it/s]"
     ]
    },
    {
     "name": "stdout",
     "output_type": "stream",
     "text": [
      "Test Error: \n",
      " metric: 0.8280614018440247, Avg test loss: 955810128.0 , loss = 153235632.0 \n",
      "\n",
      "Epoch 812\n",
      "-------------------------------------\n",
      "Test Error: \n",
      " metric: 0.8000282645225525, Avg test loss: 1169309792.0 , loss = 1321399040.0 \n",
      "\n",
      "Epoch 813\n",
      "-------------------------------------\n"
     ]
    },
    {
     "name": "stderr",
     "output_type": "stream",
     "text": [
      " 54%|█████▍    | 814/1500 [02:13<01:52,  6.11it/s]"
     ]
    },
    {
     "name": "stdout",
     "output_type": "stream",
     "text": [
      "Test Error: \n",
      " metric: 0.8270822763442993, Avg test loss: 1067157493.3333334 , loss = 83681112.0 \n",
      "\n",
      "Epoch 814\n",
      "-------------------------------------\n",
      "Test Error: \n",
      " metric: 0.8259853720664978, Avg test loss: 1153339413.3333333 , loss = 127970368.0 \n",
      "\n",
      "Epoch 815\n",
      "-------------------------------------\n"
     ]
    },
    {
     "name": "stderr",
     "output_type": "stream",
     "text": [
      " 54%|█████▍    | 816/1500 [02:13<01:51,  6.12it/s]"
     ]
    },
    {
     "name": "stdout",
     "output_type": "stream",
     "text": [
      "Test Error: \n",
      " metric: 0.7938869595527649, Avg test loss: 1067176117.3333334 , loss = 118055696.0 \n",
      "\n",
      "Epoch 816\n",
      "-------------------------------------\n",
      "Test Error: \n",
      " metric: 0.813811182975769, Avg test loss: 1462060672.0 , loss = 2219517696.0 \n",
      "\n",
      "Epoch 817\n",
      "-------------------------------------\n"
     ]
    },
    {
     "name": "stderr",
     "output_type": "stream",
     "text": [
      " 55%|█████▍    | 818/1500 [02:14<01:52,  6.08it/s]"
     ]
    },
    {
     "name": "stdout",
     "output_type": "stream",
     "text": [
      "Test Error: \n",
      " metric: 0.8512750864028931, Avg test loss: 974386762.6666666 , loss = 1218622464.0 \n",
      "\n",
      "Epoch 818\n",
      "-------------------------------------\n",
      "Test Error: \n",
      " metric: 0.8360304236412048, Avg test loss: 996461248.0 , loss = 581153152.0 \n",
      "\n",
      "Epoch 819\n",
      "-------------------------------------\n"
     ]
    },
    {
     "name": "stderr",
     "output_type": "stream",
     "text": [
      " 55%|█████▍    | 820/1500 [02:14<01:51,  6.08it/s]"
     ]
    },
    {
     "name": "stdout",
     "output_type": "stream",
     "text": [
      "Test Error: \n",
      " metric: 0.8029674887657166, Avg test loss: 1615098229.3333333 , loss = 438571840.0 \n",
      "\n",
      "Epoch 820\n",
      "-------------------------------------\n",
      "Test Error: \n",
      " metric: 0.7982882857322693, Avg test loss: 1238083722.6666667 , loss = 56347096.0 \n",
      "\n",
      "Epoch 821\n",
      "-------------------------------------\n"
     ]
    },
    {
     "name": "stderr",
     "output_type": "stream",
     "text": [
      " 55%|█████▍    | 822/1500 [02:14<01:51,  6.07it/s]"
     ]
    },
    {
     "name": "stdout",
     "output_type": "stream",
     "text": [
      "Test Error: \n",
      " metric: 0.8243502378463745, Avg test loss: 1159662272.0 , loss = 882526080.0 \n",
      "\n",
      "Epoch 822\n",
      "-------------------------------------\n",
      "Test Error: \n",
      " metric: 0.8288408517837524, Avg test loss: 1052763253.3333334 , loss = 700193792.0 \n",
      "\n",
      "Epoch 823\n",
      "-------------------------------------\n"
     ]
    },
    {
     "name": "stderr",
     "output_type": "stream",
     "text": [
      " 55%|█████▍    | 824/1500 [02:15<01:50,  6.11it/s]"
     ]
    },
    {
     "name": "stdout",
     "output_type": "stream",
     "text": [
      "Test Error: \n",
      " metric: 0.8052040934562683, Avg test loss: 1261668597.3333333 , loss = 114093160.0 \n",
      "\n",
      "Epoch 824\n",
      "-------------------------------------\n",
      "Test Error: \n",
      " metric: 0.8074170351028442, Avg test loss: 1150914048.0 , loss = 310165248.0 \n",
      "\n",
      "Epoch 825\n",
      "-------------------------------------\n"
     ]
    },
    {
     "name": "stderr",
     "output_type": "stream",
     "text": [
      " 55%|█████▌    | 826/1500 [02:15<01:49,  6.17it/s]"
     ]
    },
    {
     "name": "stdout",
     "output_type": "stream",
     "text": [
      "Test Error: \n",
      " metric: 0.8440995216369629, Avg test loss: 1122165706.6666667 , loss = 253116448.0 \n",
      "\n",
      "Epoch 826\n",
      "-------------------------------------\n",
      "Test Error: \n",
      " metric: 0.8251532912254333, Avg test loss: 1037361877.3333334 , loss = 38447144.0 \n",
      "\n",
      "Epoch 827\n",
      "-------------------------------------\n"
     ]
    },
    {
     "name": "stderr",
     "output_type": "stream",
     "text": [
      " 55%|█████▌    | 828/1500 [02:15<01:50,  6.11it/s]"
     ]
    },
    {
     "name": "stdout",
     "output_type": "stream",
     "text": [
      "Test Error: \n",
      " metric: 0.8187608122825623, Avg test loss: 991783162.6666666 , loss = 163326704.0 \n",
      "\n",
      "Epoch 828\n",
      "-------------------------------------\n",
      "Test Error: \n",
      " metric: 0.8316742181777954, Avg test loss: 1218791904.0 , loss = 318254144.0 \n",
      "\n",
      "Epoch 829\n",
      "-------------------------------------\n"
     ]
    },
    {
     "name": "stderr",
     "output_type": "stream",
     "text": [
      " 55%|█████▌    | 830/1500 [02:16<01:52,  5.98it/s]"
     ]
    },
    {
     "name": "stdout",
     "output_type": "stream",
     "text": [
      "Test Error: \n",
      " metric: 0.8051053285598755, Avg test loss: 1065877141.3333334 , loss = 106713632.0 \n",
      "\n",
      "Epoch 830\n",
      "-------------------------------------\n",
      "Test Error: \n",
      " metric: 0.8187524676322937, Avg test loss: 1197788917.3333333 , loss = 176209536.0 \n",
      "\n",
      "Epoch 831\n",
      "-------------------------------------\n"
     ]
    },
    {
     "name": "stderr",
     "output_type": "stream",
     "text": [
      " 55%|█████▌    | 832/1500 [02:16<01:50,  6.03it/s]"
     ]
    },
    {
     "name": "stdout",
     "output_type": "stream",
     "text": [
      "Test Error: \n",
      " metric: 0.8159882426261902, Avg test loss: 1200747157.3333333 , loss = 587117440.0 \n",
      "\n",
      "Epoch 832\n",
      "-------------------------------------\n",
      "Test Error: \n",
      " metric: 0.8093137741088867, Avg test loss: 1114158218.6666667 , loss = 436248512.0 \n",
      "\n",
      "Epoch 833\n",
      "-------------------------------------\n"
     ]
    },
    {
     "name": "stderr",
     "output_type": "stream",
     "text": [
      " 56%|█████▌    | 834/1500 [02:16<01:49,  6.06it/s]"
     ]
    },
    {
     "name": "stdout",
     "output_type": "stream",
     "text": [
      "Test Error: \n",
      " metric: 0.8516354560852051, Avg test loss: 1046685290.6666666 , loss = 64552472.0 \n",
      "\n",
      "Epoch 834\n",
      "-------------------------------------\n",
      "Test Error: \n",
      " metric: 0.800383985042572, Avg test loss: 1060096117.3333334 , loss = 579509952.0 \n",
      "\n",
      "Epoch 835\n",
      "-------------------------------------\n"
     ]
    },
    {
     "name": "stderr",
     "output_type": "stream",
     "text": [
      " 56%|█████▌    | 836/1500 [02:17<01:49,  6.08it/s]"
     ]
    },
    {
     "name": "stdout",
     "output_type": "stream",
     "text": [
      "Test Error: \n",
      " metric: 0.7247532606124878, Avg test loss: 1327152746.6666667 , loss = 450314528.0 \n",
      "\n",
      "Epoch 836\n",
      "-------------------------------------\n",
      "Test Error: \n",
      " metric: 0.813014030456543, Avg test loss: 1133390154.6666667 , loss = 463336896.0 \n",
      "\n",
      "Epoch 837\n",
      "-------------------------------------\n"
     ]
    },
    {
     "name": "stderr",
     "output_type": "stream",
     "text": [
      " 56%|█████▌    | 838/1500 [02:17<01:44,  6.33it/s]"
     ]
    },
    {
     "name": "stdout",
     "output_type": "stream",
     "text": [
      "Test Error: \n",
      " metric: 0.8362606167793274, Avg test loss: 1040010122.6666666 , loss = 1738668032.0 \n",
      "\n",
      "Epoch 838\n",
      "-------------------------------------\n",
      "Test Error: \n",
      " metric: 0.8170959949493408, Avg test loss: 1198575253.3333333 , loss = 221215616.0 \n",
      "\n",
      "Epoch 839\n",
      "-------------------------------------\n"
     ]
    },
    {
     "name": "stderr",
     "output_type": "stream",
     "text": [
      " 56%|█████▌    | 840/1500 [02:17<01:40,  6.58it/s]"
     ]
    },
    {
     "name": "stdout",
     "output_type": "stream",
     "text": [
      "Test Error: \n",
      " metric: 0.8317992091178894, Avg test loss: 1189243445.3333333 , loss = 91456672.0 \n",
      "\n",
      "Epoch 840\n",
      "-------------------------------------\n",
      "Test Error: \n",
      " metric: 0.8207907676696777, Avg test loss: 1054974666.6666666 , loss = 563006720.0 \n",
      "\n",
      "Epoch 841\n",
      "-------------------------------------\n"
     ]
    },
    {
     "name": "stderr",
     "output_type": "stream",
     "text": [
      " 56%|█████▌    | 842/1500 [02:18<01:37,  6.78it/s]"
     ]
    },
    {
     "name": "stdout",
     "output_type": "stream",
     "text": [
      "Test Error: \n",
      " metric: 0.8302891254425049, Avg test loss: 975545600.0 , loss = 264130464.0 \n",
      "\n",
      "Epoch 842\n",
      "-------------------------------------\n",
      "Test Error: \n",
      " metric: 0.7944448590278625, Avg test loss: 1195602570.6666667 , loss = 908862976.0 \n",
      "\n",
      "Epoch 843\n",
      "-------------------------------------\n"
     ]
    },
    {
     "name": "stderr",
     "output_type": "stream",
     "text": [
      " 56%|█████▋    | 844/1500 [02:18<01:35,  6.90it/s]"
     ]
    },
    {
     "name": "stdout",
     "output_type": "stream",
     "text": [
      "Test Error: \n",
      " metric: 0.8314865827560425, Avg test loss: 1158787104.0 , loss = 360115040.0 \n",
      "\n",
      "Epoch 844\n",
      "-------------------------------------\n",
      "Test Error: \n",
      " metric: 0.7860478162765503, Avg test loss: 1217991424.0 , loss = 89893384.0 \n",
      "\n",
      "Epoch 845\n",
      "-------------------------------------\n"
     ]
    },
    {
     "name": "stderr",
     "output_type": "stream",
     "text": [
      " 56%|█████▋    | 846/1500 [02:18<01:31,  7.12it/s]"
     ]
    },
    {
     "name": "stdout",
     "output_type": "stream",
     "text": [
      "Test Error: \n",
      " metric: 0.8218855261802673, Avg test loss: 1184740021.3333333 , loss = 79165504.0 \n",
      "\n",
      "Epoch 846\n",
      "-------------------------------------\n",
      "Test Error: \n",
      " metric: 0.7968980073928833, Avg test loss: 1160728192.0 , loss = 114660256.0 \n",
      "\n",
      "Epoch 847\n",
      "-------------------------------------\n"
     ]
    },
    {
     "name": "stderr",
     "output_type": "stream",
     "text": [
      " 57%|█████▋    | 848/1500 [02:18<01:30,  7.18it/s]"
     ]
    },
    {
     "name": "stdout",
     "output_type": "stream",
     "text": [
      "Test Error: \n",
      " metric: 0.8419567346572876, Avg test loss: 972915792.0 , loss = 449454240.0 \n",
      "\n",
      "Epoch 848\n",
      "-------------------------------------\n",
      "Test Error: \n",
      " metric: 0.8286967873573303, Avg test loss: 954421792.0 , loss = 511917184.0 \n",
      "\n",
      "Epoch 849\n",
      "-------------------------------------\n"
     ]
    },
    {
     "name": "stderr",
     "output_type": "stream",
     "text": [
      " 57%|█████▋    | 850/1500 [02:19<01:34,  6.85it/s]"
     ]
    },
    {
     "name": "stdout",
     "output_type": "stream",
     "text": [
      "Test Error: \n",
      " metric: 0.7364368438720703, Avg test loss: 1391073621.3333333 , loss = 1143382016.0 \n",
      "\n",
      "Epoch 850\n",
      "-------------------------------------\n",
      "Test Error: \n",
      " metric: 0.8279123306274414, Avg test loss: 900488688.0 , loss = 191416864.0 \n",
      "\n",
      "Epoch 851\n",
      "-------------------------------------\n"
     ]
    },
    {
     "name": "stderr",
     "output_type": "stream",
     "text": [
      " 57%|█████▋    | 852/1500 [02:19<01:37,  6.64it/s]"
     ]
    },
    {
     "name": "stdout",
     "output_type": "stream",
     "text": [
      "Test Error: \n",
      " metric: 0.8311781287193298, Avg test loss: 1130493354.6666667 , loss = 667295424.0 \n",
      "\n",
      "Epoch 852\n",
      "-------------------------------------\n",
      "Test Error: \n",
      " metric: 0.8138864636421204, Avg test loss: 1435472213.3333333 , loss = 33242016.0 \n",
      "\n",
      "Epoch 853\n",
      "-------------------------------------\n"
     ]
    },
    {
     "name": "stderr",
     "output_type": "stream",
     "text": [
      " 57%|█████▋    | 854/1500 [02:19<01:41,  6.35it/s]"
     ]
    },
    {
     "name": "stdout",
     "output_type": "stream",
     "text": [
      "Test Error: \n",
      " metric: 0.8389390707015991, Avg test loss: 1052501909.3333334 , loss = 324083520.0 \n",
      "\n",
      "Epoch 854\n",
      "-------------------------------------\n",
      "Test Error: \n",
      " metric: 0.8153383731842041, Avg test loss: 1103468986.6666667 , loss = 123609488.0 \n",
      "\n",
      "Epoch 855\n",
      "-------------------------------------\n"
     ]
    },
    {
     "name": "stderr",
     "output_type": "stream",
     "text": [
      " 57%|█████▋    | 856/1500 [02:20<01:45,  6.12it/s]"
     ]
    },
    {
     "name": "stdout",
     "output_type": "stream",
     "text": [
      "Test Error: \n",
      " metric: 0.8077426552772522, Avg test loss: 1140886005.3333333 , loss = 150820176.0 \n",
      "\n",
      "Epoch 856\n",
      "-------------------------------------\n",
      "Test Error: \n",
      " metric: 0.8272486329078674, Avg test loss: 1185964298.6666667 , loss = 731833536.0 \n",
      "\n",
      "Epoch 857\n",
      "-------------------------------------\n"
     ]
    },
    {
     "name": "stderr",
     "output_type": "stream",
     "text": [
      " 57%|█████▋    | 858/1500 [02:20<01:45,  6.08it/s]"
     ]
    },
    {
     "name": "stdout",
     "output_type": "stream",
     "text": [
      "Test Error: \n",
      " metric: 0.7928844690322876, Avg test loss: 1170065845.3333333 , loss = 110308040.0 \n",
      "\n",
      "Epoch 858\n",
      "-------------------------------------\n",
      "Test Error: \n",
      " metric: 0.8255266547203064, Avg test loss: 1449441962.6666667 , loss = 289310592.0 \n",
      "\n",
      "Epoch 859\n",
      "-------------------------------------\n"
     ]
    },
    {
     "name": "stderr",
     "output_type": "stream",
     "text": [
      " 57%|█████▋    | 860/1500 [02:20<01:46,  6.03it/s]"
     ]
    },
    {
     "name": "stdout",
     "output_type": "stream",
     "text": [
      "Test Error: \n",
      " metric: 0.8371725082397461, Avg test loss: 1105347136.0 , loss = 280732800.0 \n",
      "\n",
      "Epoch 860\n",
      "-------------------------------------\n",
      "Test Error: \n",
      " metric: 0.8365428447723389, Avg test loss: 1084788458.6666667 , loss = 184231472.0 \n",
      "\n",
      "Epoch 861\n",
      "-------------------------------------\n"
     ]
    },
    {
     "name": "stderr",
     "output_type": "stream",
     "text": [
      " 57%|█████▋    | 862/1500 [02:21<01:45,  6.06it/s]"
     ]
    },
    {
     "name": "stdout",
     "output_type": "stream",
     "text": [
      "Test Error: \n",
      " metric: 0.8384667038917542, Avg test loss: 1123452906.6666667 , loss = 86844824.0 \n",
      "\n",
      "Epoch 862\n",
      "-------------------------------------\n",
      "Test Error: \n",
      " metric: 0.8184957504272461, Avg test loss: 1028418325.3333334 , loss = 489375776.0 \n",
      "\n",
      "Epoch 863\n",
      "-------------------------------------\n"
     ]
    },
    {
     "name": "stderr",
     "output_type": "stream",
     "text": [
      " 58%|█████▊    | 864/1500 [02:21<01:44,  6.10it/s]"
     ]
    },
    {
     "name": "stdout",
     "output_type": "stream",
     "text": [
      "Test Error: \n",
      " metric: 0.8239772319793701, Avg test loss: 1229980800.0 , loss = 547671936.0 \n",
      "\n",
      "Epoch 864\n",
      "-------------------------------------\n",
      "Test Error: \n",
      " metric: 0.809725821018219, Avg test loss: 1061159136.0 , loss = 188091520.0 \n",
      "\n",
      "Epoch 865\n",
      "-------------------------------------\n"
     ]
    },
    {
     "name": "stderr",
     "output_type": "stream",
     "text": [
      " 58%|█████▊    | 866/1500 [02:21<01:40,  6.33it/s]"
     ]
    },
    {
     "name": "stdout",
     "output_type": "stream",
     "text": [
      "Test Error: \n",
      " metric: 0.8319098353385925, Avg test loss: 1071280224.0 , loss = 26495656.0 \n",
      "\n",
      "Epoch 866\n",
      "-------------------------------------\n",
      "Test Error: \n",
      " metric: 0.814607560634613, Avg test loss: 1075235946.6666667 , loss = 247311984.0 \n",
      "\n",
      "Epoch 867\n",
      "-------------------------------------\n"
     ]
    },
    {
     "name": "stderr",
     "output_type": "stream",
     "text": [
      " 58%|█████▊    | 868/1500 [02:22<01:35,  6.59it/s]"
     ]
    },
    {
     "name": "stdout",
     "output_type": "stream",
     "text": [
      "Test Error: \n",
      " metric: 0.7783971428871155, Avg test loss: 1240383125.3333333 , loss = 157441520.0 \n",
      "\n",
      "Epoch 868\n",
      "-------------------------------------\n",
      "Test Error: \n",
      " metric: 0.8229995369911194, Avg test loss: 1001867840.0 , loss = 455687872.0 \n",
      "\n",
      "Epoch 869\n",
      "-------------------------------------\n"
     ]
    },
    {
     "name": "stderr",
     "output_type": "stream",
     "text": [
      " 58%|█████▊    | 870/1500 [02:22<01:38,  6.40it/s]"
     ]
    },
    {
     "name": "stdout",
     "output_type": "stream",
     "text": [
      "Test Error: \n",
      " metric: 0.7982304096221924, Avg test loss: 1274568256.0 , loss = 985657280.0 \n",
      "\n",
      "Epoch 870\n",
      "-------------------------------------\n",
      "Test Error: \n",
      " metric: 0.8541861772537231, Avg test loss: 935549664.0 , loss = 42703976.0 \n",
      "\n",
      "Epoch 871\n",
      "-------------------------------------\n"
     ]
    },
    {
     "name": "stderr",
     "output_type": "stream",
     "text": [
      " 58%|█████▊    | 872/1500 [02:22<01:41,  6.18it/s]"
     ]
    },
    {
     "name": "stdout",
     "output_type": "stream",
     "text": [
      "Test Error: \n",
      " metric: 0.8076431751251221, Avg test loss: 1211324042.6666667 , loss = 761857024.0 \n",
      "\n",
      "Epoch 872\n",
      "-------------------------------------\n",
      "Test Error: \n",
      " metric: 0.8360989689826965, Avg test loss: 1070889253.3333334 , loss = 324170784.0 \n",
      "\n",
      "Epoch 873\n",
      "-------------------------------------\n"
     ]
    },
    {
     "name": "stderr",
     "output_type": "stream",
     "text": [
      " 58%|█████▊    | 874/1500 [02:23<01:42,  6.10it/s]"
     ]
    },
    {
     "name": "stdout",
     "output_type": "stream",
     "text": [
      "Test Error: \n",
      " metric: 0.8270171880722046, Avg test loss: 1084149290.6666667 , loss = 325994368.0 \n",
      "\n",
      "Epoch 874\n",
      "-------------------------------------\n",
      "Test Error: \n",
      " metric: 0.8205294013023376, Avg test loss: 1282053258.6666667 , loss = 88627360.0 \n",
      "\n",
      "Epoch 875\n",
      "-------------------------------------\n"
     ]
    },
    {
     "name": "stderr",
     "output_type": "stream",
     "text": [
      " 58%|█████▊    | 876/1500 [02:23<01:41,  6.17it/s]"
     ]
    },
    {
     "name": "stdout",
     "output_type": "stream",
     "text": [
      "Test Error: \n",
      " metric: 0.7970789670944214, Avg test loss: 1031056853.3333334 , loss = 17650408.0 \n",
      "\n",
      "Epoch 876\n",
      "-------------------------------------\n",
      "Test Error: \n",
      " metric: 0.8154266476631165, Avg test loss: 1071156181.3333334 , loss = 105754624.0 \n",
      "\n",
      "Epoch 877\n",
      "-------------------------------------\n"
     ]
    },
    {
     "name": "stderr",
     "output_type": "stream",
     "text": [
      " 59%|█████▊    | 878/1500 [02:23<01:40,  6.18it/s]"
     ]
    },
    {
     "name": "stdout",
     "output_type": "stream",
     "text": [
      "Test Error: \n",
      " metric: 0.7734746932983398, Avg test loss: 1207749600.0 , loss = 96429552.0 \n",
      "\n",
      "Epoch 878\n",
      "-------------------------------------\n",
      "Test Error: \n",
      " metric: 0.7850931286811829, Avg test loss: 1214837045.3333333 , loss = 492995200.0 \n",
      "\n",
      "Epoch 879\n",
      "-------------------------------------\n"
     ]
    },
    {
     "name": "stderr",
     "output_type": "stream",
     "text": [
      " 59%|█████▊    | 880/1500 [02:24<01:41,  6.14it/s]"
     ]
    },
    {
     "name": "stdout",
     "output_type": "stream",
     "text": [
      "Test Error: \n",
      " metric: 0.8082484602928162, Avg test loss: 974896842.6666666 , loss = 2114055808.0 \n",
      "\n",
      "Epoch 880\n",
      "-------------------------------------\n",
      "Test Error: \n",
      " metric: 0.7983583211898804, Avg test loss: 1007352693.3333334 , loss = 660026176.0 \n",
      "\n",
      "Epoch 881\n",
      "-------------------------------------\n"
     ]
    },
    {
     "name": "stderr",
     "output_type": "stream",
     "text": [
      " 59%|█████▉    | 882/1500 [02:24<01:39,  6.20it/s]"
     ]
    },
    {
     "name": "stdout",
     "output_type": "stream",
     "text": [
      "Test Error: \n",
      " metric: 0.7664617896080017, Avg test loss: 1203789397.3333333 , loss = 114873536.0 \n",
      "\n",
      "Epoch 882\n",
      "-------------------------------------\n",
      "Test Error: \n",
      " metric: 0.810147225856781, Avg test loss: 1328741077.3333333 , loss = 453280288.0 \n",
      "\n",
      "Epoch 883\n",
      "-------------------------------------\n"
     ]
    },
    {
     "name": "stderr",
     "output_type": "stream",
     "text": [
      " 59%|█████▉    | 884/1500 [02:24<01:38,  6.24it/s]"
     ]
    },
    {
     "name": "stdout",
     "output_type": "stream",
     "text": [
      "Test Error: \n",
      " metric: 0.826696515083313, Avg test loss: 1115477717.3333333 , loss = 80438696.0 \n",
      "\n",
      "Epoch 884\n",
      "-------------------------------------\n",
      "Test Error: \n",
      " metric: 0.8165254592895508, Avg test loss: 1090150549.3333333 , loss = 284060288.0 \n",
      "\n",
      "Epoch 885\n",
      "-------------------------------------\n"
     ]
    },
    {
     "name": "stderr",
     "output_type": "stream",
     "text": [
      " 59%|█████▉    | 886/1500 [02:24<01:38,  6.21it/s]"
     ]
    },
    {
     "name": "stdout",
     "output_type": "stream",
     "text": [
      "Test Error: \n",
      " metric: 0.7984501123428345, Avg test loss: 1186523840.0 , loss = 241447472.0 \n",
      "\n",
      "Epoch 886\n",
      "-------------------------------------\n",
      "Test Error: \n",
      " metric: 0.734135627746582, Avg test loss: 1258147040.0 , loss = 261140880.0 \n",
      "\n",
      "Epoch 887\n",
      "-------------------------------------\n"
     ]
    },
    {
     "name": "stderr",
     "output_type": "stream",
     "text": [
      " 59%|█████▉    | 888/1500 [02:25<01:38,  6.23it/s]"
     ]
    },
    {
     "name": "stdout",
     "output_type": "stream",
     "text": [
      "Test Error: \n",
      " metric: 0.8261504173278809, Avg test loss: 992523762.6666666 , loss = 49134312.0 \n",
      "\n",
      "Epoch 888\n",
      "-------------------------------------\n",
      "Test Error: \n",
      " metric: 0.80372554063797, Avg test loss: 1308109744.0 , loss = 435211808.0 \n",
      "\n",
      "Epoch 889\n",
      "-------------------------------------\n"
     ]
    },
    {
     "name": "stderr",
     "output_type": "stream",
     "text": [
      " 59%|█████▉    | 890/1500 [02:25<01:37,  6.23it/s]"
     ]
    },
    {
     "name": "stdout",
     "output_type": "stream",
     "text": [
      "Test Error: \n",
      " metric: 0.8184465169906616, Avg test loss: 1045947520.0 , loss = 695867264.0 \n",
      "\n",
      "Epoch 890\n",
      "-------------------------------------\n",
      "Test Error: \n",
      " metric: 0.8016146421432495, Avg test loss: 1465680672.0 , loss = 136781920.0 \n",
      "\n",
      "Epoch 891\n",
      "-------------------------------------\n"
     ]
    },
    {
     "name": "stderr",
     "output_type": "stream",
     "text": [
      " 59%|█████▉    | 892/1500 [02:25<01:41,  5.99it/s]"
     ]
    },
    {
     "name": "stdout",
     "output_type": "stream",
     "text": [
      "Test Error: \n",
      " metric: 0.7965077757835388, Avg test loss: 1109324789.3333333 , loss = 37111048.0 \n",
      "\n",
      "Epoch 892\n",
      "-------------------------------------\n",
      "Test Error: \n",
      " metric: 0.8125994205474854, Avg test loss: 1112061621.3333333 , loss = 235375280.0 \n",
      "\n",
      "Epoch 893\n",
      "-------------------------------------\n"
     ]
    },
    {
     "name": "stderr",
     "output_type": "stream",
     "text": [
      " 60%|█████▉    | 894/1500 [02:26<01:41,  5.99it/s]"
     ]
    },
    {
     "name": "stdout",
     "output_type": "stream",
     "text": [
      "Test Error: \n",
      " metric: 0.8224304914474487, Avg test loss: 1088154506.6666667 , loss = 57951236.0 \n",
      "\n",
      "Epoch 894\n",
      "-------------------------------------\n",
      "Test Error: \n",
      " metric: 0.8512855768203735, Avg test loss: 990812010.6666666 , loss = 102390008.0 \n",
      "\n",
      "Epoch 895\n",
      "-------------------------------------\n"
     ]
    },
    {
     "name": "stderr",
     "output_type": "stream",
     "text": [
      " 60%|█████▉    | 896/1500 [02:26<01:41,  5.93it/s]"
     ]
    },
    {
     "name": "stdout",
     "output_type": "stream",
     "text": [
      "Test Error: \n",
      " metric: 0.8061404228210449, Avg test loss: 1405690005.3333333 , loss = 209118800.0 \n",
      "\n",
      "Epoch 896\n",
      "-------------------------------------\n",
      "Test Error: \n",
      " metric: 0.8116703629493713, Avg test loss: 1030076469.3333334 , loss = 362213952.0 \n",
      "\n",
      "Epoch 897\n",
      "-------------------------------------\n"
     ]
    },
    {
     "name": "stderr",
     "output_type": "stream",
     "text": [
      " 60%|█████▉    | 898/1500 [02:26<01:39,  6.04it/s]"
     ]
    },
    {
     "name": "stdout",
     "output_type": "stream",
     "text": [
      "Test Error: \n",
      " metric: 0.8027843236923218, Avg test loss: 1025757930.6666666 , loss = 340709312.0 \n",
      "\n",
      "Epoch 898\n",
      "-------------------------------------\n",
      "Test Error: \n",
      " metric: 0.7488713264465332, Avg test loss: 1211495424.0 , loss = 289939488.0 \n",
      "\n",
      "Epoch 899\n",
      "-------------------------------------\n"
     ]
    },
    {
     "name": "stderr",
     "output_type": "stream",
     "text": [
      " 60%|██████    | 900/1500 [02:27<01:41,  5.94it/s]"
     ]
    },
    {
     "name": "stdout",
     "output_type": "stream",
     "text": [
      "Test Error: \n",
      " metric: 0.7738035917282104, Avg test loss: 1141653941.3333333 , loss = 330762496.0 \n",
      "\n",
      "Epoch 900\n",
      "-------------------------------------\n",
      "Test Error: \n",
      " metric: 0.8014886975288391, Avg test loss: 1192263290.6666667 , loss = 67826880.0 \n",
      "\n",
      "Epoch 901\n",
      "-------------------------------------\n"
     ]
    },
    {
     "name": "stderr",
     "output_type": "stream",
     "text": [
      " 60%|██████    | 902/1500 [02:27<01:42,  5.81it/s]"
     ]
    },
    {
     "name": "stdout",
     "output_type": "stream",
     "text": [
      "Test Error: \n",
      " metric: 0.8034062385559082, Avg test loss: 1231486282.6666667 , loss = 121392688.0 \n",
      "\n",
      "Epoch 902\n",
      "-------------------------------------\n",
      "Test Error: \n",
      " metric: 0.8365249037742615, Avg test loss: 1001193514.6666666 , loss = 128687480.0 \n",
      "\n",
      "Epoch 903\n",
      "-------------------------------------\n"
     ]
    },
    {
     "name": "stderr",
     "output_type": "stream",
     "text": [
      " 60%|██████    | 904/1500 [02:27<01:41,  5.84it/s]"
     ]
    },
    {
     "name": "stdout",
     "output_type": "stream",
     "text": [
      "Test Error: \n",
      " metric: 0.8145074844360352, Avg test loss: 1336627584.0 , loss = 150711808.0 \n",
      "\n",
      "Epoch 904\n",
      "-------------------------------------\n",
      "Test Error: \n",
      " metric: 0.8220036625862122, Avg test loss: 1068618325.3333334 , loss = 230544448.0 \n",
      "\n",
      "Epoch 905\n",
      "-------------------------------------\n"
     ]
    },
    {
     "name": "stderr",
     "output_type": "stream",
     "text": [
      " 60%|██████    | 906/1500 [02:28<01:40,  5.91it/s]"
     ]
    },
    {
     "name": "stdout",
     "output_type": "stream",
     "text": [
      "Test Error: \n",
      " metric: 0.8400511741638184, Avg test loss: 981533120.0 , loss = 210155808.0 \n",
      "\n",
      "Epoch 906\n",
      "-------------------------------------\n",
      "Test Error: \n",
      " metric: 0.765450119972229, Avg test loss: 1872056448.0 , loss = 834086976.0 \n",
      "\n",
      "Epoch 907\n",
      "-------------------------------------\n"
     ]
    },
    {
     "name": "stderr",
     "output_type": "stream",
     "text": [
      " 61%|██████    | 908/1500 [02:28<01:41,  5.83it/s]"
     ]
    },
    {
     "name": "stdout",
     "output_type": "stream",
     "text": [
      "Test Error: \n",
      " metric: 0.8140931129455566, Avg test loss: 1264781888.0 , loss = 80186848.0 \n",
      "\n",
      "Epoch 908\n",
      "-------------------------------------\n",
      "Test Error: \n",
      " metric: 0.7978619337081909, Avg test loss: 1292655733.3333333 , loss = 242188928.0 \n",
      "\n",
      "Epoch 909\n",
      "-------------------------------------\n"
     ]
    },
    {
     "name": "stderr",
     "output_type": "stream",
     "text": [
      " 61%|██████    | 910/1500 [02:29<01:41,  5.81it/s]"
     ]
    },
    {
     "name": "stdout",
     "output_type": "stream",
     "text": [
      "Test Error: \n",
      " metric: 0.7754143476486206, Avg test loss: 1214914240.0 , loss = 426560128.0 \n",
      "\n",
      "Epoch 910\n",
      "-------------------------------------\n",
      "Test Error: \n",
      " metric: 0.8283767700195312, Avg test loss: 1067015509.3333334 , loss = 148028928.0 \n",
      "\n",
      "Epoch 911\n",
      "-------------------------------------\n"
     ]
    },
    {
     "name": "stderr",
     "output_type": "stream",
     "text": [
      " 61%|██████    | 912/1500 [02:29<01:40,  5.88it/s]"
     ]
    },
    {
     "name": "stdout",
     "output_type": "stream",
     "text": [
      "Test Error: \n",
      " metric: 0.8113352060317993, Avg test loss: 1093523381.3333333 , loss = 5133079.0 \n",
      "\n",
      "Epoch 912\n",
      "-------------------------------------\n",
      "Test Error: \n",
      " metric: 0.8035573959350586, Avg test loss: 980514400.0 , loss = 377759392.0 \n",
      "\n",
      "Epoch 913\n",
      "-------------------------------------\n"
     ]
    },
    {
     "name": "stderr",
     "output_type": "stream",
     "text": [
      " 61%|██████    | 914/1500 [02:29<01:40,  5.84it/s]"
     ]
    },
    {
     "name": "stdout",
     "output_type": "stream",
     "text": [
      "Test Error: \n",
      " metric: 0.8107761144638062, Avg test loss: 1162102058.6666667 , loss = 66527096.0 \n",
      "\n",
      "Epoch 914\n",
      "-------------------------------------\n",
      "Test Error: \n",
      " metric: 0.8296303749084473, Avg test loss: 1015785920.0 , loss = 348711744.0 \n",
      "\n",
      "Epoch 915\n",
      "-------------------------------------\n"
     ]
    },
    {
     "name": "stderr",
     "output_type": "stream",
     "text": [
      " 61%|██████    | 916/1500 [02:30<01:37,  5.99it/s]"
     ]
    },
    {
     "name": "stdout",
     "output_type": "stream",
     "text": [
      "Test Error: \n",
      " metric: 0.8200984597206116, Avg test loss: 1077489600.0 , loss = 65063368.0 \n",
      "\n",
      "Epoch 916\n",
      "-------------------------------------\n",
      "Test Error: \n",
      " metric: 0.7921310663223267, Avg test loss: 1274344997.3333333 , loss = 925123008.0 \n",
      "\n",
      "Epoch 917\n",
      "-------------------------------------\n"
     ]
    },
    {
     "name": "stderr",
     "output_type": "stream",
     "text": [
      " 61%|██████    | 918/1500 [02:30<01:36,  6.02it/s]"
     ]
    },
    {
     "name": "stdout",
     "output_type": "stream",
     "text": [
      "Test Error: \n",
      " metric: 0.8157016634941101, Avg test loss: 1094938901.3333333 , loss = 413572576.0 \n",
      "\n",
      "Epoch 918\n",
      "-------------------------------------\n",
      "Test Error: \n",
      " metric: 0.8161514401435852, Avg test loss: 1022685973.3333334 , loss = 156092864.0 \n",
      "\n",
      "Epoch 919\n",
      "-------------------------------------\n"
     ]
    },
    {
     "name": "stderr",
     "output_type": "stream",
     "text": [
      " 61%|██████▏   | 920/1500 [02:30<01:37,  5.97it/s]"
     ]
    },
    {
     "name": "stdout",
     "output_type": "stream",
     "text": [
      "Test Error: \n",
      " metric: 0.6710387468338013, Avg test loss: 1577947744.0 , loss = 145795072.0 \n",
      "\n",
      "Epoch 920\n",
      "-------------------------------------\n",
      "Test Error: \n",
      " metric: 0.832131564617157, Avg test loss: 1105179514.6666667 , loss = 45243560.0 \n",
      "\n",
      "Epoch 921\n",
      "-------------------------------------\n"
     ]
    },
    {
     "name": "stderr",
     "output_type": "stream",
     "text": [
      " 61%|██████▏   | 922/1500 [02:31<01:35,  6.08it/s]"
     ]
    },
    {
     "name": "stdout",
     "output_type": "stream",
     "text": [
      "Test Error: \n",
      " metric: 0.8194828629493713, Avg test loss: 1182657344.0 , loss = 132050848.0 \n",
      "\n",
      "Epoch 922\n",
      "-------------------------------------\n",
      "Test Error: \n",
      " metric: 0.8225806951522827, Avg test loss: 994094890.6666666 , loss = 63426384.0 \n",
      "\n",
      "Epoch 923\n",
      "-------------------------------------\n"
     ]
    },
    {
     "name": "stderr",
     "output_type": "stream",
     "text": [
      " 62%|██████▏   | 924/1500 [02:31<01:35,  6.03it/s]"
     ]
    },
    {
     "name": "stdout",
     "output_type": "stream",
     "text": [
      "Test Error: \n",
      " metric: 0.8123427629470825, Avg test loss: 1088826922.6666667 , loss = 32744052.0 \n",
      "\n",
      "Epoch 924\n",
      "-------------------------------------\n",
      "Test Error: \n",
      " metric: 0.7916752099990845, Avg test loss: 1141620522.6666667 , loss = 190353344.0 \n",
      "\n",
      "Epoch 925\n",
      "-------------------------------------\n"
     ]
    },
    {
     "name": "stderr",
     "output_type": "stream",
     "text": [
      " 62%|██████▏   | 926/1500 [02:31<01:36,  5.93it/s]"
     ]
    },
    {
     "name": "stdout",
     "output_type": "stream",
     "text": [
      "Test Error: \n",
      " metric: 0.8055515289306641, Avg test loss: 1110314389.3333333 , loss = 703879552.0 \n",
      "\n",
      "Epoch 926\n",
      "-------------------------------------\n",
      "Test Error: \n",
      " metric: 0.7967855930328369, Avg test loss: 1404683178.6666667 , loss = 39259332.0 \n",
      "\n",
      "Epoch 927\n",
      "-------------------------------------\n"
     ]
    },
    {
     "name": "stderr",
     "output_type": "stream",
     "text": [
      " 62%|██████▏   | 928/1500 [02:32<01:39,  5.78it/s]"
     ]
    },
    {
     "name": "stdout",
     "output_type": "stream",
     "text": [
      "Test Error: \n",
      " metric: 0.8341631889343262, Avg test loss: 984594144.0 , loss = 215843680.0 \n",
      "\n",
      "Epoch 928\n",
      "-------------------------------------\n",
      "Test Error: \n",
      " metric: 0.7969337701797485, Avg test loss: 1147281386.6666667 , loss = 923076416.0 \n",
      "\n",
      "Epoch 929\n",
      "-------------------------------------\n"
     ]
    },
    {
     "name": "stderr",
     "output_type": "stream",
     "text": [
      " 62%|██████▏   | 930/1500 [02:32<01:37,  5.82it/s]"
     ]
    },
    {
     "name": "stdout",
     "output_type": "stream",
     "text": [
      "Test Error: \n",
      " metric: 0.8107973337173462, Avg test loss: 1108614165.3333333 , loss = 443793248.0 \n",
      "\n",
      "Epoch 930\n",
      "-------------------------------------\n",
      "Test Error: \n",
      " metric: 0.8334103226661682, Avg test loss: 1066084890.6666666 , loss = 96455920.0 \n",
      "\n",
      "Epoch 931\n",
      "-------------------------------------\n"
     ]
    },
    {
     "name": "stderr",
     "output_type": "stream",
     "text": [
      " 62%|██████▏   | 932/1500 [02:32<01:35,  5.97it/s]"
     ]
    },
    {
     "name": "stdout",
     "output_type": "stream",
     "text": [
      "Test Error: \n",
      " metric: 0.8145865797996521, Avg test loss: 1020640032.0 , loss = 27591428.0 \n",
      "\n",
      "Epoch 932\n",
      "-------------------------------------\n",
      "Test Error: \n",
      " metric: 0.8172034025192261, Avg test loss: 1068041733.3333334 , loss = 826653312.0 \n",
      "\n",
      "Epoch 933\n",
      "-------------------------------------\n"
     ]
    },
    {
     "name": "stderr",
     "output_type": "stream",
     "text": [
      " 62%|██████▏   | 934/1500 [02:33<01:34,  6.00it/s]"
     ]
    },
    {
     "name": "stdout",
     "output_type": "stream",
     "text": [
      "Test Error: \n",
      " metric: 0.7889055609703064, Avg test loss: 1294424469.3333333 , loss = 498304416.0 \n",
      "\n",
      "Epoch 934\n",
      "-------------------------------------\n",
      "Test Error: \n",
      " metric: 0.8213756084442139, Avg test loss: 1119351200.0 , loss = 232541776.0 \n",
      "\n",
      "Epoch 935\n",
      "-------------------------------------\n"
     ]
    },
    {
     "name": "stderr",
     "output_type": "stream",
     "text": [
      " 62%|██████▏   | 936/1500 [02:33<01:33,  6.03it/s]"
     ]
    },
    {
     "name": "stdout",
     "output_type": "stream",
     "text": [
      "Test Error: \n",
      " metric: 0.8252261877059937, Avg test loss: 1258043989.3333333 , loss = 610194304.0 \n",
      "\n",
      "Epoch 936\n",
      "-------------------------------------\n",
      "Test Error: \n",
      " metric: 0.7985170483589172, Avg test loss: 1217515114.6666667 , loss = 158633040.0 \n",
      "\n",
      "Epoch 937\n",
      "-------------------------------------\n"
     ]
    },
    {
     "name": "stderr",
     "output_type": "stream",
     "text": [
      " 63%|██████▎   | 938/1500 [02:33<01:33,  6.00it/s]"
     ]
    },
    {
     "name": "stdout",
     "output_type": "stream",
     "text": [
      "Test Error: \n",
      " metric: 0.8182201385498047, Avg test loss: 1055098880.0 , loss = 145882272.0 \n",
      "\n",
      "Epoch 938\n",
      "-------------------------------------\n",
      "Test Error: \n",
      " metric: 0.819632351398468, Avg test loss: 1137541322.6666667 , loss = 361680416.0 \n",
      "\n",
      "Epoch 939\n",
      "-------------------------------------\n"
     ]
    },
    {
     "name": "stderr",
     "output_type": "stream",
     "text": [
      " 63%|██████▎   | 940/1500 [02:34<01:32,  6.03it/s]"
     ]
    },
    {
     "name": "stdout",
     "output_type": "stream",
     "text": [
      "Test Error: \n",
      " metric: 0.7235719561576843, Avg test loss: 1427842666.6666667 , loss = 232593136.0 \n",
      "\n",
      "Epoch 940\n",
      "-------------------------------------\n",
      "Test Error: \n",
      " metric: 0.8068387508392334, Avg test loss: 1161815744.0 , loss = 182247200.0 \n",
      "\n",
      "Epoch 941\n",
      "-------------------------------------\n"
     ]
    },
    {
     "name": "stderr",
     "output_type": "stream",
     "text": [
      " 63%|██████▎   | 942/1500 [02:34<01:34,  5.91it/s]"
     ]
    },
    {
     "name": "stdout",
     "output_type": "stream",
     "text": [
      "Test Error: \n",
      " metric: 0.8109257221221924, Avg test loss: 1223480266.6666667 , loss = 257790624.0 \n",
      "\n",
      "Epoch 942\n",
      "-------------------------------------\n",
      "Test Error: \n",
      " metric: 0.8000771999359131, Avg test loss: 1136966090.6666667 , loss = 130687408.0 \n",
      "\n",
      "Epoch 943\n",
      "-------------------------------------\n"
     ]
    },
    {
     "name": "stderr",
     "output_type": "stream",
     "text": [
      " 63%|██████▎   | 944/1500 [02:34<01:36,  5.77it/s]"
     ]
    },
    {
     "name": "stdout",
     "output_type": "stream",
     "text": [
      "Test Error: \n",
      " metric: 0.7926004528999329, Avg test loss: 1207796693.3333333 , loss = 263408400.0 \n",
      "\n",
      "Epoch 944\n",
      "-------------------------------------\n",
      "Test Error: \n",
      " metric: 0.8054986000061035, Avg test loss: 1148646496.0 , loss = 296517760.0 \n",
      "\n",
      "Epoch 945\n",
      "-------------------------------------\n"
     ]
    },
    {
     "name": "stderr",
     "output_type": "stream",
     "text": [
      " 63%|██████▎   | 946/1500 [02:35<01:35,  5.77it/s]"
     ]
    },
    {
     "name": "stdout",
     "output_type": "stream",
     "text": [
      "Test Error: \n",
      " metric: 0.7949204444885254, Avg test loss: 1076128885.3333333 , loss = 94231792.0 \n",
      "\n",
      "Epoch 946\n",
      "-------------------------------------\n",
      "Test Error: \n",
      " metric: 0.8016393780708313, Avg test loss: 1124342506.6666667 , loss = 323993600.0 \n",
      "\n",
      "Epoch 947\n",
      "-------------------------------------\n"
     ]
    },
    {
     "name": "stderr",
     "output_type": "stream",
     "text": [
      " 63%|██████▎   | 948/1500 [02:35<01:34,  5.84it/s]"
     ]
    },
    {
     "name": "stdout",
     "output_type": "stream",
     "text": [
      "Test Error: \n",
      " metric: 0.7963289022445679, Avg test loss: 1195871146.6666667 , loss = 61068012.0 \n",
      "\n",
      "Epoch 948\n",
      "-------------------------------------\n",
      "Test Error: \n",
      " metric: 0.8005012273788452, Avg test loss: 1320456405.3333333 , loss = 100119592.0 \n",
      "\n",
      "Epoch 949\n",
      "-------------------------------------\n"
     ]
    },
    {
     "name": "stderr",
     "output_type": "stream",
     "text": [
      " 63%|██████▎   | 950/1500 [02:35<01:32,  5.96it/s]"
     ]
    },
    {
     "name": "stdout",
     "output_type": "stream",
     "text": [
      "Test Error: \n",
      " metric: 0.8271690607070923, Avg test loss: 1107920938.6666667 , loss = 263362592.0 \n",
      "\n",
      "Epoch 950\n",
      "-------------------------------------\n",
      "Test Error: \n",
      " metric: 0.7677043676376343, Avg test loss: 1234652064.0 , loss = 371028800.0 \n",
      "\n",
      "Epoch 951\n",
      "-------------------------------------\n"
     ]
    },
    {
     "name": "stderr",
     "output_type": "stream",
     "text": [
      " 63%|██████▎   | 952/1500 [02:36<01:31,  5.97it/s]"
     ]
    },
    {
     "name": "stdout",
     "output_type": "stream",
     "text": [
      "Test Error: \n",
      " metric: 0.8210007548332214, Avg test loss: 1018619834.6666666 , loss = 522586656.0 \n",
      "\n",
      "Epoch 952\n",
      "-------------------------------------\n",
      "Test Error: \n",
      " metric: 0.8273657560348511, Avg test loss: 1316227754.6666667 , loss = 172986784.0 \n",
      "\n",
      "Epoch 953\n",
      "-------------------------------------\n"
     ]
    },
    {
     "name": "stderr",
     "output_type": "stream",
     "text": [
      " 64%|██████▎   | 954/1500 [02:36<01:31,  5.95it/s]"
     ]
    },
    {
     "name": "stdout",
     "output_type": "stream",
     "text": [
      "Test Error: \n",
      " metric: 0.818091869354248, Avg test loss: 1139627786.6666667 , loss = 133606456.0 \n",
      "\n",
      "Epoch 954\n",
      "-------------------------------------\n",
      "Test Error: \n",
      " metric: 0.7824424505233765, Avg test loss: 1544029461.3333333 , loss = 377467648.0 \n",
      "\n",
      "Epoch 955\n",
      "-------------------------------------\n"
     ]
    },
    {
     "name": "stderr",
     "output_type": "stream",
     "text": [
      " 64%|██████▎   | 956/1500 [02:36<01:30,  6.02it/s]"
     ]
    },
    {
     "name": "stdout",
     "output_type": "stream",
     "text": [
      "Test Error: \n",
      " metric: 0.7687411308288574, Avg test loss: 1325407136.0 , loss = 172095536.0 \n",
      "\n",
      "Epoch 956\n",
      "-------------------------------------\n",
      "Test Error: \n",
      " metric: 0.8180184364318848, Avg test loss: 1211174570.6666667 , loss = 252508752.0 \n",
      "\n",
      "Epoch 957\n",
      "-------------------------------------\n"
     ]
    },
    {
     "name": "stderr",
     "output_type": "stream",
     "text": [
      " 64%|██████▍   | 958/1500 [02:37<01:31,  5.90it/s]"
     ]
    },
    {
     "name": "stdout",
     "output_type": "stream",
     "text": [
      "Test Error: \n",
      " metric: 0.8205162286758423, Avg test loss: 1191171210.6666667 , loss = 188228896.0 \n",
      "\n",
      "Epoch 958\n",
      "-------------------------------------\n",
      "Test Error: \n",
      " metric: 0.8306491374969482, Avg test loss: 1123262826.6666667 , loss = 139807776.0 \n",
      "\n",
      "Epoch 959\n",
      "-------------------------------------\n"
     ]
    },
    {
     "name": "stderr",
     "output_type": "stream",
     "text": [
      " 64%|██████▍   | 960/1500 [02:37<01:30,  5.94it/s]"
     ]
    },
    {
     "name": "stdout",
     "output_type": "stream",
     "text": [
      "Test Error: \n",
      " metric: 0.7918224334716797, Avg test loss: 1300152864.0 , loss = 505441120.0 \n",
      "\n",
      "Epoch 960\n",
      "-------------------------------------\n",
      "Test Error: \n",
      " metric: 0.8033595085144043, Avg test loss: 1582647210.6666667 , loss = 44861096.0 \n",
      "\n",
      "Epoch 961\n",
      "-------------------------------------\n"
     ]
    },
    {
     "name": "stderr",
     "output_type": "stream",
     "text": [
      " 64%|██████▍   | 962/1500 [02:37<01:30,  5.94it/s]"
     ]
    },
    {
     "name": "stdout",
     "output_type": "stream",
     "text": [
      "Test Error: \n",
      " metric: 0.7764948010444641, Avg test loss: 1162933194.6666667 , loss = 100995280.0 \n",
      "\n",
      "Epoch 962\n",
      "-------------------------------------\n",
      "Test Error: \n",
      " metric: 0.8071682453155518, Avg test loss: 1165214581.3333333 , loss = 252673872.0 \n",
      "\n",
      "Epoch 963\n",
      "-------------------------------------\n"
     ]
    },
    {
     "name": "stderr",
     "output_type": "stream",
     "text": [
      " 64%|██████▍   | 964/1500 [02:38<01:30,  5.90it/s]"
     ]
    },
    {
     "name": "stdout",
     "output_type": "stream",
     "text": [
      "Test Error: \n",
      " metric: 0.8204680681228638, Avg test loss: 1111354709.3333333 , loss = 190456976.0 \n",
      "\n",
      "Epoch 964\n",
      "-------------------------------------\n",
      "Test Error: \n",
      " metric: 0.8222097158432007, Avg test loss: 1305058528.0 , loss = 53144364.0 \n",
      "\n",
      "Epoch 965\n",
      "-------------------------------------\n"
     ]
    },
    {
     "name": "stderr",
     "output_type": "stream",
     "text": [
      " 64%|██████▍   | 966/1500 [02:38<01:29,  5.98it/s]"
     ]
    },
    {
     "name": "stdout",
     "output_type": "stream",
     "text": [
      "Test Error: \n",
      " metric: 0.8088062405586243, Avg test loss: 1192529557.3333333 , loss = 8992197.0 \n",
      "\n",
      "Epoch 966\n",
      "-------------------------------------\n",
      "Test Error: \n",
      " metric: 0.8219178915023804, Avg test loss: 1212492938.6666667 , loss = 96270976.0 \n",
      "\n",
      "Epoch 967\n",
      "-------------------------------------\n"
     ]
    },
    {
     "name": "stderr",
     "output_type": "stream",
     "text": [
      " 65%|██████▍   | 968/1500 [02:38<01:29,  5.96it/s]"
     ]
    },
    {
     "name": "stdout",
     "output_type": "stream",
     "text": [
      "Test Error: \n",
      " metric: 0.6686394214630127, Avg test loss: 1514462784.0 , loss = 231252928.0 \n",
      "\n",
      "Epoch 968\n",
      "-------------------------------------\n",
      "Test Error: \n",
      " metric: 0.8162168860435486, Avg test loss: 1367958986.6666667 , loss = 114991168.0 \n",
      "\n",
      "Epoch 969\n",
      "-------------------------------------\n"
     ]
    },
    {
     "name": "stderr",
     "output_type": "stream",
     "text": [
      " 65%|██████▍   | 970/1500 [02:39<01:30,  5.83it/s]"
     ]
    },
    {
     "name": "stdout",
     "output_type": "stream",
     "text": [
      "Test Error: \n",
      " metric: 0.8110558986663818, Avg test loss: 1161072544.0 , loss = 391644032.0 \n",
      "\n",
      "Epoch 970\n",
      "-------------------------------------\n",
      "Test Error: \n",
      " metric: 0.7867256999015808, Avg test loss: 1151533877.3333333 , loss = 64093460.0 \n",
      "\n",
      "Epoch 971\n",
      "-------------------------------------\n"
     ]
    },
    {
     "name": "stderr",
     "output_type": "stream",
     "text": [
      " 65%|██████▍   | 972/1500 [02:39<01:30,  5.84it/s]"
     ]
    },
    {
     "name": "stdout",
     "output_type": "stream",
     "text": [
      "Test Error: \n",
      " metric: 0.8085736036300659, Avg test loss: 1101315072.0 , loss = 154372576.0 \n",
      "\n",
      "Epoch 972\n",
      "-------------------------------------\n",
      "Test Error: \n",
      " metric: 0.8115156888961792, Avg test loss: 1084429984.0 , loss = 126933056.0 \n",
      "\n",
      "Epoch 973\n",
      "-------------------------------------\n"
     ]
    },
    {
     "name": "stderr",
     "output_type": "stream",
     "text": [
      " 65%|██████▍   | 974/1500 [02:39<01:30,  5.80it/s]"
     ]
    },
    {
     "name": "stdout",
     "output_type": "stream",
     "text": [
      "Test Error: \n",
      " metric: 0.8041748404502869, Avg test loss: 1100442976.0 , loss = 85935824.0 \n",
      "\n",
      "Epoch 974\n",
      "-------------------------------------\n",
      "Test Error: \n",
      " metric: 0.7762085795402527, Avg test loss: 1236471605.3333333 , loss = 158871072.0 \n",
      "\n",
      "Epoch 975\n",
      "-------------------------------------\n"
     ]
    },
    {
     "name": "stderr",
     "output_type": "stream",
     "text": [
      " 65%|██████▌   | 976/1500 [02:40<01:30,  5.76it/s]"
     ]
    },
    {
     "name": "stdout",
     "output_type": "stream",
     "text": [
      "Test Error: \n",
      " metric: 0.7999801635742188, Avg test loss: 1114310933.3333333 , loss = 103241528.0 \n",
      "\n",
      "Epoch 976\n",
      "-------------------------------------\n",
      "Test Error: \n",
      " metric: 0.7316697835922241, Avg test loss: 1362273962.6666667 , loss = 216513104.0 \n",
      "\n",
      "Epoch 977\n",
      "-------------------------------------\n"
     ]
    },
    {
     "name": "stderr",
     "output_type": "stream",
     "text": [
      " 65%|██████▌   | 978/1500 [02:40<01:29,  5.84it/s]"
     ]
    },
    {
     "name": "stdout",
     "output_type": "stream",
     "text": [
      "Test Error: \n",
      " metric: 0.7705346345901489, Avg test loss: 1485222826.6666667 , loss = 555357760.0 \n",
      "\n",
      "Epoch 978\n",
      "-------------------------------------\n",
      "Test Error: \n",
      " metric: 0.7550577521324158, Avg test loss: 1279813792.0 , loss = 118443960.0 \n",
      "\n",
      "Epoch 979\n",
      "-------------------------------------\n"
     ]
    },
    {
     "name": "stderr",
     "output_type": "stream",
     "text": [
      " 65%|██████▌   | 980/1500 [02:40<01:28,  5.90it/s]"
     ]
    },
    {
     "name": "stdout",
     "output_type": "stream",
     "text": [
      "Test Error: \n",
      " metric: 0.7963846325874329, Avg test loss: 1076845450.6666667 , loss = 138803776.0 \n",
      "\n",
      "Epoch 980\n",
      "-------------------------------------\n",
      "Test Error: \n",
      " metric: 0.8110042810440063, Avg test loss: 1312877418.6666667 , loss = 259564480.0 \n",
      "\n",
      "Epoch 981\n",
      "-------------------------------------\n"
     ]
    },
    {
     "name": "stderr",
     "output_type": "stream",
     "text": [
      " 65%|██████▌   | 982/1500 [02:41<01:27,  5.94it/s]"
     ]
    },
    {
     "name": "stdout",
     "output_type": "stream",
     "text": [
      "Test Error: \n",
      " metric: 0.77645343542099, Avg test loss: 1159564544.0 , loss = 208198768.0 \n",
      "\n",
      "Epoch 982\n",
      "-------------------------------------\n",
      "Test Error: \n",
      " metric: 0.8183411359786987, Avg test loss: 1038927680.0 , loss = 134429600.0 \n",
      "\n",
      "Epoch 983\n",
      "-------------------------------------\n"
     ]
    },
    {
     "name": "stderr",
     "output_type": "stream",
     "text": [
      " 66%|██████▌   | 984/1500 [02:41<01:24,  6.09it/s]"
     ]
    },
    {
     "name": "stdout",
     "output_type": "stream",
     "text": [
      "Test Error: \n",
      " metric: 0.6604785323143005, Avg test loss: 1678602496.0 , loss = 610377728.0 \n",
      "\n",
      "Epoch 984\n",
      "-------------------------------------\n",
      "Test Error: \n",
      " metric: 0.8063856959342957, Avg test loss: 1069824256.0 , loss = 4938540.5 \n",
      "\n",
      "Epoch 985\n",
      "-------------------------------------\n"
     ]
    },
    {
     "name": "stderr",
     "output_type": "stream",
     "text": [
      " 66%|██████▌   | 986/1500 [02:41<01:25,  6.04it/s]"
     ]
    },
    {
     "name": "stdout",
     "output_type": "stream",
     "text": [
      "Test Error: \n",
      " metric: 0.8188501000404358, Avg test loss: 1099900586.6666667 , loss = 535273344.0 \n",
      "\n",
      "Epoch 986\n",
      "-------------------------------------\n",
      "Test Error: \n",
      " metric: 0.7909960746765137, Avg test loss: 1130130965.3333333 , loss = 304067104.0 \n",
      "\n",
      "Epoch 987\n",
      "-------------------------------------\n"
     ]
    },
    {
     "name": "stderr",
     "output_type": "stream",
     "text": [
      " 66%|██████▌   | 988/1500 [02:42<01:25,  6.00it/s]"
     ]
    },
    {
     "name": "stdout",
     "output_type": "stream",
     "text": [
      "Test Error: \n",
      " metric: 0.8052698969841003, Avg test loss: 1226791018.6666667 , loss = 41940184.0 \n",
      "\n",
      "Epoch 988\n",
      "-------------------------------------\n",
      "Test Error: \n",
      " metric: 0.8200134038925171, Avg test loss: 1160847680.0 , loss = 128716304.0 \n",
      "\n",
      "Epoch 989\n",
      "-------------------------------------\n"
     ]
    },
    {
     "name": "stderr",
     "output_type": "stream",
     "text": [
      " 66%|██████▌   | 990/1500 [02:42<01:24,  6.01it/s]"
     ]
    },
    {
     "name": "stdout",
     "output_type": "stream",
     "text": [
      "Test Error: \n",
      " metric: 0.776466965675354, Avg test loss: 1277701888.0 , loss = 96164768.0 \n",
      "\n",
      "Epoch 990\n",
      "-------------------------------------\n",
      "Test Error: \n",
      " metric: 0.8309513330459595, Avg test loss: 1189345664.0 , loss = 449621056.0 \n",
      "\n",
      "Epoch 991\n",
      "-------------------------------------\n"
     ]
    },
    {
     "name": "stderr",
     "output_type": "stream",
     "text": [
      " 66%|██████▌   | 992/1500 [02:42<01:24,  6.03it/s]"
     ]
    },
    {
     "name": "stdout",
     "output_type": "stream",
     "text": [
      "Test Error: \n",
      " metric: 0.8203637599945068, Avg test loss: 1200418698.6666667 , loss = 182418176.0 \n",
      "\n",
      "Epoch 992\n",
      "-------------------------------------\n",
      "Test Error: \n",
      " metric: 0.8251082897186279, Avg test loss: 1064533541.3333334 , loss = 156565664.0 \n",
      "\n",
      "Epoch 993\n",
      "-------------------------------------\n"
     ]
    },
    {
     "name": "stderr",
     "output_type": "stream",
     "text": [
      " 66%|██████▋   | 994/1500 [02:43<01:23,  6.07it/s]"
     ]
    },
    {
     "name": "stdout",
     "output_type": "stream",
     "text": [
      "Test Error: \n",
      " metric: 0.808495044708252, Avg test loss: 1173912885.3333333 , loss = 182797120.0 \n",
      "\n",
      "Epoch 994\n",
      "-------------------------------------\n",
      "Test Error: \n",
      " metric: 0.7686119079589844, Avg test loss: 1273478762.6666667 , loss = 91676648.0 \n",
      "\n",
      "Epoch 995\n",
      "-------------------------------------\n"
     ]
    },
    {
     "name": "stderr",
     "output_type": "stream",
     "text": [
      " 66%|██████▋   | 996/1500 [02:43<01:22,  6.10it/s]"
     ]
    },
    {
     "name": "stdout",
     "output_type": "stream",
     "text": [
      "Test Error: \n",
      " metric: 0.77623051404953, Avg test loss: 1750939925.3333333 , loss = 419105440.0 \n",
      "\n",
      "Epoch 996\n",
      "-------------------------------------\n",
      "Test Error: \n",
      " metric: 0.806098461151123, Avg test loss: 1168139445.3333333 , loss = 152408320.0 \n",
      "\n",
      "Epoch 997\n",
      "-------------------------------------\n"
     ]
    },
    {
     "name": "stderr",
     "output_type": "stream",
     "text": [
      " 67%|██████▋   | 998/1500 [02:43<01:21,  6.13it/s]"
     ]
    },
    {
     "name": "stdout",
     "output_type": "stream",
     "text": [
      "Test Error: \n",
      " metric: 0.8207232356071472, Avg test loss: 1101980218.6666667 , loss = 127648832.0 \n",
      "\n",
      "Epoch 998\n",
      "-------------------------------------\n",
      "Test Error: \n",
      " metric: 0.7895090579986572, Avg test loss: 1119657706.6666667 , loss = 198620512.0 \n",
      "\n",
      "Epoch 999\n",
      "-------------------------------------\n"
     ]
    },
    {
     "name": "stderr",
     "output_type": "stream",
     "text": [
      " 67%|██████▋   | 1000/1500 [02:44<01:23,  6.01it/s]"
     ]
    },
    {
     "name": "stdout",
     "output_type": "stream",
     "text": [
      "Test Error: \n",
      " metric: 0.797187328338623, Avg test loss: 1205323600.0 , loss = 250415184.0 \n",
      "\n",
      "Epoch 1000\n",
      "-------------------------------------\n",
      "Test Error: \n",
      " metric: 0.8164571523666382, Avg test loss: 1091178602.6666667 , loss = 58208952.0 \n",
      "\n",
      "Epoch 1001\n",
      "-------------------------------------\n"
     ]
    },
    {
     "name": "stderr",
     "output_type": "stream",
     "text": [
      " 67%|██████▋   | 1002/1500 [02:44<01:22,  6.07it/s]"
     ]
    },
    {
     "name": "stdout",
     "output_type": "stream",
     "text": [
      "Test Error: \n",
      " metric: 0.6954759359359741, Avg test loss: 1528023541.3333333 , loss = 270092128.0 \n",
      "\n",
      "Epoch 1002\n",
      "-------------------------------------\n",
      "Test Error: \n",
      " metric: 0.8194747567176819, Avg test loss: 1086226954.6666667 , loss = 272073696.0 \n",
      "\n",
      "Epoch 1003\n",
      "-------------------------------------\n"
     ]
    },
    {
     "name": "stderr",
     "output_type": "stream",
     "text": [
      " 67%|██████▋   | 1004/1500 [02:44<01:23,  5.94it/s]"
     ]
    },
    {
     "name": "stdout",
     "output_type": "stream",
     "text": [
      "Test Error: \n",
      " metric: 0.7634664177894592, Avg test loss: 1570166154.6666667 , loss = 724401152.0 \n",
      "\n",
      "Epoch 1004\n",
      "-------------------------------------\n",
      "Test Error: \n",
      " metric: 0.8149394989013672, Avg test loss: 1192249616.0 , loss = 631907072.0 \n",
      "\n",
      "Epoch 1005\n",
      "-------------------------------------\n"
     ]
    },
    {
     "name": "stderr",
     "output_type": "stream",
     "text": [
      " 67%|██████▋   | 1006/1500 [02:45<01:24,  5.87it/s]"
     ]
    },
    {
     "name": "stdout",
     "output_type": "stream",
     "text": [
      "Test Error: \n",
      " metric: 0.8057780861854553, Avg test loss: 1309867616.0 , loss = 921379008.0 \n",
      "\n",
      "Epoch 1006\n",
      "-------------------------------------\n",
      "Test Error: \n",
      " metric: 0.7971243262290955, Avg test loss: 1094832213.3333333 , loss = 881472640.0 \n",
      "\n",
      "Epoch 1007\n",
      "-------------------------------------\n"
     ]
    },
    {
     "name": "stderr",
     "output_type": "stream",
     "text": [
      " 67%|██████▋   | 1008/1500 [02:45<01:23,  5.87it/s]"
     ]
    },
    {
     "name": "stdout",
     "output_type": "stream",
     "text": [
      "Test Error: \n",
      " metric: 0.8280141949653625, Avg test loss: 1003716426.6666666 , loss = 550700608.0 \n",
      "\n",
      "Epoch 1008\n",
      "-------------------------------------\n",
      "Test Error: \n",
      " metric: 0.7855326533317566, Avg test loss: 1326827157.3333333 , loss = 183950912.0 \n",
      "\n",
      "Epoch 1009\n",
      "-------------------------------------\n"
     ]
    },
    {
     "name": "stderr",
     "output_type": "stream",
     "text": [
      " 67%|██████▋   | 1010/1500 [02:45<01:22,  5.96it/s]"
     ]
    },
    {
     "name": "stdout",
     "output_type": "stream",
     "text": [
      "Test Error: \n",
      " metric: 0.8213495016098022, Avg test loss: 1007126074.6666666 , loss = 59714880.0 \n",
      "\n",
      "Epoch 1010\n",
      "-------------------------------------\n",
      "Test Error: \n",
      " metric: 0.8029351234436035, Avg test loss: 1199879402.6666667 , loss = 46308960.0 \n",
      "\n",
      "Epoch 1011\n",
      "-------------------------------------\n"
     ]
    },
    {
     "name": "stderr",
     "output_type": "stream",
     "text": [
      " 67%|██████▋   | 1012/1500 [02:46<01:21,  6.01it/s]"
     ]
    },
    {
     "name": "stdout",
     "output_type": "stream",
     "text": [
      "Test Error: \n",
      " metric: 0.8267834186553955, Avg test loss: 1119670005.3333333 , loss = 387426240.0 \n",
      "\n",
      "Epoch 1012\n",
      "-------------------------------------\n",
      "Test Error: \n",
      " metric: 0.7817188501358032, Avg test loss: 1155379370.6666667 , loss = 251922112.0 \n",
      "\n",
      "Epoch 1013\n",
      "-------------------------------------\n"
     ]
    },
    {
     "name": "stderr",
     "output_type": "stream",
     "text": [
      " 68%|██████▊   | 1014/1500 [02:46<01:21,  5.97it/s]"
     ]
    },
    {
     "name": "stdout",
     "output_type": "stream",
     "text": [
      "Test Error: \n",
      " metric: 0.8045074939727783, Avg test loss: 1028218288.0 , loss = 22359952.0 \n",
      "\n",
      "Epoch 1014\n",
      "-------------------------------------\n",
      "Test Error: \n",
      " metric: 0.8073654174804688, Avg test loss: 1077266826.6666667 , loss = 82675680.0 \n",
      "\n",
      "Epoch 1015\n",
      "-------------------------------------\n"
     ]
    },
    {
     "name": "stderr",
     "output_type": "stream",
     "text": [
      " 68%|██████▊   | 1016/1500 [02:46<01:21,  5.93it/s]"
     ]
    },
    {
     "name": "stdout",
     "output_type": "stream",
     "text": [
      "Test Error: \n",
      " metric: 0.81707763671875, Avg test loss: 1097745621.3333333 , loss = 159873200.0 \n",
      "\n",
      "Epoch 1016\n",
      "-------------------------------------\n",
      "Test Error: \n",
      " metric: 0.812512993812561, Avg test loss: 1340290560.0 , loss = 579032000.0 \n",
      "\n",
      "Epoch 1017\n",
      "-------------------------------------\n"
     ]
    },
    {
     "name": "stderr",
     "output_type": "stream",
     "text": [
      " 68%|██████▊   | 1018/1500 [02:47<01:20,  5.97it/s]"
     ]
    },
    {
     "name": "stdout",
     "output_type": "stream",
     "text": [
      "Test Error: \n",
      " metric: 0.7916064858436584, Avg test loss: 1203348826.6666667 , loss = 25693186.0 \n",
      "\n",
      "Epoch 1018\n",
      "-------------------------------------\n",
      "Test Error: \n",
      " metric: 0.8138226866722107, Avg test loss: 1226923157.3333333 , loss = 67814688.0 \n",
      "\n",
      "Epoch 1019\n",
      "-------------------------------------\n"
     ]
    },
    {
     "name": "stderr",
     "output_type": "stream",
     "text": [
      " 68%|██████▊   | 1020/1500 [02:47<01:19,  6.04it/s]"
     ]
    },
    {
     "name": "stdout",
     "output_type": "stream",
     "text": [
      "Test Error: \n",
      " metric: 0.8081142902374268, Avg test loss: 1073321280.0 , loss = 56078924.0 \n",
      "\n",
      "Epoch 1020\n",
      "-------------------------------------\n",
      "Test Error: \n",
      " metric: 0.8033630847930908, Avg test loss: 1310801290.6666667 , loss = 389827488.0 \n",
      "\n",
      "Epoch 1021\n",
      "-------------------------------------\n"
     ]
    },
    {
     "name": "stderr",
     "output_type": "stream",
     "text": [
      " 68%|██████▊   | 1022/1500 [02:47<01:17,  6.19it/s]"
     ]
    },
    {
     "name": "stdout",
     "output_type": "stream",
     "text": [
      "Test Error: \n",
      " metric: 0.7844250202178955, Avg test loss: 1205338208.0 , loss = 171885920.0 \n",
      "\n",
      "Epoch 1022\n",
      "-------------------------------------\n",
      "Test Error: \n",
      " metric: 0.817322313785553, Avg test loss: 1361835893.3333333 , loss = 165062848.0 \n",
      "\n",
      "Epoch 1023\n",
      "-------------------------------------\n"
     ]
    },
    {
     "name": "stderr",
     "output_type": "stream",
     "text": [
      " 68%|██████▊   | 1024/1500 [02:48<01:16,  6.25it/s]"
     ]
    },
    {
     "name": "stdout",
     "output_type": "stream",
     "text": [
      "Test Error: \n",
      " metric: 0.8219588994979858, Avg test loss: 1130637994.6666667 , loss = 181221616.0 \n",
      "\n",
      "Epoch 1024\n",
      "-------------------------------------\n",
      "Test Error: \n",
      " metric: 0.8258122205734253, Avg test loss: 1054681216.0 , loss = 321607488.0 \n",
      "\n",
      "Epoch 1025\n",
      "-------------------------------------\n"
     ]
    },
    {
     "name": "stderr",
     "output_type": "stream",
     "text": [
      " 68%|██████▊   | 1026/1500 [02:48<01:16,  6.21it/s]"
     ]
    },
    {
     "name": "stdout",
     "output_type": "stream",
     "text": [
      "Test Error: \n",
      " metric: 0.8157389163970947, Avg test loss: 1217346858.6666667 , loss = 81745008.0 \n",
      "\n",
      "Epoch 1026\n",
      "-------------------------------------\n",
      "Test Error: \n",
      " metric: 0.8232873678207397, Avg test loss: 1074711450.6666667 , loss = 89836480.0 \n",
      "\n",
      "Epoch 1027\n",
      "-------------------------------------\n"
     ]
    },
    {
     "name": "stderr",
     "output_type": "stream",
     "text": [
      " 69%|██████▊   | 1028/1500 [02:48<01:16,  6.14it/s]"
     ]
    },
    {
     "name": "stdout",
     "output_type": "stream",
     "text": [
      "Test Error: \n",
      " metric: 0.8075870871543884, Avg test loss: 1069755712.0 , loss = 114333576.0 \n",
      "\n",
      "Epoch 1028\n",
      "-------------------------------------\n",
      "Test Error: \n",
      " metric: 0.8064813613891602, Avg test loss: 1133532170.6666667 , loss = 118885848.0 \n",
      "\n",
      "Epoch 1029\n",
      "-------------------------------------\n"
     ]
    },
    {
     "name": "stderr",
     "output_type": "stream",
     "text": [
      " 69%|██████▊   | 1030/1500 [02:49<01:17,  6.07it/s]"
     ]
    },
    {
     "name": "stdout",
     "output_type": "stream",
     "text": [
      "Test Error: \n",
      " metric: 0.8156646490097046, Avg test loss: 1056945461.3333334 , loss = 142368304.0 \n",
      "\n",
      "Epoch 1030\n",
      "-------------------------------------\n",
      "Test Error: \n",
      " metric: 0.8005939722061157, Avg test loss: 1217043381.3333333 , loss = 184664736.0 \n",
      "\n",
      "Epoch 1031\n",
      "-------------------------------------\n"
     ]
    },
    {
     "name": "stderr",
     "output_type": "stream",
     "text": [
      " 69%|██████▉   | 1032/1500 [02:49<01:16,  6.10it/s]"
     ]
    },
    {
     "name": "stdout",
     "output_type": "stream",
     "text": [
      "Test Error: \n",
      " metric: 0.8119829893112183, Avg test loss: 1249392730.6666667 , loss = 786848768.0 \n",
      "\n",
      "Epoch 1032\n",
      "-------------------------------------\n",
      "Test Error: \n",
      " metric: 0.8088184595108032, Avg test loss: 1156394682.6666667 , loss = 371033984.0 \n",
      "\n",
      "Epoch 1033\n",
      "-------------------------------------\n"
     ]
    },
    {
     "name": "stderr",
     "output_type": "stream",
     "text": [
      " 69%|██████▉   | 1034/1500 [02:49<01:15,  6.16it/s]"
     ]
    },
    {
     "name": "stdout",
     "output_type": "stream",
     "text": [
      "Test Error: \n",
      " metric: 0.7834758758544922, Avg test loss: 1184626954.6666667 , loss = 283065600.0 \n",
      "\n",
      "Epoch 1034\n",
      "-------------------------------------\n",
      "Test Error: \n",
      " metric: 0.8286270499229431, Avg test loss: 1426323093.3333333 , loss = 45081576.0 \n",
      "\n",
      "Epoch 1035\n",
      "-------------------------------------\n"
     ]
    },
    {
     "name": "stderr",
     "output_type": "stream",
     "text": [
      " 69%|██████▉   | 1036/1500 [02:50<01:15,  6.15it/s]"
     ]
    },
    {
     "name": "stdout",
     "output_type": "stream",
     "text": [
      "Test Error: \n",
      " metric: 0.7661504149436951, Avg test loss: 1213583306.6666667 , loss = 163546272.0 \n",
      "\n",
      "Epoch 1036\n",
      "-------------------------------------\n",
      "Test Error: \n",
      " metric: 0.8165141940116882, Avg test loss: 1137586986.6666667 , loss = 144112224.0 \n",
      "\n",
      "Epoch 1037\n",
      "-------------------------------------\n"
     ]
    },
    {
     "name": "stderr",
     "output_type": "stream",
     "text": [
      " 69%|██████▉   | 1038/1500 [02:50<01:15,  6.11it/s]"
     ]
    },
    {
     "name": "stdout",
     "output_type": "stream",
     "text": [
      "Test Error: \n",
      " metric: 0.7887052893638611, Avg test loss: 1479143781.3333333 , loss = 97863520.0 \n",
      "\n",
      "Epoch 1038\n",
      "-------------------------------------\n",
      "Test Error: \n",
      " metric: 0.8089048862457275, Avg test loss: 1182671936.0 , loss = 404995552.0 \n",
      "\n",
      "Epoch 1039\n",
      "-------------------------------------\n"
     ]
    },
    {
     "name": "stderr",
     "output_type": "stream",
     "text": [
      " 69%|██████▉   | 1040/1500 [02:50<01:15,  6.11it/s]"
     ]
    },
    {
     "name": "stdout",
     "output_type": "stream",
     "text": [
      "Test Error: \n",
      " metric: 0.8063583374023438, Avg test loss: 1035068896.0 , loss = 198794576.0 \n",
      "\n",
      "Epoch 1040\n",
      "-------------------------------------\n",
      "Test Error: \n",
      " metric: 0.8174980878829956, Avg test loss: 1155748458.6666667 , loss = 341498112.0 \n",
      "\n",
      "Epoch 1041\n",
      "-------------------------------------\n"
     ]
    },
    {
     "name": "stderr",
     "output_type": "stream",
     "text": [
      " 69%|██████▉   | 1042/1500 [02:51<01:14,  6.12it/s]"
     ]
    },
    {
     "name": "stdout",
     "output_type": "stream",
     "text": [
      "Test Error: \n",
      " metric: 0.8077622652053833, Avg test loss: 1070878037.3333334 , loss = 73608192.0 \n",
      "\n",
      "Epoch 1042\n",
      "-------------------------------------\n",
      "Test Error: \n",
      " metric: 0.7748016715049744, Avg test loss: 1095493173.3333333 , loss = 577669504.0 \n",
      "\n",
      "Epoch 1043\n",
      "-------------------------------------\n"
     ]
    },
    {
     "name": "stderr",
     "output_type": "stream",
     "text": [
      " 70%|██████▉   | 1044/1500 [02:51<01:14,  6.14it/s]"
     ]
    },
    {
     "name": "stdout",
     "output_type": "stream",
     "text": [
      "Test Error: \n",
      " metric: 0.8090524673461914, Avg test loss: 1137138058.6666667 , loss = 28290398.0 \n",
      "\n",
      "Epoch 1044\n",
      "-------------------------------------\n",
      "Test Error: \n",
      " metric: 0.8032792806625366, Avg test loss: 1295122506.6666667 , loss = 52821760.0 \n",
      "\n",
      "Epoch 1045\n",
      "-------------------------------------\n"
     ]
    },
    {
     "name": "stderr",
     "output_type": "stream",
     "text": [
      " 70%|██████▉   | 1046/1500 [02:51<01:14,  6.07it/s]"
     ]
    },
    {
     "name": "stdout",
     "output_type": "stream",
     "text": [
      "Test Error: \n",
      " metric: 0.731019139289856, Avg test loss: 1345800949.3333333 , loss = 36727004.0 \n",
      "\n",
      "Epoch 1046\n",
      "-------------------------------------\n",
      "Test Error: \n",
      " metric: 0.8013937473297119, Avg test loss: 1099711637.3333333 , loss = 311467232.0 \n",
      "\n",
      "Epoch 1047\n",
      "-------------------------------------\n"
     ]
    },
    {
     "name": "stderr",
     "output_type": "stream",
     "text": [
      " 70%|██████▉   | 1048/1500 [02:52<01:13,  6.15it/s]"
     ]
    },
    {
     "name": "stdout",
     "output_type": "stream",
     "text": [
      "Test Error: \n",
      " metric: 0.8244359493255615, Avg test loss: 1085257200.0 , loss = 259245040.0 \n",
      "\n",
      "Epoch 1048\n",
      "-------------------------------------\n",
      "Test Error: \n",
      " metric: 0.7920123934745789, Avg test loss: 1287379520.0 , loss = 808456000.0 \n",
      "\n",
      "Epoch 1049\n",
      "-------------------------------------\n"
     ]
    },
    {
     "name": "stderr",
     "output_type": "stream",
     "text": [
      " 70%|███████   | 1050/1500 [02:52<01:13,  6.11it/s]"
     ]
    },
    {
     "name": "stdout",
     "output_type": "stream",
     "text": [
      "Test Error: \n",
      " metric: 0.7806066274642944, Avg test loss: 1689864768.0 , loss = 245244128.0 \n",
      "\n",
      "Epoch 1050\n",
      "-------------------------------------\n",
      "Test Error: \n",
      " metric: 0.7876142859458923, Avg test loss: 1325000629.3333333 , loss = 357752704.0 \n",
      "\n",
      "Epoch 1051\n",
      "-------------------------------------\n"
     ]
    },
    {
     "name": "stderr",
     "output_type": "stream",
     "text": [
      " 70%|███████   | 1052/1500 [02:52<01:11,  6.26it/s]"
     ]
    },
    {
     "name": "stdout",
     "output_type": "stream",
     "text": [
      "Test Error: \n",
      " metric: 0.8285428881645203, Avg test loss: 1206681408.0 , loss = 166533552.0 \n",
      "\n",
      "Epoch 1052\n",
      "-------------------------------------\n",
      "Test Error: \n",
      " metric: 0.7933074235916138, Avg test loss: 1292947914.6666667 , loss = 300160320.0 \n",
      "\n",
      "Epoch 1053\n",
      "-------------------------------------\n"
     ]
    },
    {
     "name": "stderr",
     "output_type": "stream",
     "text": [
      " 70%|███████   | 1054/1500 [02:53<01:10,  6.29it/s]"
     ]
    },
    {
     "name": "stdout",
     "output_type": "stream",
     "text": [
      "Test Error: \n",
      " metric: 0.788009762763977, Avg test loss: 1213028256.0 , loss = 305655680.0 \n",
      "\n",
      "Epoch 1054\n",
      "-------------------------------------\n",
      "Test Error: \n",
      " metric: 0.6786145567893982, Avg test loss: 2767530730.6666665 , loss = 2149926144.0 \n",
      "\n",
      "Epoch 1055\n",
      "-------------------------------------\n"
     ]
    },
    {
     "name": "stderr",
     "output_type": "stream",
     "text": [
      " 70%|███████   | 1056/1500 [02:53<01:11,  6.24it/s]"
     ]
    },
    {
     "name": "stdout",
     "output_type": "stream",
     "text": [
      "Test Error: \n",
      " metric: 0.7672709226608276, Avg test loss: 1322707690.6666667 , loss = 410405632.0 \n",
      "\n",
      "Epoch 1056\n",
      "-------------------------------------\n",
      "Test Error: \n",
      " metric: 0.8150709867477417, Avg test loss: 1063871861.3333334 , loss = 203961408.0 \n",
      "\n",
      "Epoch 1057\n",
      "-------------------------------------\n"
     ]
    },
    {
     "name": "stderr",
     "output_type": "stream",
     "text": [
      " 71%|███████   | 1058/1500 [02:53<01:12,  6.11it/s]"
     ]
    },
    {
     "name": "stdout",
     "output_type": "stream",
     "text": [
      "Test Error: \n",
      " metric: 0.7618873119354248, Avg test loss: 1165600501.3333333 , loss = 368309248.0 \n",
      "\n",
      "Epoch 1058\n",
      "-------------------------------------\n",
      "Test Error: \n",
      " metric: 0.808035135269165, Avg test loss: 1340120437.3333333 , loss = 267689856.0 \n",
      "\n",
      "Epoch 1059\n",
      "-------------------------------------\n"
     ]
    },
    {
     "name": "stderr",
     "output_type": "stream",
     "text": [
      " 71%|███████   | 1060/1500 [02:54<01:11,  6.15it/s]"
     ]
    },
    {
     "name": "stdout",
     "output_type": "stream",
     "text": [
      "Test Error: \n",
      " metric: 0.7899742722511292, Avg test loss: 1368554613.3333333 , loss = 252583424.0 \n",
      "\n",
      "Epoch 1060\n",
      "-------------------------------------\n",
      "Test Error: \n",
      " metric: 0.8096470832824707, Avg test loss: 1167052864.0 , loss = 511090848.0 \n",
      "\n",
      "Epoch 1061\n",
      "-------------------------------------\n"
     ]
    },
    {
     "name": "stderr",
     "output_type": "stream",
     "text": [
      " 71%|███████   | 1062/1500 [02:54<01:10,  6.19it/s]"
     ]
    },
    {
     "name": "stdout",
     "output_type": "stream",
     "text": [
      "Test Error: \n",
      " metric: 0.7853001356124878, Avg test loss: 1159243920.0 , loss = 120637968.0 \n",
      "\n",
      "Epoch 1062\n",
      "-------------------------------------\n",
      "Test Error: \n",
      " metric: 0.7687072157859802, Avg test loss: 1168382858.6666667 , loss = 6645959.0 \n",
      "\n",
      "Epoch 1063\n",
      "-------------------------------------\n"
     ]
    },
    {
     "name": "stderr",
     "output_type": "stream",
     "text": [
      " 71%|███████   | 1064/1500 [02:54<01:10,  6.18it/s]"
     ]
    },
    {
     "name": "stdout",
     "output_type": "stream",
     "text": [
      "Test Error: \n",
      " metric: 0.7966486215591431, Avg test loss: 1191339584.0 , loss = 155818688.0 \n",
      "\n",
      "Epoch 1064\n",
      "-------------------------------------\n",
      "Test Error: \n",
      " metric: 0.8118192553520203, Avg test loss: 1044619776.0 , loss = 154130240.0 \n",
      "\n",
      "Epoch 1065\n",
      "-------------------------------------\n"
     ]
    },
    {
     "name": "stderr",
     "output_type": "stream",
     "text": [
      " 71%|███████   | 1066/1500 [02:55<01:11,  6.07it/s]"
     ]
    },
    {
     "name": "stdout",
     "output_type": "stream",
     "text": [
      "Test Error: \n",
      " metric: 0.82081139087677, Avg test loss: 1069242240.0 , loss = 30585472.0 \n",
      "\n",
      "Epoch 1066\n",
      "-------------------------------------\n",
      "Test Error: \n",
      " metric: 0.8143554925918579, Avg test loss: 1034506202.6666666 , loss = 326133728.0 \n",
      "\n",
      "Epoch 1067\n",
      "-------------------------------------\n"
     ]
    },
    {
     "name": "stderr",
     "output_type": "stream",
     "text": [
      " 71%|███████   | 1068/1500 [02:55<01:11,  6.06it/s]"
     ]
    },
    {
     "name": "stdout",
     "output_type": "stream",
     "text": [
      "Test Error: \n",
      " metric: 0.8054302334785461, Avg test loss: 1190242858.6666667 , loss = 469112448.0 \n",
      "\n",
      "Epoch 1068\n",
      "-------------------------------------\n",
      "Test Error: \n",
      " metric: 0.8001744151115417, Avg test loss: 1247234080.0 , loss = 21372922.0 \n",
      "\n",
      "Epoch 1069\n",
      "-------------------------------------\n"
     ]
    },
    {
     "name": "stderr",
     "output_type": "stream",
     "text": [
      " 71%|███████▏  | 1070/1500 [02:55<01:11,  6.01it/s]"
     ]
    },
    {
     "name": "stdout",
     "output_type": "stream",
     "text": [
      "Test Error: \n",
      " metric: 0.809670627117157, Avg test loss: 1152485216.0 , loss = 245331904.0 \n",
      "\n",
      "Epoch 1070\n",
      "-------------------------------------\n",
      "Test Error: \n",
      " metric: 0.792430579662323, Avg test loss: 1254553984.0 , loss = 295132352.0 \n",
      "\n",
      "Epoch 1071\n",
      "-------------------------------------\n"
     ]
    },
    {
     "name": "stderr",
     "output_type": "stream",
     "text": [
      " 71%|███████▏  | 1072/1500 [02:56<01:11,  5.96it/s]"
     ]
    },
    {
     "name": "stdout",
     "output_type": "stream",
     "text": [
      "Test Error: \n",
      " metric: 0.7884925603866577, Avg test loss: 1344340128.0 , loss = 98941216.0 \n",
      "\n",
      "Epoch 1072\n",
      "-------------------------------------\n",
      "Test Error: \n",
      " metric: 0.790239691734314, Avg test loss: 1312187029.3333333 , loss = 146936368.0 \n",
      "\n",
      "Epoch 1073\n",
      "-------------------------------------\n"
     ]
    },
    {
     "name": "stderr",
     "output_type": "stream",
     "text": [
      " 72%|███████▏  | 1074/1500 [02:56<01:11,  5.99it/s]"
     ]
    },
    {
     "name": "stdout",
     "output_type": "stream",
     "text": [
      "Test Error: \n",
      " metric: 0.7888906002044678, Avg test loss: 1114596682.6666667 , loss = 173480880.0 \n",
      "\n",
      "Epoch 1074\n",
      "-------------------------------------\n",
      "Test Error: \n",
      " metric: 0.78431636095047, Avg test loss: 1146787461.3333333 , loss = 418491104.0 \n",
      "\n",
      "Epoch 1075\n",
      "-------------------------------------\n"
     ]
    },
    {
     "name": "stderr",
     "output_type": "stream",
     "text": [
      " 72%|███████▏  | 1076/1500 [02:56<01:09,  6.07it/s]"
     ]
    },
    {
     "name": "stdout",
     "output_type": "stream",
     "text": [
      "Test Error: \n",
      " metric: 0.7331042289733887, Avg test loss: 1275900096.0 , loss = 576664640.0 \n",
      "\n",
      "Epoch 1076\n",
      "-------------------------------------\n",
      "Test Error: \n",
      " metric: 0.761167585849762, Avg test loss: 1388107061.3333333 , loss = 244934816.0 \n",
      "\n",
      "Epoch 1077\n",
      "-------------------------------------\n"
     ]
    },
    {
     "name": "stderr",
     "output_type": "stream",
     "text": [
      " 72%|███████▏  | 1078/1500 [02:56<01:09,  6.11it/s]"
     ]
    },
    {
     "name": "stdout",
     "output_type": "stream",
     "text": [
      "Test Error: \n",
      " metric: 0.8026577830314636, Avg test loss: 1248986698.6666667 , loss = 223873024.0 \n",
      "\n",
      "Epoch 1078\n",
      "-------------------------------------\n",
      "Test Error: \n",
      " metric: 0.8216548562049866, Avg test loss: 1074153637.3333333 , loss = 127626280.0 \n",
      "\n",
      "Epoch 1079\n",
      "-------------------------------------\n"
     ]
    },
    {
     "name": "stderr",
     "output_type": "stream",
     "text": [
      " 72%|███████▏  | 1080/1500 [02:57<01:08,  6.15it/s]"
     ]
    },
    {
     "name": "stdout",
     "output_type": "stream",
     "text": [
      "Test Error: \n",
      " metric: 0.7865263223648071, Avg test loss: 1206812664.0 , loss = 35444152.0 \n",
      "\n",
      "Epoch 1080\n",
      "-------------------------------------\n",
      "Test Error: \n",
      " metric: 0.8268945217132568, Avg test loss: 1269457690.6666667 , loss = 327825568.0 \n",
      "\n",
      "Epoch 1081\n",
      "-------------------------------------\n"
     ]
    },
    {
     "name": "stderr",
     "output_type": "stream",
     "text": [
      " 72%|███████▏  | 1082/1500 [02:57<01:07,  6.15it/s]"
     ]
    },
    {
     "name": "stdout",
     "output_type": "stream",
     "text": [
      "Test Error: \n",
      " metric: 0.8141999244689941, Avg test loss: 1251086389.3333333 , loss = 404934560.0 \n",
      "\n",
      "Epoch 1082\n",
      "-------------------------------------\n",
      "Test Error: \n",
      " metric: 0.7821969985961914, Avg test loss: 1386748938.6666667 , loss = 511440672.0 \n",
      "\n",
      "Epoch 1083\n",
      "-------------------------------------\n"
     ]
    },
    {
     "name": "stderr",
     "output_type": "stream",
     "text": [
      " 72%|███████▏  | 1084/1500 [02:57<01:08,  6.06it/s]"
     ]
    },
    {
     "name": "stdout",
     "output_type": "stream",
     "text": [
      "Test Error: \n",
      " metric: 0.8048388957977295, Avg test loss: 1235939946.6666667 , loss = 122846688.0 \n",
      "\n",
      "Epoch 1084\n",
      "-------------------------------------\n",
      "Test Error: \n",
      " metric: 0.7934538722038269, Avg test loss: 1372088309.3333333 , loss = 377575424.0 \n",
      "\n",
      "Epoch 1085\n",
      "-------------------------------------\n"
     ]
    },
    {
     "name": "stderr",
     "output_type": "stream",
     "text": [
      " 72%|███████▏  | 1086/1500 [02:58<01:09,  5.99it/s]"
     ]
    },
    {
     "name": "stdout",
     "output_type": "stream",
     "text": [
      "Test Error: \n",
      " metric: 0.8065529465675354, Avg test loss: 1203141664.0 , loss = 326387488.0 \n",
      "\n",
      "Epoch 1086\n",
      "-------------------------------------\n",
      "Test Error: \n",
      " metric: 0.8186122179031372, Avg test loss: 1123237493.3333333 , loss = 117849216.0 \n",
      "\n",
      "Epoch 1087\n",
      "-------------------------------------\n"
     ]
    },
    {
     "name": "stderr",
     "output_type": "stream",
     "text": [
      " 73%|███████▎  | 1088/1500 [02:58<01:10,  5.87it/s]"
     ]
    },
    {
     "name": "stdout",
     "output_type": "stream",
     "text": [
      "Test Error: \n",
      " metric: 0.8120585680007935, Avg test loss: 1126349898.6666667 , loss = 568462400.0 \n",
      "\n",
      "Epoch 1088\n",
      "-------------------------------------\n",
      "Test Error: \n",
      " metric: 0.7865450382232666, Avg test loss: 1175135050.6666667 , loss = 58377368.0 \n",
      "\n",
      "Epoch 1089\n",
      "-------------------------------------\n"
     ]
    },
    {
     "name": "stderr",
     "output_type": "stream",
     "text": [
      " 73%|███████▎  | 1090/1500 [02:59<01:09,  5.88it/s]"
     ]
    },
    {
     "name": "stdout",
     "output_type": "stream",
     "text": [
      "Test Error: \n",
      " metric: 0.7953294515609741, Avg test loss: 1311454037.3333333 , loss = 307831744.0 \n",
      "\n",
      "Epoch 1090\n",
      "-------------------------------------\n",
      "Test Error: \n",
      " metric: 0.8014827370643616, Avg test loss: 1190783626.6666667 , loss = 122092992.0 \n",
      "\n",
      "Epoch 1091\n",
      "-------------------------------------\n"
     ]
    },
    {
     "name": "stderr",
     "output_type": "stream",
     "text": [
      " 73%|███████▎  | 1092/1500 [02:59<01:11,  5.69it/s]"
     ]
    },
    {
     "name": "stdout",
     "output_type": "stream",
     "text": [
      "Test Error: \n",
      " metric: 0.7965865731239319, Avg test loss: 1311172490.6666667 , loss = 431851328.0 \n",
      "\n",
      "Epoch 1092\n",
      "-------------------------------------\n",
      "Test Error: \n",
      " metric: 0.8128273487091064, Avg test loss: 1167353941.3333333 , loss = 97055168.0 \n",
      "\n",
      "Epoch 1093\n",
      "-------------------------------------\n"
     ]
    },
    {
     "name": "stderr",
     "output_type": "stream",
     "text": [
      " 73%|███████▎  | 1094/1500 [02:59<01:11,  5.68it/s]"
     ]
    },
    {
     "name": "stdout",
     "output_type": "stream",
     "text": [
      "Test Error: \n",
      " metric: 0.8031487464904785, Avg test loss: 1141107061.3333333 , loss = 236170240.0 \n",
      "\n",
      "Epoch 1094\n",
      "-------------------------------------\n",
      "Test Error: \n",
      " metric: 0.8108676671981812, Avg test loss: 1084209088.0 , loss = 832223360.0 \n",
      "\n",
      "Epoch 1095\n",
      "-------------------------------------\n"
     ]
    },
    {
     "name": "stderr",
     "output_type": "stream",
     "text": [
      " 73%|███████▎  | 1096/1500 [03:00<01:10,  5.77it/s]"
     ]
    },
    {
     "name": "stdout",
     "output_type": "stream",
     "text": [
      "Test Error: \n",
      " metric: 0.7800020575523376, Avg test loss: 1326985408.0 , loss = 111622336.0 \n",
      "\n",
      "Epoch 1096\n",
      "-------------------------------------\n",
      "Test Error: \n",
      " metric: 0.7916180491447449, Avg test loss: 1179101930.6666667 , loss = 201201072.0 \n",
      "\n",
      "Epoch 1097\n",
      "-------------------------------------\n"
     ]
    },
    {
     "name": "stderr",
     "output_type": "stream",
     "text": [
      " 73%|███████▎  | 1098/1500 [03:00<01:07,  5.93it/s]"
     ]
    },
    {
     "name": "stdout",
     "output_type": "stream",
     "text": [
      "Test Error: \n",
      " metric: 0.7941436767578125, Avg test loss: 1107889797.3333333 , loss = 46584384.0 \n",
      "\n",
      "Epoch 1098\n",
      "-------------------------------------\n",
      "Test Error: \n",
      " metric: 0.7690832614898682, Avg test loss: 1232818714.6666667 , loss = 22157038.0 \n",
      "\n",
      "Epoch 1099\n",
      "-------------------------------------\n"
     ]
    },
    {
     "name": "stderr",
     "output_type": "stream",
     "text": [
      " 73%|███████▎  | 1100/1500 [03:00<01:04,  6.17it/s]"
     ]
    },
    {
     "name": "stdout",
     "output_type": "stream",
     "text": [
      "Test Error: \n",
      " metric: 0.8017652630805969, Avg test loss: 1199620704.0 , loss = 238433024.0 \n",
      "\n",
      "Epoch 1100\n",
      "-------------------------------------\n",
      "Test Error: \n",
      " metric: 0.8151851892471313, Avg test loss: 1111773824.0 , loss = 79015784.0 \n",
      "\n",
      "Epoch 1101\n",
      "-------------------------------------\n"
     ]
    },
    {
     "name": "stderr",
     "output_type": "stream",
     "text": [
      " 73%|███████▎  | 1102/1500 [03:01<01:05,  6.09it/s]"
     ]
    },
    {
     "name": "stdout",
     "output_type": "stream",
     "text": [
      "Test Error: \n",
      " metric: 0.7909670472145081, Avg test loss: 1346219605.3333333 , loss = 36284912.0 \n",
      "\n",
      "Epoch 1102\n",
      "-------------------------------------\n",
      "Test Error: \n",
      " metric: 0.7827653884887695, Avg test loss: 1316973125.3333333 , loss = 94102936.0 \n",
      "\n",
      "Epoch 1103\n",
      "-------------------------------------\n"
     ]
    },
    {
     "name": "stderr",
     "output_type": "stream",
     "text": [
      " 74%|███████▎  | 1104/1500 [03:01<01:03,  6.20it/s]"
     ]
    },
    {
     "name": "stdout",
     "output_type": "stream",
     "text": [
      "Test Error: \n",
      " metric: 0.7585853338241577, Avg test loss: 1285119488.0 , loss = 146255040.0 \n",
      "\n",
      "Epoch 1104\n",
      "-------------------------------------\n",
      "Test Error: \n",
      " metric: 0.8046069145202637, Avg test loss: 1133872581.3333333 , loss = 275355456.0 \n",
      "\n",
      "Epoch 1105\n",
      "-------------------------------------\n"
     ]
    },
    {
     "name": "stderr",
     "output_type": "stream",
     "text": [
      " 74%|███████▎  | 1106/1500 [03:01<01:02,  6.26it/s]"
     ]
    },
    {
     "name": "stdout",
     "output_type": "stream",
     "text": [
      "Test Error: \n",
      " metric: 0.8029425740242004, Avg test loss: 1137834186.6666667 , loss = 145140640.0 \n",
      "\n",
      "Epoch 1106\n",
      "-------------------------------------\n",
      "Test Error: \n",
      " metric: 0.805523157119751, Avg test loss: 1301574997.3333333 , loss = 142247008.0 \n",
      "\n",
      "Epoch 1107\n",
      "-------------------------------------\n"
     ]
    },
    {
     "name": "stderr",
     "output_type": "stream",
     "text": [
      " 74%|███████▍  | 1108/1500 [03:01<01:02,  6.32it/s]"
     ]
    },
    {
     "name": "stdout",
     "output_type": "stream",
     "text": [
      "Test Error: \n",
      " metric: 0.7922912836074829, Avg test loss: 1336629834.6666667 , loss = 36949940.0 \n",
      "\n",
      "Epoch 1108\n",
      "-------------------------------------\n",
      "Test Error: \n",
      " metric: 0.7845838069915771, Avg test loss: 1298975018.6666667 , loss = 500926720.0 \n",
      "\n",
      "Epoch 1109\n",
      "-------------------------------------\n"
     ]
    },
    {
     "name": "stderr",
     "output_type": "stream",
     "text": [
      " 74%|███████▍  | 1110/1500 [03:02<01:02,  6.28it/s]"
     ]
    },
    {
     "name": "stdout",
     "output_type": "stream",
     "text": [
      "Test Error: \n",
      " metric: 0.8201566934585571, Avg test loss: 1305275728.0 , loss = 3601918.0 \n",
      "\n",
      "Epoch 1110\n",
      "-------------------------------------\n",
      "Test Error: \n",
      " metric: 0.7912338972091675, Avg test loss: 1135264917.3333333 , loss = 27745436.0 \n",
      "\n",
      "Epoch 1111\n",
      "-------------------------------------\n"
     ]
    },
    {
     "name": "stderr",
     "output_type": "stream",
     "text": [
      " 74%|███████▍  | 1112/1500 [03:02<01:02,  6.23it/s]"
     ]
    },
    {
     "name": "stdout",
     "output_type": "stream",
     "text": [
      "Test Error: \n",
      " metric: 0.7637932896614075, Avg test loss: 1271999840.0 , loss = 251202240.0 \n",
      "\n",
      "Epoch 1112\n",
      "-------------------------------------\n",
      "Test Error: \n",
      " metric: 0.7802315950393677, Avg test loss: 1154066293.3333333 , loss = 450239936.0 \n",
      "\n",
      "Epoch 1113\n",
      "-------------------------------------\n"
     ]
    },
    {
     "name": "stderr",
     "output_type": "stream",
     "text": [
      " 74%|███████▍  | 1114/1500 [03:02<01:02,  6.14it/s]"
     ]
    },
    {
     "name": "stdout",
     "output_type": "stream",
     "text": [
      "Test Error: \n",
      " metric: 0.7915542721748352, Avg test loss: 1183459637.3333333 , loss = 132347232.0 \n",
      "\n",
      "Epoch 1114\n",
      "-------------------------------------\n",
      "Test Error: \n",
      " metric: 0.8174009323120117, Avg test loss: 1053593984.0 , loss = 4798063.5 \n",
      "\n",
      "Epoch 1115\n",
      "-------------------------------------\n"
     ]
    },
    {
     "name": "stderr",
     "output_type": "stream",
     "text": [
      " 74%|███████▍  | 1116/1500 [03:03<01:01,  6.26it/s]"
     ]
    },
    {
     "name": "stdout",
     "output_type": "stream",
     "text": [
      "Test Error: \n",
      " metric: 0.772106409072876, Avg test loss: 1310501376.0 , loss = 42263640.0 \n",
      "\n",
      "Epoch 1116\n",
      "-------------------------------------\n",
      "Test Error: \n",
      " metric: 0.7690794467926025, Avg test loss: 1262043893.3333333 , loss = 121941128.0 \n",
      "\n",
      "Epoch 1117\n",
      "-------------------------------------\n"
     ]
    },
    {
     "name": "stderr",
     "output_type": "stream",
     "text": [
      " 75%|███████▍  | 1118/1500 [03:03<01:00,  6.31it/s]"
     ]
    },
    {
     "name": "stdout",
     "output_type": "stream",
     "text": [
      "Test Error: \n",
      " metric: 0.7719845175743103, Avg test loss: 1223090704.0 , loss = 131623248.0 \n",
      "\n",
      "Epoch 1118\n",
      "-------------------------------------\n",
      "Test Error: \n",
      " metric: 0.8269853591918945, Avg test loss: 1099684693.3333333 , loss = 480617792.0 \n",
      "\n",
      "Epoch 1119\n",
      "-------------------------------------\n"
     ]
    },
    {
     "name": "stderr",
     "output_type": "stream",
     "text": [
      " 75%|███████▍  | 1120/1500 [03:03<01:02,  6.06it/s]"
     ]
    },
    {
     "name": "stdout",
     "output_type": "stream",
     "text": [
      "Test Error: \n",
      " metric: 0.805175244808197, Avg test loss: 1189669280.0 , loss = 106839232.0 \n",
      "\n",
      "Epoch 1120\n",
      "-------------------------------------\n",
      "Test Error: \n",
      " metric: 0.8125004768371582, Avg test loss: 1134246282.6666667 , loss = 128217816.0 \n",
      "\n",
      "Epoch 1121\n",
      "-------------------------------------\n"
     ]
    },
    {
     "name": "stderr",
     "output_type": "stream",
     "text": [
      " 75%|███████▍  | 1122/1500 [03:04<01:02,  6.04it/s]"
     ]
    },
    {
     "name": "stdout",
     "output_type": "stream",
     "text": [
      "Test Error: \n",
      " metric: 0.8011980056762695, Avg test loss: 1119028021.3333333 , loss = 116990552.0 \n",
      "\n",
      "Epoch 1122\n",
      "-------------------------------------\n",
      "Test Error: \n",
      " metric: 0.7868874669075012, Avg test loss: 1107771072.0 , loss = 80560328.0 \n",
      "\n",
      "Epoch 1123\n",
      "-------------------------------------\n"
     ]
    },
    {
     "name": "stderr",
     "output_type": "stream",
     "text": [
      " 75%|███████▍  | 1124/1500 [03:04<01:01,  6.08it/s]"
     ]
    },
    {
     "name": "stdout",
     "output_type": "stream",
     "text": [
      "Test Error: \n",
      " metric: 0.7979114651679993, Avg test loss: 1182906192.0 , loss = 56502692.0 \n",
      "\n",
      "Epoch 1124\n",
      "-------------------------------------\n",
      "Test Error: \n",
      " metric: 0.7803514003753662, Avg test loss: 1298474538.6666667 , loss = 193222336.0 \n",
      "\n",
      "Epoch 1125\n",
      "-------------------------------------\n"
     ]
    },
    {
     "name": "stderr",
     "output_type": "stream",
     "text": [
      " 75%|███████▌  | 1126/1500 [03:04<01:01,  6.04it/s]"
     ]
    },
    {
     "name": "stdout",
     "output_type": "stream",
     "text": [
      "Test Error: \n",
      " metric: 0.7511464953422546, Avg test loss: 1216835445.3333333 , loss = 16565386.0 \n",
      "\n",
      "Epoch 1126\n",
      "-------------------------------------\n",
      "Test Error: \n",
      " metric: 0.7856873869895935, Avg test loss: 1219117962.6666667 , loss = 190868640.0 \n",
      "\n",
      "Epoch 1127\n",
      "-------------------------------------\n"
     ]
    },
    {
     "name": "stderr",
     "output_type": "stream",
     "text": [
      " 75%|███████▌  | 1128/1500 [03:05<01:02,  5.99it/s]"
     ]
    },
    {
     "name": "stdout",
     "output_type": "stream",
     "text": [
      "Test Error: \n",
      " metric: 0.7889150381088257, Avg test loss: 1188107402.6666667 , loss = 121583424.0 \n",
      "\n",
      "Epoch 1128\n",
      "-------------------------------------\n",
      "Test Error: \n",
      " metric: 0.7612811326980591, Avg test loss: 1270316426.6666667 , loss = 117099288.0 \n",
      "\n",
      "Epoch 1129\n",
      "-------------------------------------\n"
     ]
    },
    {
     "name": "stderr",
     "output_type": "stream",
     "text": [
      " 75%|███████▌  | 1130/1500 [03:05<01:02,  5.94it/s]"
     ]
    },
    {
     "name": "stdout",
     "output_type": "stream",
     "text": [
      "Test Error: \n",
      " metric: 0.8099898099899292, Avg test loss: 1065467178.6666666 , loss = 69068784.0 \n",
      "\n",
      "Epoch 1130\n",
      "-------------------------------------\n",
      "Test Error: \n",
      " metric: 0.7859647274017334, Avg test loss: 1213589898.6666667 , loss = 277641472.0 \n",
      "\n",
      "Epoch 1131\n",
      "-------------------------------------\n"
     ]
    },
    {
     "name": "stderr",
     "output_type": "stream",
     "text": [
      " 75%|███████▌  | 1132/1500 [03:05<01:02,  5.91it/s]"
     ]
    },
    {
     "name": "stdout",
     "output_type": "stream",
     "text": [
      "Test Error: \n",
      " metric: 0.8086649775505066, Avg test loss: 1289124160.0 , loss = 151168096.0 \n",
      "\n",
      "Epoch 1132\n",
      "-------------------------------------\n",
      "Test Error: \n",
      " metric: 0.7935243844985962, Avg test loss: 1177690176.0 , loss = 132156440.0 \n",
      "\n",
      "Epoch 1133\n",
      "-------------------------------------\n"
     ]
    },
    {
     "name": "stderr",
     "output_type": "stream",
     "text": [
      " 76%|███████▌  | 1134/1500 [03:06<01:01,  5.95it/s]"
     ]
    },
    {
     "name": "stdout",
     "output_type": "stream",
     "text": [
      "Test Error: \n",
      " metric: 0.8013168573379517, Avg test loss: 1219857130.6666667 , loss = 244183760.0 \n",
      "\n",
      "Epoch 1134\n",
      "-------------------------------------\n",
      "Test Error: \n",
      " metric: 0.7356703281402588, Avg test loss: 1357266741.3333333 , loss = 147144832.0 \n",
      "\n",
      "Epoch 1135\n",
      "-------------------------------------\n"
     ]
    },
    {
     "name": "stderr",
     "output_type": "stream",
     "text": [
      " 76%|███████▌  | 1136/1500 [03:06<01:01,  5.93it/s]"
     ]
    },
    {
     "name": "stdout",
     "output_type": "stream",
     "text": [
      "Test Error: \n",
      " metric: 0.7330580949783325, Avg test loss: 1435957152.0 , loss = 262017504.0 \n",
      "\n",
      "Epoch 1136\n",
      "-------------------------------------\n",
      "Test Error: \n",
      " metric: 0.7716893553733826, Avg test loss: 1243316565.3333333 , loss = 56367268.0 \n",
      "\n",
      "Epoch 1137\n",
      "-------------------------------------\n"
     ]
    },
    {
     "name": "stderr",
     "output_type": "stream",
     "text": [
      " 76%|███████▌  | 1138/1500 [03:06<01:05,  5.53it/s]"
     ]
    },
    {
     "name": "stdout",
     "output_type": "stream",
     "text": [
      "Test Error: \n",
      " metric: 0.7947721481323242, Avg test loss: 1263669376.0 , loss = 53653656.0 \n",
      "\n",
      "Epoch 1138\n",
      "-------------------------------------\n",
      "Test Error: \n",
      " metric: 0.7844161987304688, Avg test loss: 1292311786.6666667 , loss = 477545664.0 \n",
      "\n",
      "Epoch 1139\n",
      "-------------------------------------\n"
     ]
    },
    {
     "name": "stderr",
     "output_type": "stream",
     "text": [
      " 76%|███████▌  | 1140/1500 [03:07<01:03,  5.63it/s]"
     ]
    },
    {
     "name": "stdout",
     "output_type": "stream",
     "text": [
      "Test Error: \n",
      " metric: 0.7924203276634216, Avg test loss: 1275545290.6666667 , loss = 102322704.0 \n",
      "\n",
      "Epoch 1140\n",
      "-------------------------------------\n",
      "Test Error: \n",
      " metric: 0.818673312664032, Avg test loss: 1055951946.6666666 , loss = 14163362.0 \n",
      "\n",
      "Epoch 1141\n",
      "-------------------------------------\n"
     ]
    },
    {
     "name": "stderr",
     "output_type": "stream",
     "text": [
      " 76%|███████▌  | 1142/1500 [03:07<01:02,  5.70it/s]"
     ]
    },
    {
     "name": "stdout",
     "output_type": "stream",
     "text": [
      "Test Error: \n",
      " metric: 0.8201864957809448, Avg test loss: 1236643530.6666667 , loss = 114166360.0 \n",
      "\n",
      "Epoch 1142\n",
      "-------------------------------------\n",
      "Test Error: \n",
      " metric: 0.787979006767273, Avg test loss: 1434155658.6666667 , loss = 116951408.0 \n",
      "\n",
      "Epoch 1143\n",
      "-------------------------------------\n"
     ]
    },
    {
     "name": "stderr",
     "output_type": "stream",
     "text": [
      " 76%|███████▋  | 1144/1500 [03:08<01:03,  5.62it/s]"
     ]
    },
    {
     "name": "stdout",
     "output_type": "stream",
     "text": [
      "Test Error: \n",
      " metric: 0.8021941781044006, Avg test loss: 1441778336.0 , loss = 446485568.0 \n",
      "\n",
      "Epoch 1144\n",
      "-------------------------------------\n",
      "Test Error: \n",
      " metric: 0.8143537044525146, Avg test loss: 1182188288.0 , loss = 271914752.0 \n",
      "\n",
      "Epoch 1145\n",
      "-------------------------------------\n"
     ]
    },
    {
     "name": "stderr",
     "output_type": "stream",
     "text": [
      " 76%|███████▋  | 1146/1500 [03:08<01:00,  5.88it/s]"
     ]
    },
    {
     "name": "stdout",
     "output_type": "stream",
     "text": [
      "Test Error: \n",
      " metric: 0.8064607381820679, Avg test loss: 1245602432.0 , loss = 280404640.0 \n",
      "\n",
      "Epoch 1146\n",
      "-------------------------------------\n",
      "Test Error: \n",
      " metric: 0.8074142336845398, Avg test loss: 1249663349.3333333 , loss = 176923584.0 \n",
      "\n",
      "Epoch 1147\n",
      "-------------------------------------\n"
     ]
    },
    {
     "name": "stderr",
     "output_type": "stream",
     "text": [
      " 77%|███████▋  | 1148/1500 [03:08<00:57,  6.14it/s]"
     ]
    },
    {
     "name": "stdout",
     "output_type": "stream",
     "text": [
      "Test Error: \n",
      " metric: 0.8051695227622986, Avg test loss: 1241476224.0 , loss = 50495036.0 \n",
      "\n",
      "Epoch 1148\n",
      "-------------------------------------\n",
      "Test Error: \n",
      " metric: 0.7941742539405823, Avg test loss: 1269129898.6666667 , loss = 32358984.0 \n",
      "\n",
      "Epoch 1149\n",
      "-------------------------------------\n"
     ]
    },
    {
     "name": "stderr",
     "output_type": "stream",
     "text": [
      " 77%|███████▋  | 1150/1500 [03:09<00:56,  6.16it/s]"
     ]
    },
    {
     "name": "stdout",
     "output_type": "stream",
     "text": [
      "Test Error: \n",
      " metric: 0.7833429574966431, Avg test loss: 1397322890.6666667 , loss = 232689280.0 \n",
      "\n",
      "Epoch 1150\n",
      "-------------------------------------\n",
      "Test Error: \n",
      " metric: 0.7956981658935547, Avg test loss: 1241058453.3333333 , loss = 388257536.0 \n",
      "\n",
      "Epoch 1151\n",
      "-------------------------------------\n"
     ]
    },
    {
     "name": "stderr",
     "output_type": "stream",
     "text": [
      " 77%|███████▋  | 1152/1500 [03:09<00:57,  6.08it/s]"
     ]
    },
    {
     "name": "stdout",
     "output_type": "stream",
     "text": [
      "Test Error: \n",
      " metric: 0.8020743131637573, Avg test loss: 1318435541.3333333 , loss = 82346608.0 \n",
      "\n",
      "Epoch 1152\n",
      "-------------------------------------\n",
      "Test Error: \n",
      " metric: 0.5658764839172363, Avg test loss: 1899019050.6666667 , loss = 576284480.0 \n",
      "\n",
      "Epoch 1153\n",
      "-------------------------------------\n"
     ]
    },
    {
     "name": "stderr",
     "output_type": "stream",
     "text": [
      " 77%|███████▋  | 1154/1500 [03:09<00:56,  6.12it/s]"
     ]
    },
    {
     "name": "stdout",
     "output_type": "stream",
     "text": [
      "Test Error: \n",
      " metric: 0.8089789748191833, Avg test loss: 1300962901.3333333 , loss = 90530592.0 \n",
      "\n",
      "Epoch 1154\n",
      "-------------------------------------\n",
      "Test Error: \n",
      " metric: 0.8161193132400513, Avg test loss: 1106239818.6666667 , loss = 807297280.0 \n",
      "\n",
      "Epoch 1155\n",
      "-------------------------------------\n"
     ]
    },
    {
     "name": "stderr",
     "output_type": "stream",
     "text": [
      " 77%|███████▋  | 1156/1500 [03:10<00:57,  6.00it/s]"
     ]
    },
    {
     "name": "stdout",
     "output_type": "stream",
     "text": [
      "Test Error: \n",
      " metric: 0.8066767454147339, Avg test loss: 1128044986.6666667 , loss = 77587128.0 \n",
      "\n",
      "Epoch 1156\n",
      "-------------------------------------\n",
      "Test Error: \n",
      " metric: 0.801841139793396, Avg test loss: 1239252874.6666667 , loss = 57450920.0 \n",
      "\n",
      "Epoch 1157\n",
      "-------------------------------------\n"
     ]
    },
    {
     "name": "stderr",
     "output_type": "stream",
     "text": [
      " 77%|███████▋  | 1158/1500 [03:10<00:58,  5.86it/s]"
     ]
    },
    {
     "name": "stdout",
     "output_type": "stream",
     "text": [
      "Test Error: \n",
      " metric: 0.8032066822052002, Avg test loss: 1196735605.3333333 , loss = 217392832.0 \n",
      "\n",
      "Epoch 1158\n",
      "-------------------------------------\n",
      "Test Error: \n",
      " metric: 0.7954422831535339, Avg test loss: 1260033461.3333333 , loss = 136860416.0 \n",
      "\n",
      "Epoch 1159\n",
      "-------------------------------------\n"
     ]
    },
    {
     "name": "stderr",
     "output_type": "stream",
     "text": [
      " 77%|███████▋  | 1160/1500 [03:10<00:56,  6.02it/s]"
     ]
    },
    {
     "name": "stdout",
     "output_type": "stream",
     "text": [
      "Test Error: \n",
      " metric: 0.8139088749885559, Avg test loss: 1171193760.0 , loss = 33600884.0 \n",
      "\n",
      "Epoch 1160\n",
      "-------------------------------------\n",
      "Test Error: \n",
      " metric: 0.7735012769699097, Avg test loss: 1366045600.0 , loss = 75538496.0 \n",
      "\n",
      "Epoch 1161\n",
      "-------------------------------------\n"
     ]
    },
    {
     "name": "stderr",
     "output_type": "stream",
     "text": [
      " 77%|███████▋  | 1162/1500 [03:11<01:00,  5.62it/s]"
     ]
    },
    {
     "name": "stdout",
     "output_type": "stream",
     "text": [
      "Test Error: \n",
      " metric: 0.7366542816162109, Avg test loss: 1400551946.6666667 , loss = 33886216.0 \n",
      "\n",
      "Epoch 1162\n",
      "-------------------------------------\n",
      "Test Error: \n",
      " metric: 0.8083650469779968, Avg test loss: 1158005600.0 , loss = 342011520.0 \n",
      "\n",
      "Epoch 1163\n",
      "-------------------------------------\n"
     ]
    },
    {
     "name": "stderr",
     "output_type": "stream",
     "text": [
      " 78%|███████▊  | 1164/1500 [03:11<00:58,  5.70it/s]"
     ]
    },
    {
     "name": "stdout",
     "output_type": "stream",
     "text": [
      "Test Error: \n",
      " metric: 0.812055766582489, Avg test loss: 1316557962.6666667 , loss = 92827472.0 \n",
      "\n",
      "Epoch 1164\n",
      "-------------------------------------\n",
      "Test Error: \n",
      " metric: 0.7885982990264893, Avg test loss: 1231859733.3333333 , loss = 322546592.0 \n",
      "\n",
      "Epoch 1165\n",
      "-------------------------------------\n"
     ]
    },
    {
     "name": "stderr",
     "output_type": "stream",
     "text": [
      " 78%|███████▊  | 1166/1500 [03:11<00:59,  5.66it/s]"
     ]
    },
    {
     "name": "stdout",
     "output_type": "stream",
     "text": [
      "Test Error: \n",
      " metric: 0.7781534194946289, Avg test loss: 1205849173.3333333 , loss = 251523040.0 \n",
      "\n",
      "Epoch 1166\n",
      "-------------------------------------\n",
      "Test Error: \n",
      " metric: 0.7907860279083252, Avg test loss: 1409042986.6666667 , loss = 442671040.0 \n",
      "\n",
      "Epoch 1167\n",
      "-------------------------------------\n"
     ]
    },
    {
     "name": "stderr",
     "output_type": "stream",
     "text": [
      " 78%|███████▊  | 1168/1500 [03:12<00:56,  5.90it/s]"
     ]
    },
    {
     "name": "stdout",
     "output_type": "stream",
     "text": [
      "Test Error: \n",
      " metric: 0.7816632986068726, Avg test loss: 1221135061.3333333 , loss = 745305344.0 \n",
      "\n",
      "Epoch 1168\n",
      "-------------------------------------\n",
      "Test Error: \n",
      " metric: 0.6238371729850769, Avg test loss: 1607458869.3333333 , loss = 419690848.0 \n",
      "\n",
      "Epoch 1169\n",
      "-------------------------------------\n"
     ]
    },
    {
     "name": "stderr",
     "output_type": "stream",
     "text": [
      " 78%|███████▊  | 1170/1500 [03:12<00:56,  5.87it/s]"
     ]
    },
    {
     "name": "stdout",
     "output_type": "stream",
     "text": [
      "Test Error: \n",
      " metric: 0.760296642780304, Avg test loss: 1521206570.6666667 , loss = 366919712.0 \n",
      "\n",
      "Epoch 1170\n",
      "-------------------------------------\n",
      "Test Error: \n",
      " metric: 0.7689937949180603, Avg test loss: 1274626378.6666667 , loss = 348057440.0 \n",
      "\n",
      "Epoch 1171\n",
      "-------------------------------------\n"
     ]
    },
    {
     "name": "stderr",
     "output_type": "stream",
     "text": [
      " 78%|███████▊  | 1172/1500 [03:12<00:55,  5.95it/s]"
     ]
    },
    {
     "name": "stdout",
     "output_type": "stream",
     "text": [
      "Test Error: \n",
      " metric: 0.7995589375495911, Avg test loss: 1181243008.0 , loss = 10514688.0 \n",
      "\n",
      "Epoch 1172\n",
      "-------------------------------------\n",
      "Test Error: \n",
      " metric: 0.7821054458618164, Avg test loss: 1337316853.3333333 , loss = 158267008.0 \n",
      "\n",
      "Epoch 1173\n",
      "-------------------------------------\n"
     ]
    },
    {
     "name": "stderr",
     "output_type": "stream",
     "text": [
      " 78%|███████▊  | 1174/1500 [03:13<00:55,  5.89it/s]"
     ]
    },
    {
     "name": "stdout",
     "output_type": "stream",
     "text": [
      "Test Error: \n",
      " metric: 0.7524085640907288, Avg test loss: 1333049962.6666667 , loss = 169377312.0 \n",
      "\n",
      "Epoch 1174\n",
      "-------------------------------------\n",
      "Test Error: \n",
      " metric: 0.8011062741279602, Avg test loss: 1344857930.6666667 , loss = 112060016.0 \n",
      "\n",
      "Epoch 1175\n",
      "-------------------------------------\n"
     ]
    },
    {
     "name": "stderr",
     "output_type": "stream",
     "text": [
      " 78%|███████▊  | 1176/1500 [03:13<00:54,  5.99it/s]"
     ]
    },
    {
     "name": "stdout",
     "output_type": "stream",
     "text": [
      "Test Error: \n",
      " metric: 0.8119320273399353, Avg test loss: 1197300325.3333333 , loss = 52631772.0 \n",
      "\n",
      "Epoch 1176\n",
      "-------------------------------------\n",
      "Test Error: \n",
      " metric: 0.7479491829872131, Avg test loss: 1814032938.6666667 , loss = 211275232.0 \n",
      "\n",
      "Epoch 1177\n",
      "-------------------------------------\n"
     ]
    },
    {
     "name": "stderr",
     "output_type": "stream",
     "text": [
      " 79%|███████▊  | 1178/1500 [03:13<00:54,  5.92it/s]"
     ]
    },
    {
     "name": "stdout",
     "output_type": "stream",
     "text": [
      "Test Error: \n",
      " metric: 0.7687073349952698, Avg test loss: 1300056394.6666667 , loss = 69954528.0 \n",
      "\n",
      "Epoch 1178\n",
      "-------------------------------------\n",
      "Test Error: \n",
      " metric: 0.7780115008354187, Avg test loss: 1279062442.6666667 , loss = 290213952.0 \n",
      "\n",
      "Epoch 1179\n",
      "-------------------------------------\n"
     ]
    },
    {
     "name": "stderr",
     "output_type": "stream",
     "text": [
      " 79%|███████▊  | 1180/1500 [03:14<00:54,  5.91it/s]"
     ]
    },
    {
     "name": "stdout",
     "output_type": "stream",
     "text": [
      "Test Error: \n",
      " metric: 0.8020799160003662, Avg test loss: 1412667925.3333333 , loss = 150559072.0 \n",
      "\n",
      "Epoch 1180\n",
      "-------------------------------------\n",
      "Test Error: \n",
      " metric: 0.8185096383094788, Avg test loss: 1257691328.0 , loss = 74795888.0 \n",
      "\n",
      "Epoch 1181\n",
      "-------------------------------------\n"
     ]
    },
    {
     "name": "stderr",
     "output_type": "stream",
     "text": [
      " 79%|███████▉  | 1182/1500 [03:14<00:53,  5.98it/s]"
     ]
    },
    {
     "name": "stdout",
     "output_type": "stream",
     "text": [
      "Test Error: \n",
      " metric: 0.7840209007263184, Avg test loss: 1310349877.3333333 , loss = 122462080.0 \n",
      "\n",
      "Epoch 1182\n",
      "-------------------------------------\n",
      "Test Error: \n",
      " metric: 0.7784992456436157, Avg test loss: 1419717269.3333333 , loss = 486849088.0 \n",
      "\n",
      "Epoch 1183\n",
      "-------------------------------------\n"
     ]
    },
    {
     "name": "stderr",
     "output_type": "stream",
     "text": [
      " 79%|███████▉  | 1184/1500 [03:14<00:53,  5.95it/s]"
     ]
    },
    {
     "name": "stdout",
     "output_type": "stream",
     "text": [
      "Test Error: \n",
      " metric: 0.7766306400299072, Avg test loss: 1242585280.0 , loss = 363591264.0 \n",
      "\n",
      "Epoch 1184\n",
      "-------------------------------------\n",
      "Test Error: \n",
      " metric: 0.7855336666107178, Avg test loss: 1203810261.3333333 , loss = 106173136.0 \n",
      "\n",
      "Epoch 1185\n",
      "-------------------------------------\n"
     ]
    },
    {
     "name": "stderr",
     "output_type": "stream",
     "text": [
      " 79%|███████▉  | 1186/1500 [03:15<00:54,  5.72it/s]"
     ]
    },
    {
     "name": "stdout",
     "output_type": "stream",
     "text": [
      "Test Error: \n",
      " metric: 0.7901293039321899, Avg test loss: 1254020000.0 , loss = 26166288.0 \n",
      "\n",
      "Epoch 1186\n",
      "-------------------------------------\n",
      "Test Error: \n",
      " metric: 0.7752994298934937, Avg test loss: 1205213098.6666667 , loss = 120071944.0 \n",
      "\n",
      "Epoch 1187\n",
      "-------------------------------------\n"
     ]
    },
    {
     "name": "stderr",
     "output_type": "stream",
     "text": [
      " 79%|███████▉  | 1188/1500 [03:15<00:55,  5.65it/s]"
     ]
    },
    {
     "name": "stdout",
     "output_type": "stream",
     "text": [
      "Test Error: \n",
      " metric: 0.7929125428199768, Avg test loss: 1210620218.6666667 , loss = 123819152.0 \n",
      "\n",
      "Epoch 1188\n",
      "-------------------------------------\n",
      "Test Error: \n",
      " metric: 0.8110556602478027, Avg test loss: 1151454005.3333333 , loss = 195135872.0 \n",
      "\n",
      "Epoch 1189\n",
      "-------------------------------------\n"
     ]
    },
    {
     "name": "stderr",
     "output_type": "stream",
     "text": [
      " 79%|███████▉  | 1190/1500 [03:15<00:54,  5.67it/s]"
     ]
    },
    {
     "name": "stdout",
     "output_type": "stream",
     "text": [
      "Test Error: \n",
      " metric: 0.7949215769767761, Avg test loss: 1188072394.6666667 , loss = 99066440.0 \n",
      "\n",
      "Epoch 1190\n",
      "-------------------------------------\n",
      "Test Error: \n",
      " metric: 0.7686420679092407, Avg test loss: 1248330773.3333333 , loss = 181866848.0 \n",
      "\n",
      "Epoch 1191\n",
      "-------------------------------------\n"
     ]
    },
    {
     "name": "stderr",
     "output_type": "stream",
     "text": [
      " 79%|███████▉  | 1192/1500 [03:16<00:52,  5.86it/s]"
     ]
    },
    {
     "name": "stdout",
     "output_type": "stream",
     "text": [
      "Test Error: \n",
      " metric: 0.765569269657135, Avg test loss: 1332722912.0 , loss = 4767004.0 \n",
      "\n",
      "Epoch 1192\n",
      "-------------------------------------\n",
      "Test Error: \n",
      " metric: 0.8072598576545715, Avg test loss: 1233369600.0 , loss = 286720320.0 \n",
      "\n",
      "Epoch 1193\n",
      "-------------------------------------\n"
     ]
    },
    {
     "name": "stderr",
     "output_type": "stream",
     "text": [
      " 80%|███████▉  | 1194/1500 [03:16<00:50,  6.11it/s]"
     ]
    },
    {
     "name": "stdout",
     "output_type": "stream",
     "text": [
      "Test Error: \n",
      " metric: 0.7778820395469666, Avg test loss: 1278419424.0 , loss = 218562944.0 \n",
      "\n",
      "Epoch 1194\n",
      "-------------------------------------\n",
      "Test Error: \n",
      " metric: 0.8123920559883118, Avg test loss: 1366903808.0 , loss = 284597824.0 \n",
      "\n",
      "Epoch 1195\n",
      "-------------------------------------\n"
     ]
    },
    {
     "name": "stderr",
     "output_type": "stream",
     "text": [
      " 80%|███████▉  | 1196/1500 [03:16<00:49,  6.14it/s]"
     ]
    },
    {
     "name": "stdout",
     "output_type": "stream",
     "text": [
      "Test Error: \n",
      " metric: 0.7820202112197876, Avg test loss: 1369503242.6666667 , loss = 61181504.0 \n",
      "\n",
      "Epoch 1196\n",
      "-------------------------------------\n",
      "Test Error: \n",
      " metric: 0.7809484004974365, Avg test loss: 1215463077.3333333 , loss = 123706328.0 \n",
      "\n",
      "Epoch 1197\n",
      "-------------------------------------\n"
     ]
    },
    {
     "name": "stderr",
     "output_type": "stream",
     "text": [
      " 80%|███████▉  | 1198/1500 [03:17<00:48,  6.23it/s]"
     ]
    },
    {
     "name": "stdout",
     "output_type": "stream",
     "text": [
      "Test Error: \n",
      " metric: 0.8126550316810608, Avg test loss: 1209809045.3333333 , loss = 574939968.0 \n",
      "\n",
      "Epoch 1198\n",
      "-------------------------------------\n",
      "Test Error: \n",
      " metric: 0.7857689261436462, Avg test loss: 1273419562.6666667 , loss = 141928848.0 \n",
      "\n",
      "Epoch 1199\n",
      "-------------------------------------\n"
     ]
    },
    {
     "name": "stderr",
     "output_type": "stream",
     "text": [
      " 80%|████████  | 1200/1500 [03:17<00:49,  6.07it/s]"
     ]
    },
    {
     "name": "stdout",
     "output_type": "stream",
     "text": [
      "Test Error: \n",
      " metric: 0.8011521100997925, Avg test loss: 1239882624.0 , loss = 49121868.0 \n",
      "\n",
      "Epoch 1200\n",
      "-------------------------------------\n",
      "Test Error: \n",
      " metric: 0.7582841515541077, Avg test loss: 1274622058.6666667 , loss = 5151599.5 \n",
      "\n",
      "Epoch 1201\n",
      "-------------------------------------\n"
     ]
    },
    {
     "name": "stderr",
     "output_type": "stream",
     "text": [
      " 80%|████████  | 1202/1500 [03:17<00:49,  6.07it/s]"
     ]
    },
    {
     "name": "stdout",
     "output_type": "stream",
     "text": [
      "Test Error: \n",
      " metric: 0.7895265221595764, Avg test loss: 1137716970.6666667 , loss = 45490504.0 \n",
      "\n",
      "Epoch 1202\n",
      "-------------------------------------\n",
      "Test Error: \n",
      " metric: 0.8029109239578247, Avg test loss: 1167707594.6666667 , loss = 122162832.0 \n",
      "\n",
      "Epoch 1203\n",
      "-------------------------------------\n"
     ]
    },
    {
     "name": "stderr",
     "output_type": "stream",
     "text": [
      " 80%|████████  | 1204/1500 [03:18<00:48,  6.13it/s]"
     ]
    },
    {
     "name": "stdout",
     "output_type": "stream",
     "text": [
      "Test Error: \n",
      " metric: 0.7826074361801147, Avg test loss: 1292894442.6666667 , loss = 89251056.0 \n",
      "\n",
      "Epoch 1204\n",
      "-------------------------------------\n",
      "Test Error: \n",
      " metric: 0.7706553936004639, Avg test loss: 1345220768.0 , loss = 170843360.0 \n",
      "\n",
      "Epoch 1205\n",
      "-------------------------------------\n"
     ]
    },
    {
     "name": "stderr",
     "output_type": "stream",
     "text": [
      " 80%|████████  | 1206/1500 [03:18<00:47,  6.13it/s]"
     ]
    },
    {
     "name": "stdout",
     "output_type": "stream",
     "text": [
      "Test Error: \n",
      " metric: 0.7876158356666565, Avg test loss: 1440134741.3333333 , loss = 456058848.0 \n",
      "\n",
      "Epoch 1206\n",
      "-------------------------------------\n",
      "Test Error: \n",
      " metric: 0.7927037477493286, Avg test loss: 1230855072.0 , loss = 369965760.0 \n",
      "\n",
      "Epoch 1207\n",
      "-------------------------------------\n"
     ]
    },
    {
     "name": "stderr",
     "output_type": "stream",
     "text": [
      " 81%|████████  | 1208/1500 [03:18<00:46,  6.33it/s]"
     ]
    },
    {
     "name": "stdout",
     "output_type": "stream",
     "text": [
      "Test Error: \n",
      " metric: 0.6687345504760742, Avg test loss: 1579948917.3333333 , loss = 129283456.0 \n",
      "\n",
      "Epoch 1208\n",
      "-------------------------------------\n",
      "Test Error: \n",
      " metric: 0.7523351907730103, Avg test loss: 1295021680.0 , loss = 126861536.0 \n",
      "\n",
      "Epoch 1209\n",
      "-------------------------------------\n"
     ]
    },
    {
     "name": "stderr",
     "output_type": "stream",
     "text": [
      " 81%|████████  | 1210/1500 [03:19<00:44,  6.55it/s]"
     ]
    },
    {
     "name": "stdout",
     "output_type": "stream",
     "text": [
      "Test Error: \n",
      " metric: 0.7927305102348328, Avg test loss: 1191705621.3333333 , loss = 90702352.0 \n",
      "\n",
      "Epoch 1210\n",
      "-------------------------------------\n",
      "Test Error: \n",
      " metric: 0.7720891237258911, Avg test loss: 1392234869.3333333 , loss = 6955746.0 \n",
      "\n",
      "Epoch 1211\n",
      "-------------------------------------\n"
     ]
    },
    {
     "name": "stderr",
     "output_type": "stream",
     "text": [
      " 81%|████████  | 1212/1500 [03:19<00:43,  6.62it/s]"
     ]
    },
    {
     "name": "stdout",
     "output_type": "stream",
     "text": [
      "Test Error: \n",
      " metric: 0.6472474336624146, Avg test loss: 3058784938.6666665 , loss = 2151876352.0 \n",
      "\n",
      "Epoch 1212\n",
      "-------------------------------------\n",
      "Test Error: \n",
      " metric: 0.7378818988800049, Avg test loss: 1618700480.0 , loss = 1200892288.0 \n",
      "\n",
      "Epoch 1213\n",
      "-------------------------------------\n"
     ]
    },
    {
     "name": "stderr",
     "output_type": "stream",
     "text": [
      " 81%|████████  | 1214/1500 [03:19<00:43,  6.54it/s]"
     ]
    },
    {
     "name": "stdout",
     "output_type": "stream",
     "text": [
      "Test Error: \n",
      " metric: 0.7745105028152466, Avg test loss: 1209842976.0 , loss = 404462336.0 \n",
      "\n",
      "Epoch 1214\n",
      "-------------------------------------\n",
      "Test Error: \n",
      " metric: 0.7823421359062195, Avg test loss: 1299745066.6666667 , loss = 224143760.0 \n",
      "\n",
      "Epoch 1215\n",
      "-------------------------------------\n"
     ]
    },
    {
     "name": "stderr",
     "output_type": "stream",
     "text": [
      " 81%|████████  | 1216/1500 [03:20<00:44,  6.36it/s]"
     ]
    },
    {
     "name": "stdout",
     "output_type": "stream",
     "text": [
      "Test Error: \n",
      " metric: 0.822946310043335, Avg test loss: 1311074741.3333333 , loss = 50822652.0 \n",
      "\n",
      "Epoch 1216\n",
      "-------------------------------------\n",
      "Test Error: \n",
      " metric: 0.8156708478927612, Avg test loss: 1282028842.6666667 , loss = 36111864.0 \n",
      "\n",
      "Epoch 1217\n",
      "-------------------------------------\n"
     ]
    },
    {
     "name": "stderr",
     "output_type": "stream",
     "text": [
      " 81%|████████  | 1218/1500 [03:20<00:45,  6.17it/s]"
     ]
    },
    {
     "name": "stdout",
     "output_type": "stream",
     "text": [
      "Test Error: \n",
      " metric: 0.7948904633522034, Avg test loss: 1118427498.6666667 , loss = 126271216.0 \n",
      "\n",
      "Epoch 1218\n",
      "-------------------------------------\n",
      "Test Error: \n",
      " metric: 0.7930824756622314, Avg test loss: 1329035157.3333333 , loss = 231903088.0 \n",
      "\n",
      "Epoch 1219\n",
      "-------------------------------------\n"
     ]
    },
    {
     "name": "stderr",
     "output_type": "stream",
     "text": [
      " 81%|████████▏ | 1220/1500 [03:20<00:46,  6.03it/s]"
     ]
    },
    {
     "name": "stdout",
     "output_type": "stream",
     "text": [
      "Test Error: \n",
      " metric: 0.8067114949226379, Avg test loss: 1538807402.6666667 , loss = 15284107.0 \n",
      "\n",
      "Epoch 1220\n",
      "-------------------------------------\n",
      "Test Error: \n",
      " metric: 0.8190208077430725, Avg test loss: 1154315637.3333333 , loss = 301300736.0 \n",
      "\n",
      "Epoch 1221\n",
      "-------------------------------------\n"
     ]
    },
    {
     "name": "stderr",
     "output_type": "stream",
     "text": [
      " 81%|████████▏ | 1222/1500 [03:20<00:44,  6.19it/s]"
     ]
    },
    {
     "name": "stdout",
     "output_type": "stream",
     "text": [
      "Test Error: \n",
      " metric: 0.7969266772270203, Avg test loss: 1336572816.0 , loss = 566483904.0 \n",
      "\n",
      "Epoch 1222\n",
      "-------------------------------------\n",
      "Test Error: \n",
      " metric: 0.795697033405304, Avg test loss: 1216872874.6666667 , loss = 242646400.0 \n",
      "\n",
      "Epoch 1223\n",
      "-------------------------------------\n"
     ]
    },
    {
     "name": "stderr",
     "output_type": "stream",
     "text": [
      " 82%|████████▏ | 1224/1500 [03:21<00:44,  6.27it/s]"
     ]
    },
    {
     "name": "stdout",
     "output_type": "stream",
     "text": [
      "Test Error: \n",
      " metric: 0.7881620526313782, Avg test loss: 1350527552.0 , loss = 37946988.0 \n",
      "\n",
      "Epoch 1224\n",
      "-------------------------------------\n",
      "Test Error: \n",
      " metric: 0.8186518549919128, Avg test loss: 1216501461.3333333 , loss = 87800496.0 \n",
      "\n",
      "Epoch 1225\n",
      "-------------------------------------\n"
     ]
    },
    {
     "name": "stderr",
     "output_type": "stream",
     "text": [
      " 82%|████████▏ | 1226/1500 [03:21<00:44,  6.12it/s]"
     ]
    },
    {
     "name": "stdout",
     "output_type": "stream",
     "text": [
      "Test Error: \n",
      " metric: 0.7872326970100403, Avg test loss: 1211268917.3333333 , loss = 97750736.0 \n",
      "\n",
      "Epoch 1226\n",
      "-------------------------------------\n",
      "Test Error: \n",
      " metric: 0.7868043780326843, Avg test loss: 1327883445.3333333 , loss = 117566552.0 \n",
      "\n",
      "Epoch 1227\n",
      "-------------------------------------\n"
     ]
    },
    {
     "name": "stderr",
     "output_type": "stream",
     "text": [
      " 82%|████████▏ | 1228/1500 [03:21<00:45,  5.98it/s]"
     ]
    },
    {
     "name": "stdout",
     "output_type": "stream",
     "text": [
      "Test Error: \n",
      " metric: 0.7827211618423462, Avg test loss: 1302087445.3333333 , loss = 69978408.0 \n",
      "\n",
      "Epoch 1228\n",
      "-------------------------------------\n",
      "Test Error: \n",
      " metric: 0.7832238674163818, Avg test loss: 1416405376.0 , loss = 52862732.0 \n",
      "\n",
      "Epoch 1229\n",
      "-------------------------------------\n"
     ]
    },
    {
     "name": "stderr",
     "output_type": "stream",
     "text": [
      " 82%|████████▏ | 1230/1500 [03:22<00:45,  5.97it/s]"
     ]
    },
    {
     "name": "stdout",
     "output_type": "stream",
     "text": [
      "Test Error: \n",
      " metric: 0.76883864402771, Avg test loss: 1319673152.0 , loss = 360785664.0 \n",
      "\n",
      "Epoch 1230\n",
      "-------------------------------------\n",
      "Test Error: \n",
      " metric: 0.7771693468093872, Avg test loss: 1264581066.6666667 , loss = 10139972.0 \n",
      "\n",
      "Epoch 1231\n",
      "-------------------------------------\n"
     ]
    },
    {
     "name": "stderr",
     "output_type": "stream",
     "text": [
      " 82%|████████▏ | 1232/1500 [03:22<00:44,  5.98it/s]"
     ]
    },
    {
     "name": "stdout",
     "output_type": "stream",
     "text": [
      "Test Error: \n",
      " metric: 0.807765007019043, Avg test loss: 1241747616.0 , loss = 238862752.0 \n",
      "\n",
      "Epoch 1232\n",
      "-------------------------------------\n",
      "Test Error: \n",
      " metric: 0.7850692272186279, Avg test loss: 1185183898.6666667 , loss = 67019828.0 \n",
      "\n",
      "Epoch 1233\n",
      "-------------------------------------\n"
     ]
    },
    {
     "name": "stderr",
     "output_type": "stream",
     "text": [
      " 82%|████████▏ | 1234/1500 [03:22<00:44,  5.98it/s]"
     ]
    },
    {
     "name": "stdout",
     "output_type": "stream",
     "text": [
      "Test Error: \n",
      " metric: 0.7802084684371948, Avg test loss: 1239369856.0 , loss = 167606480.0 \n",
      "\n",
      "Epoch 1234\n",
      "-------------------------------------\n",
      "Test Error: \n",
      " metric: 0.8129026293754578, Avg test loss: 1143596800.0 , loss = 32768082.0 \n",
      "\n",
      "Epoch 1235\n",
      "-------------------------------------\n"
     ]
    },
    {
     "name": "stderr",
     "output_type": "stream",
     "text": [
      " 82%|████████▏ | 1236/1500 [03:23<00:44,  5.98it/s]"
     ]
    },
    {
     "name": "stdout",
     "output_type": "stream",
     "text": [
      "Test Error: \n",
      " metric: 0.7896628379821777, Avg test loss: 1221594112.0 , loss = 26865688.0 \n",
      "\n",
      "Epoch 1236\n",
      "-------------------------------------\n",
      "Test Error: \n",
      " metric: 0.7807788252830505, Avg test loss: 1450452906.6666667 , loss = 399305504.0 \n",
      "\n",
      "Epoch 1237\n",
      "-------------------------------------\n"
     ]
    },
    {
     "name": "stderr",
     "output_type": "stream",
     "text": [
      " 83%|████████▎ | 1238/1500 [03:23<00:43,  5.98it/s]"
     ]
    },
    {
     "name": "stdout",
     "output_type": "stream",
     "text": [
      "Test Error: \n",
      " metric: 0.7470672130584717, Avg test loss: 1257709632.0 , loss = 66864312.0 \n",
      "\n",
      "Epoch 1238\n",
      "-------------------------------------\n",
      "Test Error: \n",
      " metric: 0.7747786045074463, Avg test loss: 1312877120.0 , loss = 929289984.0 \n",
      "\n",
      "Epoch 1239\n",
      "-------------------------------------\n"
     ]
    },
    {
     "name": "stderr",
     "output_type": "stream",
     "text": [
      " 83%|████████▎ | 1240/1500 [03:23<00:43,  5.96it/s]"
     ]
    },
    {
     "name": "stdout",
     "output_type": "stream",
     "text": [
      "Test Error: \n",
      " metric: 0.8049999475479126, Avg test loss: 1270683061.3333333 , loss = 30290392.0 \n",
      "\n",
      "Epoch 1240\n",
      "-------------------------------------\n",
      "Test Error: \n",
      " metric: 0.7956030964851379, Avg test loss: 1239797013.3333333 , loss = 274888192.0 \n",
      "\n",
      "Epoch 1241\n",
      "-------------------------------------\n"
     ]
    },
    {
     "name": "stderr",
     "output_type": "stream",
     "text": [
      " 83%|████████▎ | 1242/1500 [03:24<00:41,  6.15it/s]"
     ]
    },
    {
     "name": "stdout",
     "output_type": "stream",
     "text": [
      "Test Error: \n",
      " metric: 0.7859741449356079, Avg test loss: 1511827797.3333333 , loss = 44286172.0 \n",
      "\n",
      "Epoch 1242\n",
      "-------------------------------------\n",
      "Test Error: \n",
      " metric: 0.7241107225418091, Avg test loss: 1474367466.6666667 , loss = 139580064.0 \n",
      "\n",
      "Epoch 1243\n",
      "-------------------------------------\n"
     ]
    },
    {
     "name": "stderr",
     "output_type": "stream",
     "text": [
      " 83%|████████▎ | 1244/1500 [03:24<00:41,  6.19it/s]"
     ]
    },
    {
     "name": "stdout",
     "output_type": "stream",
     "text": [
      "Test Error: \n",
      " metric: 0.7564780712127686, Avg test loss: 1379089546.6666667 , loss = 40342464.0 \n",
      "\n",
      "Epoch 1244\n",
      "-------------------------------------\n",
      "Test Error: \n",
      " metric: 0.7816652059555054, Avg test loss: 1250016469.3333333 , loss = 45736856.0 \n",
      "\n",
      "Epoch 1245\n",
      "-------------------------------------\n"
     ]
    },
    {
     "name": "stderr",
     "output_type": "stream",
     "text": [
      " 83%|████████▎ | 1246/1500 [03:24<00:40,  6.20it/s]"
     ]
    },
    {
     "name": "stdout",
     "output_type": "stream",
     "text": [
      "Test Error: \n",
      " metric: 0.7943605184555054, Avg test loss: 1231142410.6666667 , loss = 166569040.0 \n",
      "\n",
      "Epoch 1246\n",
      "-------------------------------------\n",
      "Test Error: \n",
      " metric: 0.7778958082199097, Avg test loss: 1545541504.0 , loss = 46477456.0 \n",
      "\n",
      "Epoch 1247\n",
      "-------------------------------------\n"
     ]
    },
    {
     "name": "stderr",
     "output_type": "stream",
     "text": [
      " 83%|████████▎ | 1248/1500 [03:25<00:40,  6.23it/s]"
     ]
    },
    {
     "name": "stdout",
     "output_type": "stream",
     "text": [
      "Test Error: \n",
      " metric: 0.7897811532020569, Avg test loss: 1380655749.3333333 , loss = 55968680.0 \n",
      "\n",
      "Epoch 1248\n",
      "-------------------------------------\n",
      "Test Error: \n",
      " metric: 0.8057385683059692, Avg test loss: 1119319888.0 , loss = 173804880.0 \n",
      "\n",
      "Epoch 1249\n",
      "-------------------------------------\n"
     ]
    },
    {
     "name": "stderr",
     "output_type": "stream",
     "text": [
      " 83%|████████▎ | 1250/1500 [03:25<00:40,  6.16it/s]"
     ]
    },
    {
     "name": "stdout",
     "output_type": "stream",
     "text": [
      "Test Error: \n",
      " metric: 0.7519630193710327, Avg test loss: 1351715530.6666667 , loss = 139949920.0 \n",
      "\n",
      "Epoch 1250\n",
      "-------------------------------------\n",
      "Test Error: \n",
      " metric: 0.7701758146286011, Avg test loss: 1580466229.3333333 , loss = 101074200.0 \n",
      "\n",
      "Epoch 1251\n",
      "-------------------------------------\n"
     ]
    },
    {
     "name": "stderr",
     "output_type": "stream",
     "text": [
      " 83%|████████▎ | 1252/1500 [03:25<00:40,  6.10it/s]"
     ]
    },
    {
     "name": "stdout",
     "output_type": "stream",
     "text": [
      "Test Error: \n",
      " metric: 0.7943944334983826, Avg test loss: 1255955893.3333333 , loss = 131970368.0 \n",
      "\n",
      "Epoch 1252\n",
      "-------------------------------------\n",
      "Test Error: \n",
      " metric: 0.7726258039474487, Avg test loss: 1287350101.3333333 , loss = 239262288.0 \n",
      "\n",
      "Epoch 1253\n",
      "-------------------------------------\n"
     ]
    },
    {
     "name": "stderr",
     "output_type": "stream",
     "text": [
      " 84%|████████▎ | 1254/1500 [03:26<00:40,  6.07it/s]"
     ]
    },
    {
     "name": "stdout",
     "output_type": "stream",
     "text": [
      "Test Error: \n",
      " metric: 0.8046215772628784, Avg test loss: 1275684885.3333333 , loss = 211677600.0 \n",
      "\n",
      "Epoch 1254\n",
      "-------------------------------------\n",
      "Test Error: \n",
      " metric: 0.8001784086227417, Avg test loss: 1196850890.6666667 , loss = 183330704.0 \n",
      "\n",
      "Epoch 1255\n",
      "-------------------------------------\n"
     ]
    },
    {
     "name": "stderr",
     "output_type": "stream",
     "text": [
      " 84%|████████▎ | 1256/1500 [03:26<00:40,  6.07it/s]"
     ]
    },
    {
     "name": "stdout",
     "output_type": "stream",
     "text": [
      "Test Error: \n",
      " metric: 0.7877182364463806, Avg test loss: 1295212896.0 , loss = 250943152.0 \n",
      "\n",
      "Epoch 1256\n",
      "-------------------------------------\n",
      "Test Error: \n",
      " metric: 0.7624788284301758, Avg test loss: 1410141237.3333333 , loss = 88740048.0 \n",
      "\n",
      "Epoch 1257\n",
      "-------------------------------------\n"
     ]
    },
    {
     "name": "stderr",
     "output_type": "stream",
     "text": [
      " 84%|████████▍ | 1258/1500 [03:26<00:40,  6.03it/s]"
     ]
    },
    {
     "name": "stdout",
     "output_type": "stream",
     "text": [
      "Test Error: \n",
      " metric: 0.7632499933242798, Avg test loss: 1493309024.0 , loss = 384910304.0 \n",
      "\n",
      "Epoch 1258\n",
      "-------------------------------------\n",
      "Test Error: \n",
      " metric: 0.7320291996002197, Avg test loss: 1460493002.6666667 , loss = 26576154.0 \n",
      "\n",
      "Epoch 1259\n",
      "-------------------------------------\n"
     ]
    },
    {
     "name": "stderr",
     "output_type": "stream",
     "text": [
      " 84%|████████▍ | 1260/1500 [03:27<00:39,  6.13it/s]"
     ]
    },
    {
     "name": "stdout",
     "output_type": "stream",
     "text": [
      "Test Error: \n",
      " metric: 0.8199424147605896, Avg test loss: 1177058901.3333333 , loss = 73016712.0 \n",
      "\n",
      "Epoch 1260\n",
      "-------------------------------------\n",
      "Test Error: \n",
      " metric: 0.7469297051429749, Avg test loss: 1313446069.3333333 , loss = 59451808.0 \n",
      "\n",
      "Epoch 1261\n",
      "-------------------------------------\n"
     ]
    },
    {
     "name": "stderr",
     "output_type": "stream",
     "text": [
      " 84%|████████▍ | 1262/1500 [03:27<00:38,  6.21it/s]"
     ]
    },
    {
     "name": "stdout",
     "output_type": "stream",
     "text": [
      "Test Error: \n",
      " metric: 0.7862439155578613, Avg test loss: 1300752042.6666667 , loss = 450018368.0 \n",
      "\n",
      "Epoch 1262\n",
      "-------------------------------------\n",
      "Test Error: \n",
      " metric: 0.8086961507797241, Avg test loss: 1338600746.6666667 , loss = 78572144.0 \n",
      "\n",
      "Epoch 1263\n",
      "-------------------------------------\n"
     ]
    },
    {
     "name": "stderr",
     "output_type": "stream",
     "text": [
      " 84%|████████▍ | 1264/1500 [03:27<00:37,  6.26it/s]"
     ]
    },
    {
     "name": "stdout",
     "output_type": "stream",
     "text": [
      "Test Error: \n",
      " metric: 0.7669238448143005, Avg test loss: 1302218133.3333333 , loss = 177619952.0 \n",
      "\n",
      "Epoch 1264\n",
      "-------------------------------------\n",
      "Test Error: \n",
      " metric: 0.7690473794937134, Avg test loss: 1237961781.3333333 , loss = 276675904.0 \n",
      "\n",
      "Epoch 1265\n",
      "-------------------------------------\n"
     ]
    },
    {
     "name": "stderr",
     "output_type": "stream",
     "text": [
      " 84%|████████▍ | 1266/1500 [03:28<00:37,  6.31it/s]"
     ]
    },
    {
     "name": "stdout",
     "output_type": "stream",
     "text": [
      "Test Error: \n",
      " metric: 0.7908974885940552, Avg test loss: 1559750272.0 , loss = 28402026.0 \n",
      "\n",
      "Epoch 1266\n",
      "-------------------------------------\n",
      "Test Error: \n",
      " metric: 0.7727932333946228, Avg test loss: 1474149376.0 , loss = 110760864.0 \n",
      "\n",
      "Epoch 1267\n",
      "-------------------------------------\n"
     ]
    },
    {
     "name": "stderr",
     "output_type": "stream",
     "text": [
      " 85%|████████▍ | 1268/1500 [03:28<00:38,  6.05it/s]"
     ]
    },
    {
     "name": "stdout",
     "output_type": "stream",
     "text": [
      "Test Error: \n",
      " metric: 0.7858741283416748, Avg test loss: 1246728768.0 , loss = 111500064.0 \n",
      "\n",
      "Epoch 1268\n",
      "-------------------------------------\n",
      "Test Error: \n",
      " metric: 0.7699507474899292, Avg test loss: 1165986837.3333333 , loss = 115521608.0 \n",
      "\n",
      "Epoch 1269\n",
      "-------------------------------------\n"
     ]
    },
    {
     "name": "stderr",
     "output_type": "stream",
     "text": [
      " 85%|████████▍ | 1270/1500 [03:28<00:38,  6.01it/s]"
     ]
    },
    {
     "name": "stdout",
     "output_type": "stream",
     "text": [
      "Test Error: \n",
      " metric: 0.7791507244110107, Avg test loss: 1268982968.0 , loss = 147479664.0 \n",
      "\n",
      "Epoch 1270\n",
      "-------------------------------------\n",
      "Test Error: \n",
      " metric: 0.7932579517364502, Avg test loss: 1335244096.0 , loss = 62073828.0 \n",
      "\n",
      "Epoch 1271\n",
      "-------------------------------------\n"
     ]
    },
    {
     "name": "stderr",
     "output_type": "stream",
     "text": [
      " 85%|████████▍ | 1272/1500 [03:29<00:37,  6.03it/s]"
     ]
    },
    {
     "name": "stdout",
     "output_type": "stream",
     "text": [
      "Test Error: \n",
      " metric: 0.7871250510215759, Avg test loss: 1222935157.3333333 , loss = 170194880.0 \n",
      "\n",
      "Epoch 1272\n",
      "-------------------------------------\n",
      "Test Error: \n",
      " metric: 0.7962321639060974, Avg test loss: 1357781792.0 , loss = 663052352.0 \n",
      "\n",
      "Epoch 1273\n",
      "-------------------------------------\n"
     ]
    },
    {
     "name": "stderr",
     "output_type": "stream",
     "text": [
      " 85%|████████▍ | 1274/1500 [03:29<00:37,  5.96it/s]"
     ]
    },
    {
     "name": "stdout",
     "output_type": "stream",
     "text": [
      "Test Error: \n",
      " metric: 0.6988958120346069, Avg test loss: 1488549472.0 , loss = 43400820.0 \n",
      "\n",
      "Epoch 1274\n",
      "-------------------------------------\n",
      "Test Error: \n",
      " metric: 0.8046927452087402, Avg test loss: 1332694954.6666667 , loss = 119170168.0 \n",
      "\n",
      "Epoch 1275\n",
      "-------------------------------------\n"
     ]
    },
    {
     "name": "stderr",
     "output_type": "stream",
     "text": [
      " 85%|████████▌ | 1276/1500 [03:29<00:36,  6.17it/s]"
     ]
    },
    {
     "name": "stdout",
     "output_type": "stream",
     "text": [
      "Test Error: \n",
      " metric: 0.6543766260147095, Avg test loss: 1664506816.0 , loss = 103579568.0 \n",
      "\n",
      "Epoch 1276\n",
      "-------------------------------------\n",
      "Test Error: \n",
      " metric: 0.7929933071136475, Avg test loss: 1323051754.6666667 , loss = 19353226.0 \n",
      "\n",
      "Epoch 1277\n",
      "-------------------------------------\n"
     ]
    },
    {
     "name": "stderr",
     "output_type": "stream",
     "text": [
      " 85%|████████▌ | 1278/1500 [03:30<00:35,  6.27it/s]"
     ]
    },
    {
     "name": "stdout",
     "output_type": "stream",
     "text": [
      "Test Error: \n",
      " metric: 0.8062833547592163, Avg test loss: 1226793109.3333333 , loss = 211212016.0 \n",
      "\n",
      "Epoch 1278\n",
      "-------------------------------------\n",
      "Test Error: \n",
      " metric: 0.7440793514251709, Avg test loss: 1496266656.0 , loss = 271126208.0 \n",
      "\n",
      "Epoch 1279\n",
      "-------------------------------------\n"
     ]
    },
    {
     "name": "stderr",
     "output_type": "stream",
     "text": [
      " 85%|████████▌ | 1280/1500 [03:30<00:35,  6.22it/s]"
     ]
    },
    {
     "name": "stdout",
     "output_type": "stream",
     "text": [
      "Test Error: \n",
      " metric: 0.7670608162879944, Avg test loss: 1442079850.6666667 , loss = 156660016.0 \n",
      "\n",
      "Epoch 1280\n",
      "-------------------------------------\n",
      "Test Error: \n",
      " metric: 0.7733319997787476, Avg test loss: 1333051946.6666667 , loss = 194480256.0 \n",
      "\n",
      "Epoch 1281\n",
      "-------------------------------------\n"
     ]
    },
    {
     "name": "stderr",
     "output_type": "stream",
     "text": [
      " 85%|████████▌ | 1282/1500 [03:30<00:34,  6.29it/s]"
     ]
    },
    {
     "name": "stdout",
     "output_type": "stream",
     "text": [
      "Test Error: \n",
      " metric: 0.7795923948287964, Avg test loss: 1245662133.3333333 , loss = 234548832.0 \n",
      "\n",
      "Epoch 1282\n",
      "-------------------------------------\n",
      "Test Error: \n",
      " metric: 0.7488556504249573, Avg test loss: 1471095584.0 , loss = 257220192.0 \n",
      "\n",
      "Epoch 1283\n",
      "-------------------------------------\n"
     ]
    },
    {
     "name": "stderr",
     "output_type": "stream",
     "text": [
      " 86%|████████▌ | 1284/1500 [03:31<00:34,  6.33it/s]"
     ]
    },
    {
     "name": "stdout",
     "output_type": "stream",
     "text": [
      "Test Error: \n",
      " metric: 0.7513954043388367, Avg test loss: 1468493674.6666667 , loss = 357168384.0 \n",
      "\n",
      "Epoch 1284\n",
      "-------------------------------------\n",
      "Test Error: \n",
      " metric: 0.7264876961708069, Avg test loss: 1602270656.0 , loss = 453246464.0 \n",
      "\n",
      "Epoch 1285\n",
      "-------------------------------------\n"
     ]
    },
    {
     "name": "stderr",
     "output_type": "stream",
     "text": [
      " 86%|████████▌ | 1286/1500 [03:31<00:33,  6.36it/s]"
     ]
    },
    {
     "name": "stdout",
     "output_type": "stream",
     "text": [
      "Test Error: \n",
      " metric: 0.7692432999610901, Avg test loss: 1311230784.0 , loss = 485146784.0 \n",
      "\n",
      "Epoch 1286\n",
      "-------------------------------------\n",
      "Test Error: \n",
      " metric: 0.7539953589439392, Avg test loss: 1458850666.6666667 , loss = 96807528.0 \n",
      "\n",
      "Epoch 1287\n",
      "-------------------------------------\n"
     ]
    },
    {
     "name": "stderr",
     "output_type": "stream",
     "text": [
      " 86%|████████▌ | 1288/1500 [03:31<00:31,  6.72it/s]"
     ]
    },
    {
     "name": "stdout",
     "output_type": "stream",
     "text": [
      "Test Error: \n",
      " metric: 0.7761348485946655, Avg test loss: 1321695861.3333333 , loss = 65534856.0 \n",
      "\n",
      "Epoch 1288\n",
      "-------------------------------------\n",
      "Test Error: \n",
      " metric: 0.7736738324165344, Avg test loss: 1391605301.3333333 , loss = 148014448.0 \n",
      "\n",
      "Epoch 1289\n",
      "-------------------------------------\n"
     ]
    },
    {
     "name": "stderr",
     "output_type": "stream",
     "text": [
      " 86%|████████▌ | 1290/1500 [03:32<00:30,  6.79it/s]"
     ]
    },
    {
     "name": "stdout",
     "output_type": "stream",
     "text": [
      "Test Error: \n",
      " metric: 0.7764394879341125, Avg test loss: 1379294090.6666667 , loss = 30579084.0 \n",
      "\n",
      "Epoch 1290\n",
      "-------------------------------------\n",
      "Test Error: \n",
      " metric: 0.7824488878250122, Avg test loss: 1443166357.3333333 , loss = 70013160.0 \n",
      "\n",
      "Epoch 1291\n",
      "-------------------------------------\n"
     ]
    },
    {
     "name": "stderr",
     "output_type": "stream",
     "text": [
      " 86%|████████▌ | 1292/1500 [03:32<00:29,  6.94it/s]"
     ]
    },
    {
     "name": "stdout",
     "output_type": "stream",
     "text": [
      "Test Error: \n",
      " metric: 0.7774449586868286, Avg test loss: 1343444501.3333333 , loss = 41932152.0 \n",
      "\n",
      "Epoch 1292\n",
      "-------------------------------------\n",
      "Test Error: \n",
      " metric: 0.7910473346710205, Avg test loss: 1222673536.0 , loss = 9911896.0 \n",
      "\n",
      "Epoch 1293\n",
      "-------------------------------------\n"
     ]
    },
    {
     "name": "stderr",
     "output_type": "stream",
     "text": [
      " 86%|████████▋ | 1294/1500 [03:32<00:29,  7.03it/s]"
     ]
    },
    {
     "name": "stdout",
     "output_type": "stream",
     "text": [
      "Test Error: \n",
      " metric: 0.7912047505378723, Avg test loss: 1337824757.3333333 , loss = 37851648.0 \n",
      "\n",
      "Epoch 1294\n",
      "-------------------------------------\n",
      "Test Error: \n",
      " metric: 0.7912607789039612, Avg test loss: 1532103498.6666667 , loss = 123393032.0 \n",
      "\n",
      "Epoch 1295\n",
      "-------------------------------------\n"
     ]
    },
    {
     "name": "stderr",
     "output_type": "stream",
     "text": [
      " 86%|████████▋ | 1296/1500 [03:32<00:28,  7.09it/s]"
     ]
    },
    {
     "name": "stdout",
     "output_type": "stream",
     "text": [
      "Test Error: \n",
      " metric: 0.7790389060974121, Avg test loss: 1377274922.6666667 , loss = 264090720.0 \n",
      "\n",
      "Epoch 1296\n",
      "-------------------------------------\n",
      "Test Error: \n",
      " metric: 0.7070214152336121, Avg test loss: 1454440064.0 , loss = 456557888.0 \n",
      "\n",
      "Epoch 1297\n",
      "-------------------------------------\n"
     ]
    },
    {
     "name": "stderr",
     "output_type": "stream",
     "text": [
      " 87%|████████▋ | 1298/1500 [03:33<00:28,  7.10it/s]"
     ]
    },
    {
     "name": "stdout",
     "output_type": "stream",
     "text": [
      "Test Error: \n",
      " metric: 0.7738651037216187, Avg test loss: 1281380256.0 , loss = 60749640.0 \n",
      "\n",
      "Epoch 1298\n",
      "-------------------------------------\n",
      "Test Error: \n",
      " metric: 0.7787631750106812, Avg test loss: 1420625205.3333333 , loss = 13913410.0 \n",
      "\n",
      "Epoch 1299\n",
      "-------------------------------------\n"
     ]
    },
    {
     "name": "stderr",
     "output_type": "stream",
     "text": [
      " 87%|████████▋ | 1300/1500 [03:33<00:29,  6.89it/s]"
     ]
    },
    {
     "name": "stdout",
     "output_type": "stream",
     "text": [
      "Test Error: \n",
      " metric: 0.7787013053894043, Avg test loss: 1432482122.6666667 , loss = 59414444.0 \n",
      "\n",
      "Epoch 1300\n",
      "-------------------------------------\n",
      "Test Error: \n",
      " metric: 0.783179759979248, Avg test loss: 1403202250.6666667 , loss = 51439160.0 \n",
      "\n",
      "Epoch 1301\n",
      "-------------------------------------\n"
     ]
    },
    {
     "name": "stderr",
     "output_type": "stream",
     "text": [
      " 87%|████████▋ | 1302/1500 [03:33<00:29,  6.61it/s]"
     ]
    },
    {
     "name": "stdout",
     "output_type": "stream",
     "text": [
      "Test Error: \n",
      " metric: 0.7905075550079346, Avg test loss: 1513502784.0 , loss = 98422368.0 \n",
      "\n",
      "Epoch 1302\n",
      "-------------------------------------\n",
      "Test Error: \n",
      " metric: 0.7603943943977356, Avg test loss: 1404460106.6666667 , loss = 85063488.0 \n",
      "\n",
      "Epoch 1303\n",
      "-------------------------------------\n"
     ]
    },
    {
     "name": "stderr",
     "output_type": "stream",
     "text": [
      " 87%|████████▋ | 1304/1500 [03:34<00:30,  6.45it/s]"
     ]
    },
    {
     "name": "stdout",
     "output_type": "stream",
     "text": [
      "Test Error: \n",
      " metric: 0.7315361499786377, Avg test loss: 1431335850.6666667 , loss = 282300672.0 \n",
      "\n",
      "Epoch 1304\n",
      "-------------------------------------\n",
      "Test Error: \n",
      " metric: 0.7087526321411133, Avg test loss: 1611790421.3333333 , loss = 391505664.0 \n",
      "\n",
      "Epoch 1305\n",
      "-------------------------------------\n"
     ]
    },
    {
     "name": "stderr",
     "output_type": "stream",
     "text": [
      " 87%|████████▋ | 1306/1500 [03:34<00:30,  6.36it/s]"
     ]
    },
    {
     "name": "stdout",
     "output_type": "stream",
     "text": [
      "Test Error: \n",
      " metric: 0.7556029558181763, Avg test loss: 1350698960.0 , loss = 46902228.0 \n",
      "\n",
      "Epoch 1306\n",
      "-------------------------------------\n",
      "Test Error: \n",
      " metric: 0.8126316070556641, Avg test loss: 1260726549.3333333 , loss = 173243136.0 \n",
      "\n",
      "Epoch 1307\n",
      "-------------------------------------\n"
     ]
    },
    {
     "name": "stderr",
     "output_type": "stream",
     "text": [
      " 87%|████████▋ | 1308/1500 [03:34<00:29,  6.43it/s]"
     ]
    },
    {
     "name": "stdout",
     "output_type": "stream",
     "text": [
      "Test Error: \n",
      " metric: 0.7752838730812073, Avg test loss: 1311806106.6666667 , loss = 35613784.0 \n",
      "\n",
      "Epoch 1308\n",
      "-------------------------------------\n",
      "Test Error: \n",
      " metric: 0.7218441963195801, Avg test loss: 1509614922.6666667 , loss = 140224368.0 \n",
      "\n",
      "Epoch 1309\n",
      "-------------------------------------\n"
     ]
    },
    {
     "name": "stderr",
     "output_type": "stream",
     "text": [
      " 87%|████████▋ | 1310/1500 [03:35<00:29,  6.42it/s]"
     ]
    },
    {
     "name": "stdout",
     "output_type": "stream",
     "text": [
      "Test Error: \n",
      " metric: 0.7458916902542114, Avg test loss: 1415963754.6666667 , loss = 453782880.0 \n",
      "\n",
      "Epoch 1310\n",
      "-------------------------------------\n",
      "Test Error: \n",
      " metric: 0.7862100005149841, Avg test loss: 1422963616.0 , loss = 41484996.0 \n",
      "\n",
      "Epoch 1311\n",
      "-------------------------------------\n"
     ]
    },
    {
     "name": "stderr",
     "output_type": "stream",
     "text": [
      " 87%|████████▋ | 1312/1500 [03:35<00:29,  6.39it/s]"
     ]
    },
    {
     "name": "stdout",
     "output_type": "stream",
     "text": [
      "Test Error: \n",
      " metric: 0.7700529098510742, Avg test loss: 1470222048.0 , loss = 66238432.0 \n",
      "\n",
      "Epoch 1312\n",
      "-------------------------------------\n",
      "Test Error: \n",
      " metric: 0.6897982954978943, Avg test loss: 1601944608.0 , loss = 447891136.0 \n",
      "\n",
      "Epoch 1313\n",
      "-------------------------------------\n"
     ]
    },
    {
     "name": "stderr",
     "output_type": "stream",
     "text": [
      " 88%|████████▊ | 1314/1500 [03:35<00:29,  6.33it/s]"
     ]
    },
    {
     "name": "stdout",
     "output_type": "stream",
     "text": [
      "Test Error: \n",
      " metric: 0.8077228665351868, Avg test loss: 1164662506.6666667 , loss = 579470976.0 \n",
      "\n",
      "Epoch 1314\n",
      "-------------------------------------\n",
      "Test Error: \n",
      " metric: 0.8115447759628296, Avg test loss: 1115123936.0 , loss = 219471744.0 \n",
      "\n",
      "Epoch 1315\n",
      "-------------------------------------\n"
     ]
    },
    {
     "name": "stderr",
     "output_type": "stream",
     "text": [
      " 88%|████████▊ | 1316/1500 [03:35<00:28,  6.39it/s]"
     ]
    },
    {
     "name": "stdout",
     "output_type": "stream",
     "text": [
      "Test Error: \n",
      " metric: 0.7899609804153442, Avg test loss: 1453862154.6666667 , loss = 33089254.0 \n",
      "\n",
      "Epoch 1316\n",
      "-------------------------------------\n",
      "Test Error: \n",
      " metric: 0.7528078556060791, Avg test loss: 1365349898.6666667 , loss = 1142637568.0 \n",
      "\n",
      "Epoch 1317\n",
      "-------------------------------------\n"
     ]
    },
    {
     "name": "stderr",
     "output_type": "stream",
     "text": [
      " 88%|████████▊ | 1318/1500 [03:36<00:29,  6.11it/s]"
     ]
    },
    {
     "name": "stdout",
     "output_type": "stream",
     "text": [
      "Test Error: \n",
      " metric: 0.7748704552650452, Avg test loss: 1311773728.0 , loss = 249357408.0 \n",
      "\n",
      "Epoch 1318\n",
      "-------------------------------------\n",
      "Test Error: \n",
      " metric: 0.7852039933204651, Avg test loss: 1428441344.0 , loss = 70167360.0 \n",
      "\n",
      "Epoch 1319\n",
      "-------------------------------------\n"
     ]
    },
    {
     "name": "stderr",
     "output_type": "stream",
     "text": [
      " 88%|████████▊ | 1320/1500 [03:36<00:30,  5.89it/s]"
     ]
    },
    {
     "name": "stdout",
     "output_type": "stream",
     "text": [
      "Test Error: \n",
      " metric: 0.8017290234565735, Avg test loss: 1411681429.3333333 , loss = 60236116.0 \n",
      "\n",
      "Epoch 1320\n",
      "-------------------------------------\n",
      "Test Error: \n",
      " metric: 0.7885394096374512, Avg test loss: 1236374037.3333333 , loss = 80804712.0 \n",
      "\n",
      "Epoch 1321\n",
      "-------------------------------------\n"
     ]
    },
    {
     "name": "stderr",
     "output_type": "stream",
     "text": [
      " 88%|████████▊ | 1322/1500 [03:37<00:31,  5.61it/s]"
     ]
    },
    {
     "name": "stdout",
     "output_type": "stream",
     "text": [
      "Test Error: \n",
      " metric: 0.781257152557373, Avg test loss: 1297639413.3333333 , loss = 16529593.0 \n",
      "\n",
      "Epoch 1322\n",
      "-------------------------------------\n",
      "Test Error: \n",
      " metric: 0.7966775298118591, Avg test loss: 1421666240.0 , loss = 7859886.0 \n",
      "\n",
      "Epoch 1323\n",
      "-------------------------------------\n"
     ]
    },
    {
     "name": "stderr",
     "output_type": "stream",
     "text": [
      " 88%|████████▊ | 1324/1500 [03:37<00:31,  5.61it/s]"
     ]
    },
    {
     "name": "stdout",
     "output_type": "stream",
     "text": [
      "Test Error: \n",
      " metric: 0.7904826402664185, Avg test loss: 1482163136.0 , loss = 2344828672.0 \n",
      "\n",
      "Epoch 1324\n",
      "-------------------------------------\n",
      "Test Error: \n",
      " metric: 0.8051756024360657, Avg test loss: 1427853962.6666667 , loss = 648911808.0 \n",
      "\n",
      "Epoch 1325\n",
      "-------------------------------------\n"
     ]
    },
    {
     "name": "stderr",
     "output_type": "stream",
     "text": [
      " 88%|████████▊ | 1326/1500 [03:37<00:30,  5.75it/s]"
     ]
    },
    {
     "name": "stdout",
     "output_type": "stream",
     "text": [
      "Test Error: \n",
      " metric: 0.7814339399337769, Avg test loss: 1425861205.3333333 , loss = 834802176.0 \n",
      "\n",
      "Epoch 1326\n",
      "-------------------------------------\n",
      "Test Error: \n",
      " metric: 0.7806354761123657, Avg test loss: 1224768789.3333333 , loss = 35734816.0 \n",
      "\n",
      "Epoch 1327\n",
      "-------------------------------------\n"
     ]
    },
    {
     "name": "stderr",
     "output_type": "stream",
     "text": [
      " 89%|████████▊ | 1328/1500 [03:38<00:30,  5.62it/s]"
     ]
    },
    {
     "name": "stdout",
     "output_type": "stream",
     "text": [
      "Test Error: \n",
      " metric: 0.6971592307090759, Avg test loss: 1702122154.6666667 , loss = 741219264.0 \n",
      "\n",
      "Epoch 1328\n",
      "-------------------------------------\n",
      "Test Error: \n",
      " metric: 0.7692473530769348, Avg test loss: 1450291520.0 , loss = 202565984.0 \n",
      "\n",
      "Epoch 1329\n",
      "-------------------------------------\n"
     ]
    },
    {
     "name": "stderr",
     "output_type": "stream",
     "text": [
      " 89%|████████▊ | 1330/1500 [03:38<00:30,  5.63it/s]"
     ]
    },
    {
     "name": "stdout",
     "output_type": "stream",
     "text": [
      "Test Error: \n",
      " metric: 0.7734108567237854, Avg test loss: 1270976554.6666667 , loss = 222686352.0 \n",
      "\n",
      "Epoch 1330\n",
      "-------------------------------------\n",
      "Test Error: \n",
      " metric: 0.7716612219810486, Avg test loss: 1187780320.0 , loss = 239448192.0 \n",
      "\n",
      "Epoch 1331\n",
      "-------------------------------------\n"
     ]
    },
    {
     "name": "stderr",
     "output_type": "stream",
     "text": [
      " 89%|████████▉ | 1332/1500 [03:38<00:29,  5.74it/s]"
     ]
    },
    {
     "name": "stdout",
     "output_type": "stream",
     "text": [
      "Test Error: \n",
      " metric: 0.7966465353965759, Avg test loss: 1223680981.3333333 , loss = 68406696.0 \n",
      "\n",
      "Epoch 1332\n",
      "-------------------------------------\n",
      "Test Error: \n",
      " metric: 0.7477593421936035, Avg test loss: 1306759402.6666667 , loss = 99088464.0 \n",
      "\n",
      "Epoch 1333\n",
      "-------------------------------------\n"
     ]
    },
    {
     "name": "stderr",
     "output_type": "stream",
     "text": [
      " 89%|████████▉ | 1334/1500 [03:39<00:28,  5.77it/s]"
     ]
    },
    {
     "name": "stdout",
     "output_type": "stream",
     "text": [
      "Test Error: \n",
      " metric: 0.7533921003341675, Avg test loss: 1428660245.3333333 , loss = 85397616.0 \n",
      "\n",
      "Epoch 1334\n",
      "-------------------------------------\n",
      "Test Error: \n",
      " metric: 0.793569803237915, Avg test loss: 1358723872.0 , loss = 223724688.0 \n",
      "\n",
      "Epoch 1335\n",
      "-------------------------------------\n"
     ]
    },
    {
     "name": "stderr",
     "output_type": "stream",
     "text": [
      " 89%|████████▉ | 1336/1500 [03:39<00:27,  5.87it/s]"
     ]
    },
    {
     "name": "stdout",
     "output_type": "stream",
     "text": [
      "Test Error: \n",
      " metric: 0.7471246719360352, Avg test loss: 1300884042.6666667 , loss = 45092560.0 \n",
      "\n",
      "Epoch 1336\n",
      "-------------------------------------\n",
      "Test Error: \n",
      " metric: 0.7782347202301025, Avg test loss: 1517607050.6666667 , loss = 141266624.0 \n",
      "\n",
      "Epoch 1337\n",
      "-------------------------------------\n"
     ]
    },
    {
     "name": "stderr",
     "output_type": "stream",
     "text": [
      " 89%|████████▉ | 1338/1500 [03:39<00:27,  5.82it/s]"
     ]
    },
    {
     "name": "stdout",
     "output_type": "stream",
     "text": [
      "Test Error: \n",
      " metric: 0.7457289695739746, Avg test loss: 1432013525.3333333 , loss = 83237416.0 \n",
      "\n",
      "Epoch 1338\n",
      "-------------------------------------\n",
      "Test Error: \n",
      " metric: 0.781847357749939, Avg test loss: 1322627552.0 , loss = 63894316.0 \n",
      "\n",
      "Epoch 1339\n",
      "-------------------------------------\n"
     ]
    },
    {
     "name": "stderr",
     "output_type": "stream",
     "text": [
      " 89%|████████▉ | 1340/1500 [03:40<00:27,  5.81it/s]"
     ]
    },
    {
     "name": "stdout",
     "output_type": "stream",
     "text": [
      "Test Error: \n",
      " metric: 0.7887929081916809, Avg test loss: 1295165824.0 , loss = 250868624.0 \n",
      "\n",
      "Epoch 1340\n",
      "-------------------------------------\n",
      "Test Error: \n",
      " metric: 0.7651998996734619, Avg test loss: 1381962922.6666667 , loss = 59124816.0 \n",
      "\n",
      "Epoch 1341\n",
      "-------------------------------------\n"
     ]
    },
    {
     "name": "stderr",
     "output_type": "stream",
     "text": [
      " 89%|████████▉ | 1342/1500 [03:40<00:26,  5.86it/s]"
     ]
    },
    {
     "name": "stdout",
     "output_type": "stream",
     "text": [
      "Test Error: \n",
      " metric: 0.7924984097480774, Avg test loss: 1335429322.6666667 , loss = 85023792.0 \n",
      "\n",
      "Epoch 1342\n",
      "-------------------------------------\n",
      "Test Error: \n",
      " metric: 0.7793161273002625, Avg test loss: 1462711104.0 , loss = 113444672.0 \n",
      "\n",
      "Epoch 1343\n",
      "-------------------------------------\n"
     ]
    },
    {
     "name": "stderr",
     "output_type": "stream",
     "text": [
      " 90%|████████▉ | 1344/1500 [03:40<00:26,  5.93it/s]"
     ]
    },
    {
     "name": "stdout",
     "output_type": "stream",
     "text": [
      "Test Error: \n",
      " metric: 0.7814567685127258, Avg test loss: 1428605962.6666667 , loss = 26430236.0 \n",
      "\n",
      "Epoch 1344\n",
      "-------------------------------------\n",
      "Test Error: \n",
      " metric: 0.741796612739563, Avg test loss: 1454900768.0 , loss = 200075712.0 \n",
      "\n",
      "Epoch 1345\n",
      "-------------------------------------\n"
     ]
    },
    {
     "name": "stderr",
     "output_type": "stream",
     "text": [
      " 90%|████████▉ | 1346/1500 [03:41<00:25,  6.02it/s]"
     ]
    },
    {
     "name": "stdout",
     "output_type": "stream",
     "text": [
      "Test Error: \n",
      " metric: 0.7788139581680298, Avg test loss: 1540093450.6666667 , loss = 72865888.0 \n",
      "\n",
      "Epoch 1346\n",
      "-------------------------------------\n",
      "Test Error: \n",
      " metric: 0.8084087371826172, Avg test loss: 1247212997.3333333 , loss = 33932716.0 \n",
      "\n",
      "Epoch 1347\n",
      "-------------------------------------\n"
     ]
    },
    {
     "name": "stderr",
     "output_type": "stream",
     "text": [
      " 90%|████████▉ | 1348/1500 [03:41<00:25,  6.02it/s]"
     ]
    },
    {
     "name": "stdout",
     "output_type": "stream",
     "text": [
      "Test Error: \n",
      " metric: 0.786837100982666, Avg test loss: 1275683712.0 , loss = 9354194.0 \n",
      "\n",
      "Epoch 1348\n",
      "-------------------------------------\n",
      "Test Error: \n",
      " metric: 0.7587231397628784, Avg test loss: 1258796661.3333333 , loss = 18924156.0 \n",
      "\n",
      "Epoch 1349\n",
      "-------------------------------------\n"
     ]
    },
    {
     "name": "stderr",
     "output_type": "stream",
     "text": [
      " 90%|█████████ | 1350/1500 [03:41<00:24,  6.04it/s]"
     ]
    },
    {
     "name": "stdout",
     "output_type": "stream",
     "text": [
      "Test Error: \n",
      " metric: 0.7188942432403564, Avg test loss: 1456579861.3333333 , loss = 194345328.0 \n",
      "\n",
      "Epoch 1350\n",
      "-------------------------------------\n",
      "Test Error: \n",
      " metric: 0.7844394445419312, Avg test loss: 1246805450.6666667 , loss = 223532800.0 \n",
      "\n",
      "Epoch 1351\n",
      "-------------------------------------\n"
     ]
    },
    {
     "name": "stderr",
     "output_type": "stream",
     "text": [
      " 90%|█████████ | 1352/1500 [03:42<00:24,  6.13it/s]"
     ]
    },
    {
     "name": "stdout",
     "output_type": "stream",
     "text": [
      "Test Error: \n",
      " metric: 0.7675544619560242, Avg test loss: 1358970026.6666667 , loss = 185086528.0 \n",
      "\n",
      "Epoch 1352\n",
      "-------------------------------------\n",
      "Test Error: \n",
      " metric: 0.759347140789032, Avg test loss: 1410645322.6666667 , loss = 152497824.0 \n",
      "\n",
      "Epoch 1353\n",
      "-------------------------------------\n"
     ]
    },
    {
     "name": "stderr",
     "output_type": "stream",
     "text": [
      " 90%|█████████ | 1354/1500 [03:42<00:24,  5.91it/s]"
     ]
    },
    {
     "name": "stdout",
     "output_type": "stream",
     "text": [
      "Test Error: \n",
      " metric: 0.7732565402984619, Avg test loss: 1210839402.6666667 , loss = 111137592.0 \n",
      "\n",
      "Epoch 1354\n",
      "-------------------------------------\n",
      "Test Error: \n",
      " metric: 0.7358418703079224, Avg test loss: 1498276704.0 , loss = 161702160.0 \n",
      "\n",
      "Epoch 1355\n",
      "-------------------------------------\n"
     ]
    },
    {
     "name": "stderr",
     "output_type": "stream",
     "text": [
      " 90%|█████████ | 1356/1500 [03:42<00:24,  5.96it/s]"
     ]
    },
    {
     "name": "stdout",
     "output_type": "stream",
     "text": [
      "Test Error: \n",
      " metric: 0.8012669086456299, Avg test loss: 1190191221.3333333 , loss = 116212976.0 \n",
      "\n",
      "Epoch 1356\n",
      "-------------------------------------\n",
      "Test Error: \n",
      " metric: 0.7799196839332581, Avg test loss: 1341403786.6666667 , loss = 110693376.0 \n",
      "\n",
      "Epoch 1357\n",
      "-------------------------------------\n"
     ]
    },
    {
     "name": "stderr",
     "output_type": "stream",
     "text": [
      " 91%|█████████ | 1358/1500 [03:43<00:23,  6.06it/s]"
     ]
    },
    {
     "name": "stdout",
     "output_type": "stream",
     "text": [
      "Test Error: \n",
      " metric: 0.7500096559524536, Avg test loss: 1376920170.6666667 , loss = 27022086.0 \n",
      "\n",
      "Epoch 1358\n",
      "-------------------------------------\n",
      "Test Error: \n",
      " metric: 0.7626765370368958, Avg test loss: 1453646944.0 , loss = 163980736.0 \n",
      "\n",
      "Epoch 1359\n",
      "-------------------------------------\n"
     ]
    },
    {
     "name": "stderr",
     "output_type": "stream",
     "text": [
      " 91%|█████████ | 1360/1500 [03:43<00:22,  6.13it/s]"
     ]
    },
    {
     "name": "stdout",
     "output_type": "stream",
     "text": [
      "Test Error: \n",
      " metric: 0.7877493500709534, Avg test loss: 1212016000.0 , loss = 35478112.0 \n",
      "\n",
      "Epoch 1360\n",
      "-------------------------------------\n",
      "Test Error: \n",
      " metric: 0.7738690376281738, Avg test loss: 1272142394.6666667 , loss = 23228024.0 \n",
      "\n",
      "Epoch 1361\n",
      "-------------------------------------\n"
     ]
    },
    {
     "name": "stderr",
     "output_type": "stream",
     "text": [
      " 91%|█████████ | 1362/1500 [03:43<00:22,  6.14it/s]"
     ]
    },
    {
     "name": "stdout",
     "output_type": "stream",
     "text": [
      "Test Error: \n",
      " metric: 0.7700283527374268, Avg test loss: 1292891765.3333333 , loss = 168530048.0 \n",
      "\n",
      "Epoch 1362\n",
      "-------------------------------------\n",
      "Test Error: \n",
      " metric: 0.7959195375442505, Avg test loss: 1311375264.0 , loss = 42404816.0 \n",
      "\n",
      "Epoch 1363\n",
      "-------------------------------------\n"
     ]
    },
    {
     "name": "stderr",
     "output_type": "stream",
     "text": [
      " 91%|█████████ | 1364/1500 [03:44<00:21,  6.21it/s]"
     ]
    },
    {
     "name": "stdout",
     "output_type": "stream",
     "text": [
      "Test Error: \n",
      " metric: 0.7662502527236938, Avg test loss: 1375166058.6666667 , loss = 197557648.0 \n",
      "\n",
      "Epoch 1364\n",
      "-------------------------------------\n",
      "Test Error: \n",
      " metric: 0.7488960027694702, Avg test loss: 1480585877.3333333 , loss = 307785216.0 \n",
      "\n",
      "Epoch 1365\n",
      "-------------------------------------\n"
     ]
    },
    {
     "name": "stderr",
     "output_type": "stream",
     "text": [
      " 91%|█████████ | 1366/1500 [03:44<00:22,  6.08it/s]"
     ]
    },
    {
     "name": "stdout",
     "output_type": "stream",
     "text": [
      "Test Error: \n",
      " metric: 0.6962441205978394, Avg test loss: 1570979477.3333333 , loss = 950441536.0 \n",
      "\n",
      "Epoch 1366\n",
      "-------------------------------------\n",
      "Test Error: \n",
      " metric: 0.726438581943512, Avg test loss: 1491079093.3333333 , loss = 82220416.0 \n",
      "\n",
      "Epoch 1367\n",
      "-------------------------------------\n"
     ]
    },
    {
     "name": "stderr",
     "output_type": "stream",
     "text": [
      " 91%|█████████ | 1368/1500 [03:44<00:22,  5.95it/s]"
     ]
    },
    {
     "name": "stdout",
     "output_type": "stream",
     "text": [
      "Test Error: \n",
      " metric: 0.7781937122344971, Avg test loss: 1426861120.0 , loss = 360543008.0 \n",
      "\n",
      "Epoch 1368\n",
      "-------------------------------------\n",
      "Test Error: \n",
      " metric: 0.757498025894165, Avg test loss: 1383367882.6666667 , loss = 108361224.0 \n",
      "\n",
      "Epoch 1369\n",
      "-------------------------------------\n"
     ]
    },
    {
     "name": "stderr",
     "output_type": "stream",
     "text": [
      " 91%|█████████▏| 1370/1500 [03:45<00:22,  5.87it/s]"
     ]
    },
    {
     "name": "stdout",
     "output_type": "stream",
     "text": [
      "Test Error: \n",
      " metric: 0.765167236328125, Avg test loss: 1360163829.3333333 , loss = 277490368.0 \n",
      "\n",
      "Epoch 1370\n",
      "-------------------------------------\n",
      "Test Error: \n",
      " metric: 0.7410222291946411, Avg test loss: 1423647658.6666667 , loss = 608813312.0 \n",
      "\n",
      "Epoch 1371\n",
      "-------------------------------------\n"
     ]
    },
    {
     "name": "stderr",
     "output_type": "stream",
     "text": [
      " 91%|█████████▏| 1372/1500 [03:45<00:21,  6.01it/s]"
     ]
    },
    {
     "name": "stdout",
     "output_type": "stream",
     "text": [
      "Test Error: \n",
      " metric: 0.7702486515045166, Avg test loss: 1360206485.3333333 , loss = 81803384.0 \n",
      "\n",
      "Epoch 1372\n",
      "-------------------------------------\n",
      "Test Error: \n",
      " metric: 0.7690892219543457, Avg test loss: 1321212597.3333333 , loss = 355759392.0 \n",
      "\n",
      "Epoch 1373\n",
      "-------------------------------------\n"
     ]
    },
    {
     "name": "stderr",
     "output_type": "stream",
     "text": [
      " 92%|█████████▏| 1374/1500 [03:45<00:20,  6.03it/s]"
     ]
    },
    {
     "name": "stdout",
     "output_type": "stream",
     "text": [
      "Test Error: \n",
      " metric: 0.7679306864738464, Avg test loss: 1466570517.3333333 , loss = 156894864.0 \n",
      "\n",
      "Epoch 1374\n",
      "-------------------------------------\n",
      "Test Error: \n",
      " metric: 0.7720808982849121, Avg test loss: 1475205952.0 , loss = 327017280.0 \n",
      "\n",
      "Epoch 1375\n",
      "-------------------------------------\n"
     ]
    },
    {
     "name": "stderr",
     "output_type": "stream",
     "text": [
      " 92%|█████████▏| 1376/1500 [03:46<00:20,  6.10it/s]"
     ]
    },
    {
     "name": "stdout",
     "output_type": "stream",
     "text": [
      "Test Error: \n",
      " metric: 0.7865371108055115, Avg test loss: 1441968565.3333333 , loss = 116471552.0 \n",
      "\n",
      "Epoch 1376\n",
      "-------------------------------------\n",
      "Test Error: \n",
      " metric: 0.7741901874542236, Avg test loss: 1409280896.0 , loss = 23497922.0 \n",
      "\n",
      "Epoch 1377\n",
      "-------------------------------------\n"
     ]
    },
    {
     "name": "stderr",
     "output_type": "stream",
     "text": [
      " 92%|█████████▏| 1378/1500 [03:46<00:19,  6.11it/s]"
     ]
    },
    {
     "name": "stdout",
     "output_type": "stream",
     "text": [
      "Test Error: \n",
      " metric: 0.7821710109710693, Avg test loss: 1349872874.6666667 , loss = 325304832.0 \n",
      "\n",
      "Epoch 1378\n",
      "-------------------------------------\n",
      "Test Error: \n",
      " metric: 0.7799556851387024, Avg test loss: 1316399893.3333333 , loss = 189842176.0 \n",
      "\n",
      "Epoch 1379\n",
      "-------------------------------------\n"
     ]
    },
    {
     "name": "stderr",
     "output_type": "stream",
     "text": [
      " 92%|█████████▏| 1380/1500 [03:46<00:19,  6.06it/s]"
     ]
    },
    {
     "name": "stdout",
     "output_type": "stream",
     "text": [
      "Test Error: \n",
      " metric: 0.782172679901123, Avg test loss: 1276161045.3333333 , loss = 314795360.0 \n",
      "\n",
      "Epoch 1380\n",
      "-------------------------------------\n",
      "Test Error: \n",
      " metric: 0.7603794932365417, Avg test loss: 1334615029.3333333 , loss = 139778256.0 \n",
      "\n",
      "Epoch 1381\n",
      "-------------------------------------\n"
     ]
    },
    {
     "name": "stderr",
     "output_type": "stream",
     "text": [
      " 92%|█████████▏| 1382/1500 [03:47<00:19,  6.04it/s]"
     ]
    },
    {
     "name": "stdout",
     "output_type": "stream",
     "text": [
      "Test Error: \n",
      " metric: 0.7513065338134766, Avg test loss: 1332851370.6666667 , loss = 135560800.0 \n",
      "\n",
      "Epoch 1382\n",
      "-------------------------------------\n",
      "Test Error: \n",
      " metric: 0.7706009149551392, Avg test loss: 1346085781.3333333 , loss = 127276176.0 \n",
      "\n",
      "Epoch 1383\n",
      "-------------------------------------\n"
     ]
    },
    {
     "name": "stderr",
     "output_type": "stream",
     "text": [
      " 92%|█████████▏| 1384/1500 [03:47<00:19,  5.98it/s]"
     ]
    },
    {
     "name": "stdout",
     "output_type": "stream",
     "text": [
      "Test Error: \n",
      " metric: 0.7812380790710449, Avg test loss: 1422925504.0 , loss = 203343392.0 \n",
      "\n",
      "Epoch 1384\n",
      "-------------------------------------\n",
      "Test Error: \n",
      " metric: 0.7265711426734924, Avg test loss: 1504039381.3333333 , loss = 37876068.0 \n",
      "\n",
      "Epoch 1385\n",
      "-------------------------------------\n"
     ]
    },
    {
     "name": "stderr",
     "output_type": "stream",
     "text": [
      " 92%|█████████▏| 1386/1500 [03:47<00:18,  6.01it/s]"
     ]
    },
    {
     "name": "stdout",
     "output_type": "stream",
     "text": [
      "Test Error: \n",
      " metric: 0.7878467440605164, Avg test loss: 1441498261.3333333 , loss = 23958828.0 \n",
      "\n",
      "Epoch 1386\n",
      "-------------------------------------\n",
      "Test Error: \n",
      " metric: 0.7753313779830933, Avg test loss: 1336356282.6666667 , loss = 165847904.0 \n",
      "\n",
      "Epoch 1387\n",
      "-------------------------------------\n"
     ]
    },
    {
     "name": "stderr",
     "output_type": "stream",
     "text": [
      " 93%|█████████▎| 1388/1500 [03:48<00:18,  6.01it/s]"
     ]
    },
    {
     "name": "stdout",
     "output_type": "stream",
     "text": [
      "Test Error: \n",
      " metric: 0.7796271443367004, Avg test loss: 1300656736.0 , loss = 169270096.0 \n",
      "\n",
      "Epoch 1388\n",
      "-------------------------------------\n",
      "Test Error: \n",
      " metric: 0.7657403945922852, Avg test loss: 1385676714.6666667 , loss = 84043360.0 \n",
      "\n",
      "Epoch 1389\n",
      "-------------------------------------\n"
     ]
    },
    {
     "name": "stderr",
     "output_type": "stream",
     "text": [
      " 93%|█████████▎| 1390/1500 [03:48<00:18,  6.09it/s]"
     ]
    },
    {
     "name": "stdout",
     "output_type": "stream",
     "text": [
      "Test Error: \n",
      " metric: 0.7821609973907471, Avg test loss: 1479003136.0 , loss = 51468172.0 \n",
      "\n",
      "Epoch 1390\n",
      "-------------------------------------\n",
      "Test Error: \n",
      " metric: 0.7417351007461548, Avg test loss: 1517217792.0 , loss = 235857408.0 \n",
      "\n",
      "Epoch 1391\n",
      "-------------------------------------\n"
     ]
    },
    {
     "name": "stderr",
     "output_type": "stream",
     "text": [
      " 93%|█████████▎| 1392/1500 [03:48<00:17,  6.23it/s]"
     ]
    },
    {
     "name": "stdout",
     "output_type": "stream",
     "text": [
      "Test Error: \n",
      " metric: 0.7384573817253113, Avg test loss: 1747749504.0 , loss = 817886848.0 \n",
      "\n",
      "Epoch 1392\n",
      "-------------------------------------\n",
      "Test Error: \n",
      " metric: 0.6730525493621826, Avg test loss: 1593869450.6666667 , loss = 412734400.0 \n",
      "\n",
      "Epoch 1393\n",
      "-------------------------------------\n"
     ]
    },
    {
     "name": "stderr",
     "output_type": "stream",
     "text": [
      " 93%|█████████▎| 1394/1500 [03:49<00:17,  6.02it/s]"
     ]
    },
    {
     "name": "stdout",
     "output_type": "stream",
     "text": [
      "Test Error: \n",
      " metric: 0.7986631393432617, Avg test loss: 1484097088.0 , loss = 52639484.0 \n",
      "\n",
      "Epoch 1394\n",
      "-------------------------------------\n",
      "Test Error: \n",
      " metric: 0.8060364723205566, Avg test loss: 1240142394.6666667 , loss = 307978144.0 \n",
      "\n",
      "Epoch 1395\n",
      "-------------------------------------\n"
     ]
    },
    {
     "name": "stderr",
     "output_type": "stream",
     "text": [
      " 93%|█████████▎| 1396/1500 [03:49<00:17,  5.96it/s]"
     ]
    },
    {
     "name": "stdout",
     "output_type": "stream",
     "text": [
      "Test Error: \n",
      " metric: 0.7736518383026123, Avg test loss: 1523885621.3333333 , loss = 227503968.0 \n",
      "\n",
      "Epoch 1396\n",
      "-------------------------------------\n",
      "Test Error: \n",
      " metric: 0.7748498916625977, Avg test loss: 1367304352.0 , loss = 48307688.0 \n",
      "\n",
      "Epoch 1397\n",
      "-------------------------------------\n"
     ]
    },
    {
     "name": "stderr",
     "output_type": "stream",
     "text": [
      " 93%|█████████▎| 1398/1500 [03:49<00:16,  6.00it/s]"
     ]
    },
    {
     "name": "stdout",
     "output_type": "stream",
     "text": [
      "Test Error: \n",
      " metric: 0.7774567008018494, Avg test loss: 1427565077.3333333 , loss = 23680880.0 \n",
      "\n",
      "Epoch 1398\n",
      "-------------------------------------\n",
      "Test Error: \n",
      " metric: 0.7821660041809082, Avg test loss: 1301807253.3333333 , loss = 39702096.0 \n",
      "\n",
      "Epoch 1399\n",
      "-------------------------------------\n"
     ]
    },
    {
     "name": "stderr",
     "output_type": "stream",
     "text": [
      " 93%|█████████▎| 1400/1500 [03:50<00:16,  6.08it/s]"
     ]
    },
    {
     "name": "stdout",
     "output_type": "stream",
     "text": [
      "Test Error: \n",
      " metric: 0.8032587170600891, Avg test loss: 1576757749.3333333 , loss = 311161408.0 \n",
      "\n",
      "Epoch 1400\n",
      "-------------------------------------\n",
      "Test Error: \n",
      " metric: 0.7851404547691345, Avg test loss: 1245749333.3333333 , loss = 160510336.0 \n",
      "\n",
      "Epoch 1401\n",
      "-------------------------------------\n"
     ]
    },
    {
     "name": "stderr",
     "output_type": "stream",
     "text": [
      " 93%|█████████▎| 1402/1500 [03:50<00:16,  6.01it/s]"
     ]
    },
    {
     "name": "stdout",
     "output_type": "stream",
     "text": [
      "Test Error: \n",
      " metric: 0.7790876626968384, Avg test loss: 1435529408.0 , loss = 79356848.0 \n",
      "\n",
      "Epoch 1402\n",
      "-------------------------------------\n",
      "Test Error: \n",
      " metric: 0.7395623922348022, Avg test loss: 1378766282.6666667 , loss = 80871000.0 \n",
      "\n",
      "Epoch 1403\n",
      "-------------------------------------\n"
     ]
    },
    {
     "name": "stderr",
     "output_type": "stream",
     "text": [
      " 94%|█████████▎| 1404/1500 [03:50<00:16,  5.96it/s]"
     ]
    },
    {
     "name": "stdout",
     "output_type": "stream",
     "text": [
      "Test Error: \n",
      " metric: 0.7679473161697388, Avg test loss: 1384731349.3333333 , loss = 54802356.0 \n",
      "\n",
      "Epoch 1404\n",
      "-------------------------------------\n",
      "Test Error: \n",
      " metric: 0.7843559980392456, Avg test loss: 1606711722.6666667 , loss = 333937504.0 \n",
      "\n",
      "Epoch 1405\n",
      "-------------------------------------\n"
     ]
    },
    {
     "name": "stderr",
     "output_type": "stream",
     "text": [
      " 94%|█████████▎| 1406/1500 [03:51<00:15,  6.06it/s]"
     ]
    },
    {
     "name": "stdout",
     "output_type": "stream",
     "text": [
      "Test Error: \n",
      " metric: 0.7093870043754578, Avg test loss: 1657555232.0 , loss = 23544666.0 \n",
      "\n",
      "Epoch 1406\n",
      "-------------------------------------\n",
      "Test Error: \n",
      " metric: 0.7406288981437683, Avg test loss: 1644574058.6666667 , loss = 278770880.0 \n",
      "\n",
      "Epoch 1407\n",
      "-------------------------------------\n"
     ]
    },
    {
     "name": "stderr",
     "output_type": "stream",
     "text": [
      " 94%|█████████▍| 1408/1500 [03:51<00:15,  6.10it/s]"
     ]
    },
    {
     "name": "stdout",
     "output_type": "stream",
     "text": [
      "Test Error: \n",
      " metric: 0.7725194692611694, Avg test loss: 1322303168.0 , loss = 11926635.0 \n",
      "\n",
      "Epoch 1408\n",
      "-------------------------------------\n",
      "Test Error: \n",
      " metric: 0.7758917212486267, Avg test loss: 1296528106.6666667 , loss = 203141024.0 \n",
      "\n",
      "Epoch 1409\n",
      "-------------------------------------\n"
     ]
    },
    {
     "name": "stderr",
     "output_type": "stream",
     "text": [
      " 94%|█████████▍| 1410/1500 [03:51<00:14,  6.10it/s]"
     ]
    },
    {
     "name": "stdout",
     "output_type": "stream",
     "text": [
      "Test Error: \n",
      " metric: 0.7758393883705139, Avg test loss: 1312907349.3333333 , loss = 53458160.0 \n",
      "\n",
      "Epoch 1410\n",
      "-------------------------------------\n",
      "Test Error: \n",
      " metric: 0.7766274213790894, Avg test loss: 1451205898.6666667 , loss = 308352640.0 \n",
      "\n",
      "Epoch 1411\n",
      "-------------------------------------\n"
     ]
    },
    {
     "name": "stderr",
     "output_type": "stream",
     "text": [
      " 94%|█████████▍| 1412/1500 [03:52<00:14,  6.19it/s]"
     ]
    },
    {
     "name": "stdout",
     "output_type": "stream",
     "text": [
      "Test Error: \n",
      " metric: 0.7572433948516846, Avg test loss: 1469586410.6666667 , loss = 602440576.0 \n",
      "\n",
      "Epoch 1412\n",
      "-------------------------------------\n",
      "Test Error: \n",
      " metric: 0.7714532017707825, Avg test loss: 1584265642.6666667 , loss = 1491436544.0 \n",
      "\n",
      "Epoch 1413\n",
      "-------------------------------------\n"
     ]
    },
    {
     "name": "stderr",
     "output_type": "stream",
     "text": [
      " 94%|█████████▍| 1414/1500 [03:52<00:13,  6.22it/s]"
     ]
    },
    {
     "name": "stdout",
     "output_type": "stream",
     "text": [
      "Test Error: \n",
      " metric: 0.7836456298828125, Avg test loss: 1358535018.6666667 , loss = 10478902.0 \n",
      "\n",
      "Epoch 1414\n",
      "-------------------------------------\n",
      "Test Error: \n",
      " metric: 0.7492008805274963, Avg test loss: 1404945066.6666667 , loss = 279940224.0 \n",
      "\n",
      "Epoch 1415\n",
      "-------------------------------------\n"
     ]
    },
    {
     "name": "stderr",
     "output_type": "stream",
     "text": [
      " 94%|█████████▍| 1416/1500 [03:52<00:13,  6.26it/s]"
     ]
    },
    {
     "name": "stdout",
     "output_type": "stream",
     "text": [
      "Test Error: \n",
      " metric: 0.8016883730888367, Avg test loss: 1225897781.3333333 , loss = 112200704.0 \n",
      "\n",
      "Epoch 1416\n",
      "-------------------------------------\n",
      "Test Error: \n",
      " metric: 0.7709746956825256, Avg test loss: 1444338421.3333333 , loss = 208400672.0 \n",
      "\n",
      "Epoch 1417\n",
      "-------------------------------------\n"
     ]
    },
    {
     "name": "stderr",
     "output_type": "stream",
     "text": [
      " 95%|█████████▍| 1418/1500 [03:53<00:13,  6.19it/s]"
     ]
    },
    {
     "name": "stdout",
     "output_type": "stream",
     "text": [
      "Test Error: \n",
      " metric: 0.7742789387702942, Avg test loss: 1391612021.3333333 , loss = 60814592.0 \n",
      "\n",
      "Epoch 1418\n",
      "-------------------------------------\n",
      "Test Error: \n",
      " metric: 0.7120833396911621, Avg test loss: 1644559466.6666667 , loss = 566031360.0 \n",
      "\n",
      "Epoch 1419\n",
      "-------------------------------------\n"
     ]
    },
    {
     "name": "stderr",
     "output_type": "stream",
     "text": [
      " 95%|█████████▍| 1420/1500 [03:53<00:12,  6.27it/s]"
     ]
    },
    {
     "name": "stdout",
     "output_type": "stream",
     "text": [
      "Test Error: \n",
      " metric: 0.8041496872901917, Avg test loss: 1299604906.6666667 , loss = 107330768.0 \n",
      "\n",
      "Epoch 1420\n",
      "-------------------------------------\n",
      "Test Error: \n",
      " metric: 0.683530330657959, Avg test loss: 1705627242.6666667 , loss = 246755872.0 \n",
      "\n",
      "Epoch 1421\n",
      "-------------------------------------\n"
     ]
    },
    {
     "name": "stderr",
     "output_type": "stream",
     "text": [
      " 95%|█████████▍| 1422/1500 [03:53<00:12,  6.30it/s]"
     ]
    },
    {
     "name": "stdout",
     "output_type": "stream",
     "text": [
      "Test Error: \n",
      " metric: 0.7995215654373169, Avg test loss: 1238607925.3333333 , loss = 652658944.0 \n",
      "\n",
      "Epoch 1422\n",
      "-------------------------------------\n",
      "Test Error: \n",
      " metric: 0.6574267148971558, Avg test loss: 2771692821.3333335 , loss = 979998272.0 \n",
      "\n",
      "Epoch 1423\n",
      "-------------------------------------\n"
     ]
    },
    {
     "name": "stderr",
     "output_type": "stream",
     "text": [
      " 95%|█████████▍| 1424/1500 [03:53<00:12,  6.20it/s]"
     ]
    },
    {
     "name": "stdout",
     "output_type": "stream",
     "text": [
      "Test Error: \n",
      " metric: 0.8073239922523499, Avg test loss: 1287168597.3333333 , loss = 218600256.0 \n",
      "\n",
      "Epoch 1424\n",
      "-------------------------------------\n",
      "Test Error: \n",
      " metric: 0.7716059684753418, Avg test loss: 1244483680.0 , loss = 7701602.0 \n",
      "\n",
      "Epoch 1425\n",
      "-------------------------------------\n"
     ]
    },
    {
     "name": "stderr",
     "output_type": "stream",
     "text": [
      " 95%|█████████▌| 1426/1500 [03:54<00:11,  6.22it/s]"
     ]
    },
    {
     "name": "stdout",
     "output_type": "stream",
     "text": [
      "Test Error: \n",
      " metric: 0.7836242914199829, Avg test loss: 1267913408.0 , loss = 115284552.0 \n",
      "\n",
      "Epoch 1426\n",
      "-------------------------------------\n",
      "Test Error: \n",
      " metric: 0.7877500057220459, Avg test loss: 1300959056.0 , loss = 139592720.0 \n",
      "\n",
      "Epoch 1427\n",
      "-------------------------------------\n"
     ]
    },
    {
     "name": "stderr",
     "output_type": "stream",
     "text": [
      " 95%|█████████▌| 1428/1500 [03:54<00:11,  6.38it/s]"
     ]
    },
    {
     "name": "stdout",
     "output_type": "stream",
     "text": [
      "Test Error: \n",
      " metric: 0.7789036631584167, Avg test loss: 1267157589.3333333 , loss = 331748736.0 \n",
      "\n",
      "Epoch 1428\n",
      "-------------------------------------\n",
      "Test Error: \n",
      " metric: 0.7744771242141724, Avg test loss: 1292839882.6666667 , loss = 102765648.0 \n",
      "\n",
      "Epoch 1429\n",
      "-------------------------------------\n"
     ]
    },
    {
     "name": "stderr",
     "output_type": "stream",
     "text": [
      " 95%|█████████▌| 1430/1500 [03:54<00:10,  6.42it/s]"
     ]
    },
    {
     "name": "stdout",
     "output_type": "stream",
     "text": [
      "Test Error: \n",
      " metric: 0.7723764181137085, Avg test loss: 1441686080.0 , loss = 106278880.0 \n",
      "\n",
      "Epoch 1430\n",
      "-------------------------------------\n",
      "Test Error: \n",
      " metric: 0.7760911583900452, Avg test loss: 1336562709.3333333 , loss = 151418192.0 \n",
      "\n",
      "Epoch 1431\n",
      "-------------------------------------\n"
     ]
    },
    {
     "name": "stderr",
     "output_type": "stream",
     "text": [
      " 95%|█████████▌| 1432/1500 [03:55<00:10,  6.32it/s]"
     ]
    },
    {
     "name": "stdout",
     "output_type": "stream",
     "text": [
      "Test Error: \n",
      " metric: 0.7543545365333557, Avg test loss: 1421971936.0 , loss = 165330800.0 \n",
      "\n",
      "Epoch 1432\n",
      "-------------------------------------\n",
      "Test Error: \n",
      " metric: 0.7720049619674683, Avg test loss: 1446483157.3333333 , loss = 61371036.0 \n",
      "\n",
      "Epoch 1433\n",
      "-------------------------------------\n"
     ]
    },
    {
     "name": "stderr",
     "output_type": "stream",
     "text": [
      " 96%|█████████▌| 1434/1500 [03:55<00:10,  6.13it/s]"
     ]
    },
    {
     "name": "stdout",
     "output_type": "stream",
     "text": [
      "Test Error: \n",
      " metric: 0.623572587966919, Avg test loss: 1858670656.0 , loss = 843115520.0 \n",
      "\n",
      "Epoch 1434\n",
      "-------------------------------------\n",
      "Test Error: \n",
      " metric: 0.8076934218406677, Avg test loss: 1293565493.3333333 , loss = 3917295.0 \n",
      "\n",
      "Epoch 1435\n",
      "-------------------------------------\n"
     ]
    },
    {
     "name": "stderr",
     "output_type": "stream",
     "text": [
      " 96%|█████████▌| 1436/1500 [03:55<00:10,  6.07it/s]"
     ]
    },
    {
     "name": "stdout",
     "output_type": "stream",
     "text": [
      "Test Error: \n",
      " metric: 0.7703564763069153, Avg test loss: 1468033002.6666667 , loss = 356269824.0 \n",
      "\n",
      "Epoch 1436\n",
      "-------------------------------------\n",
      "Test Error: \n",
      " metric: 0.7803512811660767, Avg test loss: 1361220341.3333333 , loss = 86823184.0 \n",
      "\n",
      "Epoch 1437\n",
      "-------------------------------------\n"
     ]
    },
    {
     "name": "stderr",
     "output_type": "stream",
     "text": [
      " 96%|█████████▌| 1438/1500 [03:56<00:10,  6.08it/s]"
     ]
    },
    {
     "name": "stdout",
     "output_type": "stream",
     "text": [
      "Test Error: \n",
      " metric: 0.7823747992515564, Avg test loss: 1446426293.3333333 , loss = 95432512.0 \n",
      "\n",
      "Epoch 1438\n",
      "-------------------------------------\n",
      "Test Error: \n",
      " metric: 0.7307165861129761, Avg test loss: 1452117994.6666667 , loss = 72052416.0 \n",
      "\n",
      "Epoch 1439\n",
      "-------------------------------------\n"
     ]
    },
    {
     "name": "stderr",
     "output_type": "stream",
     "text": [
      " 96%|█████████▌| 1440/1500 [03:56<00:09,  6.13it/s]"
     ]
    },
    {
     "name": "stdout",
     "output_type": "stream",
     "text": [
      "Test Error: \n",
      " metric: 0.7733869552612305, Avg test loss: 1376631061.3333333 , loss = 26846044.0 \n",
      "\n",
      "Epoch 1440\n",
      "-------------------------------------\n",
      "Test Error: \n",
      " metric: 0.7746598720550537, Avg test loss: 1203848768.0 , loss = 13437816.0 \n",
      "\n",
      "Epoch 1441\n",
      "-------------------------------------\n"
     ]
    },
    {
     "name": "stderr",
     "output_type": "stream",
     "text": [
      " 96%|█████████▌| 1442/1500 [03:56<00:09,  6.42it/s]"
     ]
    },
    {
     "name": "stdout",
     "output_type": "stream",
     "text": [
      "Test Error: \n",
      " metric: 0.7797500491142273, Avg test loss: 1412000949.3333333 , loss = 18228890.0 \n",
      "\n",
      "Epoch 1442\n",
      "-------------------------------------\n",
      "Test Error: \n",
      " metric: 0.7915188670158386, Avg test loss: 1336597024.0 , loss = 22963728.0 \n",
      "\n",
      "Epoch 1443\n",
      "-------------------------------------\n"
     ]
    },
    {
     "name": "stderr",
     "output_type": "stream",
     "text": [
      " 96%|█████████▋| 1444/1500 [03:57<00:08,  6.78it/s]"
     ]
    },
    {
     "name": "stdout",
     "output_type": "stream",
     "text": [
      "Test Error: \n",
      " metric: 0.7909314632415771, Avg test loss: 1526777792.0 , loss = 478880064.0 \n",
      "\n",
      "Epoch 1444\n",
      "-------------------------------------\n",
      "Test Error: \n",
      " metric: 0.7627798318862915, Avg test loss: 1548249141.3333333 , loss = 363421760.0 \n",
      "\n",
      "Epoch 1445\n",
      "-------------------------------------\n"
     ]
    },
    {
     "name": "stderr",
     "output_type": "stream",
     "text": [
      " 96%|█████████▋| 1446/1500 [03:57<00:07,  6.96it/s]"
     ]
    },
    {
     "name": "stdout",
     "output_type": "stream",
     "text": [
      "Test Error: \n",
      " metric: 0.7673898935317993, Avg test loss: 1367682410.6666667 , loss = 358470336.0 \n",
      "\n",
      "Epoch 1446\n",
      "-------------------------------------\n",
      "Test Error: \n",
      " metric: 0.7908123731613159, Avg test loss: 1292317045.3333333 , loss = 69926344.0 \n",
      "\n",
      "Epoch 1447\n",
      "-------------------------------------\n"
     ]
    },
    {
     "name": "stderr",
     "output_type": "stream",
     "text": [
      " 97%|█████████▋| 1448/1500 [03:57<00:07,  7.05it/s]"
     ]
    },
    {
     "name": "stdout",
     "output_type": "stream",
     "text": [
      "Test Error: \n",
      " metric: 0.7653636336326599, Avg test loss: 1357696821.3333333 , loss = 116551464.0 \n",
      "\n",
      "Epoch 1448\n",
      "-------------------------------------\n",
      "Test Error: \n",
      " metric: 0.7617666721343994, Avg test loss: 1360249477.3333333 , loss = 7253235.0 \n",
      "\n",
      "Epoch 1449\n",
      "-------------------------------------\n"
     ]
    },
    {
     "name": "stderr",
     "output_type": "stream",
     "text": [
      " 97%|█████████▋| 1450/1500 [03:57<00:07,  6.93it/s]"
     ]
    },
    {
     "name": "stdout",
     "output_type": "stream",
     "text": [
      "Test Error: \n",
      " metric: 0.7714658379554749, Avg test loss: 1464378997.3333333 , loss = 14572482.0 \n",
      "\n",
      "Epoch 1450\n",
      "-------------------------------------\n",
      "Test Error: \n",
      " metric: 0.7782614231109619, Avg test loss: 1308152149.3333333 , loss = 81143256.0 \n",
      "\n",
      "Epoch 1451\n",
      "-------------------------------------\n"
     ]
    },
    {
     "name": "stderr",
     "output_type": "stream",
     "text": [
      " 97%|█████████▋| 1452/1500 [03:58<00:07,  6.69it/s]"
     ]
    },
    {
     "name": "stdout",
     "output_type": "stream",
     "text": [
      "Test Error: \n",
      " metric: 0.785172164440155, Avg test loss: 1261437429.3333333 , loss = 12083636.0 \n",
      "\n",
      "Epoch 1452\n",
      "-------------------------------------\n",
      "Test Error: \n",
      " metric: 0.7944447994232178, Avg test loss: 1294656576.0 , loss = 75886128.0 \n",
      "\n",
      "Epoch 1453\n",
      "-------------------------------------\n"
     ]
    },
    {
     "name": "stderr",
     "output_type": "stream",
     "text": [
      " 97%|█████████▋| 1454/1500 [03:58<00:07,  6.39it/s]"
     ]
    },
    {
     "name": "stdout",
     "output_type": "stream",
     "text": [
      "Test Error: \n",
      " metric: 0.7978885173797607, Avg test loss: 1304958154.6666667 , loss = 101643568.0 \n",
      "\n",
      "Epoch 1454\n",
      "-------------------------------------\n",
      "Test Error: \n",
      " metric: 0.7136690616607666, Avg test loss: 1467217066.6666667 , loss = 11979313.0 \n",
      "\n",
      "Epoch 1455\n",
      "-------------------------------------\n"
     ]
    },
    {
     "name": "stderr",
     "output_type": "stream",
     "text": [
      " 97%|█████████▋| 1456/1500 [03:58<00:06,  6.48it/s]"
     ]
    },
    {
     "name": "stdout",
     "output_type": "stream",
     "text": [
      "Test Error: \n",
      " metric: 0.751392126083374, Avg test loss: 1325892672.0 , loss = 42944096.0 \n",
      "\n",
      "Epoch 1456\n",
      "-------------------------------------\n",
      "Test Error: \n",
      " metric: 0.7732967734336853, Avg test loss: 1282022314.6666667 , loss = 166951376.0 \n",
      "\n",
      "Epoch 1457\n",
      "-------------------------------------\n"
     ]
    },
    {
     "name": "stderr",
     "output_type": "stream",
     "text": [
      " 97%|█████████▋| 1458/1500 [03:59<00:06,  6.78it/s]"
     ]
    },
    {
     "name": "stdout",
     "output_type": "stream",
     "text": [
      "Test Error: \n",
      " metric: 0.7733478546142578, Avg test loss: 1461177184.0 , loss = 27606040.0 \n",
      "\n",
      "Epoch 1458\n",
      "-------------------------------------\n",
      "Test Error: \n",
      " metric: 0.7486505508422852, Avg test loss: 1385326240.0 , loss = 97714352.0 \n",
      "\n",
      "Epoch 1459\n",
      "-------------------------------------\n"
     ]
    },
    {
     "name": "stderr",
     "output_type": "stream",
     "text": [
      " 97%|█████████▋| 1460/1500 [03:59<00:05,  6.98it/s]"
     ]
    },
    {
     "name": "stdout",
     "output_type": "stream",
     "text": [
      "Test Error: \n",
      " metric: 0.7879599928855896, Avg test loss: 1420711936.0 , loss = 72658424.0 \n",
      "\n",
      "Epoch 1460\n",
      "-------------------------------------\n",
      "Test Error: \n",
      " metric: 0.7506723403930664, Avg test loss: 1560337386.6666667 , loss = 121988944.0 \n",
      "\n",
      "Epoch 1461\n",
      "-------------------------------------\n"
     ]
    },
    {
     "name": "stderr",
     "output_type": "stream",
     "text": [
      " 97%|█████████▋| 1462/1500 [03:59<00:05,  6.77it/s]"
     ]
    },
    {
     "name": "stdout",
     "output_type": "stream",
     "text": [
      "Test Error: \n",
      " metric: 0.7731480598449707, Avg test loss: 1414606570.6666667 , loss = 91445752.0 \n",
      "\n",
      "Epoch 1462\n",
      "-------------------------------------\n",
      "Test Error: \n",
      " metric: 0.7827317714691162, Avg test loss: 1400620981.3333333 , loss = 144907776.0 \n",
      "\n",
      "Epoch 1463\n",
      "-------------------------------------\n"
     ]
    },
    {
     "name": "stderr",
     "output_type": "stream",
     "text": [
      " 98%|█████████▊| 1464/1500 [04:00<00:05,  6.56it/s]"
     ]
    },
    {
     "name": "stdout",
     "output_type": "stream",
     "text": [
      "Test Error: \n",
      " metric: 0.8096590042114258, Avg test loss: 1142687637.3333333 , loss = 156155472.0 \n",
      "\n",
      "Epoch 1464\n",
      "-------------------------------------\n",
      "Test Error: \n",
      " metric: 0.774176836013794, Avg test loss: 1527557866.6666667 , loss = 529995712.0 \n",
      "\n",
      "Epoch 1465\n",
      "-------------------------------------\n"
     ]
    },
    {
     "name": "stderr",
     "output_type": "stream",
     "text": [
      " 98%|█████████▊| 1466/1500 [04:00<00:05,  6.41it/s]"
     ]
    },
    {
     "name": "stdout",
     "output_type": "stream",
     "text": [
      "Test Error: \n",
      " metric: 0.6443156003952026, Avg test loss: 1917601450.6666667 , loss = 45120480.0 \n",
      "\n",
      "Epoch 1466\n",
      "-------------------------------------\n",
      "Test Error: \n",
      " metric: 0.7764612436294556, Avg test loss: 1407859722.6666667 , loss = 417065632.0 \n",
      "\n",
      "Epoch 1467\n",
      "-------------------------------------\n"
     ]
    },
    {
     "name": "stderr",
     "output_type": "stream",
     "text": [
      " 98%|█████████▊| 1468/1500 [04:00<00:05,  6.25it/s]"
     ]
    },
    {
     "name": "stdout",
     "output_type": "stream",
     "text": [
      "Test Error: \n",
      " metric: 0.7863680720329285, Avg test loss: 1488693941.3333333 , loss = 696319680.0 \n",
      "\n",
      "Epoch 1468\n",
      "-------------------------------------\n",
      "Test Error: \n",
      " metric: 0.7801417708396912, Avg test loss: 1301719690.6666667 , loss = 511762080.0 \n",
      "\n",
      "Epoch 1469\n",
      "-------------------------------------\n"
     ]
    },
    {
     "name": "stderr",
     "output_type": "stream",
     "text": [
      " 98%|█████████▊| 1470/1500 [04:01<00:04,  6.30it/s]"
     ]
    },
    {
     "name": "stdout",
     "output_type": "stream",
     "text": [
      "Test Error: \n",
      " metric: 0.7399551868438721, Avg test loss: 1350962048.0 , loss = 96995192.0 \n",
      "\n",
      "Epoch 1470\n",
      "-------------------------------------\n",
      "Test Error: \n",
      " metric: 0.7713346481323242, Avg test loss: 1317651648.0 , loss = 165172560.0 \n",
      "\n",
      "Epoch 1471\n",
      "-------------------------------------\n"
     ]
    },
    {
     "name": "stderr",
     "output_type": "stream",
     "text": [
      " 98%|█████████▊| 1472/1500 [04:01<00:04,  6.18it/s]"
     ]
    },
    {
     "name": "stdout",
     "output_type": "stream",
     "text": [
      "Test Error: \n",
      " metric: 0.7789742946624756, Avg test loss: 1450511546.6666667 , loss = 69348088.0 \n",
      "\n",
      "Epoch 1472\n",
      "-------------------------------------\n",
      "Test Error: \n",
      " metric: 0.7847282886505127, Avg test loss: 1259794048.0 , loss = 186655104.0 \n",
      "\n",
      "Epoch 1473\n",
      "-------------------------------------\n"
     ]
    },
    {
     "name": "stderr",
     "output_type": "stream",
     "text": [
      " 98%|█████████▊| 1474/1500 [04:01<00:04,  6.17it/s]"
     ]
    },
    {
     "name": "stdout",
     "output_type": "stream",
     "text": [
      "Test Error: \n",
      " metric: 0.7729033827781677, Avg test loss: 1310161749.3333333 , loss = 82555024.0 \n",
      "\n",
      "Epoch 1474\n",
      "-------------------------------------\n",
      "Test Error: \n",
      " metric: 0.7641170620918274, Avg test loss: 1463446442.6666667 , loss = 299147552.0 \n",
      "\n",
      "Epoch 1475\n",
      "-------------------------------------\n"
     ]
    },
    {
     "name": "stderr",
     "output_type": "stream",
     "text": [
      " 98%|█████████▊| 1476/1500 [04:02<00:03,  6.53it/s]"
     ]
    },
    {
     "name": "stdout",
     "output_type": "stream",
     "text": [
      "Test Error: \n",
      " metric: 0.7745810747146606, Avg test loss: 1303680533.3333333 , loss = 104067888.0 \n",
      "\n",
      "Epoch 1476\n",
      "-------------------------------------\n",
      "Test Error: \n",
      " metric: 0.7956514954566956, Avg test loss: 1365843456.0 , loss = 140991264.0 \n",
      "\n",
      "Epoch 1477\n",
      "-------------------------------------\n"
     ]
    },
    {
     "name": "stderr",
     "output_type": "stream",
     "text": [
      " 99%|█████████▊| 1478/1500 [04:02<00:03,  6.85it/s]"
     ]
    },
    {
     "name": "stdout",
     "output_type": "stream",
     "text": [
      "Test Error: \n",
      " metric: 0.7851398587226868, Avg test loss: 1309451498.6666667 , loss = 10542900.0 \n",
      "\n",
      "Epoch 1478\n",
      "-------------------------------------\n",
      "Test Error: \n",
      " metric: 0.7844236493110657, Avg test loss: 1221766730.6666667 , loss = 108382048.0 \n",
      "\n",
      "Epoch 1479\n",
      "-------------------------------------\n"
     ]
    },
    {
     "name": "stderr",
     "output_type": "stream",
     "text": [
      " 99%|█████████▊| 1480/1500 [04:02<00:02,  7.03it/s]"
     ]
    },
    {
     "name": "stdout",
     "output_type": "stream",
     "text": [
      "Test Error: \n",
      " metric: 0.7714548110961914, Avg test loss: 1588423722.6666667 , loss = 68566128.0 \n",
      "\n",
      "Epoch 1480\n",
      "-------------------------------------\n",
      "Test Error: \n",
      " metric: 0.7832474708557129, Avg test loss: 1406271413.3333333 , loss = 237631744.0 \n",
      "\n",
      "Epoch 1481\n",
      "-------------------------------------\n"
     ]
    },
    {
     "name": "stderr",
     "output_type": "stream",
     "text": [
      " 99%|█████████▉| 1482/1500 [04:02<00:02,  6.97it/s]"
     ]
    },
    {
     "name": "stdout",
     "output_type": "stream",
     "text": [
      "Test Error: \n",
      " metric: 0.7878779172897339, Avg test loss: 1361457578.6666667 , loss = 246670944.0 \n",
      "\n",
      "Epoch 1482\n",
      "-------------------------------------\n",
      "Test Error: \n",
      " metric: 0.7870860695838928, Avg test loss: 1334882826.6666667 , loss = 78545504.0 \n",
      "\n",
      "Epoch 1483\n",
      "-------------------------------------\n"
     ]
    },
    {
     "name": "stderr",
     "output_type": "stream",
     "text": [
      " 99%|█████████▉| 1484/1500 [04:03<00:02,  7.03it/s]"
     ]
    },
    {
     "name": "stdout",
     "output_type": "stream",
     "text": [
      "Test Error: \n",
      " metric: 0.7748479843139648, Avg test loss: 1493051733.3333333 , loss = 149286272.0 \n",
      "\n",
      "Epoch 1484\n",
      "-------------------------------------\n",
      "Test Error: \n",
      " metric: 0.7889525890350342, Avg test loss: 1408514730.6666667 , loss = 233326704.0 \n",
      "\n",
      "Epoch 1485\n",
      "-------------------------------------\n"
     ]
    },
    {
     "name": "stderr",
     "output_type": "stream",
     "text": [
      " 99%|█████████▉| 1486/1500 [04:03<00:02,  6.78it/s]"
     ]
    },
    {
     "name": "stdout",
     "output_type": "stream",
     "text": [
      "Test Error: \n",
      " metric: 0.7573902606964111, Avg test loss: 1406027264.0 , loss = 52337884.0 \n",
      "\n",
      "Epoch 1486\n",
      "-------------------------------------\n",
      "Test Error: \n",
      " metric: 0.769137442111969, Avg test loss: 1264843946.6666667 , loss = 86351472.0 \n",
      "\n",
      "Epoch 1487\n",
      "-------------------------------------\n"
     ]
    },
    {
     "name": "stderr",
     "output_type": "stream",
     "text": [
      " 99%|█████████▉| 1488/1500 [04:03<00:01,  6.53it/s]"
     ]
    },
    {
     "name": "stdout",
     "output_type": "stream",
     "text": [
      "Test Error: \n",
      " metric: 0.7683402299880981, Avg test loss: 1455369429.3333333 , loss = 137320192.0 \n",
      "\n",
      "Epoch 1488\n",
      "-------------------------------------\n",
      "Test Error: \n",
      " metric: 0.7470053434371948, Avg test loss: 1417504277.3333333 , loss = 45087120.0 \n",
      "\n",
      "Epoch 1489\n",
      "-------------------------------------\n"
     ]
    },
    {
     "name": "stderr",
     "output_type": "stream",
     "text": [
      " 99%|█████████▉| 1490/1500 [04:04<00:01,  6.33it/s]"
     ]
    },
    {
     "name": "stdout",
     "output_type": "stream",
     "text": [
      "Test Error: \n",
      " metric: 0.7608712911605835, Avg test loss: 1277346666.6666667 , loss = 274319808.0 \n",
      "\n",
      "Epoch 1490\n",
      "-------------------------------------\n",
      "Test Error: \n",
      " metric: 0.7687216401100159, Avg test loss: 1257471562.6666667 , loss = 69654056.0 \n",
      "\n",
      "Epoch 1491\n",
      "-------------------------------------\n"
     ]
    },
    {
     "name": "stderr",
     "output_type": "stream",
     "text": [
      " 99%|█████████▉| 1492/1500 [04:04<00:01,  6.49it/s]"
     ]
    },
    {
     "name": "stdout",
     "output_type": "stream",
     "text": [
      "Test Error: \n",
      " metric: 0.7698577642440796, Avg test loss: 1247917904.0 , loss = 137240224.0 \n",
      "\n",
      "Epoch 1492\n",
      "-------------------------------------\n",
      "Test Error: \n",
      " metric: 0.7871906161308289, Avg test loss: 1305283296.0 , loss = 17781564.0 \n",
      "\n",
      "Epoch 1493\n",
      "-------------------------------------\n"
     ]
    },
    {
     "name": "stderr",
     "output_type": "stream",
     "text": [
      "100%|█████████▉| 1494/1500 [04:04<00:00,  6.77it/s]"
     ]
    },
    {
     "name": "stdout",
     "output_type": "stream",
     "text": [
      "Test Error: \n",
      " metric: 0.7691351175308228, Avg test loss: 1547572320.0 , loss = 57929440.0 \n",
      "\n",
      "Epoch 1494\n",
      "-------------------------------------\n",
      "Test Error: \n",
      " metric: 0.7928953170776367, Avg test loss: 1182543093.3333333 , loss = 100781640.0 \n",
      "\n",
      "Epoch 1495\n",
      "-------------------------------------\n"
     ]
    },
    {
     "name": "stderr",
     "output_type": "stream",
     "text": [
      "100%|█████████▉| 1496/1500 [04:04<00:00,  6.44it/s]"
     ]
    },
    {
     "name": "stdout",
     "output_type": "stream",
     "text": [
      "Test Error: \n",
      " metric: 0.7728506922721863, Avg test loss: 1381285322.6666667 , loss = 274812960.0 \n",
      "\n",
      "Epoch 1496\n",
      "-------------------------------------\n",
      "Test Error: \n",
      " metric: 0.7754653692245483, Avg test loss: 1276667050.6666667 , loss = 111640296.0 \n",
      "\n",
      "Epoch 1497\n",
      "-------------------------------------\n"
     ]
    },
    {
     "name": "stderr",
     "output_type": "stream",
     "text": [
      "100%|█████████▉| 1498/1500 [04:05<00:00,  6.43it/s]"
     ]
    },
    {
     "name": "stdout",
     "output_type": "stream",
     "text": [
      "Test Error: \n",
      " metric: 0.7545562386512756, Avg test loss: 1333681770.6666667 , loss = 23702760.0 \n",
      "\n",
      "Epoch 1498\n",
      "-------------------------------------\n",
      "Test Error: \n",
      " metric: 0.759228527545929, Avg test loss: 1293400000.0 , loss = 121436864.0 \n",
      "\n",
      "Epoch 1499\n",
      "-------------------------------------\n"
     ]
    },
    {
     "name": "stderr",
     "output_type": "stream",
     "text": [
      "100%|██████████| 1500/1500 [04:05<00:00,  6.11it/s]"
     ]
    },
    {
     "name": "stdout",
     "output_type": "stream",
     "text": [
      "Test Error: \n",
      " metric: 0.7688965797424316, Avg test loss: 1352646186.6666667 , loss = 115144768.0 \n",
      "\n",
      "Epoch 1500\n",
      "-------------------------------------\n",
      "Test Error: \n",
      " metric: 0.7273304462432861, Avg test loss: 1451478208.0 , loss = 234550480.0 \n",
      "\n"
     ]
    },
    {
     "name": "stderr",
     "output_type": "stream",
     "text": [
      "\n"
     ]
    }
   ],
   "source": [
    "history = train_loop(\n",
    "    dataloader = train_dataloader,\n",
    "    model = model,\n",
    "    loss_func = nn.MSELoss(),\n",
    "    optimizer = Adam(model.parameters() , lr = 0.001),\n",
    "    epochs = 1500,\n",
    "    early_stop_epoch = 300,\n",
    "    validation_dl = valid_dataloader,\n",
    "    metric = metric.R2Score())"
   ]
  },
  {
   "cell_type": "code",
   "execution_count": 41,
   "id": "84db2155",
   "metadata": {},
   "outputs": [
    {
     "data": {
      "image/png": "[encoded data removed]",
      "text/plain": [
       "<Figure size 1800x1200 with 3 Axes>"
      ]
     },
     "metadata": {},
     "output_type": "display_data"
    }
   ],
   "source": [
    "fig , [ax1 , ax2 , ax3] = plt.subplots(ncols = 3 , nrows = 1 , figsize = (18,12))\n",
    "\n",
    "sns.lineplot(history['global_average_losses'] , ax = ax1)\n",
    "sns.lineplot(history['validation_losses'] , ax = ax2)\n",
    "sns.lineplot(history['metric_results'] , ax = ax3)\n",
    "\n",
    "ax1.set_title('global average losses')\n",
    "ax2.set_title('validation losses')\n",
    "ax3.set_title('metric results')\n",
    "\n",
    "plt.show()"
   ]
  },
  {
   "cell_type": "markdown",
   "id": "33f83871",
   "metadata": {},
   "source": [
    "## submission time!\n",
    "***"
   ]
  },
  {
   "cell_type": "code",
   "execution_count": 42,
   "id": "10bf2f77",
   "metadata": {},
   "outputs": [],
   "source": [
    "final_test = dataset_test(x = test_df[fine_cols])\n",
    "test_dataloader = DataLoader(final_test , batch_size = batch_size)"
   ]
  },
  {
   "cell_type": "code",
   "execution_count": 43,
   "id": "72f688ee",
   "metadata": {},
   "outputs": [
    {
     "name": "stderr",
     "output_type": "stream",
     "text": [
      "/tmp/ipykernel_81910/2034908235.py:26: FutureWarning: Series.__getitem__ treating keys as positions is deprecated. In a future version, integer keys will always be treated as labels (consistent with DataFrame behavior). To access a value by position, use `ser.iloc[pos]`\n",
      "  return torch.tensor(x_row , dtype = torch.float32)\n"
     ]
    }
   ],
   "source": [
    "submission_pred = np.array([])\n",
    "model.eval()\n",
    "with torch.no_grad():\n",
    "    for i in test_dataloader:\n",
    "        i = i.to(device)\n",
    "        pred = model(i).squeeze(1)\n",
    "        numpy_pred = pred.cpu().numpy()\n",
    "        submission_pred = np.concatenate((submission_pred , numpy_pred))"
   ]
  },
  {
   "cell_type": "code",
   "execution_count": 44,
   "id": "7ca66f63",
   "metadata": {},
   "outputs": [],
   "source": [
    "res = pd.DataFrame({'SalePrice' : submission_pred} , index = test['Id'])\n",
    "res.to_csv('/run/media/jimmy/datasets/housing/house-prices-advanced-regression-techniques/mysubmission.csv')"
   ]
  }
 ],
 "metadata": {
  "kernelspec": {
   "display_name": "sunrise",
   "language": "python",
   "name": "python3"
  },
  "language_info": {
   "codemirror_mode": {
    "name": "ipython",
    "version": 3
   },
   "file_extension": ".py",
   "mimetype": "text/x-python",
   "name": "python",
   "nbconvert_exporter": "python",
   "pygments_lexer": "ipython3",
   "version": "3.12.2"
  }
 },
 "nbformat": 4,
 "nbformat_minor": 5
}
